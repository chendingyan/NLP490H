{
  "nbformat": 4,
  "nbformat_minor": 0,
  "metadata": {
    "colab": {
      "name": "NLP_OffensEval.ipynb",
      "version": "0.3.2",
      "provenance": [],
      "collapsed_sections": [
        "fZbnHPQHolOd",
        "xTtyAHSR8F7V",
        "V9F3CsFar1-H",
        "Z-EItGY3sMsi",
        "fIlQlYD7Kn8E",
        "Bf0jBdbRJMie",
        "1VcsKF_NJUQk",
        "AjBJ_Ban9bZR",
        "yAvd3n8GJYfF",
        "LqGRfaybJg3K",
        "PaVg4sYrJzLO",
        "Uh97TH9ZJ8po",
        "L0s62vpDKvUY",
        "Qq87zOWKK4a8",
        "vxO9J9NYK9g0",
        "9LPt_gtZLBLQ",
        "q9fk9G7NGMxg",
        "SuTpFB0cLGxH",
        "QDAJ9m2_LT8g",
        "r3-vETjGLbCu",
        "K-SCcS_ILjOT",
        "iixgspg_Lqx2",
        "1b5AKgtHMAwC",
        "GzEQp-atMQNO",
        "Xc1eXFnFMTC4",
        "HsE90ZjMM2HR",
        "PlPkqVm1NBHi",
        "w10FZmvLNN-M",
        "Yyo3m0VQNT4O",
        "9a-LeyOVNYk9",
        "ltXtpA6KNifn"
      ],
      "include_colab_link": true
    },
    "kernelspec": {
      "name": "python3",
      "display_name": "Python 3"
    },
    "accelerator": "GPU"
  },
  "cells": [
    {
      "cell_type": "markdown",
      "metadata": {
        "id": "view-in-github",
        "colab_type": "text"
      },
      "source": [
        "<a href=\"https://colab.research.google.com/github/chendingyan/NLP490H/blob/master/NLP_OffensEval.ipynb\" target=\"_parent\"><img src=\"https://colab.research.google.com/assets/colab-badge.svg\" alt=\"Open In Colab\"/></a>"
      ]
    },
    {
      "metadata": {
        "id": "fZbnHPQHolOd",
        "colab_type": "text"
      },
      "cell_type": "markdown",
      "source": [
        "## Initialize Notebook\n",
        "### The output file and dataset will be stored in the google drive\n",
        "\n"
      ]
    },
    {
      "metadata": {
        "id": "QmOeSiqodfZe",
        "colab_type": "code",
        "outputId": "67c270bd-9687-4a54-849c-280b8ccd581e",
        "colab": {
          "base_uri": "https://localhost:8080/",
          "height": 34
        }
      },
      "cell_type": "code",
      "source": [
        "from google.colab import drive\n",
        "drive.mount('/content/drive')"
      ],
      "execution_count": 53,
      "outputs": [
        {
          "output_type": "stream",
          "text": [
            "Drive already mounted at /content/drive; to attempt to forcibly remount, call drive.mount(\"/content/drive\", force_remount=True).\n"
          ],
          "name": "stdout"
        }
      ]
    },
    {
      "metadata": {
        "id": "hgGsPEiteiHS",
        "colab_type": "code",
        "outputId": "4b5d22ff-f3fb-4434-fc5c-942731758782",
        "colab": {
          "base_uri": "https://localhost:8080/",
          "height": 51
        }
      },
      "cell_type": "code",
      "source": [
        "import torch\n",
        "from torch.autograd import Variable\n",
        "import numpy as np\n",
        "import torch.nn as nn\n",
        "import torch.optim as optim\n",
        "import torch.nn.functional as F\n",
        "from tqdm import tqdm \n",
        "import codecs\n",
        "import random\n",
        "import matplotlib.pyplot as plt\n",
        "import pandas as pd\n",
        "\n",
        "\n",
        "\n",
        "SEED = 234\n",
        "torch.manual_seed(SEED)\n",
        "np.random.seed(SEED)\n",
        "random.seed(SEED)\n",
        "\n",
        "import warnings\n",
        "warnings.filterwarnings('ignore')\n",
        "\n",
        "train_path = 'drive/My Drive/data/OffensEval_task_data/offenseval-training-v1.tsv'\n",
        "testA_path ='drive/My Drive/data/OffensEval_task_data/testset-taska.tsv'\n",
        "testB_path = 'drive/My Drive/data/OffensEval_task_data/testset-taskb.tsv'\n",
        "testC_path ='drive/My Drive/data/OffensEval_task_data/test_set_taskc.tsv'\n",
        "\n",
        "print('loading glove6B word vector')\n",
        "glove_path = 'drive/My Drive/data/glove.6B.300d.txt'\n",
        "embeddings_index = {}\n",
        "f = open(glove_path, encoding='utf-8')\n",
        "for line in f:\n",
        "    values = line.split()\n",
        "    word = values[0]\n",
        "    coefs = np.asarray(values[1:], dtype='float32')\n",
        "    embeddings_index[word] = coefs\n",
        "f.close()\n",
        "print('Found %s word vectors.' % len(embeddings_index))\n",
        "\n",
        "\n"
      ],
      "execution_count": 54,
      "outputs": [
        {
          "output_type": "stream",
          "text": [
            "loading glove6B word vector\n",
            "Found 400000 word vectors.\n"
          ],
          "name": "stdout"
        }
      ]
    },
    {
      "metadata": {
        "id": "xTtyAHSR8F7V",
        "colab_type": "text"
      },
      "cell_type": "markdown",
      "source": [
        "## Data preprocessing\n",
        "1. Remove stop word\n",
        "2. convert to lower case and split\n"
      ]
    },
    {
      "metadata": {
        "id": "ml2ta6xGezFv",
        "colab_type": "code",
        "outputId": "1f93eed4-9a56-489b-caa7-dc29675d6e27",
        "colab": {
          "base_uri": "https://localhost:8080/",
          "height": 187
        }
      },
      "cell_type": "code",
      "source": [
        "import re\n",
        "import nltk\n",
        "from nltk import word_tokenize\n",
        "from nltk.corpus import stopwords\n",
        "\n",
        "nltk.download(\"stopwords\")\n",
        "nltk.download('wordnet')\n",
        "stop = stopwords.words(\"english\")\n",
        "nltk.download('punkt')\n",
        "nltk.download('averaged_perceptron_tagger')\n",
        "\n",
        "\n",
        "def preprocess(df):\n",
        "    print('-------Remove Stop Word--------')\n",
        "    stopword_set = set(stopwords.words(\"english\"))\n",
        "\n",
        "    # convert to lower case and split \n",
        "    df.tweet = df.tweet.apply(lambda x: ' '.join([word.lower() for word in x.split() if word not in stopword_set]))\n",
        "\n",
        "    # keep only words\n",
        "    pat1 = r'@[A-Za-z0-9]+'\n",
        "    pat2 =r'[^a-zA-Z\\s]'\n",
        "    pat3 =r\"\\bURL\\b\"\n",
        "    combined_pat = r'|'.join((pat1, pat2,pat3))\n",
        "    regex_pat = re.compile(combined_pat, flags=re.IGNORECASE)\n",
        "    df.tweet = df.tweet.str.replace(regex_pat, '')\n",
        "\n",
        "    # join the cleaned words in a list\n",
        "    df.tweet.str.join(\"\")\n",
        "    return df\n"
      ],
      "execution_count": 55,
      "outputs": [
        {
          "output_type": "stream",
          "text": [
            "[nltk_data] Downloading package stopwords to /root/nltk_data...\n",
            "[nltk_data]   Package stopwords is already up-to-date!\n",
            "[nltk_data] Downloading package wordnet to /root/nltk_data...\n",
            "[nltk_data]   Package wordnet is already up-to-date!\n",
            "[nltk_data] Downloading package punkt to /root/nltk_data...\n",
            "[nltk_data]   Package punkt is already up-to-date!\n",
            "[nltk_data] Downloading package averaged_perceptron_tagger to\n",
            "[nltk_data]     /root/nltk_data...\n",
            "[nltk_data]   Package averaged_perceptron_tagger is already up-to-\n",
            "[nltk_data]       date!\n"
          ],
          "name": "stdout"
        }
      ]
    },
    {
      "metadata": {
        "id": "V9F3CsFar1-H",
        "colab_type": "text"
      },
      "cell_type": "markdown",
      "source": [
        "## Classical classifier\n",
        "1. Logistic Regression\n",
        "2. Naive Bayes\n",
        "3. SVM\n",
        "4. Xgboost\n",
        "5. Random Forest"
      ]
    },
    {
      "metadata": {
        "id": "hdHmX79gexCg",
        "colab_type": "code",
        "colab": {}
      },
      "cell_type": "code",
      "source": [
        "from sklearn.feature_extraction.text import TfidfVectorizer\n",
        "from sklearn.feature_extraction.text import CountVectorizer\n",
        "from sklearn.model_selection import cross_val_score\n",
        "from sklearn.linear_model import LogisticRegression\n",
        "from sklearn.ensemble import RandomForestClassifier\n",
        "from scipy.sparse import bsr_matrix\n",
        "from sklearn import svm\n",
        "\n",
        "import numpy as np\n",
        "from xgboost import XGBClassifier\n",
        "from sklearn.naive_bayes import MultinomialNB\n",
        "\n",
        "\n",
        "class Bag_of_word(object):\n",
        "    \n",
        "    def __init__(self,classifier,vectorizer, max_feature = 10000):\n",
        "        if vectorizer =='tf_idf':\n",
        "            self.vectorizer = TfidfVectorizer(analyzer = \"word\", tokenizer = None, preprocessor = None,\n",
        "                                     stop_words = None, max_features = max_feature)\n",
        "        else:\n",
        "            self.vectorizer = CountVectorizer(analyzer = \"word\", tokenizer = None, preprocessor = None,\n",
        "                                 stop_words = None, max_features = max_feature)\n",
        "        self.model = classifier\n",
        "        self.clf = None\n",
        "        \n",
        "    def train_clf(self, train_data, lab_data, C = 1.0):\n",
        "        train_data_features = self.vectorizer.fit_transform(train_data)\n",
        "        train_data_features = bsr_matrix(train_data_features)\n",
        "        print('training data shape', train_data_features.shape)\n",
        "        \n",
        "        if self.model == 'logistic':\n",
        "            print(\"Training the logistic regression...\")\n",
        "            self.clf = LogisticRegression(solver='lbfgs', penalty='l2', dual=False, tol=0.0001, C=C, fit_intercept=True,\n",
        "                                         intercept_scaling=1.0, class_weight=None, random_state=None)\n",
        "            self.clf = self.clf.fit(train_data_features, lab_data)\n",
        "        \n",
        "        elif self.model == 'naive_bayes':\n",
        "            print(\"Training the Naive Bayes...\")\n",
        "            self.clf = MultinomialNB()\n",
        "            self.clf = self.clf.fit(train_data_features, lab_data)\n",
        "            \n",
        "        elif self.model == 'svm':\n",
        "            self.clf = svm.LinearSVC()\n",
        "            self.clf = self.clf.fit(train_data_features, lab_data)\n",
        "        \n",
        "        elif self.model == 'xgboost':\n",
        "            self.clf = XGBClassifier(max_depth=7, n_estimators=200, colsample_bytree=0.8, \n",
        "                            subsample=0.8, nthread=10, learning_rate=0.1)\n",
        "            self.clf = self.clf.fit(train_data_features, lab_data)\n",
        "\n",
        "        elif self.model =='random_forest':\n",
        "            self.clf = RandomForestClassifier(n_jobs=-1)\n",
        "            self.clf.fit(train_data_features, lab_data)\n",
        "\n",
        "    def test_clf(self, test_data):\n",
        "        test_data_features = self.vectorizer.transform(test_data)\n",
        "        test_data_features = bsr_matrix(test_data_features)\n",
        "    \n",
        "        result = self.clf.predict(test_data_features)\n",
        "        return result\n",
        "    \n",
        "    def validate_clf(self, train_data, lab_data, C = 1.0):\n",
        "        train_data_features = self.vectorizer.fit_transform(train_data)\n",
        "        train_data_features = bsr_matrix(train_data_features)\n",
        "        lab_data = np.array(lab_data)\n",
        "        \n",
        "        print(\"start k-fold validate...\")\n",
        "        if self.model == 'logistic':\n",
        "            clf = LogisticRegression(solver='lbfgs', penalty='l2', dual=False, tol=0.0001, C=C, fit_intercept=True,\n",
        "                                         intercept_scaling=1.0, class_weight=None, random_state=None)\n",
        "            cv = cross_val_score(clf, train_data_features, lab_data, cv=10, scoring='accuracy')\n",
        "        \n",
        "        elif self.model == 'naive_bayes':\n",
        "            clf = MultinomialNB()\n",
        "            cv = cross_val_score(clf, train_data_features, lab_data, cv=10, scoring='accuracy')\n",
        "            \n",
        "        elif self.model == 'svm':\n",
        "            clf = svm.LinearSVC()\n",
        "            cv = cross_val_score(clf, train_data_features, lab_data, cv=10, scoring='accuracy')\n",
        "        \n",
        "        elif self.model == 'xgboost':\n",
        "            clf = XGBClassifier(max_depth=7, n_estimators=200, colsample_bytree=0.8, \n",
        "                            subsample=0.8, nthread=10, learning_rate=0.1)\n",
        "            cv = cross_val_score(clf, train_data_features, lab_data, cv=10, scoring='accuracy')\n",
        "\n",
        "        elif self.model =='random_forest':\n",
        "            clf = RandomForestClassifier(n_estimators=100, n_jobs=-1)\n",
        "            cv = cross_val_score(clf, train_data_features, lab_data, cv=10, scoring='accuracy')\n",
        "        return np.mean(cv)"
      ],
      "execution_count": 0,
      "outputs": []
    },
    {
      "metadata": {
        "id": "WsyMZOHN8wNH",
        "colab_type": "text"
      },
      "cell_type": "markdown",
      "source": [
        "### Tune the classsifier by Hyperparameter Grid Search"
      ]
    },
    {
      "metadata": {
        "colab_type": "code",
        "id": "HfVbuvs6okIP",
        "colab": {}
      },
      "cell_type": "code",
      "source": [
        "def svm_tune(x_train_tfv, y_train_a):\n",
        "    svd = TruncatedSVD()\n",
        "\n",
        "    # Standard Scaler\n",
        "    scl = preprocessing.StandardScaler()\n",
        "\n",
        "    svc = SVC()\n",
        "    # SVM\n",
        "    clf = pipeline.Pipeline([('svd',svd), ('scl',scl), ('svm',svc)])\n",
        "\n",
        "    param_grid = {'svd__n_components':[120,180],\n",
        "                 'svm__C':[1, 10],\n",
        "                  'svm__kernel':('linear', 'rbf'),\n",
        "                  'svm__gamma':['auto','scale']\n",
        "                 }\n",
        "    model = GridSearchCV(cv = 5, estimator=clf, param_grid=param_grid, scoring='accuracy',\n",
        "                                         verbose=10, n_jobs=-1, iid=True, refit=True)\n",
        "    model.fit(x_train_tfv, y_train_a) \n",
        "\n",
        "    print(\"Best score while tuning: %0.3f\" % model.best_score_)\n",
        "\n",
        "    return param_grid, model\n",
        "\n",
        "\n",
        "#Logistic Regression\n",
        "def logistic_tune(x_train_tfv, y_train_a):\n",
        "    lr_model = LogisticRegression()\n",
        "\n",
        "    # pipeline \n",
        "    clf = pipeline.Pipeline([('lr', lr_model)])\n",
        "    param_grid = {\n",
        "                         'lr__C': [0.1, 1.0, 10], \n",
        "                        'lr__penalty': ['l1', 'l2']}\n",
        "\n",
        "    model = GridSearchCV(cv = 5, estimator=clf, param_grid=param_grid, scoring='accuracy',\n",
        "                                     verbose=10, n_jobs=-1, iid=True, refit=True)\n",
        "    model.fit(x_train_tfv, y_train_a) \n",
        "\n",
        "    print(\"Best score while tuning: %0.3f\" % model.best_score_)\n",
        "    \n",
        "    return param_grid, model\n",
        "\n",
        "# Naive Bayes\n",
        "def naive_bayes_tune(x_train_tfv, y_train_a):\n",
        "    nb_model = MultinomialNB()\n",
        "\n",
        "    clf = pipeline.Pipeline([('nb', nb_model)])\n",
        "\n",
        "    param_grid = {'nb__alpha': [0.001, 0.01, 0.1, 1, 10, 100]}\n",
        "\n",
        "    # （Grid Search Model）\n",
        "    model = GridSearchCV(cv = 5,estimator=clf, param_grid=param_grid, scoring='accuracy',\n",
        "                                     verbose=10, n_jobs=-1, iid=True, refit=True,return_train_score=True)\n",
        "\n",
        "    model.fit(x_train_tfv, y_train_a) \n",
        "    print(\"Best score while tuning: %0.3f\" % model.best_score_)\n",
        "    \n",
        "    return param_grid, model\n",
        "\n",
        "# Xgboost\n",
        "def xgboost_tune(x_train_tfv, y_train_a):\n",
        "    \n",
        "    xgb_model = XGBClassifier()\n",
        "    clf = pipeline.Pipeline([('xgb', xgb_model)])\n",
        "    param_grid = {'learning_rate' :[0.1,0.01,0.001],\n",
        "                        'n_estimators':[200,400,600,800,1000],\n",
        "                        'max_depth':[3,5,7],\n",
        "                        'min_child_weight': [1,3,5]}\n",
        "    \n",
        "    model = GridSearchCV(cv = 5, estimator=clf, param_grid=param_grid, scoring='accuracy',\n",
        "                                     verbose=10, n_jobs=-1, iid=True, refit=True,return_train_score=True)\n",
        "\n",
        "    model.fit(x_train_tfv.tocsc(), y_train_a) \n",
        "    print(\"Best score while tuning: %0.3f\" % model.best_score_)\n",
        "    \n",
        "    return param_grid, model\n"
      ],
      "execution_count": 0,
      "outputs": []
    },
    {
      "metadata": {
        "id": "Z-EItGY3sMsi",
        "colab_type": "text"
      },
      "cell_type": "markdown",
      "source": [
        "## Deep Neural Network \n",
        "We build 5 NN, which are:\n",
        "1.GRU 2. LSTM 3. CNN 4. CNN2d 5. Extended TextCNN\n",
        "We can train it using 'Adam', 'SGD' or 'Rmsprop' optimizer"
      ]
    },
    {
      "metadata": {
        "id": "QvfGhn46rAR8",
        "colab_type": "code",
        "colab": {}
      },
      "cell_type": "code",
      "source": [
        "\n",
        "from keras.models import Sequential, Model\n",
        "from keras.layers.recurrent import LSTM, GRU\n",
        "from keras.layers.core import Dense, Activation, Dropout\n",
        "from keras.layers.embeddings import Embedding\n",
        "from keras.layers.normalization import BatchNormalization\n",
        "from keras.utils import np_utils\n",
        "from keras.preprocessing import sequence, text\n",
        "from keras.layers import GlobalMaxPooling1D, Conv1D, MaxPooling1D, Flatten, Bidirectional, SpatialDropout1D,Dropout,Convolution2D\n",
        "from keras.layers import Dense, Embedding, Activation, merge, Input, Lambda, Reshape\n",
        "from keras.callbacks import EarlyStopping\n",
        "from keras.layers.merge import concatenate\n",
        "from keras import optimizers\n",
        "from sklearn.model_selection import train_test_split, GridSearchCV\n",
        "from keras import optimizers\n",
        "from sklearn.utils import class_weight\n",
        "import os\n",
        "\n",
        "\n",
        "class Deep_Neural_Network(object):\n",
        "    def __init__(self, data, label, model_type, embedding_index,  metrics='accuracy'):\n",
        "        train_data, val_data, train_label, val_label = train_test_split(data, label, test_size=0.2,stratify=label,random_state=SEED,shuffle=True)\n",
        "        token = text.Tokenizer(num_words=None)\n",
        "        token.fit_on_texts(train_data)\n",
        "        self.token = token\n",
        "        x_train_seq = token.texts_to_sequences(train_data)\n",
        "        x_val_seq = token.texts_to_sequences(val_data)\n",
        "        self.max_len = len(max(data,key=lambda x:len(x)))\n",
        "        x_train_pad = sequence.pad_sequences(x_train_seq, maxlen=self.max_len)\n",
        "        x_val_pad = sequence.pad_sequences(x_val_seq, maxlen=self. max_len)\n",
        "        self.train_data = x_train_pad\n",
        "        self.val_data = x_val_pad\n",
        "        if  np.array_equal(train_label, train_label.astype(bool)):\n",
        "            self.num_classes = 1\n",
        "            self.activation = 'sigmoid'\n",
        "            self.loss  ='binary_crossentropy'\n",
        "            self.train_label = train_label\n",
        "            self.val_label = val_label\n",
        "        else:\n",
        "            self.num_classes = len(np.unique(train_label))\n",
        "            self.activation = 'softmax'\n",
        "            self.loss= 'categorical_crossentropy'\n",
        "            self.train_label = np_utils.to_categorical(train_label)\n",
        "            self.val_label = np_utils.to_categorical(val_label)\n",
        "        self.metrics = metrics\n",
        "        self.word_index =token.word_index\n",
        "        self.weight = self.embedding_matrix(embedding_index)\n",
        "        self.optim = 'adam'\n",
        "        if model_type == 'gru':\n",
        "            self.model = self.gru_model()\n",
        "        elif model_type == 'lstm':\n",
        "            self.model = self.lstm_model()\n",
        "        elif model_type == 'cnn':\n",
        "            self.model = self.cnn_model()\n",
        "        elif model_type == 'etextcnn':\n",
        "            self.model = self.etextcnn_model()\n",
        "        elif model_type =='cnn2d':\n",
        "            self.model = self.CNN_2D()\n",
        "            \n",
        "            \n",
        "    def set_optimizer(self, optimizer='adam', lr=0.01, decay=5e-3):\n",
        "        if optimizer =='sgd':\n",
        "            self.optim = optimizers.SGD(lr, decay=decay)\n",
        "        elif optimizer =='adam':\n",
        "            self.optim = optimizers.Adam(lr,decay=decay)\n",
        "        elif optimizer =='rmsprop':\n",
        "            self.optim = optimizers.RMSprop(lr=0.001, rho=0.9, epsilon=None, decay=0.0)\n",
        "\n",
        "    def embedding_matrix(self,embedding_index):\n",
        "        embedding_matrix = np.zeros((len(self.word_index) + 1, 300))\n",
        "        for word, i in tqdm(self.word_index.items()):\n",
        "            embedding_vector = embeddings_index.get(word)\n",
        "            if embedding_vector is not None:\n",
        "                embedding_matrix[i] = embedding_vector\n",
        "        return embedding_matrix\n",
        "        \n",
        "   \n",
        "    \n",
        "    def lstm_model(self):\n",
        "        lstm_model = Sequential()\n",
        "        lstm_model.add(Embedding(len(self.word_index) + 1, 300, weights=[self.weight],  input_length=self.max_len, trainable=False))\n",
        "        lstm_model.add(SpatialDropout1D(0.3))\n",
        "        lstm_model.add(Bidirectional(LSTM(100, dropout=0.3, recurrent_dropout=0.3)))\n",
        "        lstm_model.add(Dense(512, activation='relu'))\n",
        "        lstm_model.add(Dropout(0.3))\n",
        "        lstm_model.add(Dense(256, activation='relu'))\n",
        "        lstm_model.add(Dropout(0.3))\n",
        "        lstm_model.add(Dense(self.num_classes, activation=self.activation))\n",
        "        \n",
        "        lstm_model.compile(loss=self.loss, optimizer=self.optim, metrics=[self.metrics])\n",
        "        lstm_model.summary()\n",
        "        return lstm_model\n",
        "    \n",
        "    def gru_model(self):\n",
        "        gru_model = Sequential()\n",
        "        gru_model.add(Embedding(len(self.word_index) + 1, 300, weights=[self.weight],  input_length=self.max_len, trainable=False))\n",
        "        gru_model.add(SpatialDropout1D(0.3))\n",
        "        gru_model.add(GRU(128, dropout=0.3, recurrent_dropout=0.3, return_sequences=True))\n",
        "        gru_model.add(GRU(64, dropout=0.3, recurrent_dropout=0.3))\n",
        "        gru_model.add(Dense(256, activation='relu'))\n",
        "        gru_model.add(Dropout(0.3))\n",
        "        gru_model.add(Dense(128, activation='relu'))\n",
        "        gru_model.add(Dropout(0.3))\n",
        "        gru_model.add(Dense(self.num_classes, activation=self.activation))\n",
        "\n",
        "        gru_model.compile(loss=self.loss, optimizer=self.optim, metrics=[self.metrics])\n",
        "        gru_model.summary()\n",
        "        return gru_model\n",
        "    \n",
        "    \n",
        "    def cnn_model(self):\n",
        "        cnn_model = Sequential()\n",
        "        cnn_model.add(Embedding(len(self.word_index) + 1,300,weights=[self.weight],input_length=self.max_len, trainable=False))\n",
        "        cnn_model.add(Conv1D(64, 3, padding='same'))\n",
        "        cnn_model.add(MaxPooling1D(3,3,padding='same'))\n",
        "        cnn_model.add(Conv1D(32, 3, padding='same'))\n",
        "        cnn_model.add(MaxPooling1D(3,3,padding='same'))\n",
        "        cnn_model.add(Conv1D(16, 3, padding='same'))\n",
        "        cnn_model.add(Flatten())\n",
        "        cnn_model.add(Dropout(0.3))\n",
        "        cnn_model.add(BatchNormalization()) \n",
        "        cnn_model.add(Dense(256,activation='relu'))\n",
        "        cnn_model.add(Dropout(0.1))\n",
        "        cnn_model.add(Dense(self.num_classes, activation=self.activation))\n",
        "        \n",
        "        cnn_model.compile(loss=self.loss, optimizer=self.optim, metrics=[self.metrics])\n",
        "        cnn_model.summary()\n",
        "        return cnn_model\n",
        "    \n",
        "    def CNN_2D(self):\n",
        "        cnn2d_model = Sequential()\n",
        "        cnn2d_model.add(Embedding(len(self.word_index) + 1,50,input_length=self.max_len, trainable=False))\n",
        "        cnn2d_model.add(Reshape((50,self.max_len,1)))\n",
        "        cnn2d_model.add(Convolution2D(64,(1,5),activation=\"relu\"))\n",
        "        cnn2d_model.add(Dropout(0.9))\n",
        "        cnn2d_model.add(Convolution2D(32,(2,3),activation=\"relu\"))\n",
        "        cnn2d_model.add(Dropout(0.8))\n",
        "        cnn2d_model.add(Convolution2D(16,(2,2),activation=\"relu\"))\n",
        "        cnn2d_model.add(Dropout(0.7))\n",
        "        cnn2d_model.add(Flatten())\n",
        "        cnn2d_model.add(Dense(self.num_classes, activation=self.activation))\n",
        "        cnn2d_model.compile(loss=self.loss, optimizer=self.optim, metrics=[self.metrics])\n",
        "        cnn2d_model.summary()\n",
        "        return cnn2d_model    \n",
        "    \n",
        "    def etextcnn_model(self):\n",
        "        main_input = Input(shape=(self.max_len,), dtype='float64')\n",
        "        embedder = Embedding(len(self.word_index) + 1, 300, input_length = self.max_len, weights = [self.weight], trainable = False)\n",
        "        embed = embedder(main_input)\n",
        "        # cnn1，kernel_size = 3\n",
        "        conv1_1 = Conv1D(64, 3, padding='same')(embed)\n",
        "        bn1_1 = BatchNormalization()(conv1_1)\n",
        "        relu1_1 = Activation('relu')(bn1_1)\n",
        "        drop1_1 = Dropout(0.3)(relu1_1)\n",
        "        conv1_2 = Conv1D(32, 3, padding='same')(drop1_1)\n",
        "        bn1_2 = BatchNormalization()(conv1_2)\n",
        "        relu1_2 = Activation('relu')(bn1_2)\n",
        "        drop1_2 = Dropout(0.3)(relu1_2)\n",
        "        cnn1 = MaxPooling1D(pool_size=4)(drop1_1)\n",
        "        # cnn2，kernel_size = 4\n",
        "        conv2_1 = Conv1D(64, 4, padding='same')(embed)\n",
        "        bn2_1 = BatchNormalization()(conv2_1)\n",
        "        relu2_1 = Activation('relu')(bn2_1)\n",
        "        drop2_1 = Dropout(0.3)(relu2_1)\n",
        "        conv2_2 = Conv1D(32, 4, padding='same')(drop2_1)\n",
        "        bn2_2 = BatchNormalization()(conv2_2)\n",
        "        relu2_2 = Activation('relu')(bn2_2)\n",
        "        drop2_2 = Dropout(0.3)(relu2_2)\n",
        "        cnn2 = MaxPooling1D(pool_size=4)(drop2_2)\n",
        "        # cnn3，kernel_size = 5\n",
        "        conv3_1 = Conv1D(64, 5, padding='same')(embed)\n",
        "        bn3_1 = BatchNormalization()(conv3_1)\n",
        "        relu3_1 = Activation('relu')(bn3_1)\n",
        "        drop3_1 = Dropout(0.3)(relu3_1)\n",
        "        conv3_2 = Conv1D(32, 5, padding='same')(drop3_1)\n",
        "        bn3_2 = BatchNormalization()(conv3_2)\n",
        "        relu3_2 = Activation('relu')(bn3_2)\n",
        "        drop3_2 = Dropout(0.3)(relu3_2)\n",
        "        cnn3 = MaxPooling1D(pool_size=4)(drop3_2)\n",
        "        # Combine three block\n",
        "        cnn = concatenate([cnn1,cnn2,cnn3], axis=-1)\n",
        "        flat = Flatten()(cnn)\n",
        "        drop = Dropout(0.5)(flat)\n",
        "        fc = Dense(128)(drop)\n",
        "        bn = BatchNormalization()(fc)\n",
        "\n",
        "        main_output = Dense(self.num_classes, activation=self.activation)(bn)\n",
        "        etextcnn_model = Model(inputs = main_input, outputs = main_output)                \n",
        "        etextcnn_model.compile(loss=self.loss, optimizer=self.optim, metrics=[self.metrics])\n",
        "        etextcnn_model.summary()\n",
        "        return etextcnn_model\n",
        "    \n",
        "\n",
        "    def train(self,epochs=100,batch_size=256):\n",
        "        earlystop = EarlyStopping(monitor='val_loss', min_delta=0, patience=3, verbose=0, mode='auto')\n",
        "#         class_weights = class_weight.compute_class_weight('balanced', np.unique(self.train_label), self.train_label)\n",
        "#         class_weight_dict = dict(enumerate(class_weights))\n",
        "        self.model.fit(self.train_data, self.train_label, batch_size=batch_size, epochs=epochs, verbose=1, \n",
        "                       validation_data=(self.val_data, self.val_label),callbacks=[earlystop])  \n",
        "\n",
        "    def predict(self, test_data):\n",
        "        test_seq = self.token.texts_to_sequences(test_data)\n",
        "        test_pad =sequence.pad_sequences(test_seq, maxlen=self.max_len)\n",
        "        prediction =self.model.predict(test_pad)\n",
        "#         return prediction.argmax(axis=1)\n",
        "        if self.num_classes != 3:\n",
        "          return np.where(prediction >= 0.5, 1, 0)\n",
        "        elif self.num_classes == 3:\n",
        "          return prediction.argmax(axis=1)\n",
        "\n",
        "        \n",
        "    def visualize(self):\n",
        "        from keras.utils import plot_model\n",
        "        plot_model(self.model, to_file='drive/My Drive/data/lstm_model_plot.png', show_shapes=True, show_layer_names=True)\n",
        "        \n",
        "    def save(self,filename):\n",
        "        self.model.save(os.path.join('drive/My Drive/data/nlp_output/',filename))"
      ],
      "execution_count": 0,
      "outputs": []
    },
    {
      "metadata": {
        "id": "Xe0AYfpfqjFo",
        "colab_type": "code",
        "colab": {}
      },
      "cell_type": "code",
      "source": [
        ""
      ],
      "execution_count": 0,
      "outputs": []
    },
    {
      "metadata": {
        "id": "AEaSgKkiotaY",
        "colab_type": "text"
      },
      "cell_type": "markdown",
      "source": [
        "# Task A"
      ]
    },
    {
      "metadata": {
        "id": "fIlQlYD7Kn8E",
        "colab_type": "text"
      },
      "cell_type": "markdown",
      "source": [
        "## Split dataset for task A"
      ]
    },
    {
      "metadata": {
        "id": "z8CAHOGQS6ll",
        "colab_type": "code",
        "outputId": "c2366346-0153-4cc4-81bd-73767057e7cc",
        "colab": {
          "base_uri": "https://localhost:8080/",
          "height": 51
        }
      },
      "cell_type": "code",
      "source": [
        "from sklearn.preprocessing import LabelEncoder, StandardScaler\n",
        "\n",
        "# Load training data\n",
        "df = pd.read_csv(train_path,sep='\\t')\n",
        "df = preprocess(df)\n",
        "lbl = LabelEncoder()\n",
        "y_a = lbl.fit_transform(df.subtask_a.values)\n",
        "x_a = df.tweet.values\n",
        "\n",
        "# load test data\n",
        "df_a = pd.read_csv(testA_path,sep='\\t')\n",
        "df_a = preprocess(df_a)\n",
        "x_test_a = df_a.tweet.values\n"
      ],
      "execution_count": 59,
      "outputs": [
        {
          "output_type": "stream",
          "text": [
            "-------Remove Stop Word--------\n",
            "-------Remove Stop Word--------\n"
          ],
          "name": "stdout"
        }
      ]
    },
    {
      "metadata": {
        "id": "fzuVd91x9Ucw",
        "colab_type": "text"
      },
      "cell_type": "markdown",
      "source": [
        "## Task A - classical classifiers"
      ]
    },
    {
      "metadata": {
        "id": "Bf0jBdbRJMie",
        "colab_type": "text"
      },
      "cell_type": "markdown",
      "source": [
        "### tf-idf word embedding"
      ]
    },
    {
      "metadata": {
        "id": "SSw47ozTpPge",
        "colab_type": "code",
        "outputId": "7d386da7-48c5-4796-f5d4-7282e625f75c",
        "colab": {
          "base_uri": "https://localhost:8080/",
          "height": 253
        }
      },
      "cell_type": "code",
      "source": [
        "# TF_IDF\n",
        "clf = Bag_of_word('logistic','tf_idf')\n",
        "cv = clf.validate_clf(x_a, y_a)\n",
        "print('mean cross validation for Logistic regression is', cv)\n",
        "\n",
        "clf = Bag_of_word('naive_bayes','tf_idf')\n",
        "cv = clf.validate_clf(x_a, y_a)\n",
        "print('mean cross validation for Naive_Bayes is', cv)\n",
        "\n",
        "clf = Bag_of_word('xgboost','tf_idf')\n",
        "cv = clf.validate_clf(x_a, y_a)\n",
        "print('mean cross validation for Xgboost is', cv)\n",
        "\n",
        "clf = Bag_of_word('random_forest','tf_idf')\n",
        "cv = clf.validate_clf(x_a, y_a)\n",
        "print('mean cross validation for Random Forest is', cv)\n",
        "\n",
        "clf = Bag_of_word('svm','tf_idf')\n",
        "cv = clf.validate_clf(x_a, y_a)\n",
        "print('mean cross validation for SVM is', cv)"
      ],
      "execution_count": 0,
      "outputs": [
        {
          "output_type": "stream",
          "text": [
            "start k-fold validate...\n",
            "mean cross validation for Logistic regression is 0.756797583081571\n",
            "start k-fold validate...\n",
            "mean cross validation for Naive_Bayes is 0.7241691842900302\n",
            "start k-fold validate...\n",
            "mean cross validation for Xgboost is 0.7580815709969788\n",
            "start k-fold validate...\n",
            "mean cross validation for Random Forest is 0.7671450151057403\n",
            "start k-fold validate...\n",
            "mean cross validation for SVM is 0.7512839879154078\n"
          ],
          "name": "stdout"
        }
      ]
    },
    {
      "metadata": {
        "id": "0OvXxepwWXjJ",
        "colab_type": "code",
        "outputId": "9db3ed37-5c4a-4a5f-dfab-e0253c2618cb",
        "colab": {
          "base_uri": "https://localhost:8080/",
          "height": 285
        }
      },
      "cell_type": "code",
      "source": [
        "clf = Bag_of_word('random_forest','tf_idf')\n",
        "clf.train_clf(x_a,y_a)\n",
        "prediction = clf.test_clf(x_test_a)\n",
        "prediction =lbl.inverse_transform(prediction)\n",
        "out = pd.DataFrame({'id':df_a.id.values,'label':prediction})\n",
        "out.to_csv('drive/My Drive/data/nlp_output/task_a_rf.csv',header=None, index=None)\n",
        "out.head()\n"
      ],
      "execution_count": 0,
      "outputs": [
        {
          "output_type": "stream",
          "text": [
            "training data shape (13240, 10000)\n"
          ],
          "name": "stdout"
        },
        {
          "output_type": "execute_result",
          "data": {
            "text/html": [
              "<div>\n",
              "<style scoped>\n",
              "    .dataframe tbody tr th:only-of-type {\n",
              "        vertical-align: middle;\n",
              "    }\n",
              "\n",
              "    .dataframe tbody tr th {\n",
              "        vertical-align: top;\n",
              "    }\n",
              "\n",
              "    .dataframe thead th {\n",
              "        text-align: right;\n",
              "    }\n",
              "</style>\n",
              "<table border=\"1\" class=\"dataframe\">\n",
              "  <thead>\n",
              "    <tr style=\"text-align: right;\">\n",
              "      <th></th>\n",
              "      <th>id</th>\n",
              "      <th>label</th>\n",
              "    </tr>\n",
              "  </thead>\n",
              "  <tbody>\n",
              "    <tr>\n",
              "      <th>0</th>\n",
              "      <td>15923</td>\n",
              "      <td>OFF</td>\n",
              "    </tr>\n",
              "    <tr>\n",
              "      <th>1</th>\n",
              "      <td>27014</td>\n",
              "      <td>NOT</td>\n",
              "    </tr>\n",
              "    <tr>\n",
              "      <th>2</th>\n",
              "      <td>30530</td>\n",
              "      <td>NOT</td>\n",
              "    </tr>\n",
              "    <tr>\n",
              "      <th>3</th>\n",
              "      <td>13876</td>\n",
              "      <td>NOT</td>\n",
              "    </tr>\n",
              "    <tr>\n",
              "      <th>4</th>\n",
              "      <td>60133</td>\n",
              "      <td>NOT</td>\n",
              "    </tr>\n",
              "  </tbody>\n",
              "</table>\n",
              "</div>"
            ],
            "text/plain": [
              "      id label\n",
              "0  15923   OFF\n",
              "1  27014   NOT\n",
              "2  30530   NOT\n",
              "3  13876   NOT\n",
              "4  60133   NOT"
            ]
          },
          "metadata": {
            "tags": []
          },
          "execution_count": 21
        }
      ]
    },
    {
      "metadata": {
        "id": "1VcsKF_NJUQk",
        "colab_type": "text"
      },
      "cell_type": "markdown",
      "source": [
        "### Word count embedding"
      ]
    },
    {
      "metadata": {
        "id": "EcZKjgSwsiTo",
        "colab_type": "code",
        "outputId": "7aa1b208-223e-42cd-f294-a8299f3d0086",
        "colab": {
          "base_uri": "https://localhost:8080/",
          "height": 273
        }
      },
      "cell_type": "code",
      "source": [
        "# Word Count\n",
        "clf = Bag_of_word('logistic','word_count')\n",
        "cv = clf.validate_clf(x_a, y_a)\n",
        "print('mean cross validation for Logistic regression is', cv)\n",
        "\n",
        "clf = Bag_of_word('naive_bayes','word_count')\n",
        "cv = clf.validate_clf(x_a, y_a)\n",
        "print('mean cross validation for Naive_Bayes is', cv)\n",
        "\n",
        "clf = Bag_of_word('xgboost','word_count')\n",
        "cv = clf.validate_clf(x_a, y_a)\n",
        "print('mean cross validation for Xgboost is', cv)\n",
        "\n",
        "clf = Bag_of_word('random_forest','word_count')\n",
        "cv = clf.validate_clf(x_a, y_a)\n",
        "print('mean cross validation for Random Forest is', cv)\n",
        "\n",
        "clf = Bag_of_word('svm','word_count')\n",
        "cv = clf.validate_clf(x_a, y_a)\n",
        "print('mean cross validation for SVM is', cv)"
      ],
      "execution_count": 0,
      "outputs": [
        {
          "output_type": "stream",
          "text": [
            "start k-fold validate...\n",
            "mean cross validation for Logistic regression is 0.7614048338368581\n",
            "start k-fold validate...\n",
            "mean cross validation for Naive_Bayes is 0.7424471299093656\n",
            "start k-fold validate...\n",
            "mean cross validation for Xgboost is 0.7624622356495468\n",
            "start k-fold validate...\n",
            "mean cross validation for Random Forest is 0.7583836858006043\n",
            "start k-fold validate...\n",
            "mean cross validation for SVM is 0.7370090634441089\n"
          ],
          "name": "stdout"
        }
      ]
    },
    {
      "metadata": {
        "id": "CVOSm0oFZiCf",
        "colab_type": "code",
        "outputId": "aae66b71-4dc7-49ac-aa1a-161b94c7b08c",
        "colab": {
          "base_uri": "https://localhost:8080/",
          "height": 305
        }
      },
      "cell_type": "code",
      "source": [
        "clf = Bag_of_word('xgboost','word_count')\n",
        "clf.train_clf(x_a,y_a)\n",
        "prediction = clf.test_clf(x_test_a)\n",
        "prediction =lbl.inverse_transform(prediction)\n",
        "out = pd.DataFrame({'id':df_a.id.values,'label':prediction})\n",
        "out.to_csv('drive/My Drive/data/nlp_output/task_a_xgb.csv',header=None, index=None)\n",
        "out.head()"
      ],
      "execution_count": 0,
      "outputs": [
        {
          "output_type": "stream",
          "text": [
            "training data shape (13240, 10000)\n"
          ],
          "name": "stdout"
        },
        {
          "output_type": "execute_result",
          "data": {
            "text/html": [
              "<div>\n",
              "<style scoped>\n",
              "    .dataframe tbody tr th:only-of-type {\n",
              "        vertical-align: middle;\n",
              "    }\n",
              "\n",
              "    .dataframe tbody tr th {\n",
              "        vertical-align: top;\n",
              "    }\n",
              "\n",
              "    .dataframe thead th {\n",
              "        text-align: right;\n",
              "    }\n",
              "</style>\n",
              "<table border=\"1\" class=\"dataframe\">\n",
              "  <thead>\n",
              "    <tr style=\"text-align: right;\">\n",
              "      <th></th>\n",
              "      <th>id</th>\n",
              "      <th>label</th>\n",
              "    </tr>\n",
              "  </thead>\n",
              "  <tbody>\n",
              "    <tr>\n",
              "      <th>0</th>\n",
              "      <td>15923</td>\n",
              "      <td>OFF</td>\n",
              "    </tr>\n",
              "    <tr>\n",
              "      <th>1</th>\n",
              "      <td>27014</td>\n",
              "      <td>NOT</td>\n",
              "    </tr>\n",
              "    <tr>\n",
              "      <th>2</th>\n",
              "      <td>30530</td>\n",
              "      <td>NOT</td>\n",
              "    </tr>\n",
              "    <tr>\n",
              "      <th>3</th>\n",
              "      <td>13876</td>\n",
              "      <td>NOT</td>\n",
              "    </tr>\n",
              "    <tr>\n",
              "      <th>4</th>\n",
              "      <td>60133</td>\n",
              "      <td>NOT</td>\n",
              "    </tr>\n",
              "  </tbody>\n",
              "</table>\n",
              "</div>"
            ],
            "text/plain": [
              "      id label\n",
              "0  15923   OFF\n",
              "1  27014   NOT\n",
              "2  30530   NOT\n",
              "3  13876   NOT\n",
              "4  60133   NOT"
            ]
          },
          "metadata": {
            "tags": []
          },
          "execution_count": 23
        }
      ]
    },
    {
      "metadata": {
        "id": "AjBJ_Ban9bZR",
        "colab_type": "text"
      },
      "cell_type": "markdown",
      "source": [
        "## Task A - Neural network classifiers"
      ]
    },
    {
      "metadata": {
        "id": "yAvd3n8GJYfF",
        "colab_type": "text"
      },
      "cell_type": "markdown",
      "source": [
        "### GRU\n",
        "- rmsprop optimizer\n",
        "- val_acc: 0.7776"
      ]
    },
    {
      "metadata": {
        "id": "UMo3jgzyqkmH",
        "colab_type": "code",
        "outputId": "8b23f80a-1b9c-4c35-8bbc-4fb41288b4ca",
        "colab": {
          "base_uri": "https://localhost:8080/",
          "height": 935
        }
      },
      "cell_type": "code",
      "source": [
        "model= Deep_Neural_Network(x_a,y_a,'gru',embeddings_index)\n",
        "model.set_optimizer('rmsprop')\n",
        "model.train(epochs=20,batch_size=256)\n",
        "prediction = model.predict(x_test_a)\n",
        "model.save('task_a_gru.h5')\n",
        "\n",
        "prediction =lbl.inverse_transform(prediction)\n",
        "out = pd.DataFrame({'id':df_a.id.values,'label':prediction})\n",
        "out.to_csv('drive/My Drive/data/nlp_output/task_a_gru.csv',header=None, index=None)\n",
        "out.head()"
      ],
      "execution_count": 27,
      "outputs": [
        {
          "output_type": "stream",
          "text": [
            "100%|██████████| 17766/17766 [00:00<00:00, 480094.87it/s]\n"
          ],
          "name": "stderr"
        },
        {
          "output_type": "stream",
          "text": [
            "_________________________________________________________________\n",
            "Layer (type)                 Output Shape              Param #   \n",
            "=================================================================\n",
            "embedding_4 (Embedding)      (None, 280, 300)          5330100   \n",
            "_________________________________________________________________\n",
            "spatial_dropout1d_4 (Spatial (None, 280, 300)          0         \n",
            "_________________________________________________________________\n",
            "gru_7 (GRU)                  (None, 280, 128)          164736    \n",
            "_________________________________________________________________\n",
            "gru_8 (GRU)                  (None, 64)                37056     \n",
            "_________________________________________________________________\n",
            "dense_10 (Dense)             (None, 256)               16640     \n",
            "_________________________________________________________________\n",
            "dropout_7 (Dropout)          (None, 256)               0         \n",
            "_________________________________________________________________\n",
            "dense_11 (Dense)             (None, 128)               32896     \n",
            "_________________________________________________________________\n",
            "dropout_8 (Dropout)          (None, 128)               0         \n",
            "_________________________________________________________________\n",
            "dense_12 (Dense)             (None, 1)                 129       \n",
            "=================================================================\n",
            "Total params: 5,581,557\n",
            "Trainable params: 251,457\n",
            "Non-trainable params: 5,330,100\n",
            "_________________________________________________________________\n",
            "Train on 10592 samples, validate on 2648 samples\n",
            "Epoch 1/20\n",
            "10592/10592 [==============================] - 46s 4ms/step - loss: 0.6162 - acc: 0.6822 - val_loss: 0.5510 - val_acc: 0.7292\n",
            "Epoch 2/20\n",
            "10592/10592 [==============================] - 43s 4ms/step - loss: 0.5570 - acc: 0.7231 - val_loss: 0.5139 - val_acc: 0.7598\n",
            "Epoch 3/20\n",
            "10592/10592 [==============================] - 43s 4ms/step - loss: 0.5165 - acc: 0.7451 - val_loss: 0.4980 - val_acc: 0.7727\n",
            "Epoch 4/20\n",
            "10592/10592 [==============================] - 42s 4ms/step - loss: 0.5054 - acc: 0.7609 - val_loss: 0.4932 - val_acc: 0.7723\n",
            "Epoch 5/20\n",
            "10592/10592 [==============================] - 43s 4ms/step - loss: 0.4945 - acc: 0.7668 - val_loss: 0.4858 - val_acc: 0.7738\n",
            "Epoch 6/20\n",
            "10592/10592 [==============================] - 43s 4ms/step - loss: 0.4905 - acc: 0.7723 - val_loss: 0.4931 - val_acc: 0.7742\n",
            "Epoch 7/20\n",
            "10592/10592 [==============================] - 42s 4ms/step - loss: 0.4795 - acc: 0.7758 - val_loss: 0.4865 - val_acc: 0.7708\n",
            "Epoch 8/20\n",
            "10592/10592 [==============================] - 43s 4ms/step - loss: 0.4798 - acc: 0.7742 - val_loss: 0.4861 - val_acc: 0.7776\n"
          ],
          "name": "stdout"
        },
        {
          "output_type": "execute_result",
          "data": {
            "text/html": [
              "<div>\n",
              "<style scoped>\n",
              "    .dataframe tbody tr th:only-of-type {\n",
              "        vertical-align: middle;\n",
              "    }\n",
              "\n",
              "    .dataframe tbody tr th {\n",
              "        vertical-align: top;\n",
              "    }\n",
              "\n",
              "    .dataframe thead th {\n",
              "        text-align: right;\n",
              "    }\n",
              "</style>\n",
              "<table border=\"1\" class=\"dataframe\">\n",
              "  <thead>\n",
              "    <tr style=\"text-align: right;\">\n",
              "      <th></th>\n",
              "      <th>id</th>\n",
              "      <th>label</th>\n",
              "    </tr>\n",
              "  </thead>\n",
              "  <tbody>\n",
              "    <tr>\n",
              "      <th>0</th>\n",
              "      <td>15923</td>\n",
              "      <td>OFF</td>\n",
              "    </tr>\n",
              "    <tr>\n",
              "      <th>1</th>\n",
              "      <td>27014</td>\n",
              "      <td>NOT</td>\n",
              "    </tr>\n",
              "    <tr>\n",
              "      <th>2</th>\n",
              "      <td>30530</td>\n",
              "      <td>NOT</td>\n",
              "    </tr>\n",
              "    <tr>\n",
              "      <th>3</th>\n",
              "      <td>13876</td>\n",
              "      <td>NOT</td>\n",
              "    </tr>\n",
              "    <tr>\n",
              "      <th>4</th>\n",
              "      <td>60133</td>\n",
              "      <td>NOT</td>\n",
              "    </tr>\n",
              "  </tbody>\n",
              "</table>\n",
              "</div>"
            ],
            "text/plain": [
              "      id label\n",
              "0  15923   OFF\n",
              "1  27014   NOT\n",
              "2  30530   NOT\n",
              "3  13876   NOT\n",
              "4  60133   NOT"
            ]
          },
          "metadata": {
            "tags": []
          },
          "execution_count": 27
        }
      ]
    },
    {
      "metadata": {
        "id": "LqGRfaybJg3K",
        "colab_type": "text"
      },
      "cell_type": "markdown",
      "source": [
        "### Extended TextCNN\n",
        "- SGD, lr = 1e-7\n",
        "- val_acc: 0.7647"
      ]
    },
    {
      "metadata": {
        "id": "i3EtiWV4uh_Q",
        "colab_type": "code",
        "outputId": "a5f408aa-7eed-47c5-a95d-3da25b1f0374",
        "colab": {
          "base_uri": "https://localhost:8080/",
          "height": 1672
        }
      },
      "cell_type": "code",
      "source": [
        "model= Deep_Neural_Network(x_a,y_a,'etextcnn',embeddings_index)\n",
        "model.set_optimizer('sgd',lr=0.0000001)\n",
        "model.train(epochs=20,batch_size=256)"
      ],
      "execution_count": 0,
      "outputs": [
        {
          "output_type": "stream",
          "text": [
            "100%|██████████| 17778/17778 [00:00<00:00, 356294.28it/s]\n"
          ],
          "name": "stderr"
        },
        {
          "output_type": "stream",
          "text": [
            "__________________________________________________________________________________________________\n",
            "Layer (type)                    Output Shape         Param #     Connected to                     \n",
            "==================================================================================================\n",
            "input_2 (InputLayer)            (None, 280)          0                                            \n",
            "__________________________________________________________________________________________________\n",
            "embedding_28 (Embedding)        (None, 280, 300)     5333700     input_2[0][0]                    \n",
            "__________________________________________________________________________________________________\n",
            "conv1d_30 (Conv1D)              (None, 280, 64)      76864       embedding_28[0][0]               \n",
            "__________________________________________________________________________________________________\n",
            "conv1d_32 (Conv1D)              (None, 280, 64)      96064       embedding_28[0][0]               \n",
            "__________________________________________________________________________________________________\n",
            "batch_normalization_17 (BatchNo (None, 280, 64)      256         conv1d_30[0][0]                  \n",
            "__________________________________________________________________________________________________\n",
            "batch_normalization_19 (BatchNo (None, 280, 64)      256         conv1d_32[0][0]                  \n",
            "__________________________________________________________________________________________________\n",
            "activation_9 (Activation)       (None, 280, 64)      0           batch_normalization_17[0][0]     \n",
            "__________________________________________________________________________________________________\n",
            "activation_11 (Activation)      (None, 280, 64)      0           batch_normalization_19[0][0]     \n",
            "__________________________________________________________________________________________________\n",
            "dropout_64 (Dropout)            (None, 280, 64)      0           activation_9[0][0]               \n",
            "__________________________________________________________________________________________________\n",
            "dropout_66 (Dropout)            (None, 280, 64)      0           activation_11[0][0]              \n",
            "__________________________________________________________________________________________________\n",
            "conv1d_28 (Conv1D)              (None, 280, 64)      57664       embedding_28[0][0]               \n",
            "__________________________________________________________________________________________________\n",
            "conv1d_31 (Conv1D)              (None, 280, 32)      8224        dropout_64[0][0]                 \n",
            "__________________________________________________________________________________________________\n",
            "conv1d_33 (Conv1D)              (None, 280, 32)      10272       dropout_66[0][0]                 \n",
            "__________________________________________________________________________________________________\n",
            "batch_normalization_15 (BatchNo (None, 280, 64)      256         conv1d_28[0][0]                  \n",
            "__________________________________________________________________________________________________\n",
            "batch_normalization_18 (BatchNo (None, 280, 32)      128         conv1d_31[0][0]                  \n",
            "__________________________________________________________________________________________________\n",
            "batch_normalization_20 (BatchNo (None, 280, 32)      128         conv1d_33[0][0]                  \n",
            "__________________________________________________________________________________________________\n",
            "activation_7 (Activation)       (None, 280, 64)      0           batch_normalization_15[0][0]     \n",
            "__________________________________________________________________________________________________\n",
            "activation_10 (Activation)      (None, 280, 32)      0           batch_normalization_18[0][0]     \n",
            "__________________________________________________________________________________________________\n",
            "activation_12 (Activation)      (None, 280, 32)      0           batch_normalization_20[0][0]     \n",
            "__________________________________________________________________________________________________\n",
            "dropout_62 (Dropout)            (None, 280, 64)      0           activation_7[0][0]               \n",
            "__________________________________________________________________________________________________\n",
            "dropout_65 (Dropout)            (None, 280, 32)      0           activation_10[0][0]              \n",
            "__________________________________________________________________________________________________\n",
            "dropout_67 (Dropout)            (None, 280, 32)      0           activation_12[0][0]              \n",
            "__________________________________________________________________________________________________\n",
            "max_pooling1d_18 (MaxPooling1D) (None, 70, 64)       0           dropout_62[0][0]                 \n",
            "__________________________________________________________________________________________________\n",
            "max_pooling1d_19 (MaxPooling1D) (None, 70, 32)       0           dropout_65[0][0]                 \n",
            "__________________________________________________________________________________________________\n",
            "max_pooling1d_20 (MaxPooling1D) (None, 70, 32)       0           dropout_67[0][0]                 \n",
            "__________________________________________________________________________________________________\n",
            "concatenate_2 (Concatenate)     (None, 70, 128)      0           max_pooling1d_18[0][0]           \n",
            "                                                                 max_pooling1d_19[0][0]           \n",
            "                                                                 max_pooling1d_20[0][0]           \n",
            "__________________________________________________________________________________________________\n",
            "flatten_15 (Flatten)            (None, 8960)         0           concatenate_2[0][0]              \n",
            "__________________________________________________________________________________________________\n",
            "dropout_68 (Dropout)            (None, 8960)         0           flatten_15[0][0]                 \n",
            "__________________________________________________________________________________________________\n",
            "dense_56 (Dense)                (None, 128)          1147008     dropout_68[0][0]                 \n",
            "__________________________________________________________________________________________________\n",
            "batch_normalization_21 (BatchNo (None, 128)          512         dense_56[0][0]                   \n",
            "__________________________________________________________________________________________________\n",
            "dense_57 (Dense)                (None, 1)            129         batch_normalization_21[0][0]     \n",
            "==================================================================================================\n",
            "Total params: 6,731,461\n",
            "Trainable params: 1,396,993\n",
            "Non-trainable params: 5,334,468\n",
            "__________________________________________________________________________________________________\n",
            "Train on 10592 samples, validate on 2648 samples\n",
            "Epoch 1/20\n",
            "10592/10592 [==============================] - 14s 1ms/step - loss: 0.7829 - acc: 0.6228 - val_loss: 0.5517 - val_acc: 0.7281\n",
            "Epoch 2/20\n",
            "10592/10592 [==============================] - 6s 536us/step - loss: 0.5562 - acc: 0.7268 - val_loss: 0.5088 - val_acc: 0.7610\n",
            "Epoch 3/20\n",
            "10592/10592 [==============================] - 6s 534us/step - loss: 0.5268 - acc: 0.7498 - val_loss: 0.5022 - val_acc: 0.7651\n",
            "Epoch 4/20\n",
            "10592/10592 [==============================] - 6s 537us/step - loss: 0.4945 - acc: 0.7703 - val_loss: 0.4962 - val_acc: 0.7644\n",
            "Epoch 5/20\n",
            "10592/10592 [==============================] - 6s 538us/step - loss: 0.4755 - acc: 0.7850 - val_loss: 0.5030 - val_acc: 0.7621\n",
            "Epoch 6/20\n",
            "10592/10592 [==============================] - 6s 537us/step - loss: 0.4597 - acc: 0.7870 - val_loss: 0.4903 - val_acc: 0.7745\n",
            "Epoch 7/20\n",
            "10592/10592 [==============================] - 6s 536us/step - loss: 0.4415 - acc: 0.8021 - val_loss: 0.5130 - val_acc: 0.7640\n",
            "Epoch 8/20\n",
            "10592/10592 [==============================] - 6s 538us/step - loss: 0.4169 - acc: 0.8141 - val_loss: 0.5280 - val_acc: 0.7560\n",
            "Epoch 9/20\n",
            "10592/10592 [==============================] - 6s 539us/step - loss: 0.3958 - acc: 0.8253 - val_loss: 0.5362 - val_acc: 0.7647\n"
          ],
          "name": "stdout"
        }
      ]
    },
    {
      "metadata": {
        "id": "PaVg4sYrJzLO",
        "colab_type": "text"
      },
      "cell_type": "markdown",
      "source": [
        "### LSTM\n",
        "- Rmsprop\n",
        "- val_acc: 0.7636"
      ]
    },
    {
      "metadata": {
        "id": "-zv4CYA5x4u3",
        "colab_type": "code",
        "outputId": "a5abb036-8032-4205-8130-782c0f163ce4",
        "colab": {
          "base_uri": "https://localhost:8080/",
          "height": 1037
        }
      },
      "cell_type": "code",
      "source": [
        "model= Deep_Neural_Network(x_a,y_a,'lstm',embeddings_index)\n",
        "model.set_optimizer('rmsprop')\n",
        "model.train(epochs=20,batch_size=512)\n",
        "prediction = model.predict(x_test_a)\n",
        "model.save('task_a_lstm.h5')\n",
        "\n",
        "prediction =lbl.inverse_transform(prediction)\n",
        "out = pd.DataFrame({'id':df_a.id.values,'label':prediction})\n",
        "out.to_csv('drive/My Drive/data/nlp_output/task_a_lstm.csv',header=None, index=None)\n",
        "out.head()"
      ],
      "execution_count": 28,
      "outputs": [
        {
          "output_type": "stream",
          "text": [
            "100%|██████████| 17766/17766 [00:00<00:00, 448443.15it/s]\n"
          ],
          "name": "stderr"
        },
        {
          "output_type": "stream",
          "text": [
            "_________________________________________________________________\n",
            "Layer (type)                 Output Shape              Param #   \n",
            "=================================================================\n",
            "embedding_5 (Embedding)      (None, 280, 300)          5330100   \n",
            "_________________________________________________________________\n",
            "spatial_dropout1d_5 (Spatial (None, 280, 300)          0         \n",
            "_________________________________________________________________\n",
            "bidirectional_1 (Bidirection (None, 200)               320800    \n",
            "_________________________________________________________________\n",
            "dense_13 (Dense)             (None, 512)               102912    \n",
            "_________________________________________________________________\n",
            "dropout_9 (Dropout)          (None, 512)               0         \n",
            "_________________________________________________________________\n",
            "dense_14 (Dense)             (None, 256)               131328    \n",
            "_________________________________________________________________\n",
            "dropout_10 (Dropout)         (None, 256)               0         \n",
            "_________________________________________________________________\n",
            "dense_15 (Dense)             (None, 1)                 257       \n",
            "=================================================================\n",
            "Total params: 5,885,397\n",
            "Trainable params: 555,297\n",
            "Non-trainable params: 5,330,100\n",
            "_________________________________________________________________\n",
            "Train on 10592 samples, validate on 2648 samples\n",
            "Epoch 1/20\n",
            "10592/10592 [==============================] - 30s 3ms/step - loss: 0.6324 - acc: 0.6553 - val_loss: 0.5885 - val_acc: 0.6945\n",
            "Epoch 2/20\n",
            "10592/10592 [==============================] - 27s 3ms/step - loss: 0.5695 - acc: 0.7125 - val_loss: 0.5416 - val_acc: 0.7213\n",
            "Epoch 3/20\n",
            "10592/10592 [==============================] - 27s 3ms/step - loss: 0.5305 - acc: 0.7368 - val_loss: 0.5120 - val_acc: 0.7523\n",
            "Epoch 4/20\n",
            "10592/10592 [==============================] - 27s 3ms/step - loss: 0.5180 - acc: 0.7451 - val_loss: 0.5034 - val_acc: 0.7602\n",
            "Epoch 5/20\n",
            "10592/10592 [==============================] - 27s 3ms/step - loss: 0.5048 - acc: 0.7560 - val_loss: 0.4971 - val_acc: 0.7681\n",
            "Epoch 6/20\n",
            "10592/10592 [==============================] - 27s 3ms/step - loss: 0.4967 - acc: 0.7599 - val_loss: 0.4921 - val_acc: 0.7670\n",
            "Epoch 7/20\n",
            "10592/10592 [==============================] - 27s 3ms/step - loss: 0.4913 - acc: 0.7629 - val_loss: 0.4909 - val_acc: 0.7711\n",
            "Epoch 8/20\n",
            "10592/10592 [==============================] - 26s 2ms/step - loss: 0.4870 - acc: 0.7708 - val_loss: 0.4957 - val_acc: 0.7636\n",
            "Epoch 9/20\n",
            "10592/10592 [==============================] - 27s 3ms/step - loss: 0.4756 - acc: 0.7781 - val_loss: 0.4891 - val_acc: 0.7693\n",
            "Epoch 10/20\n",
            "10592/10592 [==============================] - 27s 3ms/step - loss: 0.4691 - acc: 0.7776 - val_loss: 0.4944 - val_acc: 0.7704\n",
            "Epoch 11/20\n",
            "10592/10592 [==============================] - 27s 3ms/step - loss: 0.4660 - acc: 0.7775 - val_loss: 0.5001 - val_acc: 0.7606\n",
            "Epoch 12/20\n",
            "10592/10592 [==============================] - 26s 2ms/step - loss: 0.4590 - acc: 0.7835 - val_loss: 0.5005 - val_acc: 0.7636\n"
          ],
          "name": "stdout"
        },
        {
          "output_type": "execute_result",
          "data": {
            "text/html": [
              "<div>\n",
              "<style scoped>\n",
              "    .dataframe tbody tr th:only-of-type {\n",
              "        vertical-align: middle;\n",
              "    }\n",
              "\n",
              "    .dataframe tbody tr th {\n",
              "        vertical-align: top;\n",
              "    }\n",
              "\n",
              "    .dataframe thead th {\n",
              "        text-align: right;\n",
              "    }\n",
              "</style>\n",
              "<table border=\"1\" class=\"dataframe\">\n",
              "  <thead>\n",
              "    <tr style=\"text-align: right;\">\n",
              "      <th></th>\n",
              "      <th>id</th>\n",
              "      <th>label</th>\n",
              "    </tr>\n",
              "  </thead>\n",
              "  <tbody>\n",
              "    <tr>\n",
              "      <th>0</th>\n",
              "      <td>15923</td>\n",
              "      <td>NOT</td>\n",
              "    </tr>\n",
              "    <tr>\n",
              "      <th>1</th>\n",
              "      <td>27014</td>\n",
              "      <td>NOT</td>\n",
              "    </tr>\n",
              "    <tr>\n",
              "      <th>2</th>\n",
              "      <td>30530</td>\n",
              "      <td>NOT</td>\n",
              "    </tr>\n",
              "    <tr>\n",
              "      <th>3</th>\n",
              "      <td>13876</td>\n",
              "      <td>NOT</td>\n",
              "    </tr>\n",
              "    <tr>\n",
              "      <th>4</th>\n",
              "      <td>60133</td>\n",
              "      <td>NOT</td>\n",
              "    </tr>\n",
              "  </tbody>\n",
              "</table>\n",
              "</div>"
            ],
            "text/plain": [
              "      id label\n",
              "0  15923   NOT\n",
              "1  27014   NOT\n",
              "2  30530   NOT\n",
              "3  13876   NOT\n",
              "4  60133   NOT"
            ]
          },
          "metadata": {
            "tags": []
          },
          "execution_count": 28
        }
      ]
    },
    {
      "metadata": {
        "id": "Uh97TH9ZJ8po",
        "colab_type": "text"
      },
      "cell_type": "markdown",
      "source": [
        "### LSTM\n",
        "- SGD, lr = 1e-3\n",
        "- val_acc: 0.7677"
      ]
    },
    {
      "metadata": {
        "id": "pJL-8NWrQwxb",
        "colab_type": "code",
        "colab": {
          "base_uri": "https://localhost:8080/",
          "height": 884
        },
        "outputId": "d7bd6b02-f630-4da8-ff8d-b4146eab7d22"
      },
      "cell_type": "code",
      "source": [
        "model= Deep_Neural_Network(x_a,y_a,'lstm',embeddings_index)\n",
        "model.set_optimizer('sgd', lr = 0.001)\n",
        "model.train(epochs=20,batch_size=512)\n",
        "# prediction = model.predict(x_test_a)\n",
        "# prediction\n"
      ],
      "execution_count": 60,
      "outputs": [
        {
          "output_type": "stream",
          "text": [
            "100%|██████████| 17766/17766 [00:00<00:00, 435457.98it/s]\n"
          ],
          "name": "stderr"
        },
        {
          "output_type": "stream",
          "text": [
            "_________________________________________________________________\n",
            "Layer (type)                 Output Shape              Param #   \n",
            "=================================================================\n",
            "embedding_14 (Embedding)     (None, 280, 300)          5330100   \n",
            "_________________________________________________________________\n",
            "spatial_dropout1d_9 (Spatial (None, 280, 300)          0         \n",
            "_________________________________________________________________\n",
            "bidirectional_5 (Bidirection (None, 200)               320800    \n",
            "_________________________________________________________________\n",
            "dense_35 (Dense)             (None, 512)               102912    \n",
            "_________________________________________________________________\n",
            "dropout_32 (Dropout)         (None, 512)               0         \n",
            "_________________________________________________________________\n",
            "dense_36 (Dense)             (None, 256)               131328    \n",
            "_________________________________________________________________\n",
            "dropout_33 (Dropout)         (None, 256)               0         \n",
            "_________________________________________________________________\n",
            "dense_37 (Dense)             (None, 1)                 257       \n",
            "=================================================================\n",
            "Total params: 5,885,397\n",
            "Trainable params: 555,297\n",
            "Non-trainable params: 5,330,100\n",
            "_________________________________________________________________\n",
            "Train on 10592 samples, validate on 2648 samples\n",
            "Epoch 1/20\n",
            "10592/10592 [==============================] - 35s 3ms/step - loss: 0.6308 - acc: 0.6621 - val_loss: 0.5844 - val_acc: 0.7096\n",
            "Epoch 2/20\n",
            "10592/10592 [==============================] - 29s 3ms/step - loss: 0.5660 - acc: 0.7151 - val_loss: 0.5275 - val_acc: 0.7398\n",
            "Epoch 3/20\n",
            "10592/10592 [==============================] - 28s 3ms/step - loss: 0.5330 - acc: 0.7361 - val_loss: 0.5122 - val_acc: 0.7545\n",
            "Epoch 4/20\n",
            "10592/10592 [==============================] - 28s 3ms/step - loss: 0.5149 - acc: 0.7488 - val_loss: 0.5044 - val_acc: 0.7644\n",
            "Epoch 5/20\n",
            "10592/10592 [==============================] - 28s 3ms/step - loss: 0.5016 - acc: 0.7563 - val_loss: 0.4965 - val_acc: 0.7685\n",
            "Epoch 6/20\n",
            "10592/10592 [==============================] - 28s 3ms/step - loss: 0.4927 - acc: 0.7657 - val_loss: 0.4934 - val_acc: 0.7711\n",
            "Epoch 7/20\n",
            "10592/10592 [==============================] - 28s 3ms/step - loss: 0.4904 - acc: 0.7651 - val_loss: 0.4946 - val_acc: 0.7700\n",
            "Epoch 8/20\n",
            "10592/10592 [==============================] - 27s 3ms/step - loss: 0.4803 - acc: 0.7707 - val_loss: 0.4878 - val_acc: 0.7753\n",
            "Epoch 9/20\n",
            "10592/10592 [==============================] - 28s 3ms/step - loss: 0.4754 - acc: 0.7736 - val_loss: 0.4905 - val_acc: 0.7693\n",
            "Epoch 10/20\n",
            "10592/10592 [==============================] - 27s 3ms/step - loss: 0.4712 - acc: 0.7790 - val_loss: 0.4870 - val_acc: 0.7723\n",
            "Epoch 11/20\n",
            "10592/10592 [==============================] - 27s 3ms/step - loss: 0.4592 - acc: 0.7840 - val_loss: 0.4928 - val_acc: 0.7662\n",
            "Epoch 12/20\n",
            "10592/10592 [==============================] - 27s 3ms/step - loss: 0.4585 - acc: 0.7851 - val_loss: 0.4925 - val_acc: 0.7632\n",
            "Epoch 13/20\n",
            "10592/10592 [==============================] - 27s 3ms/step - loss: 0.4558 - acc: 0.7862 - val_loss: 0.4899 - val_acc: 0.7677\n"
          ],
          "name": "stdout"
        }
      ]
    },
    {
      "metadata": {
        "id": "L0s62vpDKvUY",
        "colab_type": "text"
      },
      "cell_type": "markdown",
      "source": [
        "### CNN2d\n",
        "- Adam\n",
        "- val_acc: 0.6677"
      ]
    },
    {
      "metadata": {
        "id": "DgRyAaNKyIfA",
        "colab_type": "code",
        "outputId": "c2046796-59ae-465a-c3b1-8f72bf8cb079",
        "colab": {
          "base_uri": "https://localhost:8080/",
          "height": 714
        }
      },
      "cell_type": "code",
      "source": [
        "model= Deep_Neural_Network(x_a,y_a,'cnn2d',embeddings_index)\n",
        "# model.set_optimizer('sgd',lr=0.005)\n",
        "model.train(epochs=20,batch_size=128)"
      ],
      "execution_count": 0,
      "outputs": [
        {
          "output_type": "stream",
          "text": [
            "100%|██████████| 17766/17766 [00:00<00:00, 410030.13it/s]\n"
          ],
          "name": "stderr"
        },
        {
          "output_type": "stream",
          "text": [
            "_________________________________________________________________\n",
            "Layer (type)                 Output Shape              Param #   \n",
            "=================================================================\n",
            "embedding_2 (Embedding)      (None, 280, 50)           888350    \n",
            "_________________________________________________________________\n",
            "reshape_1 (Reshape)          (None, 50, 280, 1)        0         \n",
            "_________________________________________________________________\n",
            "conv2d_1 (Conv2D)            (None, 50, 276, 64)       384       \n",
            "_________________________________________________________________\n",
            "dropout_3 (Dropout)          (None, 50, 276, 64)       0         \n",
            "_________________________________________________________________\n",
            "conv2d_2 (Conv2D)            (None, 49, 274, 32)       12320     \n",
            "_________________________________________________________________\n",
            "dropout_4 (Dropout)          (None, 49, 274, 32)       0         \n",
            "_________________________________________________________________\n",
            "conv2d_3 (Conv2D)            (None, 48, 273, 16)       2064      \n",
            "_________________________________________________________________\n",
            "dropout_5 (Dropout)          (None, 48, 273, 16)       0         \n",
            "_________________________________________________________________\n",
            "flatten_1 (Flatten)          (None, 209664)            0         \n",
            "_________________________________________________________________\n",
            "dense_4 (Dense)              (None, 1)                 209665    \n",
            "=================================================================\n",
            "Total params: 1,112,783\n",
            "Trainable params: 224,433\n",
            "Non-trainable params: 888,350\n",
            "_________________________________________________________________\n",
            "Train on 10592 samples, validate on 2648 samples\n",
            "Epoch 1/20\n",
            "10592/10592 [==============================] - 38s 4ms/step - loss: 0.6414 - acc: 0.6655 - val_loss: 0.6907 - val_acc: 0.6677\n",
            "Epoch 2/20\n",
            "10592/10592 [==============================] - 35s 3ms/step - loss: 0.6379 - acc: 0.6677 - val_loss: 0.6895 - val_acc: 0.6677\n",
            "Epoch 3/20\n",
            "10592/10592 [==============================] - 35s 3ms/step - loss: 0.6405 - acc: 0.6677 - val_loss: 0.6885 - val_acc: 0.6677\n",
            "Epoch 4/20\n",
            "10592/10592 [==============================] - 35s 3ms/step - loss: 0.6384 - acc: 0.6677 - val_loss: 0.6794 - val_acc: 0.6677\n",
            "Epoch 5/20\n",
            "10592/10592 [==============================] - 35s 3ms/step - loss: 0.6394 - acc: 0.6677 - val_loss: 0.6842 - val_acc: 0.6677\n",
            "Epoch 6/20\n",
            " 4608/10592 [============>.................] - ETA: 18s - loss: 0.6347 - acc: 0.6734"
          ],
          "name": "stdout"
        }
      ]
    },
    {
      "metadata": {
        "id": "P8NFuYsiLqVc",
        "colab_type": "code",
        "outputId": "cf20a68e-f71b-4131-d162-9dd7ce97247d",
        "colab": {
          "base_uri": "https://localhost:8080/",
          "height": 901
        }
      },
      "cell_type": "code",
      "source": [
        "model= Deep_Neural_Network(x_a,y_a,'cnn',embeddings_index)\n",
        "model.set_optimizer('sgd', lr = 0.001)\n",
        "model.train(epochs=20,batch_size=128)\n",
        "prediction=model.predict(x_test_a)\n",
        "model.save('task_a_cnn.h5')\n",
        "prediction =lbl.inverse_transform(prediction)\n",
        "out = pd.DataFrame({'id':df_a.id.values,'label':prediction})\n",
        "out.to_csv('drive/My Drive/data/nlp_output/task_a_cnn.csv',header=None, index=None)\n",
        "out.head()"
      ],
      "execution_count": 31,
      "outputs": [
        {
          "output_type": "stream",
          "text": [
            "100%|██████████| 17766/17766 [00:00<00:00, 383358.14it/s]\n"
          ],
          "name": "stderr"
        },
        {
          "output_type": "stream",
          "text": [
            "_________________________________________________________________\n",
            "Layer (type)                 Output Shape              Param #   \n",
            "=================================================================\n",
            "embedding_8 (Embedding)      (None, 280, 300)          5330100   \n",
            "_________________________________________________________________\n",
            "conv1d_7 (Conv1D)            (None, 280, 64)           57664     \n",
            "_________________________________________________________________\n",
            "max_pooling1d_5 (MaxPooling1 (None, 94, 64)            0         \n",
            "_________________________________________________________________\n",
            "conv1d_8 (Conv1D)            (None, 94, 32)            6176      \n",
            "_________________________________________________________________\n",
            "max_pooling1d_6 (MaxPooling1 (None, 32, 32)            0         \n",
            "_________________________________________________________________\n",
            "conv1d_9 (Conv1D)            (None, 32, 16)            1552      \n",
            "_________________________________________________________________\n",
            "flatten_3 (Flatten)          (None, 512)               0         \n",
            "_________________________________________________________________\n",
            "dropout_15 (Dropout)         (None, 512)               0         \n",
            "_________________________________________________________________\n",
            "batch_normalization_3 (Batch (None, 512)               2048      \n",
            "_________________________________________________________________\n",
            "dense_20 (Dense)             (None, 256)               131328    \n",
            "_________________________________________________________________\n",
            "dropout_16 (Dropout)         (None, 256)               0         \n",
            "_________________________________________________________________\n",
            "dense_21 (Dense)             (None, 1)                 257       \n",
            "=================================================================\n",
            "Total params: 5,529,125\n",
            "Trainable params: 198,001\n",
            "Non-trainable params: 5,331,124\n",
            "_________________________________________________________________\n",
            "Train on 10592 samples, validate on 2648 samples\n",
            "Epoch 1/20\n",
            "10592/10592 [==============================] - 4s 409us/step - loss: 0.5805 - acc: 0.6968 - val_loss: 0.5233 - val_acc: 0.7526\n",
            "Epoch 2/20\n",
            "10592/10592 [==============================] - 2s 156us/step - loss: 0.4727 - acc: 0.7804 - val_loss: 0.5245 - val_acc: 0.7538\n",
            "Epoch 3/20\n",
            "10592/10592 [==============================] - 2s 157us/step - loss: 0.4008 - acc: 0.8170 - val_loss: 0.5579 - val_acc: 0.7375\n",
            "Epoch 4/20\n",
            "10592/10592 [==============================] - 2s 156us/step - loss: 0.3070 - acc: 0.8691 - val_loss: 0.9258 - val_acc: 0.7440\n"
          ],
          "name": "stdout"
        },
        {
          "output_type": "execute_result",
          "data": {
            "text/html": [
              "<div>\n",
              "<style scoped>\n",
              "    .dataframe tbody tr th:only-of-type {\n",
              "        vertical-align: middle;\n",
              "    }\n",
              "\n",
              "    .dataframe tbody tr th {\n",
              "        vertical-align: top;\n",
              "    }\n",
              "\n",
              "    .dataframe thead th {\n",
              "        text-align: right;\n",
              "    }\n",
              "</style>\n",
              "<table border=\"1\" class=\"dataframe\">\n",
              "  <thead>\n",
              "    <tr style=\"text-align: right;\">\n",
              "      <th></th>\n",
              "      <th>id</th>\n",
              "      <th>label</th>\n",
              "    </tr>\n",
              "  </thead>\n",
              "  <tbody>\n",
              "    <tr>\n",
              "      <th>0</th>\n",
              "      <td>15923</td>\n",
              "      <td>OFF</td>\n",
              "    </tr>\n",
              "    <tr>\n",
              "      <th>1</th>\n",
              "      <td>27014</td>\n",
              "      <td>NOT</td>\n",
              "    </tr>\n",
              "    <tr>\n",
              "      <th>2</th>\n",
              "      <td>30530</td>\n",
              "      <td>NOT</td>\n",
              "    </tr>\n",
              "    <tr>\n",
              "      <th>3</th>\n",
              "      <td>13876</td>\n",
              "      <td>NOT</td>\n",
              "    </tr>\n",
              "    <tr>\n",
              "      <th>4</th>\n",
              "      <td>60133</td>\n",
              "      <td>NOT</td>\n",
              "    </tr>\n",
              "  </tbody>\n",
              "</table>\n",
              "</div>"
            ],
            "text/plain": [
              "      id label\n",
              "0  15923   OFF\n",
              "1  27014   NOT\n",
              "2  30530   NOT\n",
              "3  13876   NOT\n",
              "4  60133   NOT"
            ]
          },
          "metadata": {
            "tags": []
          },
          "execution_count": 31
        }
      ]
    },
    {
      "metadata": {
        "id": "RqbeyKF9y6ZN",
        "colab_type": "text"
      },
      "cell_type": "markdown",
      "source": [
        "# Task B"
      ]
    },
    {
      "metadata": {
        "id": "Qq87zOWKK4a8",
        "colab_type": "text"
      },
      "cell_type": "markdown",
      "source": [
        "## Split dataset for task B"
      ]
    },
    {
      "metadata": {
        "id": "khawfBtwy7qB",
        "colab_type": "code",
        "outputId": "5a31ca2e-0e8c-4bd9-c104-762a87a590a2",
        "colab": {
          "base_uri": "https://localhost:8080/",
          "height": 34
        }
      },
      "cell_type": "code",
      "source": [
        "lbl = LabelEncoder()\n",
        "y = lbl.fit_transform(df.subtask_a.values)\n",
        "x = df.tweet.values\n",
        "taskb_idx= y==1\n",
        "y_b =df.subtask_b.values[taskb_idx]\n",
        "y_b = np.where(y_b=='TIN',1,0)\n",
        "x_b = x[taskb_idx]\n",
        "\n",
        "# load test data\n",
        "df_b = pd.read_csv(testB_path,sep='\\t')\n",
        "df_b = preprocess(df_b)\n",
        "x_test_b = df_b.tweet.values\n",
        "\n"
      ],
      "execution_count": 61,
      "outputs": [
        {
          "output_type": "stream",
          "text": [
            "-------Remove Stop Word--------\n"
          ],
          "name": "stdout"
        }
      ]
    },
    {
      "metadata": {
        "id": "mSvTB1FoGKNy",
        "colab_type": "text"
      },
      "cell_type": "markdown",
      "source": [
        "## Task B - classical classifiers"
      ]
    },
    {
      "metadata": {
        "id": "vxO9J9NYK9g0",
        "colab_type": "text"
      },
      "cell_type": "markdown",
      "source": [
        "### tf-idf word embedding"
      ]
    },
    {
      "metadata": {
        "id": "iAxnM3r1zOAH",
        "colab_type": "code",
        "outputId": "02ff67e6-edd7-4bd4-c5f2-d323210de72c",
        "colab": {
          "base_uri": "https://localhost:8080/",
          "height": 253
        }
      },
      "cell_type": "code",
      "source": [
        "# TF_IDF\n",
        "clf = Bag_of_word('logistic','tf_idf')\n",
        "cv = clf.validate_clf(x_b, y_b)\n",
        "print('mean cross validation for Logistic regression is', cv)\n",
        "\n",
        "clf = Bag_of_word('naive_bayes','tf_idf')\n",
        "cv = clf.validate_clf(x_b, y_b)\n",
        "print('mean cross validation for Naive_Bayes is', cv)\n",
        "\n",
        "clf = Bag_of_word('xgboost','tf_idf')\n",
        "cv = clf.validate_clf(x_b, y_b)\n",
        "print('mean cross validation for Xgboost is', cv)\n",
        "\n",
        "clf = Bag_of_word('random_forest','tf_idf')\n",
        "cv = clf.validate_clf(x_b, y_b)\n",
        "print('mean cross validation for Random Forest is', cv)\n",
        "\n",
        "clf = Bag_of_word('svm','tf_idf')\n",
        "cv = clf.validate_clf(x_b, y_b)\n",
        "print('mean cross validation for SVM is', cv)"
      ],
      "execution_count": 0,
      "outputs": [
        {
          "output_type": "stream",
          "text": [
            "start k-fold validate...\n",
            "mean cross validation for Logistic regression is 0.8811405181938863\n",
            "start k-fold validate...\n",
            "mean cross validation for Naive_Bayes is 0.8809106639825807\n",
            "start k-fold validate...\n",
            "mean cross validation for Xgboost is 0.873188005995523\n",
            "start k-fold validate...\n",
            "mean cross validation for Random Forest is 0.876824383719112\n",
            "start k-fold validate...\n",
            "mean cross validation for SVM is 0.8752293306360993\n"
          ],
          "name": "stdout"
        }
      ]
    },
    {
      "metadata": {
        "id": "9LPt_gtZLBLQ",
        "colab_type": "text"
      },
      "cell_type": "markdown",
      "source": [
        "### Word count embedding"
      ]
    },
    {
      "metadata": {
        "id": "TizYKIJXO-2z",
        "colab_type": "code",
        "outputId": "54f7735e-6b90-4fdd-d392-0aed2b3ea2c7",
        "colab": {
          "base_uri": "https://localhost:8080/",
          "height": 193
        }
      },
      "cell_type": "code",
      "source": [
        "# Word Count\n",
        "clf = Bag_of_word('logistic','word_count')\n",
        "cv = clf.validate_clf(x_b, y_b)\n",
        "print('mean cross validation for Logistic regression is', cv)\n",
        "\n",
        "clf = Bag_of_word('naive_bayes','word_count')\n",
        "cv = clf.validate_clf(x_b, y_b)\n",
        "print('mean cross validation for Naive_Bayes is', cv)\n",
        "\n",
        "clf = Bag_of_word('xgboost','word_count')\n",
        "cv = clf.validate_clf(x_b, y_b)\n",
        "print('mean cross validation for Xgboost is', cv)\n",
        "\n",
        "clf = Bag_of_word('random_forest','word_count')\n",
        "cv = clf.validate_clf(x_b, y_b)\n",
        "print('mean cross validation for Random Forest is', cv)\n",
        "\n",
        "clf = Bag_of_word('svm','word_count')\n",
        "cv = clf.validate_clf(x_b, y_b)\n",
        "print('mean cross validation for SVM is', cv)"
      ],
      "execution_count": 0,
      "outputs": [
        {
          "output_type": "stream",
          "text": [
            "start k-fold validate...\n",
            "mean cross validation for Logistic regression is 0.8688630940054629\n",
            "start k-fold validate...\n",
            "mean cross validation for Naive_Bayes is 0.8450060821595153\n",
            "start k-fold validate...\n",
            "mean cross validation for Xgboost is 0.8779550690297517\n",
            "start k-fold validate...\n",
            "mean cross validation for Random Forest is 0.8681900509910596\n",
            "start k-fold validate...\n",
            "mean cross validation for SVM is 0.8284089089490978\n"
          ],
          "name": "stdout"
        }
      ]
    },
    {
      "metadata": {
        "id": "q9fk9G7NGMxg",
        "colab_type": "text"
      },
      "cell_type": "markdown",
      "source": [
        "## Task B - Neural Network Classifiers"
      ]
    },
    {
      "metadata": {
        "id": "SuTpFB0cLGxH",
        "colab_type": "text"
      },
      "cell_type": "markdown",
      "source": [
        "### LSTM\n",
        "- rmsprop\n",
        "- val_acc: 0.8807"
      ]
    },
    {
      "metadata": {
        "id": "OEbhnGTtSZel",
        "colab_type": "code",
        "outputId": "2c1f3355-cd06-4480-d1d8-8ac1acbe3ceb",
        "colab": {
          "base_uri": "https://localhost:8080/",
          "height": 1490
        }
      },
      "cell_type": "code",
      "source": [
        "model= Deep_Neural_Network(x_b,y_b,'lstm',embeddings_index)\n",
        "model.set_optimizer('rmsprop')\n",
        "model.train(epochs=20,batch_size=128)\n",
        "model.save('task_b_lstm.h5')\n",
        "prediction = model.predict(x_test_b)\n",
        "prediction = np.where(prediction==0, 'UNT','TIN')\n",
        "prediction = prediction.flatten()\n",
        "out = pd.DataFrame({'id':df_b.id.values,'label':prediction})\n",
        "out.to_csv('drive/My Drive/data/nlp_output/task_b_lstm.csv',header=None, index=None)\n",
        "out.head()"
      ],
      "execution_count": 33,
      "outputs": [
        {
          "output_type": "stream",
          "text": [
            "100%|██████████| 9290/9290 [00:00<00:00, 503223.31it/s]\n"
          ],
          "name": "stderr"
        },
        {
          "output_type": "stream",
          "text": [
            "_________________________________________________________________\n",
            "Layer (type)                 Output Shape              Param #   \n",
            "=================================================================\n",
            "embedding_9 (Embedding)      (None, 280, 300)          2787300   \n",
            "_________________________________________________________________\n",
            "spatial_dropout1d_6 (Spatial (None, 280, 300)          0         \n",
            "_________________________________________________________________\n",
            "bidirectional_2 (Bidirection (None, 200)               320800    \n",
            "_________________________________________________________________\n",
            "dense_22 (Dense)             (None, 512)               102912    \n",
            "_________________________________________________________________\n",
            "dropout_17 (Dropout)         (None, 512)               0         \n",
            "_________________________________________________________________\n",
            "dense_23 (Dense)             (None, 256)               131328    \n",
            "_________________________________________________________________\n",
            "dropout_18 (Dropout)         (None, 256)               0         \n",
            "_________________________________________________________________\n",
            "dense_24 (Dense)             (None, 1)                 257       \n",
            "=================================================================\n",
            "Total params: 3,342,597\n",
            "Trainable params: 555,297\n",
            "Non-trainable params: 2,787,300\n",
            "_________________________________________________________________\n",
            "Train on 3520 samples, validate on 880 samples\n",
            "Epoch 1/20\n",
            "3520/3520 [==============================] - 40s 11ms/step - loss: 0.4061 - acc: 0.8594 - val_loss: 0.3586 - val_acc: 0.8807\n",
            "Epoch 2/20\n",
            "3520/3520 [==============================] - 35s 10ms/step - loss: 0.3476 - acc: 0.8810 - val_loss: 0.3705 - val_acc: 0.8807\n",
            "Epoch 3/20\n",
            "3520/3520 [==============================] - 34s 10ms/step - loss: 0.3461 - acc: 0.8810 - val_loss: 0.3559 - val_acc: 0.8807\n",
            "Epoch 4/20\n",
            "3520/3520 [==============================] - 35s 10ms/step - loss: 0.3387 - acc: 0.8810 - val_loss: 0.3521 - val_acc: 0.8807\n",
            "Epoch 5/20\n",
            "3520/3520 [==============================] - 35s 10ms/step - loss: 0.3351 - acc: 0.8810 - val_loss: 0.3546 - val_acc: 0.8807\n",
            "Epoch 6/20\n",
            "3520/3520 [==============================] - 34s 10ms/step - loss: 0.3187 - acc: 0.8810 - val_loss: 0.3547 - val_acc: 0.8807\n",
            "Epoch 7/20\n",
            "3520/3520 [==============================] - 34s 10ms/step - loss: 0.3171 - acc: 0.8810 - val_loss: 0.3586 - val_acc: 0.8807\n"
          ],
          "name": "stdout"
        },
        {
          "output_type": "error",
          "ename": "Exception",
          "evalue": "ignored",
          "traceback": [
            "\u001b[0;31m---------------------------------------------------------------------------\u001b[0m",
            "\u001b[0;31mException\u001b[0m                                 Traceback (most recent call last)",
            "\u001b[0;32m<ipython-input-33-39198bab6012>\u001b[0m in \u001b[0;36m<module>\u001b[0;34m()\u001b[0m\n\u001b[1;32m      5\u001b[0m \u001b[0mprediction\u001b[0m \u001b[0;34m=\u001b[0m \u001b[0mmodel\u001b[0m\u001b[0;34m.\u001b[0m\u001b[0mpredict\u001b[0m\u001b[0;34m(\u001b[0m\u001b[0mx_test_b\u001b[0m\u001b[0;34m)\u001b[0m\u001b[0;34m\u001b[0m\u001b[0;34m\u001b[0m\u001b[0m\n\u001b[1;32m      6\u001b[0m \u001b[0mprediction\u001b[0m \u001b[0;34m=\u001b[0m\u001b[0mnp\u001b[0m\u001b[0;34m.\u001b[0m\u001b[0mwhere\u001b[0m\u001b[0;34m(\u001b[0m\u001b[0mprediction\u001b[0m\u001b[0;34m==\u001b[0m\u001b[0;36m0\u001b[0m\u001b[0;34m,\u001b[0m \u001b[0;34m'UNT'\u001b[0m\u001b[0;34m,\u001b[0m\u001b[0;34m'TIN'\u001b[0m\u001b[0;34m)\u001b[0m\u001b[0;34m\u001b[0m\u001b[0;34m\u001b[0m\u001b[0m\n\u001b[0;32m----> 7\u001b[0;31m \u001b[0mout\u001b[0m \u001b[0;34m=\u001b[0m \u001b[0mpd\u001b[0m\u001b[0;34m.\u001b[0m\u001b[0mDataFrame\u001b[0m\u001b[0;34m(\u001b[0m\u001b[0;34m{\u001b[0m\u001b[0;34m'id'\u001b[0m\u001b[0;34m:\u001b[0m\u001b[0mdf_b\u001b[0m\u001b[0;34m.\u001b[0m\u001b[0mid\u001b[0m\u001b[0;34m.\u001b[0m\u001b[0mvalues\u001b[0m\u001b[0;34m,\u001b[0m\u001b[0;34m'label'\u001b[0m\u001b[0;34m:\u001b[0m\u001b[0mprediction\u001b[0m\u001b[0;34m}\u001b[0m\u001b[0;34m)\u001b[0m\u001b[0;34m\u001b[0m\u001b[0;34m\u001b[0m\u001b[0m\n\u001b[0m\u001b[1;32m      8\u001b[0m \u001b[0mout\u001b[0m\u001b[0;34m.\u001b[0m\u001b[0mto_csv\u001b[0m\u001b[0;34m(\u001b[0m\u001b[0;34m'drive/My Drive/data/nlp_output/task_b_lstm.csv'\u001b[0m\u001b[0;34m,\u001b[0m\u001b[0mheader\u001b[0m\u001b[0;34m=\u001b[0m\u001b[0;32mNone\u001b[0m\u001b[0;34m,\u001b[0m \u001b[0mindex\u001b[0m\u001b[0;34m=\u001b[0m\u001b[0;32mNone\u001b[0m\u001b[0;34m)\u001b[0m\u001b[0;34m\u001b[0m\u001b[0;34m\u001b[0m\u001b[0m\n\u001b[1;32m      9\u001b[0m \u001b[0mout\u001b[0m\u001b[0;34m.\u001b[0m\u001b[0mhead\u001b[0m\u001b[0;34m(\u001b[0m\u001b[0;34m)\u001b[0m\u001b[0;34m\u001b[0m\u001b[0;34m\u001b[0m\u001b[0m\n",
            "\u001b[0;32m/usr/local/lib/python3.6/dist-packages/pandas/core/frame.py\u001b[0m in \u001b[0;36m__init__\u001b[0;34m(self, data, index, columns, dtype, copy)\u001b[0m\n\u001b[1;32m    328\u001b[0m                                  dtype=dtype, copy=copy)\n\u001b[1;32m    329\u001b[0m         \u001b[0;32melif\u001b[0m \u001b[0misinstance\u001b[0m\u001b[0;34m(\u001b[0m\u001b[0mdata\u001b[0m\u001b[0;34m,\u001b[0m \u001b[0mdict\u001b[0m\u001b[0;34m)\u001b[0m\u001b[0;34m:\u001b[0m\u001b[0;34m\u001b[0m\u001b[0;34m\u001b[0m\u001b[0m\n\u001b[0;32m--> 330\u001b[0;31m             \u001b[0mmgr\u001b[0m \u001b[0;34m=\u001b[0m \u001b[0mself\u001b[0m\u001b[0;34m.\u001b[0m\u001b[0m_init_dict\u001b[0m\u001b[0;34m(\u001b[0m\u001b[0mdata\u001b[0m\u001b[0;34m,\u001b[0m \u001b[0mindex\u001b[0m\u001b[0;34m,\u001b[0m \u001b[0mcolumns\u001b[0m\u001b[0;34m,\u001b[0m \u001b[0mdtype\u001b[0m\u001b[0;34m=\u001b[0m\u001b[0mdtype\u001b[0m\u001b[0;34m)\u001b[0m\u001b[0;34m\u001b[0m\u001b[0;34m\u001b[0m\u001b[0m\n\u001b[0m\u001b[1;32m    331\u001b[0m         \u001b[0;32melif\u001b[0m \u001b[0misinstance\u001b[0m\u001b[0;34m(\u001b[0m\u001b[0mdata\u001b[0m\u001b[0;34m,\u001b[0m \u001b[0mma\u001b[0m\u001b[0;34m.\u001b[0m\u001b[0mMaskedArray\u001b[0m\u001b[0;34m)\u001b[0m\u001b[0;34m:\u001b[0m\u001b[0;34m\u001b[0m\u001b[0;34m\u001b[0m\u001b[0m\n\u001b[1;32m    332\u001b[0m             \u001b[0;32mimport\u001b[0m \u001b[0mnumpy\u001b[0m\u001b[0;34m.\u001b[0m\u001b[0mma\u001b[0m\u001b[0;34m.\u001b[0m\u001b[0mmrecords\u001b[0m \u001b[0;32mas\u001b[0m \u001b[0mmrecords\u001b[0m\u001b[0;34m\u001b[0m\u001b[0;34m\u001b[0m\u001b[0m\n",
            "\u001b[0;32m/usr/local/lib/python3.6/dist-packages/pandas/core/frame.py\u001b[0m in \u001b[0;36m_init_dict\u001b[0;34m(self, data, index, columns, dtype)\u001b[0m\n\u001b[1;32m    459\u001b[0m             \u001b[0marrays\u001b[0m \u001b[0;34m=\u001b[0m \u001b[0;34m[\u001b[0m\u001b[0mdata\u001b[0m\u001b[0;34m[\u001b[0m\u001b[0mk\u001b[0m\u001b[0;34m]\u001b[0m \u001b[0;32mfor\u001b[0m \u001b[0mk\u001b[0m \u001b[0;32min\u001b[0m \u001b[0mkeys\u001b[0m\u001b[0;34m]\u001b[0m\u001b[0;34m\u001b[0m\u001b[0;34m\u001b[0m\u001b[0m\n\u001b[1;32m    460\u001b[0m \u001b[0;34m\u001b[0m\u001b[0m\n\u001b[0;32m--> 461\u001b[0;31m         \u001b[0;32mreturn\u001b[0m \u001b[0m_arrays_to_mgr\u001b[0m\u001b[0;34m(\u001b[0m\u001b[0marrays\u001b[0m\u001b[0;34m,\u001b[0m \u001b[0mdata_names\u001b[0m\u001b[0;34m,\u001b[0m \u001b[0mindex\u001b[0m\u001b[0;34m,\u001b[0m \u001b[0mcolumns\u001b[0m\u001b[0;34m,\u001b[0m \u001b[0mdtype\u001b[0m\u001b[0;34m=\u001b[0m\u001b[0mdtype\u001b[0m\u001b[0;34m)\u001b[0m\u001b[0;34m\u001b[0m\u001b[0;34m\u001b[0m\u001b[0m\n\u001b[0m\u001b[1;32m    462\u001b[0m \u001b[0;34m\u001b[0m\u001b[0m\n\u001b[1;32m    463\u001b[0m     \u001b[0;32mdef\u001b[0m \u001b[0m_init_ndarray\u001b[0m\u001b[0;34m(\u001b[0m\u001b[0mself\u001b[0m\u001b[0;34m,\u001b[0m \u001b[0mvalues\u001b[0m\u001b[0;34m,\u001b[0m \u001b[0mindex\u001b[0m\u001b[0;34m,\u001b[0m \u001b[0mcolumns\u001b[0m\u001b[0;34m,\u001b[0m \u001b[0mdtype\u001b[0m\u001b[0;34m=\u001b[0m\u001b[0;32mNone\u001b[0m\u001b[0;34m,\u001b[0m \u001b[0mcopy\u001b[0m\u001b[0;34m=\u001b[0m\u001b[0;32mFalse\u001b[0m\u001b[0;34m)\u001b[0m\u001b[0;34m:\u001b[0m\u001b[0;34m\u001b[0m\u001b[0;34m\u001b[0m\u001b[0m\n",
            "\u001b[0;32m/usr/local/lib/python3.6/dist-packages/pandas/core/frame.py\u001b[0m in \u001b[0;36m_arrays_to_mgr\u001b[0;34m(arrays, arr_names, index, columns, dtype)\u001b[0m\n\u001b[1;32m   6166\u001b[0m \u001b[0;34m\u001b[0m\u001b[0m\n\u001b[1;32m   6167\u001b[0m     \u001b[0;31m# don't force copy because getting jammed in an ndarray anyway\u001b[0m\u001b[0;34m\u001b[0m\u001b[0;34m\u001b[0m\u001b[0;34m\u001b[0m\u001b[0m\n\u001b[0;32m-> 6168\u001b[0;31m     \u001b[0marrays\u001b[0m \u001b[0;34m=\u001b[0m \u001b[0m_homogenize\u001b[0m\u001b[0;34m(\u001b[0m\u001b[0marrays\u001b[0m\u001b[0;34m,\u001b[0m \u001b[0mindex\u001b[0m\u001b[0;34m,\u001b[0m \u001b[0mdtype\u001b[0m\u001b[0;34m)\u001b[0m\u001b[0;34m\u001b[0m\u001b[0;34m\u001b[0m\u001b[0m\n\u001b[0m\u001b[1;32m   6169\u001b[0m \u001b[0;34m\u001b[0m\u001b[0m\n\u001b[1;32m   6170\u001b[0m     \u001b[0;31m# from BlockManager perspective\u001b[0m\u001b[0;34m\u001b[0m\u001b[0;34m\u001b[0m\u001b[0;34m\u001b[0m\u001b[0m\n",
            "\u001b[0;32m/usr/local/lib/python3.6/dist-packages/pandas/core/frame.py\u001b[0m in \u001b[0;36m_homogenize\u001b[0;34m(data, index, dtype)\u001b[0m\n\u001b[1;32m   6475\u001b[0m                 \u001b[0mv\u001b[0m \u001b[0;34m=\u001b[0m \u001b[0mlib\u001b[0m\u001b[0;34m.\u001b[0m\u001b[0mfast_multiget\u001b[0m\u001b[0;34m(\u001b[0m\u001b[0mv\u001b[0m\u001b[0;34m,\u001b[0m \u001b[0moindex\u001b[0m\u001b[0;34m.\u001b[0m\u001b[0mvalues\u001b[0m\u001b[0;34m,\u001b[0m \u001b[0mdefault\u001b[0m\u001b[0;34m=\u001b[0m\u001b[0mnp\u001b[0m\u001b[0;34m.\u001b[0m\u001b[0mnan\u001b[0m\u001b[0;34m)\u001b[0m\u001b[0;34m\u001b[0m\u001b[0;34m\u001b[0m\u001b[0m\n\u001b[1;32m   6476\u001b[0m             v = _sanitize_array(v, index, dtype=dtype, copy=False,\n\u001b[0;32m-> 6477\u001b[0;31m                                 raise_cast_failure=False)\n\u001b[0m\u001b[1;32m   6478\u001b[0m \u001b[0;34m\u001b[0m\u001b[0m\n\u001b[1;32m   6479\u001b[0m         \u001b[0mhomogenized\u001b[0m\u001b[0;34m.\u001b[0m\u001b[0mappend\u001b[0m\u001b[0;34m(\u001b[0m\u001b[0mv\u001b[0m\u001b[0;34m)\u001b[0m\u001b[0;34m\u001b[0m\u001b[0;34m\u001b[0m\u001b[0m\n",
            "\u001b[0;32m/usr/local/lib/python3.6/dist-packages/pandas/core/series.py\u001b[0m in \u001b[0;36m_sanitize_array\u001b[0;34m(data, index, dtype, copy, raise_cast_failure)\u001b[0m\n\u001b[1;32m   3273\u001b[0m     \u001b[0;32melif\u001b[0m \u001b[0msubarr\u001b[0m\u001b[0;34m.\u001b[0m\u001b[0mndim\u001b[0m \u001b[0;34m>\u001b[0m \u001b[0;36m1\u001b[0m\u001b[0;34m:\u001b[0m\u001b[0;34m\u001b[0m\u001b[0;34m\u001b[0m\u001b[0m\n\u001b[1;32m   3274\u001b[0m         \u001b[0;32mif\u001b[0m \u001b[0misinstance\u001b[0m\u001b[0;34m(\u001b[0m\u001b[0mdata\u001b[0m\u001b[0;34m,\u001b[0m \u001b[0mnp\u001b[0m\u001b[0;34m.\u001b[0m\u001b[0mndarray\u001b[0m\u001b[0;34m)\u001b[0m\u001b[0;34m:\u001b[0m\u001b[0;34m\u001b[0m\u001b[0;34m\u001b[0m\u001b[0m\n\u001b[0;32m-> 3275\u001b[0;31m             \u001b[0;32mraise\u001b[0m \u001b[0mException\u001b[0m\u001b[0;34m(\u001b[0m\u001b[0;34m'Data must be 1-dimensional'\u001b[0m\u001b[0;34m)\u001b[0m\u001b[0;34m\u001b[0m\u001b[0;34m\u001b[0m\u001b[0m\n\u001b[0m\u001b[1;32m   3276\u001b[0m         \u001b[0;32melse\u001b[0m\u001b[0;34m:\u001b[0m\u001b[0;34m\u001b[0m\u001b[0;34m\u001b[0m\u001b[0m\n\u001b[1;32m   3277\u001b[0m             \u001b[0msubarr\u001b[0m \u001b[0;34m=\u001b[0m \u001b[0m_asarray_tuplesafe\u001b[0m\u001b[0;34m(\u001b[0m\u001b[0mdata\u001b[0m\u001b[0;34m,\u001b[0m \u001b[0mdtype\u001b[0m\u001b[0;34m=\u001b[0m\u001b[0mdtype\u001b[0m\u001b[0;34m)\u001b[0m\u001b[0;34m\u001b[0m\u001b[0;34m\u001b[0m\u001b[0m\n",
            "\u001b[0;31mException\u001b[0m: Data must be 1-dimensional"
          ]
        }
      ]
    },
    {
      "metadata": {
        "id": "QDAJ9m2_LT8g",
        "colab_type": "text"
      },
      "cell_type": "markdown",
      "source": [
        "### GRU\n",
        "- Adam, lr = 1e-6\n",
        "- val_acc: 0.8807"
      ]
    },
    {
      "metadata": {
        "id": "eLFPnAMXV_5Q",
        "colab_type": "code",
        "outputId": "9facab56-5716-4470-97ef-91001a5c044f",
        "colab": {
          "base_uri": "https://localhost:8080/",
          "height": 1008
        }
      },
      "cell_type": "code",
      "source": [
        "model= Deep_Neural_Network(x_b,y_b,'gru',embeddings_index)\n",
        "model.set_optimizer('adam', lr = 0.000001)\n",
        "model.train(epochs=20,batch_size=256)"
      ],
      "execution_count": 0,
      "outputs": [
        {
          "output_type": "stream",
          "text": [
            "100%|██████████| 9290/9290 [00:00<00:00, 380499.82it/s]\n"
          ],
          "name": "stderr"
        },
        {
          "output_type": "stream",
          "text": [
            "_________________________________________________________________\n",
            "Layer (type)                 Output Shape              Param #   \n",
            "=================================================================\n",
            "embedding_14 (Embedding)     (None, 280, 300)          2787300   \n",
            "_________________________________________________________________\n",
            "spatial_dropout1d_11 (Spatia (None, 280, 300)          0         \n",
            "_________________________________________________________________\n",
            "gru_7 (GRU)                  (None, 280, 128)          164736    \n",
            "_________________________________________________________________\n",
            "gru_8 (GRU)                  (None, 64)                37056     \n",
            "_________________________________________________________________\n",
            "dense_37 (Dense)             (None, 256)               16640     \n",
            "_________________________________________________________________\n",
            "dropout_32 (Dropout)         (None, 256)               0         \n",
            "_________________________________________________________________\n",
            "dense_38 (Dense)             (None, 128)               32896     \n",
            "_________________________________________________________________\n",
            "dropout_33 (Dropout)         (None, 128)               0         \n",
            "_________________________________________________________________\n",
            "dense_39 (Dense)             (None, 1)                 129       \n",
            "=================================================================\n",
            "Total params: 3,038,757\n",
            "Trainable params: 251,457\n",
            "Non-trainable params: 2,787,300\n",
            "_________________________________________________________________\n",
            "Train on 3520 samples, validate on 880 samples\n",
            "Epoch 1/20\n",
            "3520/3520 [==============================] - 23s 7ms/step - loss: 0.5072 - acc: 0.7957 - val_loss: 0.4002 - val_acc: 0.8807\n",
            "Epoch 2/20\n",
            "3520/3520 [==============================] - 15s 4ms/step - loss: 0.3708 - acc: 0.8810 - val_loss: 0.3569 - val_acc: 0.8807\n",
            "Epoch 3/20\n",
            "3520/3520 [==============================] - 16s 4ms/step - loss: 0.3571 - acc: 0.8810 - val_loss: 0.3531 - val_acc: 0.8807\n",
            "Epoch 4/20\n",
            "3520/3520 [==============================] - 15s 4ms/step - loss: 0.3465 - acc: 0.8810 - val_loss: 0.3553 - val_acc: 0.8807\n",
            "Epoch 5/20\n",
            "3520/3520 [==============================] - 15s 4ms/step - loss: 0.3469 - acc: 0.8810 - val_loss: 0.3517 - val_acc: 0.8807\n",
            "Epoch 6/20\n",
            "3520/3520 [==============================] - 15s 4ms/step - loss: 0.3428 - acc: 0.8810 - val_loss: 0.3506 - val_acc: 0.8807\n",
            "Epoch 7/20\n",
            "3520/3520 [==============================] - 15s 4ms/step - loss: 0.3403 - acc: 0.8810 - val_loss: 0.3485 - val_acc: 0.8807\n",
            "Epoch 8/20\n",
            "3520/3520 [==============================] - 15s 4ms/step - loss: 0.3350 - acc: 0.8810 - val_loss: 0.3492 - val_acc: 0.8807\n",
            "Epoch 9/20\n",
            "3520/3520 [==============================] - 15s 4ms/step - loss: 0.3337 - acc: 0.8810 - val_loss: 0.3488 - val_acc: 0.8807\n",
            "Epoch 10/20\n",
            "3520/3520 [==============================] - 15s 4ms/step - loss: 0.3254 - acc: 0.8807 - val_loss: 0.3527 - val_acc: 0.8807\n"
          ],
          "name": "stdout"
        }
      ]
    },
    {
      "metadata": {
        "id": "r3-vETjGLbCu",
        "colab_type": "text"
      },
      "cell_type": "markdown",
      "source": [
        "### CNN\n",
        "- adam, lr = 5e-6\n",
        "- val_acc: 0.8057"
      ]
    },
    {
      "metadata": {
        "id": "b-edVMlySg_B",
        "colab_type": "code",
        "outputId": "e78bdf90-1f1b-4b7c-bbf4-59efd75a5d98",
        "colab": {
          "base_uri": "https://localhost:8080/",
          "height": 969
        }
      },
      "cell_type": "code",
      "source": [
        "model= Deep_Neural_Network(x_b,y_b,'cnn',embeddings_index)\n",
        "model.set_optimizer('adam',lr=0.000005)\n",
        "model.train(epochs=20,batch_size=256)\n",
        "model.save('task_b_cnn.h5')\n",
        "prediction = model.predict(x_test_b)\n",
        "prediction =np.where(prediction==0, 'UNT','TIN')\n",
        "prediction = prediction.flatten()\n",
        "out = pd.DataFrame({'id':df_b.id.values,'label':prediction})\n",
        "out.to_csv('drive/My Drive/data/nlp_output/task_b_cnn.csv',header=None, index=None)\n",
        "out.head()"
      ],
      "execution_count": 48,
      "outputs": [
        {
          "output_type": "stream",
          "text": [
            "100%|██████████| 9290/9290 [00:00<00:00, 459022.99it/s]\n"
          ],
          "name": "stderr"
        },
        {
          "output_type": "stream",
          "text": [
            "_________________________________________________________________\n",
            "Layer (type)                 Output Shape              Param #   \n",
            "=================================================================\n",
            "embedding_10 (Embedding)     (None, 280, 300)          2787300   \n",
            "_________________________________________________________________\n",
            "conv1d_10 (Conv1D)           (None, 280, 64)           57664     \n",
            "_________________________________________________________________\n",
            "max_pooling1d_7 (MaxPooling1 (None, 94, 64)            0         \n",
            "_________________________________________________________________\n",
            "conv1d_11 (Conv1D)           (None, 94, 32)            6176      \n",
            "_________________________________________________________________\n",
            "max_pooling1d_8 (MaxPooling1 (None, 32, 32)            0         \n",
            "_________________________________________________________________\n",
            "conv1d_12 (Conv1D)           (None, 32, 16)            1552      \n",
            "_________________________________________________________________\n",
            "flatten_4 (Flatten)          (None, 512)               0         \n",
            "_________________________________________________________________\n",
            "dropout_19 (Dropout)         (None, 512)               0         \n",
            "_________________________________________________________________\n",
            "batch_normalization_4 (Batch (None, 512)               2048      \n",
            "_________________________________________________________________\n",
            "dense_25 (Dense)             (None, 256)               131328    \n",
            "_________________________________________________________________\n",
            "dropout_20 (Dropout)         (None, 256)               0         \n",
            "_________________________________________________________________\n",
            "dense_26 (Dense)             (None, 1)                 257       \n",
            "=================================================================\n",
            "Total params: 2,986,325\n",
            "Trainable params: 198,001\n",
            "Non-trainable params: 2,788,324\n",
            "_________________________________________________________________\n",
            "Train on 3520 samples, validate on 880 samples\n",
            "Epoch 1/20\n",
            "3520/3520 [==============================] - 5s 1ms/step - loss: 0.4383 - acc: 0.8619 - val_loss: 0.3655 - val_acc: 0.8807\n",
            "Epoch 2/20\n",
            "3520/3520 [==============================] - 0s 128us/step - loss: 0.3484 - acc: 0.8810 - val_loss: 0.3585 - val_acc: 0.8807\n",
            "Epoch 3/20\n",
            "3520/3520 [==============================] - 0s 125us/step - loss: 0.3126 - acc: 0.8815 - val_loss: 0.3513 - val_acc: 0.8807\n",
            "Epoch 4/20\n",
            "3520/3520 [==============================] - 0s 127us/step - loss: 0.2684 - acc: 0.8898 - val_loss: 0.3590 - val_acc: 0.8807\n",
            "Epoch 5/20\n",
            "3520/3520 [==============================] - 0s 128us/step - loss: 0.2045 - acc: 0.9185 - val_loss: 0.3786 - val_acc: 0.8693\n",
            "Epoch 6/20\n",
            "3520/3520 [==============================] - 0s 127us/step - loss: 0.1290 - acc: 0.9526 - val_loss: 0.4398 - val_acc: 0.8057\n"
          ],
          "name": "stdout"
        },
        {
          "output_type": "execute_result",
          "data": {
            "text/html": [
              "<div>\n",
              "<style scoped>\n",
              "    .dataframe tbody tr th:only-of-type {\n",
              "        vertical-align: middle;\n",
              "    }\n",
              "\n",
              "    .dataframe tbody tr th {\n",
              "        vertical-align: top;\n",
              "    }\n",
              "\n",
              "    .dataframe thead th {\n",
              "        text-align: right;\n",
              "    }\n",
              "</style>\n",
              "<table border=\"1\" class=\"dataframe\">\n",
              "  <thead>\n",
              "    <tr style=\"text-align: right;\">\n",
              "      <th></th>\n",
              "      <th>id</th>\n",
              "      <th>label</th>\n",
              "    </tr>\n",
              "  </thead>\n",
              "  <tbody>\n",
              "    <tr>\n",
              "      <th>0</th>\n",
              "      <td>15923</td>\n",
              "      <td>TIN</td>\n",
              "    </tr>\n",
              "    <tr>\n",
              "      <th>1</th>\n",
              "      <td>60133</td>\n",
              "      <td>TIN</td>\n",
              "    </tr>\n",
              "    <tr>\n",
              "      <th>2</th>\n",
              "      <td>83681</td>\n",
              "      <td>UNT</td>\n",
              "    </tr>\n",
              "    <tr>\n",
              "      <th>3</th>\n",
              "      <td>65507</td>\n",
              "      <td>TIN</td>\n",
              "    </tr>\n",
              "    <tr>\n",
              "      <th>4</th>\n",
              "      <td>12588</td>\n",
              "      <td>TIN</td>\n",
              "    </tr>\n",
              "  </tbody>\n",
              "</table>\n",
              "</div>"
            ],
            "text/plain": [
              "      id label\n",
              "0  15923   TIN\n",
              "1  60133   TIN\n",
              "2  83681   UNT\n",
              "3  65507   TIN\n",
              "4  12588   TIN"
            ]
          },
          "metadata": {
            "tags": []
          },
          "execution_count": 48
        }
      ]
    },
    {
      "metadata": {
        "id": "K-SCcS_ILjOT",
        "colab_type": "text"
      },
      "cell_type": "markdown",
      "source": [
        "### LSTM\n",
        "- SGD, lr = 1e-5\n",
        "- val_acc: 0.8807"
      ]
    },
    {
      "metadata": {
        "id": "RMZKs3vDSaaB",
        "colab_type": "code",
        "outputId": "97a335c9-2617-4929-a993-df9cd208407d",
        "colab": {
          "base_uri": "https://localhost:8080/",
          "height": 1105
        }
      },
      "cell_type": "code",
      "source": [
        "model= Deep_Neural_Network(x_b,y_b,'lstm',embeddings_index)\n",
        "model.set_optimizer('sgd', lr = 0.00001)\n",
        "model.train(epochs=20,batch_size=512)\n",
        "model.save('task_b_lstm.h5')\n",
        "prediction = model.predict(x_test_b)\n",
        "prediction =np.where(prediction==0, 'UNT','TIN')\n",
        "prediction = prediction.flatten()\n",
        "out = pd.DataFrame({'id':df_b.id.values,'label':prediction})\n",
        "out.to_csv('drive/My Drive/data/nlp_output/task_b_lstm.csv',header=None, index=None)\n",
        "out.head()"
      ],
      "execution_count": 49,
      "outputs": [
        {
          "output_type": "stream",
          "text": [
            "100%|██████████| 9290/9290 [00:00<00:00, 314795.60it/s]\n"
          ],
          "name": "stderr"
        },
        {
          "output_type": "stream",
          "text": [
            "_________________________________________________________________\n",
            "Layer (type)                 Output Shape              Param #   \n",
            "=================================================================\n",
            "embedding_11 (Embedding)     (None, 280, 300)          2787300   \n",
            "_________________________________________________________________\n",
            "spatial_dropout1d_7 (Spatial (None, 280, 300)          0         \n",
            "_________________________________________________________________\n",
            "bidirectional_3 (Bidirection (None, 200)               320800    \n",
            "_________________________________________________________________\n",
            "dense_27 (Dense)             (None, 512)               102912    \n",
            "_________________________________________________________________\n",
            "dropout_21 (Dropout)         (None, 512)               0         \n",
            "_________________________________________________________________\n",
            "dense_28 (Dense)             (None, 256)               131328    \n",
            "_________________________________________________________________\n",
            "dropout_22 (Dropout)         (None, 256)               0         \n",
            "_________________________________________________________________\n",
            "dense_29 (Dense)             (None, 1)                 257       \n",
            "=================================================================\n",
            "Total params: 3,342,597\n",
            "Trainable params: 555,297\n",
            "Non-trainable params: 2,787,300\n",
            "_________________________________________________________________\n",
            "Train on 3520 samples, validate on 880 samples\n",
            "Epoch 1/20\n",
            "3520/3520 [==============================] - 14s 4ms/step - loss: 0.4938 - acc: 0.8392 - val_loss: 0.3996 - val_acc: 0.8807\n",
            "Epoch 2/20\n",
            "3520/3520 [==============================] - 9s 3ms/step - loss: 0.3808 - acc: 0.8810 - val_loss: 0.3590 - val_acc: 0.8807\n",
            "Epoch 3/20\n",
            "3520/3520 [==============================] - 9s 3ms/step - loss: 0.3585 - acc: 0.8810 - val_loss: 0.3625 - val_acc: 0.8807\n",
            "Epoch 4/20\n",
            "3520/3520 [==============================] - 9s 3ms/step - loss: 0.3467 - acc: 0.8810 - val_loss: 0.3576 - val_acc: 0.8807\n",
            "Epoch 5/20\n",
            "3520/3520 [==============================] - 9s 3ms/step - loss: 0.3475 - acc: 0.8810 - val_loss: 0.3569 - val_acc: 0.8807\n",
            "Epoch 6/20\n",
            "3520/3520 [==============================] - 9s 3ms/step - loss: 0.3414 - acc: 0.8810 - val_loss: 0.3547 - val_acc: 0.8807\n",
            "Epoch 7/20\n",
            "3520/3520 [==============================] - 9s 3ms/step - loss: 0.3367 - acc: 0.8810 - val_loss: 0.3531 - val_acc: 0.8807\n",
            "Epoch 8/20\n",
            "3520/3520 [==============================] - 9s 3ms/step - loss: 0.3297 - acc: 0.8810 - val_loss: 0.3528 - val_acc: 0.8807\n",
            "Epoch 9/20\n",
            "3520/3520 [==============================] - 9s 3ms/step - loss: 0.3305 - acc: 0.8810 - val_loss: 0.3540 - val_acc: 0.8807\n",
            "Epoch 10/20\n",
            "3520/3520 [==============================] - 9s 3ms/step - loss: 0.3248 - acc: 0.8810 - val_loss: 0.3532 - val_acc: 0.8807\n",
            "Epoch 11/20\n",
            "3520/3520 [==============================] - 9s 3ms/step - loss: 0.3245 - acc: 0.8810 - val_loss: 0.3518 - val_acc: 0.8807\n",
            "Epoch 12/20\n",
            "3520/3520 [==============================] - 9s 3ms/step - loss: 0.3209 - acc: 0.8810 - val_loss: 0.3520 - val_acc: 0.8807\n",
            "Epoch 13/20\n",
            "3520/3520 [==============================] - 9s 3ms/step - loss: 0.3155 - acc: 0.8810 - val_loss: 0.3536 - val_acc: 0.8807\n",
            "Epoch 14/20\n",
            "3520/3520 [==============================] - 9s 3ms/step - loss: 0.3142 - acc: 0.8810 - val_loss: 0.3554 - val_acc: 0.8807\n"
          ],
          "name": "stdout"
        },
        {
          "output_type": "execute_result",
          "data": {
            "text/html": [
              "<div>\n",
              "<style scoped>\n",
              "    .dataframe tbody tr th:only-of-type {\n",
              "        vertical-align: middle;\n",
              "    }\n",
              "\n",
              "    .dataframe tbody tr th {\n",
              "        vertical-align: top;\n",
              "    }\n",
              "\n",
              "    .dataframe thead th {\n",
              "        text-align: right;\n",
              "    }\n",
              "</style>\n",
              "<table border=\"1\" class=\"dataframe\">\n",
              "  <thead>\n",
              "    <tr style=\"text-align: right;\">\n",
              "      <th></th>\n",
              "      <th>id</th>\n",
              "      <th>label</th>\n",
              "    </tr>\n",
              "  </thead>\n",
              "  <tbody>\n",
              "    <tr>\n",
              "      <th>0</th>\n",
              "      <td>15923</td>\n",
              "      <td>TIN</td>\n",
              "    </tr>\n",
              "    <tr>\n",
              "      <th>1</th>\n",
              "      <td>60133</td>\n",
              "      <td>TIN</td>\n",
              "    </tr>\n",
              "    <tr>\n",
              "      <th>2</th>\n",
              "      <td>83681</td>\n",
              "      <td>TIN</td>\n",
              "    </tr>\n",
              "    <tr>\n",
              "      <th>3</th>\n",
              "      <td>65507</td>\n",
              "      <td>TIN</td>\n",
              "    </tr>\n",
              "    <tr>\n",
              "      <th>4</th>\n",
              "      <td>12588</td>\n",
              "      <td>TIN</td>\n",
              "    </tr>\n",
              "  </tbody>\n",
              "</table>\n",
              "</div>"
            ],
            "text/plain": [
              "      id label\n",
              "0  15923   TIN\n",
              "1  60133   TIN\n",
              "2  83681   TIN\n",
              "3  65507   TIN\n",
              "4  12588   TIN"
            ]
          },
          "metadata": {
            "tags": []
          },
          "execution_count": 49
        }
      ]
    },
    {
      "metadata": {
        "id": "iixgspg_Lqx2",
        "colab_type": "text"
      },
      "cell_type": "markdown",
      "source": [
        "### Extended TextCNN\n",
        "- SGD, lr = 1e-7\n",
        "- val_acc: 0.7677"
      ]
    },
    {
      "metadata": {
        "id": "q93X9imeSrNA",
        "colab_type": "code",
        "outputId": "96744557-df09-4375-e2a6-edf65f645f1f",
        "colab": {
          "base_uri": "https://localhost:8080/",
          "height": 1683
        }
      },
      "cell_type": "code",
      "source": [
        "model= Deep_Neural_Network(x_a,y_a,'etextcnn',embeddings_index)\n",
        "model.set_optimizer('sgd',lr=0.0000001)\n",
        "model.train(epochs=20,batch_size=256)\n",
        "model.save('task_b_etextcnn.h5')\n",
        "prediction = model.predict(x_test_b)\n",
        "prediction =np.where(prediction==0, 'UNT','TIN')\n",
        "prediction = prediction.flatten()\n",
        "out = pd.DataFrame({'id':df_b.id.values,'label':prediction})\n",
        "out.to_csv('drive/My Drive/data/nlp_output/task_b_etextcnn.csv',header=None, index=None)\n",
        "out.head()"
      ],
      "execution_count": 50,
      "outputs": [
        {
          "output_type": "stream",
          "text": [
            "100%|██████████| 17766/17766 [00:00<00:00, 435631.09it/s]\n"
          ],
          "name": "stderr"
        },
        {
          "output_type": "stream",
          "text": [
            "__________________________________________________________________________________________________\n",
            "Layer (type)                    Output Shape         Param #     Connected to                     \n",
            "==================================================================================================\n",
            "input_1 (InputLayer)            (None, 280)          0                                            \n",
            "__________________________________________________________________________________________________\n",
            "embedding_12 (Embedding)        (None, 280, 300)     5330100     input_1[0][0]                    \n",
            "__________________________________________________________________________________________________\n",
            "conv1d_15 (Conv1D)              (None, 280, 64)      76864       embedding_12[0][0]               \n",
            "__________________________________________________________________________________________________\n",
            "conv1d_17 (Conv1D)              (None, 280, 64)      96064       embedding_12[0][0]               \n",
            "__________________________________________________________________________________________________\n",
            "batch_normalization_7 (BatchNor (None, 280, 64)      256         conv1d_15[0][0]                  \n",
            "__________________________________________________________________________________________________\n",
            "batch_normalization_9 (BatchNor (None, 280, 64)      256         conv1d_17[0][0]                  \n",
            "__________________________________________________________________________________________________\n",
            "activation_3 (Activation)       (None, 280, 64)      0           batch_normalization_7[0][0]      \n",
            "__________________________________________________________________________________________________\n",
            "activation_5 (Activation)       (None, 280, 64)      0           batch_normalization_9[0][0]      \n",
            "__________________________________________________________________________________________________\n",
            "dropout_25 (Dropout)            (None, 280, 64)      0           activation_3[0][0]               \n",
            "__________________________________________________________________________________________________\n",
            "dropout_27 (Dropout)            (None, 280, 64)      0           activation_5[0][0]               \n",
            "__________________________________________________________________________________________________\n",
            "conv1d_13 (Conv1D)              (None, 280, 64)      57664       embedding_12[0][0]               \n",
            "__________________________________________________________________________________________________\n",
            "conv1d_16 (Conv1D)              (None, 280, 32)      8224        dropout_25[0][0]                 \n",
            "__________________________________________________________________________________________________\n",
            "conv1d_18 (Conv1D)              (None, 280, 32)      10272       dropout_27[0][0]                 \n",
            "__________________________________________________________________________________________________\n",
            "batch_normalization_5 (BatchNor (None, 280, 64)      256         conv1d_13[0][0]                  \n",
            "__________________________________________________________________________________________________\n",
            "batch_normalization_8 (BatchNor (None, 280, 32)      128         conv1d_16[0][0]                  \n",
            "__________________________________________________________________________________________________\n",
            "batch_normalization_10 (BatchNo (None, 280, 32)      128         conv1d_18[0][0]                  \n",
            "__________________________________________________________________________________________________\n",
            "activation_1 (Activation)       (None, 280, 64)      0           batch_normalization_5[0][0]      \n",
            "__________________________________________________________________________________________________\n",
            "activation_4 (Activation)       (None, 280, 32)      0           batch_normalization_8[0][0]      \n",
            "__________________________________________________________________________________________________\n",
            "activation_6 (Activation)       (None, 280, 32)      0           batch_normalization_10[0][0]     \n",
            "__________________________________________________________________________________________________\n",
            "dropout_23 (Dropout)            (None, 280, 64)      0           activation_1[0][0]               \n",
            "__________________________________________________________________________________________________\n",
            "dropout_26 (Dropout)            (None, 280, 32)      0           activation_4[0][0]               \n",
            "__________________________________________________________________________________________________\n",
            "dropout_28 (Dropout)            (None, 280, 32)      0           activation_6[0][0]               \n",
            "__________________________________________________________________________________________________\n",
            "max_pooling1d_9 (MaxPooling1D)  (None, 70, 64)       0           dropout_23[0][0]                 \n",
            "__________________________________________________________________________________________________\n",
            "max_pooling1d_10 (MaxPooling1D) (None, 70, 32)       0           dropout_26[0][0]                 \n",
            "__________________________________________________________________________________________________\n",
            "max_pooling1d_11 (MaxPooling1D) (None, 70, 32)       0           dropout_28[0][0]                 \n",
            "__________________________________________________________________________________________________\n",
            "concatenate_1 (Concatenate)     (None, 70, 128)      0           max_pooling1d_9[0][0]            \n",
            "                                                                 max_pooling1d_10[0][0]           \n",
            "                                                                 max_pooling1d_11[0][0]           \n",
            "__________________________________________________________________________________________________\n",
            "flatten_5 (Flatten)             (None, 8960)         0           concatenate_1[0][0]              \n",
            "__________________________________________________________________________________________________\n",
            "dropout_29 (Dropout)            (None, 8960)         0           flatten_5[0][0]                  \n",
            "__________________________________________________________________________________________________\n",
            "dense_30 (Dense)                (None, 128)          1147008     dropout_29[0][0]                 \n",
            "__________________________________________________________________________________________________\n",
            "batch_normalization_11 (BatchNo (None, 128)          512         dense_30[0][0]                   \n",
            "__________________________________________________________________________________________________\n",
            "dense_31 (Dense)                (None, 1)            129         batch_normalization_11[0][0]     \n",
            "==================================================================================================\n",
            "Total params: 6,727,861\n",
            "Trainable params: 1,396,993\n",
            "Non-trainable params: 5,330,868\n",
            "__________________________________________________________________________________________________\n",
            "Train on 10592 samples, validate on 2648 samples\n",
            "Epoch 1/20\n",
            "10592/10592 [==============================] - 11s 1ms/step - loss: 0.7623 - acc: 0.6192 - val_loss: 0.5978 - val_acc: 0.6945\n",
            "Epoch 2/20\n",
            "10592/10592 [==============================] - 6s 524us/step - loss: 0.5560 - acc: 0.7284 - val_loss: 0.5352 - val_acc: 0.7477\n",
            "Epoch 3/20\n",
            "10592/10592 [==============================] - 6s 525us/step - loss: 0.5152 - acc: 0.7536 - val_loss: 0.5105 - val_acc: 0.7730\n",
            "Epoch 4/20\n",
            "10592/10592 [==============================] - 6s 526us/step - loss: 0.4920 - acc: 0.7705 - val_loss: 0.5094 - val_acc: 0.7621\n",
            "Epoch 5/20\n",
            "10592/10592 [==============================] - 6s 525us/step - loss: 0.4795 - acc: 0.7800 - val_loss: 0.5474 - val_acc: 0.7466\n",
            "Epoch 6/20\n",
            "10592/10592 [==============================] - 6s 526us/step - loss: 0.4581 - acc: 0.7898 - val_loss: 0.5178 - val_acc: 0.7591\n",
            "Epoch 7/20\n",
            "10592/10592 [==============================] - 6s 527us/step - loss: 0.4359 - acc: 0.8055 - val_loss: 0.5178 - val_acc: 0.7677\n"
          ],
          "name": "stdout"
        },
        {
          "output_type": "execute_result",
          "data": {
            "text/html": [
              "<div>\n",
              "<style scoped>\n",
              "    .dataframe tbody tr th:only-of-type {\n",
              "        vertical-align: middle;\n",
              "    }\n",
              "\n",
              "    .dataframe tbody tr th {\n",
              "        vertical-align: top;\n",
              "    }\n",
              "\n",
              "    .dataframe thead th {\n",
              "        text-align: right;\n",
              "    }\n",
              "</style>\n",
              "<table border=\"1\" class=\"dataframe\">\n",
              "  <thead>\n",
              "    <tr style=\"text-align: right;\">\n",
              "      <th></th>\n",
              "      <th>id</th>\n",
              "      <th>label</th>\n",
              "    </tr>\n",
              "  </thead>\n",
              "  <tbody>\n",
              "    <tr>\n",
              "      <th>0</th>\n",
              "      <td>15923</td>\n",
              "      <td>TIN</td>\n",
              "    </tr>\n",
              "    <tr>\n",
              "      <th>1</th>\n",
              "      <td>60133</td>\n",
              "      <td>UNT</td>\n",
              "    </tr>\n",
              "    <tr>\n",
              "      <th>2</th>\n",
              "      <td>83681</td>\n",
              "      <td>TIN</td>\n",
              "    </tr>\n",
              "    <tr>\n",
              "      <th>3</th>\n",
              "      <td>65507</td>\n",
              "      <td>UNT</td>\n",
              "    </tr>\n",
              "    <tr>\n",
              "      <th>4</th>\n",
              "      <td>12588</td>\n",
              "      <td>TIN</td>\n",
              "    </tr>\n",
              "  </tbody>\n",
              "</table>\n",
              "</div>"
            ],
            "text/plain": [
              "      id label\n",
              "0  15923   TIN\n",
              "1  60133   UNT\n",
              "2  83681   TIN\n",
              "3  65507   UNT\n",
              "4  12588   TIN"
            ]
          },
          "metadata": {
            "tags": []
          },
          "execution_count": 50
        }
      ]
    },
    {
      "metadata": {
        "id": "1b5AKgtHMAwC",
        "colab_type": "text"
      },
      "cell_type": "markdown",
      "source": [
        "### CNN2d\n",
        "- SGD, lr = 1e-6\n",
        "- val_acc: 0.8807"
      ]
    },
    {
      "metadata": {
        "id": "90EdzVoG1eck",
        "colab_type": "code",
        "outputId": "730cbc5a-ff62-41f9-9d53-504781de38a6",
        "colab": {
          "base_uri": "https://localhost:8080/",
          "height": 690
        }
      },
      "cell_type": "code",
      "source": [
        "model= Deep_Neural_Network(x_b,y_b,'cnn2d',embeddings_index)\n",
        "model.set_optimizer('sgd',lr=0.000001)\n",
        "model.train(epochs=20,batch_size=256)"
      ],
      "execution_count": 0,
      "outputs": [
        {
          "output_type": "stream",
          "text": [
            "100%|██████████| 9396/9396 [00:00<00:00, 326028.56it/s]\n"
          ],
          "name": "stderr"
        },
        {
          "output_type": "stream",
          "text": [
            "_________________________________________________________________\n",
            "Layer (type)                 Output Shape              Param #   \n",
            "=================================================================\n",
            "embedding_34 (Embedding)     (None, 280, 50)           469850    \n",
            "_________________________________________________________________\n",
            "reshape_9 (Reshape)          (None, 50, 280, 1)        0         \n",
            "_________________________________________________________________\n",
            "conv2d_19 (Conv2D)           (None, 50, 276, 64)       384       \n",
            "_________________________________________________________________\n",
            "dropout_79 (Dropout)         (None, 50, 276, 64)       0         \n",
            "_________________________________________________________________\n",
            "conv2d_20 (Conv2D)           (None, 49, 274, 32)       12320     \n",
            "_________________________________________________________________\n",
            "dropout_80 (Dropout)         (None, 49, 274, 32)       0         \n",
            "_________________________________________________________________\n",
            "conv2d_21 (Conv2D)           (None, 48, 273, 16)       2064      \n",
            "_________________________________________________________________\n",
            "dropout_81 (Dropout)         (None, 48, 273, 16)       0         \n",
            "_________________________________________________________________\n",
            "flatten_19 (Flatten)         (None, 209664)            0         \n",
            "_________________________________________________________________\n",
            "dense_70 (Dense)             (None, 1)                 209665    \n",
            "=================================================================\n",
            "Total params: 694,283\n",
            "Trainable params: 224,433\n",
            "Non-trainable params: 469,850\n",
            "_________________________________________________________________\n",
            "Train on 3520 samples, validate on 880 samples\n",
            "Epoch 1/20\n",
            "3520/3520 [==============================] - 23s 6ms/step - loss: 0.4105 - acc: 0.8480 - val_loss: 0.6302 - val_acc: 0.8807\n",
            "Epoch 2/20\n",
            "3520/3520 [==============================] - 11s 3ms/step - loss: 0.3728 - acc: 0.8810 - val_loss: 0.6721 - val_acc: 0.8807\n",
            "Epoch 3/20\n",
            "3520/3520 [==============================] - 11s 3ms/step - loss: 0.3693 - acc: 0.8810 - val_loss: 0.6665 - val_acc: 0.8807\n",
            "Epoch 4/20\n",
            "3520/3520 [==============================] - 11s 3ms/step - loss: 0.3654 - acc: 0.8810 - val_loss: 0.6646 - val_acc: 0.8807\n"
          ],
          "name": "stdout"
        }
      ]
    },
    {
      "metadata": {
        "id": "zJzuuqJozogc",
        "colab_type": "text"
      },
      "cell_type": "markdown",
      "source": [
        "# Task C"
      ]
    },
    {
      "metadata": {
        "id": "5xkdc7tAMOtE",
        "colab_type": "text"
      },
      "cell_type": "markdown",
      "source": [
        "## Split dataset for task C"
      ]
    },
    {
      "metadata": {
        "id": "C5e9RUlozp3R",
        "colab_type": "code",
        "outputId": "43fdd3af-b114-419a-af39-23258d4d063e",
        "colab": {
          "base_uri": "https://localhost:8080/",
          "height": 68
        }
      },
      "cell_type": "code",
      "source": [
        "\n",
        "taskc_idx= y_b==1\n",
        "y_c =df.subtask_c.values[taskb_idx][taskc_idx]\n",
        "print(y_c)\n",
        "lbl_enc = LabelEncoder()\n",
        "y_c = lbl_enc.fit_transform(y_c)\n",
        "print(y_c)\n",
        "x_c = x_b[taskc_idx]\n",
        "x_train_c, x_val_c, y_train_c,y_val_c =train_test_split(x_c,y_c,stratify=y_c,random_state=SEED,test_size=0.1,shuffle=True)\n",
        "\n",
        "# load test data\n",
        "df_c = pd.read_csv(testC_path,sep='\\t')\n",
        "df_c = preprocess(df_c)\n",
        "x_test_c = df_c.tweet.values"
      ],
      "execution_count": 62,
      "outputs": [
        {
          "output_type": "stream",
          "text": [
            "['IND' 'OTH' 'GRP' ... 'GRP' 'IND' 'OTH']\n",
            "[1 2 0 ... 0 1 2]\n",
            "-------Remove Stop Word--------\n"
          ],
          "name": "stdout"
        }
      ]
    },
    {
      "metadata": {
        "id": "1lmMSfDGMdAG",
        "colab_type": "text"
      },
      "cell_type": "markdown",
      "source": [
        "## Task C - classical classifiers"
      ]
    },
    {
      "metadata": {
        "id": "GzEQp-atMQNO",
        "colab_type": "text"
      },
      "cell_type": "markdown",
      "source": [
        "### tf-idf word embedding"
      ]
    },
    {
      "metadata": {
        "id": "9KkMfRJm2ZAH",
        "colab_type": "code",
        "outputId": "711709b2-0877-4fcb-db45-39958193874a",
        "colab": {
          "base_uri": "https://localhost:8080/",
          "height": 273
        }
      },
      "cell_type": "code",
      "source": [
        "# TF_IDF\n",
        "clf = Bag_of_word('logistic','tf_idf')\n",
        "cv = clf.validate_clf(x_c, y_c)\n",
        "print('mean cross validation for Logistic regression is', cv)\n",
        "\n",
        "clf = Bag_of_word('naive_bayes','tf_idf')\n",
        "cv = clf.validate_clf(x_c, y_c)\n",
        "print('mean cross validation for Naive_Bayes is', cv)\n",
        "\n",
        "clf = Bag_of_word('xgboost','tf_idf')\n",
        "cv = clf.validate_clf(x_c, y_c)\n",
        "print('mean cross validation for Xgboost is', cv)\n",
        "\n",
        "clf = Bag_of_word('random_forest','tf_idf')\n",
        "cv = clf.validate_clf(x_c, y_c)\n",
        "print('mean cross validation for Random Forest is', cv)\n",
        "\n",
        "clf = Bag_of_word('svm','tf_idf')\n",
        "cv = clf.validate_clf(x_c, y_c)\n",
        "print('mean cross validation for SVM is', cv)"
      ],
      "execution_count": 0,
      "outputs": [
        {
          "output_type": "stream",
          "text": [
            "start k-fold validate...\n",
            "mean cross validation for Logistic regression is 0.6880688322016444\n",
            "start k-fold validate...\n",
            "mean cross validation for Naive_Bayes is 0.6320925215447748\n",
            "start k-fold validate...\n",
            "mean cross validation for Xgboost is 0.6955464918630865\n",
            "start k-fold validate...\n",
            "mean cross validation for Random Forest is 0.6978760485585704\n",
            "start k-fold validate...\n",
            "mean cross validation for SVM is 0.6854935587387286\n"
          ],
          "name": "stdout"
        }
      ]
    },
    {
      "metadata": {
        "id": "Xc1eXFnFMTC4",
        "colab_type": "text"
      },
      "cell_type": "markdown",
      "source": [
        "### Word count embedding"
      ]
    },
    {
      "metadata": {
        "id": "uLwXxuriPn9Q",
        "colab_type": "code",
        "outputId": "199f605c-4256-4633-c7b9-137d7f9f0554",
        "colab": {
          "base_uri": "https://localhost:8080/",
          "height": 273
        }
      },
      "cell_type": "code",
      "source": [
        "# Word Count\n",
        "clf = Bag_of_word('logistic','word_count')\n",
        "cv = clf.validate_clf(x_c, y_c)\n",
        "print('mean cross validation for Logistic regression is', cv)\n",
        "\n",
        "clf = Bag_of_word('naive_bayes','word_count')\n",
        "cv = clf.validate_clf(x_c, y_c)\n",
        "print('mean cross validation for Naive_Bayes is', cv)\n",
        "\n",
        "clf = Bag_of_word('xgboost','word_count')\n",
        "cv = clf.validate_clf(x_c, y_c)\n",
        "print('mean cross validation for Xgboost is', cv)\n",
        "\n",
        "clf = Bag_of_word('random_forest','word_count')\n",
        "cv = clf.validate_clf(x_c, y_c)\n",
        "print('mean cross validation for Random Forest is', cv)\n",
        "\n",
        "clf = Bag_of_word('svm','word_count')\n",
        "cv = clf.validate_clf(x_c, y_c)\n",
        "print('mean cross validation for SVM is', cv)"
      ],
      "execution_count": 0,
      "outputs": [
        {
          "output_type": "stream",
          "text": [
            "start k-fold validate...\n",
            "mean cross validation for Logistic regression is 0.6898750294565582\n",
            "start k-fold validate...\n",
            "mean cross validation for Naive_Bayes is 0.6656120496456708\n",
            "start k-fold validate...\n",
            "mean cross validation for Xgboost is 0.6940167256266907\n",
            "start k-fold validate...\n",
            "mean cross validation for Random Forest is 0.70175546099957\n",
            "start k-fold validate...\n",
            "mean cross validation for SVM is 0.6591727019020694\n"
          ],
          "name": "stdout"
        }
      ]
    },
    {
      "metadata": {
        "id": "iXSvDS-um74V",
        "colab_type": "code",
        "outputId": "6974b8c4-6521-486d-e7f6-032502429478",
        "colab": {
          "base_uri": "https://localhost:8080/",
          "height": 285
        }
      },
      "cell_type": "code",
      "source": [
        "clf = Bag_of_word('random_forest','word_count')\n",
        "clf.train_clf(x_c,y_c)\n",
        "prediction = clf.test_clf(x_test_c)\n",
        "prediction =lbl_enc.inverse_transform(prediction)\n",
        "out = pd.DataFrame({'id':df_c.id.values,'label':prediction})\n",
        "out.to_csv('drive/My Drive/data/nlp_output/task_c_rf.csv',header=None, index=None)\n",
        "out.head()"
      ],
      "execution_count": 0,
      "outputs": [
        {
          "output_type": "stream",
          "text": [
            "training data shape (3876, 9910)\n"
          ],
          "name": "stdout"
        },
        {
          "output_type": "execute_result",
          "data": {
            "text/html": [
              "<div>\n",
              "<style scoped>\n",
              "    .dataframe tbody tr th:only-of-type {\n",
              "        vertical-align: middle;\n",
              "    }\n",
              "\n",
              "    .dataframe tbody tr th {\n",
              "        vertical-align: top;\n",
              "    }\n",
              "\n",
              "    .dataframe thead th {\n",
              "        text-align: right;\n",
              "    }\n",
              "</style>\n",
              "<table border=\"1\" class=\"dataframe\">\n",
              "  <thead>\n",
              "    <tr style=\"text-align: right;\">\n",
              "      <th></th>\n",
              "      <th>id</th>\n",
              "      <th>label</th>\n",
              "    </tr>\n",
              "  </thead>\n",
              "  <tbody>\n",
              "    <tr>\n",
              "      <th>0</th>\n",
              "      <td>15923</td>\n",
              "      <td>IND</td>\n",
              "    </tr>\n",
              "    <tr>\n",
              "      <th>1</th>\n",
              "      <td>60133</td>\n",
              "      <td>IND</td>\n",
              "    </tr>\n",
              "    <tr>\n",
              "      <th>2</th>\n",
              "      <td>83681</td>\n",
              "      <td>IND</td>\n",
              "    </tr>\n",
              "    <tr>\n",
              "      <th>3</th>\n",
              "      <td>65507</td>\n",
              "      <td>IND</td>\n",
              "    </tr>\n",
              "    <tr>\n",
              "      <th>4</th>\n",
              "      <td>34263</td>\n",
              "      <td>IND</td>\n",
              "    </tr>\n",
              "  </tbody>\n",
              "</table>\n",
              "</div>"
            ],
            "text/plain": [
              "      id label\n",
              "0  15923   IND\n",
              "1  60133   IND\n",
              "2  83681   IND\n",
              "3  65507   IND\n",
              "4  34263   IND"
            ]
          },
          "metadata": {
            "tags": []
          },
          "execution_count": 47
        }
      ]
    },
    {
      "metadata": {
        "id": "_2I5fJQOMlb5",
        "colab_type": "text"
      },
      "cell_type": "markdown",
      "source": [
        "## Task C - Neural Network Classifiers"
      ]
    },
    {
      "metadata": {
        "id": "HsE90ZjMM2HR",
        "colab_type": "text"
      },
      "cell_type": "markdown",
      "source": [
        "### LSTM\n",
        "- rmsprop\n",
        "- val_acc: 0.7113"
      ]
    },
    {
      "metadata": {
        "id": "XleUXgZp2t0M",
        "colab_type": "code",
        "outputId": "2ab41ff7-34ad-489b-818a-9014e892287b",
        "colab": {
          "base_uri": "https://localhost:8080/",
          "height": 969
        }
      },
      "cell_type": "code",
      "source": [
        "model= Deep_Neural_Network(x_c,y_c,'lstm',embeddings_index)\n",
        "model.set_optimizer('rmsprop')\n",
        "model.train(epochs=20,batch_size=128)\n",
        "prediction = model.predict(x_test_c)\n",
        "model.save('task_c_lstm.h5')\n",
        "\n",
        "prediction =lbl_enc.inverse_transform(prediction)\n",
        "out = pd.DataFrame({'id':df_c.id.values,'label':prediction})\n",
        "out.to_csv('drive/My Drive/data/nlp_output/task_c_lstm.csv',header=None, index=None)\n",
        "out.head()"
      ],
      "execution_count": 52,
      "outputs": [
        {
          "output_type": "stream",
          "text": [
            "100%|██████████| 8689/8689 [00:00<00:00, 333806.33it/s]\n"
          ],
          "name": "stderr"
        },
        {
          "output_type": "stream",
          "text": [
            "_________________________________________________________________\n",
            "Layer (type)                 Output Shape              Param #   \n",
            "=================================================================\n",
            "embedding_13 (Embedding)     (None, 280, 300)          2607000   \n",
            "_________________________________________________________________\n",
            "spatial_dropout1d_8 (Spatial (None, 280, 300)          0         \n",
            "_________________________________________________________________\n",
            "bidirectional_4 (Bidirection (None, 200)               320800    \n",
            "_________________________________________________________________\n",
            "dense_32 (Dense)             (None, 512)               102912    \n",
            "_________________________________________________________________\n",
            "dropout_30 (Dropout)         (None, 512)               0         \n",
            "_________________________________________________________________\n",
            "dense_33 (Dense)             (None, 256)               131328    \n",
            "_________________________________________________________________\n",
            "dropout_31 (Dropout)         (None, 256)               0         \n",
            "_________________________________________________________________\n",
            "dense_34 (Dense)             (None, 3)                 771       \n",
            "=================================================================\n",
            "Total params: 3,162,811\n",
            "Trainable params: 555,811\n",
            "Non-trainable params: 2,607,000\n",
            "_________________________________________________________________\n",
            "Train on 3100 samples, validate on 776 samples\n",
            "Epoch 1/20\n",
            "3100/3100 [==============================] - 39s 12ms/step - loss: 0.8897 - acc: 0.6110 - val_loss: 0.8120 - val_acc: 0.6418\n",
            "Epoch 2/20\n",
            "3100/3100 [==============================] - 33s 11ms/step - loss: 0.8069 - acc: 0.6532 - val_loss: 0.7839 - val_acc: 0.6727\n",
            "Epoch 3/20\n",
            "3100/3100 [==============================] - 32s 10ms/step - loss: 0.7601 - acc: 0.6845 - val_loss: 0.7257 - val_acc: 0.6933\n",
            "Epoch 4/20\n",
            "3100/3100 [==============================] - 32s 10ms/step - loss: 0.7390 - acc: 0.6819 - val_loss: 0.7211 - val_acc: 0.7126\n",
            "Epoch 5/20\n",
            "3100/3100 [==============================] - 31s 10ms/step - loss: 0.7282 - acc: 0.7029 - val_loss: 0.7163 - val_acc: 0.7216\n",
            "Epoch 6/20\n",
            "3100/3100 [==============================] - 32s 10ms/step - loss: 0.7165 - acc: 0.7019 - val_loss: 0.7418 - val_acc: 0.7152\n",
            "Epoch 7/20\n",
            "3100/3100 [==============================] - 31s 10ms/step - loss: 0.7032 - acc: 0.7103 - val_loss: 0.7139 - val_acc: 0.7165\n",
            "Epoch 8/20\n",
            "3100/3100 [==============================] - 32s 10ms/step - loss: 0.6879 - acc: 0.7116 - val_loss: 0.7208 - val_acc: 0.7152\n",
            "Epoch 9/20\n",
            "3100/3100 [==============================] - 32s 10ms/step - loss: 0.6820 - acc: 0.7097 - val_loss: 0.7251 - val_acc: 0.7229\n",
            "Epoch 10/20\n",
            "3100/3100 [==============================] - 32s 10ms/step - loss: 0.6604 - acc: 0.7242 - val_loss: 0.7157 - val_acc: 0.7113\n"
          ],
          "name": "stdout"
        },
        {
          "output_type": "execute_result",
          "data": {
            "text/html": [
              "<div>\n",
              "<style scoped>\n",
              "    .dataframe tbody tr th:only-of-type {\n",
              "        vertical-align: middle;\n",
              "    }\n",
              "\n",
              "    .dataframe tbody tr th {\n",
              "        vertical-align: top;\n",
              "    }\n",
              "\n",
              "    .dataframe thead th {\n",
              "        text-align: right;\n",
              "    }\n",
              "</style>\n",
              "<table border=\"1\" class=\"dataframe\">\n",
              "  <thead>\n",
              "    <tr style=\"text-align: right;\">\n",
              "      <th></th>\n",
              "      <th>id</th>\n",
              "      <th>label</th>\n",
              "    </tr>\n",
              "  </thead>\n",
              "  <tbody>\n",
              "    <tr>\n",
              "      <th>0</th>\n",
              "      <td>15923</td>\n",
              "      <td>GRP</td>\n",
              "    </tr>\n",
              "    <tr>\n",
              "      <th>1</th>\n",
              "      <td>60133</td>\n",
              "      <td>GRP</td>\n",
              "    </tr>\n",
              "    <tr>\n",
              "      <th>2</th>\n",
              "      <td>83681</td>\n",
              "      <td>IND</td>\n",
              "    </tr>\n",
              "    <tr>\n",
              "      <th>3</th>\n",
              "      <td>65507</td>\n",
              "      <td>IND</td>\n",
              "    </tr>\n",
              "    <tr>\n",
              "      <th>4</th>\n",
              "      <td>34263</td>\n",
              "      <td>IND</td>\n",
              "    </tr>\n",
              "  </tbody>\n",
              "</table>\n",
              "</div>"
            ],
            "text/plain": [
              "      id label\n",
              "0  15923   GRP\n",
              "1  60133   GRP\n",
              "2  83681   IND\n",
              "3  65507   IND\n",
              "4  34263   IND"
            ]
          },
          "metadata": {
            "tags": []
          },
          "execution_count": 52
        }
      ]
    },
    {
      "metadata": {
        "id": "PlPkqVm1NBHi",
        "colab_type": "text"
      },
      "cell_type": "markdown",
      "source": [
        "### GRU\n",
        "- rmsprop\n",
        "- val_acc: 0.7101"
      ]
    },
    {
      "metadata": {
        "id": "YZG-4qCkX3rq",
        "colab_type": "code",
        "outputId": "57ca6104-4663-4746-ac4d-504439e1509d",
        "colab": {
          "base_uri": "https://localhost:8080/",
          "height": 1003
        }
      },
      "cell_type": "code",
      "source": [
        "model= Deep_Neural_Network(x_c,y_c,'gru',embeddings_index)\n",
        "model.set_optimizer('rmsprop')\n",
        "model.train(epochs=20,batch_size=256)\n",
        "prediction = model.predict(x_test_c)\n",
        "model.save('task_c_gru.h5')\n",
        "\n",
        "prediction = lbl_enc.inverse_transform(prediction)\n",
        "out = pd.DataFrame({'id':df_c.id.values,'label':prediction})\n",
        "out.to_csv('drive/My Drive/data/nlp_output/task_c_gru.csv',header=None, index=None)\n",
        "out.head()"
      ],
      "execution_count": 63,
      "outputs": [
        {
          "output_type": "stream",
          "text": [
            "100%|██████████| 8689/8689 [00:00<00:00, 301202.58it/s]\n"
          ],
          "name": "stderr"
        },
        {
          "output_type": "stream",
          "text": [
            "_________________________________________________________________\n",
            "Layer (type)                 Output Shape              Param #   \n",
            "=================================================================\n",
            "embedding_15 (Embedding)     (None, 280, 300)          2607000   \n",
            "_________________________________________________________________\n",
            "spatial_dropout1d_10 (Spatia (None, 280, 300)          0         \n",
            "_________________________________________________________________\n",
            "gru_9 (GRU)                  (None, 280, 128)          164736    \n",
            "_________________________________________________________________\n",
            "gru_10 (GRU)                 (None, 64)                37056     \n",
            "_________________________________________________________________\n",
            "dense_38 (Dense)             (None, 256)               16640     \n",
            "_________________________________________________________________\n",
            "dropout_34 (Dropout)         (None, 256)               0         \n",
            "_________________________________________________________________\n",
            "dense_39 (Dense)             (None, 128)               32896     \n",
            "_________________________________________________________________\n",
            "dropout_35 (Dropout)         (None, 128)               0         \n",
            "_________________________________________________________________\n",
            "dense_40 (Dense)             (None, 3)                 387       \n",
            "=================================================================\n",
            "Total params: 2,858,715\n",
            "Trainable params: 251,715\n",
            "Non-trainable params: 2,607,000\n",
            "_________________________________________________________________\n",
            "Train on 3100 samples, validate on 776 samples\n",
            "Epoch 1/20\n",
            "3100/3100 [==============================] - 21s 7ms/step - loss: 0.9409 - acc: 0.5984 - val_loss: 0.8751 - val_acc: 0.6263\n",
            "Epoch 2/20\n",
            "3100/3100 [==============================] - 14s 4ms/step - loss: 0.8549 - acc: 0.6258 - val_loss: 0.8116 - val_acc: 0.6353\n",
            "Epoch 3/20\n",
            "3100/3100 [==============================] - 14s 4ms/step - loss: 0.8045 - acc: 0.6590 - val_loss: 0.8011 - val_acc: 0.6649\n",
            "Epoch 4/20\n",
            "3100/3100 [==============================] - 14s 4ms/step - loss: 0.7851 - acc: 0.6726 - val_loss: 0.7477 - val_acc: 0.6972\n",
            "Epoch 5/20\n",
            "3100/3100 [==============================] - 14s 4ms/step - loss: 0.7716 - acc: 0.6768 - val_loss: 0.7411 - val_acc: 0.6920\n",
            "Epoch 6/20\n",
            "3100/3100 [==============================] - 14s 4ms/step - loss: 0.7495 - acc: 0.6868 - val_loss: 0.7271 - val_acc: 0.7049\n",
            "Epoch 7/20\n",
            "3100/3100 [==============================] - 14s 4ms/step - loss: 0.7522 - acc: 0.6861 - val_loss: 0.7207 - val_acc: 0.7075\n",
            "Epoch 8/20\n",
            "3100/3100 [==============================] - 14s 4ms/step - loss: 0.7570 - acc: 0.6887 - val_loss: 0.7305 - val_acc: 0.7075\n",
            "Epoch 9/20\n",
            "3100/3100 [==============================] - 14s 4ms/step - loss: 0.7362 - acc: 0.6952 - val_loss: 0.7388 - val_acc: 0.7036\n",
            "Epoch 10/20\n",
            "3100/3100 [==============================] - 14s 5ms/step - loss: 0.7290 - acc: 0.7039 - val_loss: 0.7298 - val_acc: 0.7101\n"
          ],
          "name": "stdout"
        },
        {
          "output_type": "execute_result",
          "data": {
            "text/html": [
              "<div>\n",
              "<style scoped>\n",
              "    .dataframe tbody tr th:only-of-type {\n",
              "        vertical-align: middle;\n",
              "    }\n",
              "\n",
              "    .dataframe tbody tr th {\n",
              "        vertical-align: top;\n",
              "    }\n",
              "\n",
              "    .dataframe thead th {\n",
              "        text-align: right;\n",
              "    }\n",
              "</style>\n",
              "<table border=\"1\" class=\"dataframe\">\n",
              "  <thead>\n",
              "    <tr style=\"text-align: right;\">\n",
              "      <th></th>\n",
              "      <th>id</th>\n",
              "      <th>label</th>\n",
              "    </tr>\n",
              "  </thead>\n",
              "  <tbody>\n",
              "    <tr>\n",
              "      <th>0</th>\n",
              "      <td>15923</td>\n",
              "      <td>GRP</td>\n",
              "    </tr>\n",
              "    <tr>\n",
              "      <th>1</th>\n",
              "      <td>60133</td>\n",
              "      <td>GRP</td>\n",
              "    </tr>\n",
              "    <tr>\n",
              "      <th>2</th>\n",
              "      <td>83681</td>\n",
              "      <td>IND</td>\n",
              "    </tr>\n",
              "    <tr>\n",
              "      <th>3</th>\n",
              "      <td>65507</td>\n",
              "      <td>IND</td>\n",
              "    </tr>\n",
              "    <tr>\n",
              "      <th>4</th>\n",
              "      <td>34263</td>\n",
              "      <td>IND</td>\n",
              "    </tr>\n",
              "  </tbody>\n",
              "</table>\n",
              "</div>"
            ],
            "text/plain": [
              "      id label\n",
              "0  15923   GRP\n",
              "1  60133   GRP\n",
              "2  83681   IND\n",
              "3  65507   IND\n",
              "4  34263   IND"
            ]
          },
          "metadata": {
            "tags": []
          },
          "execution_count": 63
        }
      ]
    },
    {
      "metadata": {
        "id": "w10FZmvLNN-M",
        "colab_type": "text"
      },
      "cell_type": "markdown",
      "source": [
        "### CNN\n",
        "- Adam, lr = 1e-6\n",
        "- val_acc: 0.6598"
      ]
    },
    {
      "metadata": {
        "id": "Qkv_CQXB6rsL",
        "colab_type": "code",
        "outputId": "0c1c5542-1600-46c1-9948-b05d8b3a3746",
        "colab": {
          "base_uri": "https://localhost:8080/",
          "height": 828
        }
      },
      "cell_type": "code",
      "source": [
        "model= Deep_Neural_Network(x_c,y_c,'cnn',embeddings_index)\n",
        "model.set_optimizer('adam',lr=0.00001)\n",
        "model.train(epochs=20,batch_size=128)"
      ],
      "execution_count": 0,
      "outputs": [
        {
          "output_type": "stream",
          "text": [
            "100%|██████████| 8689/8689 [00:00<00:00, 373600.01it/s]\n"
          ],
          "name": "stderr"
        },
        {
          "output_type": "stream",
          "text": [
            "_________________________________________________________________\n",
            "Layer (type)                 Output Shape              Param #   \n",
            "=================================================================\n",
            "embedding_11 (Embedding)     (None, 280, 300)          2607000   \n",
            "_________________________________________________________________\n",
            "conv1d_4 (Conv1D)            (None, 280, 64)           57664     \n",
            "_________________________________________________________________\n",
            "max_pooling1d_3 (MaxPooling1 (None, 94, 64)            0         \n",
            "_________________________________________________________________\n",
            "conv1d_5 (Conv1D)            (None, 94, 32)            6176      \n",
            "_________________________________________________________________\n",
            "max_pooling1d_4 (MaxPooling1 (None, 32, 32)            0         \n",
            "_________________________________________________________________\n",
            "conv1d_6 (Conv1D)            (None, 32, 16)            1552      \n",
            "_________________________________________________________________\n",
            "flatten_2 (Flatten)          (None, 512)               0         \n",
            "_________________________________________________________________\n",
            "dropout_21 (Dropout)         (None, 512)               0         \n",
            "_________________________________________________________________\n",
            "batch_normalization_2 (Batch (None, 512)               2048      \n",
            "_________________________________________________________________\n",
            "dense_30 (Dense)             (None, 256)               131328    \n",
            "_________________________________________________________________\n",
            "dropout_22 (Dropout)         (None, 256)               0         \n",
            "_________________________________________________________________\n",
            "dense_31 (Dense)             (None, 3)                 771       \n",
            "=================================================================\n",
            "Total params: 2,806,539\n",
            "Trainable params: 198,515\n",
            "Non-trainable params: 2,608,024\n",
            "_________________________________________________________________\n",
            "Train on 3100 samples, validate on 776 samples\n",
            "Epoch 1/20\n",
            "3100/3100 [==============================] - 6s 2ms/step - loss: 0.8994 - acc: 0.6055 - val_loss: 0.7810 - val_acc: 0.6714\n",
            "Epoch 2/20\n",
            "3100/3100 [==============================] - 1s 163us/step - loss: 0.7179 - acc: 0.7103 - val_loss: 0.8133 - val_acc: 0.6753\n",
            "Epoch 3/20\n",
            "3100/3100 [==============================] - 0s 160us/step - loss: 0.6115 - acc: 0.7529 - val_loss: 0.8410 - val_acc: 0.6907\n",
            "Epoch 4/20\n",
            "3100/3100 [==============================] - 0s 158us/step - loss: 0.4631 - acc: 0.8187 - val_loss: 0.8925 - val_acc: 0.6598\n"
          ],
          "name": "stdout"
        }
      ]
    },
    {
      "metadata": {
        "id": "Yyo3m0VQNT4O",
        "colab_type": "text"
      },
      "cell_type": "markdown",
      "source": [
        "### CNN2d\n",
        "- rmsprop\n",
        "- val_acc: 0.6211"
      ]
    },
    {
      "metadata": {
        "id": "EeTkrsz7X5ym",
        "colab_type": "code",
        "outputId": "eb10a977-faba-41e0-afbe-4b1602c35d0a",
        "colab": {
          "base_uri": "https://localhost:8080/",
          "height": 646
        }
      },
      "cell_type": "code",
      "source": [
        "1model= Deep_Neural_Network(x_c,y_c,'cnn2d',embeddings_index)\n",
        "model.set_optimizer('rmsprop')\n",
        "model.train(epochs=20,batch_size=256)"
      ],
      "execution_count": 0,
      "outputs": [
        {
          "output_type": "stream",
          "text": [
            "100%|██████████| 8689/8689 [00:00<00:00, 300988.65it/s]\n"
          ],
          "name": "stderr"
        },
        {
          "output_type": "stream",
          "text": [
            "_________________________________________________________________\n",
            "Layer (type)                 Output Shape              Param #   \n",
            "=================================================================\n",
            "embedding_16 (Embedding)     (None, 280, 50)           434500    \n",
            "_________________________________________________________________\n",
            "reshape_4 (Reshape)          (None, 50, 280, 1)        0         \n",
            "_________________________________________________________________\n",
            "conv2d_10 (Conv2D)           (None, 50, 276, 64)       384       \n",
            "_________________________________________________________________\n",
            "dropout_39 (Dropout)         (None, 50, 276, 64)       0         \n",
            "_________________________________________________________________\n",
            "conv2d_11 (Conv2D)           (None, 49, 274, 32)       12320     \n",
            "_________________________________________________________________\n",
            "dropout_40 (Dropout)         (None, 49, 274, 32)       0         \n",
            "_________________________________________________________________\n",
            "conv2d_12 (Conv2D)           (None, 48, 273, 16)       2064      \n",
            "_________________________________________________________________\n",
            "dropout_41 (Dropout)         (None, 48, 273, 16)       0         \n",
            "_________________________________________________________________\n",
            "flatten_8 (Flatten)          (None, 209664)            0         \n",
            "_________________________________________________________________\n",
            "dense_36 (Dense)             (None, 3)                 628995    \n",
            "=================================================================\n",
            "Total params: 1,078,263\n",
            "Trainable params: 643,763\n",
            "Non-trainable params: 434,500\n",
            "_________________________________________________________________\n",
            "Train on 3100 samples, validate on 776 samples\n",
            "Epoch 1/20\n",
            "3100/3100 [==============================] - 17s 6ms/step - loss: 0.9806 - acc: 0.5603 - val_loss: 1.0516 - val_acc: 0.6211\n",
            "Epoch 2/20\n",
            "3100/3100 [==============================] - 10s 3ms/step - loss: 0.9300 - acc: 0.6210 - val_loss: 1.0901 - val_acc: 0.6211\n",
            "Epoch 3/20\n",
            "3100/3100 [==============================] - 10s 3ms/step - loss: 0.8980 - acc: 0.6210 - val_loss: 1.0909 - val_acc: 0.6211\n",
            "Epoch 4/20\n",
            "3100/3100 [==============================] - 10s 3ms/step - loss: 0.8867 - acc: 0.6210 - val_loss: 1.0840 - val_acc: 0.6211\n"
          ],
          "name": "stdout"
        }
      ]
    },
    {
      "metadata": {
        "id": "9a-LeyOVNYk9",
        "colab_type": "text"
      },
      "cell_type": "markdown",
      "source": [
        "### Extended TextCNN\n",
        "- Adam, lr = 1e-5\n",
        "- val_acc: 0.6959"
      ]
    },
    {
      "metadata": {
        "id": "mDBGs-rwYDPw",
        "colab_type": "code",
        "outputId": "2cbd43c6-1043-41f4-a2e3-f0d98afc3ee9",
        "colab": {
          "base_uri": "https://localhost:8080/",
          "height": 1724
        }
      },
      "cell_type": "code",
      "source": [
        "model= Deep_Neural_Network(x_c,y_c,'etextcnn',embeddings_index)\n",
        "model.set_optimizer('adam',lr=0.00001)\n",
        "model.train(epochs=20,batch_size=256)\n"
      ],
      "execution_count": 0,
      "outputs": [
        {
          "output_type": "stream",
          "text": [
            "100%|██████████| 8689/8689 [00:00<00:00, 290689.37it/s]\n"
          ],
          "name": "stderr"
        },
        {
          "output_type": "stream",
          "text": [
            "__________________________________________________________________________________________________\n",
            "Layer (type)                    Output Shape         Param #     Connected to                     \n",
            "==================================================================================================\n",
            "input_1 (InputLayer)            (None, 280)          0                                            \n",
            "__________________________________________________________________________________________________\n",
            "embedding_12 (Embedding)        (None, 280, 300)     2607000     input_1[0][0]                    \n",
            "__________________________________________________________________________________________________\n",
            "conv1d_9 (Conv1D)               (None, 280, 64)      76864       embedding_12[0][0]               \n",
            "__________________________________________________________________________________________________\n",
            "conv1d_11 (Conv1D)              (None, 280, 64)      96064       embedding_12[0][0]               \n",
            "__________________________________________________________________________________________________\n",
            "batch_normalization_5 (BatchNor (None, 280, 64)      256         conv1d_9[0][0]                   \n",
            "__________________________________________________________________________________________________\n",
            "batch_normalization_7 (BatchNor (None, 280, 64)      256         conv1d_11[0][0]                  \n",
            "__________________________________________________________________________________________________\n",
            "activation_3 (Activation)       (None, 280, 64)      0           batch_normalization_5[0][0]      \n",
            "__________________________________________________________________________________________________\n",
            "activation_5 (Activation)       (None, 280, 64)      0           batch_normalization_7[0][0]      \n",
            "__________________________________________________________________________________________________\n",
            "dropout_25 (Dropout)            (None, 280, 64)      0           activation_3[0][0]               \n",
            "__________________________________________________________________________________________________\n",
            "dropout_27 (Dropout)            (None, 280, 64)      0           activation_5[0][0]               \n",
            "__________________________________________________________________________________________________\n",
            "conv1d_7 (Conv1D)               (None, 280, 64)      57664       embedding_12[0][0]               \n",
            "__________________________________________________________________________________________________\n",
            "conv1d_10 (Conv1D)              (None, 280, 32)      8224        dropout_25[0][0]                 \n",
            "__________________________________________________________________________________________________\n",
            "conv1d_12 (Conv1D)              (None, 280, 32)      10272       dropout_27[0][0]                 \n",
            "__________________________________________________________________________________________________\n",
            "batch_normalization_3 (BatchNor (None, 280, 64)      256         conv1d_7[0][0]                   \n",
            "__________________________________________________________________________________________________\n",
            "batch_normalization_6 (BatchNor (None, 280, 32)      128         conv1d_10[0][0]                  \n",
            "__________________________________________________________________________________________________\n",
            "batch_normalization_8 (BatchNor (None, 280, 32)      128         conv1d_12[0][0]                  \n",
            "__________________________________________________________________________________________________\n",
            "activation_1 (Activation)       (None, 280, 64)      0           batch_normalization_3[0][0]      \n",
            "__________________________________________________________________________________________________\n",
            "activation_4 (Activation)       (None, 280, 32)      0           batch_normalization_6[0][0]      \n",
            "__________________________________________________________________________________________________\n",
            "activation_6 (Activation)       (None, 280, 32)      0           batch_normalization_8[0][0]      \n",
            "__________________________________________________________________________________________________\n",
            "dropout_23 (Dropout)            (None, 280, 64)      0           activation_1[0][0]               \n",
            "__________________________________________________________________________________________________\n",
            "dropout_26 (Dropout)            (None, 280, 32)      0           activation_4[0][0]               \n",
            "__________________________________________________________________________________________________\n",
            "dropout_28 (Dropout)            (None, 280, 32)      0           activation_6[0][0]               \n",
            "__________________________________________________________________________________________________\n",
            "max_pooling1d_5 (MaxPooling1D)  (None, 70, 64)       0           dropout_23[0][0]                 \n",
            "__________________________________________________________________________________________________\n",
            "max_pooling1d_6 (MaxPooling1D)  (None, 70, 32)       0           dropout_26[0][0]                 \n",
            "__________________________________________________________________________________________________\n",
            "max_pooling1d_7 (MaxPooling1D)  (None, 70, 32)       0           dropout_28[0][0]                 \n",
            "__________________________________________________________________________________________________\n",
            "concatenate_1 (Concatenate)     (None, 70, 128)      0           max_pooling1d_5[0][0]            \n",
            "                                                                 max_pooling1d_6[0][0]            \n",
            "                                                                 max_pooling1d_7[0][0]            \n",
            "__________________________________________________________________________________________________\n",
            "flatten_3 (Flatten)             (None, 8960)         0           concatenate_1[0][0]              \n",
            "__________________________________________________________________________________________________\n",
            "dropout_29 (Dropout)            (None, 8960)         0           flatten_3[0][0]                  \n",
            "__________________________________________________________________________________________________\n",
            "dense_32 (Dense)                (None, 128)          1147008     dropout_29[0][0]                 \n",
            "__________________________________________________________________________________________________\n",
            "batch_normalization_9 (BatchNor (None, 128)          512         dense_32[0][0]                   \n",
            "__________________________________________________________________________________________________\n",
            "dense_33 (Dense)                (None, 3)            387         batch_normalization_9[0][0]      \n",
            "==================================================================================================\n",
            "Total params: 4,005,019\n",
            "Trainable params: 1,397,251\n",
            "Non-trainable params: 2,607,768\n",
            "__________________________________________________________________________________________________\n",
            "Train on 3100 samples, validate on 776 samples\n",
            "Epoch 1/20\n",
            "3100/3100 [==============================] - 9s 3ms/step - loss: 1.4251 - acc: 0.4519 - val_loss: 1.0145 - val_acc: 0.5902\n",
            "Epoch 2/20\n",
            "3100/3100 [==============================] - 2s 524us/step - loss: 1.0701 - acc: 0.5713 - val_loss: 1.1587 - val_acc: 0.5941\n",
            "Epoch 3/20\n",
            "3100/3100 [==============================] - 2s 527us/step - loss: 0.8901 - acc: 0.6390 - val_loss: 0.7933 - val_acc: 0.6907\n",
            "Epoch 4/20\n",
            "3100/3100 [==============================] - 2s 527us/step - loss: 0.8376 - acc: 0.6726 - val_loss: 0.8271 - val_acc: 0.6765\n",
            "Epoch 5/20\n",
            "3100/3100 [==============================] - 2s 531us/step - loss: 0.7572 - acc: 0.6952 - val_loss: 0.7914 - val_acc: 0.6959\n",
            "Epoch 6/20\n",
            "3100/3100 [==============================] - 2s 527us/step - loss: 0.7139 - acc: 0.7271 - val_loss: 0.7728 - val_acc: 0.7062\n",
            "Epoch 7/20\n",
            "3100/3100 [==============================] - 2s 525us/step - loss: 0.6758 - acc: 0.7371 - val_loss: 0.7849 - val_acc: 0.6894\n",
            "Epoch 8/20\n",
            "3100/3100 [==============================] - 2s 528us/step - loss: 0.6590 - acc: 0.7419 - val_loss: 0.7567 - val_acc: 0.6972\n",
            "Epoch 9/20\n",
            "3100/3100 [==============================] - 2s 528us/step - loss: 0.6116 - acc: 0.7623 - val_loss: 0.7564 - val_acc: 0.6946\n",
            "Epoch 10/20\n",
            "3100/3100 [==============================] - 2s 528us/step - loss: 0.5858 - acc: 0.7713 - val_loss: 0.7573 - val_acc: 0.6959\n",
            "Epoch 11/20\n",
            "3100/3100 [==============================] - 2s 529us/step - loss: 0.5760 - acc: 0.7810 - val_loss: 0.7638 - val_acc: 0.6920\n",
            "Epoch 12/20\n",
            "3100/3100 [==============================] - 2s 529us/step - loss: 0.5478 - acc: 0.7868 - val_loss: 0.7610 - val_acc: 0.6959\n"
          ],
          "name": "stdout"
        }
      ]
    },
    {
      "metadata": {
        "id": "ltXtpA6KNifn",
        "colab_type": "text"
      },
      "cell_type": "markdown",
      "source": [
        "### GRU\n",
        "- Adam, lr = 1e-3\n",
        "- val_acc: 0.7113"
      ]
    },
    {
      "metadata": {
        "id": "R3tyTDzaYFmr",
        "colab_type": "code",
        "outputId": "7377e005-77fb-4f91-bd36-33bc75e4bcb0",
        "colab": {
          "base_uri": "https://localhost:8080/",
          "height": 986
        }
      },
      "cell_type": "code",
      "source": [
        "model= Deep_Neural_Network(x_c,y_c,'gru',embeddings_index)\n",
        "model.set_optimizer('adam', lr= 0.001)\n",
        "model.train(epochs=20,batch_size=256)"
      ],
      "execution_count": 0,
      "outputs": [
        {
          "output_type": "stream",
          "text": [
            "100%|██████████| 8689/8689 [00:00<00:00, 315649.91it/s]\n"
          ],
          "name": "stderr"
        },
        {
          "output_type": "stream",
          "text": [
            "_________________________________________________________________\n",
            "Layer (type)                 Output Shape              Param #   \n",
            "=================================================================\n",
            "embedding_18 (Embedding)     (None, 280, 300)          2607000   \n",
            "_________________________________________________________________\n",
            "spatial_dropout1d_9 (Spatial (None, 280, 300)          0         \n",
            "_________________________________________________________________\n",
            "gru_11 (GRU)                 (None, 280, 128)          164736    \n",
            "_________________________________________________________________\n",
            "gru_12 (GRU)                 (None, 64)                37056     \n",
            "_________________________________________________________________\n",
            "dense_39 (Dense)             (None, 256)               16640     \n",
            "_________________________________________________________________\n",
            "dropout_49 (Dropout)         (None, 256)               0         \n",
            "_________________________________________________________________\n",
            "dense_40 (Dense)             (None, 128)               32896     \n",
            "_________________________________________________________________\n",
            "dropout_50 (Dropout)         (None, 128)               0         \n",
            "_________________________________________________________________\n",
            "dense_41 (Dense)             (None, 3)                 387       \n",
            "=================================================================\n",
            "Total params: 2,858,715\n",
            "Trainable params: 251,715\n",
            "Non-trainable params: 2,607,000\n",
            "_________________________________________________________________\n",
            "Train on 3100 samples, validate on 776 samples\n",
            "Epoch 1/20\n",
            "3100/3100 [==============================] - 24s 8ms/step - loss: 0.9524 - acc: 0.5777 - val_loss: 0.8573 - val_acc: 0.6211\n",
            "Epoch 2/20\n",
            "3100/3100 [==============================] - 15s 5ms/step - loss: 0.8504 - acc: 0.6242 - val_loss: 0.8081 - val_acc: 0.6405\n",
            "Epoch 3/20\n",
            "3100/3100 [==============================] - 15s 5ms/step - loss: 0.8210 - acc: 0.6426 - val_loss: 0.7909 - val_acc: 0.6637\n",
            "Epoch 4/20\n",
            "3100/3100 [==============================] - 15s 5ms/step - loss: 0.7932 - acc: 0.6642 - val_loss: 0.7562 - val_acc: 0.6778\n",
            "Epoch 5/20\n",
            "3100/3100 [==============================] - 15s 5ms/step - loss: 0.7793 - acc: 0.6684 - val_loss: 0.7440 - val_acc: 0.6881\n",
            "Epoch 6/20\n",
            "3100/3100 [==============================] - 15s 5ms/step - loss: 0.7722 - acc: 0.6752 - val_loss: 0.7476 - val_acc: 0.6817\n",
            "Epoch 7/20\n",
            "3100/3100 [==============================] - 15s 5ms/step - loss: 0.7420 - acc: 0.6939 - val_loss: 0.7246 - val_acc: 0.7062\n",
            "Epoch 8/20\n",
            "3100/3100 [==============================] - 15s 5ms/step - loss: 0.7542 - acc: 0.6900 - val_loss: 0.7229 - val_acc: 0.7113\n",
            "Epoch 9/20\n",
            "3100/3100 [==============================] - 15s 5ms/step - loss: 0.7377 - acc: 0.6948 - val_loss: 0.7309 - val_acc: 0.7049\n",
            "Epoch 10/20\n",
            "3100/3100 [==============================] - 15s 5ms/step - loss: 0.7146 - acc: 0.7013 - val_loss: 0.7206 - val_acc: 0.7126\n",
            "Epoch 11/20\n",
            "3100/3100 [==============================] - 15s 5ms/step - loss: 0.7254 - acc: 0.7010 - val_loss: 0.7141 - val_acc: 0.7152\n",
            "Epoch 12/20\n",
            "3100/3100 [==============================] - 15s 5ms/step - loss: 0.7192 - acc: 0.7023 - val_loss: 0.7113 - val_acc: 0.7229\n",
            "Epoch 13/20\n",
            "3100/3100 [==============================] - 15s 5ms/step - loss: 0.7248 - acc: 0.7087 - val_loss: 0.7291 - val_acc: 0.7101\n",
            "Epoch 14/20\n",
            "3100/3100 [==============================] - 15s 5ms/step - loss: 0.7034 - acc: 0.7126 - val_loss: 0.7209 - val_acc: 0.7178\n",
            "Epoch 15/20\n",
            "3100/3100 [==============================] - 15s 5ms/step - loss: 0.7029 - acc: 0.7161 - val_loss: 0.7204 - val_acc: 0.7113\n"
          ],
          "name": "stdout"
        }
      ]
    }
  ]
}