{
  "nbformat": 4,
  "nbformat_minor": 0,
  "metadata": {
    "colab": {
      "name": "NLP_OffensEval.ipynb",
      "version": "0.3.2",
      "provenance": [],
      "collapsed_sections": [
        "AEaSgKkiotaY",
        "zJzuuqJozogc"
      ],
      "include_colab_link": true
    },
    "kernelspec": {
      "name": "python3",
      "display_name": "Python 3"
    },
    "accelerator": "GPU"
  },
  "cells": [
    {
      "cell_type": "markdown",
      "metadata": {
        "id": "view-in-github",
        "colab_type": "text"
      },
      "source": [
        "<a href=\"https://colab.research.google.com/github/chendingyan/NLP490H/blob/master/NLP_OffensEval.ipynb\" target=\"_parent\"><img src=\"https://colab.research.google.com/assets/colab-badge.svg\" alt=\"Open In Colab\"/></a>"
      ]
    },
    {
      "metadata": {
        "id": "fZbnHPQHolOd",
        "colab_type": "text"
      },
      "cell_type": "markdown",
      "source": [
        "# Initialize Notebook\n",
        "\n",
        "\n"
      ]
    },
    {
      "metadata": {
        "id": "QmOeSiqodfZe",
        "colab_type": "code",
        "outputId": "41ba5593-53ff-4539-b13d-fe9b97c09049",
        "colab": {
          "base_uri": "https://localhost:8080/",
          "height": 188
        }
      },
      "cell_type": "code",
      "source": [
        "from google.colab import drive\n",
        "drive.mount('/content/drive')"
      ],
      "execution_count": 0,
      "outputs": [
        {
          "output_type": "stream",
          "text": [
            "Go to this URL in a browser: https://accounts.google.com/o/oauth2/auth?client_id=947318989803-6bn6qk8qdgf4n4g3pfee6491hc0brc4i.apps.googleusercontent.com&redirect_uri=urn%3Aietf%3Awg%3Aoauth%3A2.0%3Aoob&scope=email%20https%3A%2F%2Fwww.googleapis.com%2Fauth%2Fdocs.test%20https%3A%2F%2Fwww.googleapis.com%2Fauth%2Fdrive%20https%3A%2F%2Fwww.googleapis.com%2Fauth%2Fdrive.photos.readonly%20https%3A%2F%2Fwww.googleapis.com%2Fauth%2Fpeopleapi.readonly&response_type=code\n",
            "\n",
            "Enter your authorization code:\n",
            "··········\n",
            "Mounted at /content/drive\n"
          ],
          "name": "stdout"
        }
      ]
    },
    {
      "metadata": {
        "id": "hgGsPEiteiHS",
        "colab_type": "code",
        "outputId": "863e2411-8cf2-49b4-d0b2-4d2667b8ba3a",
        "colab": {
          "base_uri": "https://localhost:8080/",
          "height": 156
        }
      },
      "cell_type": "code",
      "source": [
        "import torch\n",
        "from torch.autograd import Variable\n",
        "import numpy as np\n",
        "import torch.nn as nn\n",
        "import torch.optim as optim\n",
        "import torch.nn.functional as F\n",
        "from tqdm import tqdm \n",
        "import codecs\n",
        "import random\n",
        "import matplotlib.pyplot as plt\n",
        "import pandas as pd\n",
        "\n",
        "\n",
        "\n",
        "SEED = 234\n",
        "torch.manual_seed(SEED)\n",
        "np.random.seed(SEED)\n",
        "random.seed(SEED)\n",
        "\n",
        "import warnings\n",
        "warnings.filterwarnings('ignore')\n",
        "\n",
        "train_path = 'drive/My Drive/data/OffensEval_task_data/offenseval-training-v1.tsv'\n",
        "testA_path ='drive/My Drive/data/OffensEval_task_data/testset-taska.tsv'\n",
        "testB_path = 'drive/My Drive/data/OffensEval_task_data/testset-taskb.tsv'\n",
        "testC_path ='drive/My Drive/data/OffensEval_task_data/test_set_taskc.tsv'\n",
        "\n",
        "print('loading glove6B word vector')\n",
        "glove_path = 'drive/My Drive/data/glove.6B.300d.txt'\n",
        "embeddings_index = {}\n",
        "f = open(glove_path, encoding='utf-8')\n",
        "for line in f:\n",
        "    values = line.split()\n",
        "    word = values[0]\n",
        "    coefs = np.asarray(values[1:], dtype='float32')\n",
        "    embeddings_index[word] = coefs\n",
        "f.close()\n",
        "print('Found %s word vectors.' % len(embeddings_index))\n",
        "\n",
        "\n"
      ],
      "execution_count": 0,
      "outputs": [
        {
          "output_type": "stream",
          "text": [
            "loading glove6B word vector\n",
            "Found 400000 word vectors.\n"
          ],
          "name": "stdout"
        }
      ]
    },
    {
      "metadata": {
        "id": "ml2ta6xGezFv",
        "colab_type": "code",
        "outputId": "820e01f9-593b-4e40-a92a-5d61595679ee",
        "colab": {
          "base_uri": "https://localhost:8080/",
          "height": 236
        }
      },
      "cell_type": "code",
      "source": [
        "import re\n",
        "import nltk\n",
        "from nltk import word_tokenize\n",
        "from nltk.corpus import stopwords\n",
        "\n",
        "nltk.download(\"stopwords\")\n",
        "nltk.download('wordnet')\n",
        "stop = stopwords.words(\"english\")\n",
        "nltk.download('punkt')\n",
        "nltk.download('averaged_perceptron_tagger')\n",
        "\n",
        "\n",
        "def preprocess(df):\n",
        "    print('-------Remove Stop Word--------')\n",
        "    stopword_set = set(stopwords.words(\"english\"))\n",
        "\n",
        "    # convert to lower case and split \n",
        "    df.tweet = df.tweet.apply(lambda x: ' '.join([word.lower() for word in x.split() if word not in stopword_set]))\n",
        "\n",
        "    # keep only words\n",
        "    pat1 = r'@[A-Za-z0-9]+'\n",
        "    pat2 =r'[^a-zA-Z\\s]'\n",
        "    pat3 =r\"\\bURL\\b\"\n",
        "    combined_pat = r'|'.join((pat1, pat2,pat3))\n",
        "    regex_pat = re.compile(combined_pat, flags=re.IGNORECASE)\n",
        "    df.tweet = df.tweet.str.replace(regex_pat, '')\n",
        "\n",
        "    # join the cleaned words in a list\n",
        "    df.tweet.str.join(\"\")\n",
        "    return df\n"
      ],
      "execution_count": 0,
      "outputs": [
        {
          "output_type": "stream",
          "text": [
            "[nltk_data] Downloading package stopwords to /root/nltk_data...\n",
            "[nltk_data]   Unzipping corpora/stopwords.zip.\n",
            "[nltk_data] Downloading package wordnet to /root/nltk_data...\n",
            "[nltk_data]   Unzipping corpora/wordnet.zip.\n",
            "[nltk_data] Downloading package punkt to /root/nltk_data...\n",
            "[nltk_data]   Unzipping tokenizers/punkt.zip.\n",
            "[nltk_data] Downloading package averaged_perceptron_tagger to\n",
            "[nltk_data]     /root/nltk_data...\n",
            "[nltk_data]   Unzipping taggers/averaged_perceptron_tagger.zip.\n"
          ],
          "name": "stdout"
        }
      ]
    },
    {
      "metadata": {
        "id": "V9F3CsFar1-H",
        "colab_type": "text"
      },
      "cell_type": "markdown",
      "source": [
        "# Classical Method"
      ]
    },
    {
      "metadata": {
        "id": "hdHmX79gexCg",
        "colab_type": "code",
        "colab": {}
      },
      "cell_type": "code",
      "source": [
        "from sklearn.feature_extraction.text import TfidfVectorizer\n",
        "from sklearn.feature_extraction.text import CountVectorizer\n",
        "from sklearn.model_selection import cross_val_score\n",
        "from sklearn.linear_model import LogisticRegression\n",
        "from sklearn.ensemble import RandomForestClassifier\n",
        "from scipy.sparse import bsr_matrix\n",
        "from sklearn import svm\n",
        "\n",
        "import numpy as np\n",
        "from xgboost import XGBClassifier\n",
        "from sklearn.naive_bayes import MultinomialNB\n",
        "\n",
        "\n",
        "class Bag_of_word(object):\n",
        "    \n",
        "    def __init__(self,classifier,vectorizer, max_feature = 10000):\n",
        "        if vectorizer =='tf_idf':\n",
        "            self.vectorizer = TfidfVectorizer(analyzer = \"word\", tokenizer = None, preprocessor = None,\n",
        "                                     stop_words = None, max_features = max_feature)\n",
        "        else:\n",
        "            self.vectorizer = CountVectorizer(analyzer = \"word\", tokenizer = None, preprocessor = None,\n",
        "                                 stop_words = None, max_features = max_feature)\n",
        "        self.model = classifier\n",
        "        self.clf = None\n",
        "        \n",
        "    def train_clf(self, train_data, lab_data, C = 1.0):\n",
        "        train_data_features = self.vectorizer.fit_transform(train_data)\n",
        "        train_data_features = bsr_matrix(train_data_features)\n",
        "        print('training data shape', train_data_features.shape)\n",
        "        \n",
        "        if self.model == 'logistic':\n",
        "            print(\"Training the logistic regression...\")\n",
        "            self.clf = LogisticRegression(solver='lbfgs', penalty='l2', dual=False, tol=0.0001, C=C, fit_intercept=True,\n",
        "                                         intercept_scaling=1.0, class_weight=None, random_state=None)\n",
        "            self.clf = self.clf.fit(train_data_features, lab_data)\n",
        "        \n",
        "        elif self.model == 'naive_bayes':\n",
        "            print(\"Training the Naive Bayes...\")\n",
        "            self.clf = MultinomialNB()\n",
        "            self.clf = self.clf.fit(train_data_features, lab_data)\n",
        "            \n",
        "        elif self.model == 'svm':\n",
        "            self.clf = svm.LinearSVC()\n",
        "            self.clf = self.clf.fit(train_data_features, lab_data)\n",
        "        \n",
        "        elif self.model == 'xgboost':\n",
        "            self.clf = XGBClassifier(max_depth=7, n_estimators=200, colsample_bytree=0.8, \n",
        "                            subsample=0.8, nthread=10, learning_rate=0.1)\n",
        "            self.clf = self.clf.fit(train_data_features, lab_data)\n",
        "\n",
        "        elif self.model =='random_forest':\n",
        "            self.clf = RandomForestClassifier(n_jobs=-1)\n",
        "            self.clf.fit(train_data_features, lab_data)\n",
        "\n",
        "    def test_clf(self, test_data):\n",
        "        test_data_features = self.vectorizer.transform(test_data)\n",
        "        test_data_features = bsr_matrix(test_data_features)\n",
        "    \n",
        "        result = self.clf.predict(test_data_features)\n",
        "        return result\n",
        "    \n",
        "    def validate_clf(self, train_data, lab_data, C = 1.0):\n",
        "        train_data_features = self.vectorizer.fit_transform(train_data)\n",
        "        train_data_features = bsr_matrix(train_data_features)\n",
        "        lab_data = np.array(lab_data)\n",
        "        \n",
        "        print(\"start k-fold validate...\")\n",
        "        if self.model == 'logistic':\n",
        "            clf = LogisticRegression(solver='lbfgs', penalty='l2', dual=False, tol=0.0001, C=C, fit_intercept=True,\n",
        "                                         intercept_scaling=1.0, class_weight=None, random_state=None)\n",
        "            cv = cross_val_score(clf, train_data_features, lab_data, cv=10, scoring='accuracy')\n",
        "        \n",
        "        elif self.model == 'naive_bayes':\n",
        "            clf = MultinomialNB()\n",
        "            cv = cross_val_score(clf, train_data_features, lab_data, cv=10, scoring='accuracy')\n",
        "            \n",
        "        elif self.model == 'svm':\n",
        "            clf = svm.LinearSVC()\n",
        "            cv = cross_val_score(clf, train_data_features, lab_data, cv=10, scoring='accuracy')\n",
        "        \n",
        "        elif self.model == 'xgboost':\n",
        "            clf = XGBClassifier(max_depth=7, n_estimators=200, colsample_bytree=0.8, \n",
        "                            subsample=0.8, nthread=10, learning_rate=0.1)\n",
        "            cv = cross_val_score(clf, train_data_features, lab_data, cv=10, scoring='accuracy')\n",
        "\n",
        "        elif self.model =='random_forest':\n",
        "            clf = RandomForestClassifier(n_estimators=100, n_jobs=-1)\n",
        "            cv = cross_val_score(clf, train_data_features, lab_data, cv=10, scoring='accuracy')\n",
        "        return np.mean(cv)"
      ],
      "execution_count": 0,
      "outputs": []
    },
    {
      "metadata": {
        "colab_type": "code",
        "id": "HfVbuvs6okIP",
        "colab": {}
      },
      "cell_type": "code",
      "source": [
        "def svm_tune(x_train_tfv, y_train_a):\n",
        "    svd = TruncatedSVD()\n",
        "\n",
        "    # Standard Scaler\n",
        "    scl = preprocessing.StandardScaler()\n",
        "\n",
        "    svc = SVC()\n",
        "    # SVM\n",
        "    clf = pipeline.Pipeline([('svd',svd), ('scl',scl), ('svm',svc)])\n",
        "\n",
        "    param_grid = {'svd__n_components':[120,180],\n",
        "                 'svm__C':[1, 10],\n",
        "                  'svm__kernel':('linear', 'rbf'),\n",
        "                  'svm__gamma':['auto','scale']\n",
        "                 }\n",
        "    model = GridSearchCV(cv = 5, estimator=clf, param_grid=param_grid, scoring='accuracy',\n",
        "                                         verbose=10, n_jobs=-1, iid=True, refit=True)\n",
        "    model.fit(x_train_tfv, y_train_a) \n",
        "\n",
        "    print(\"Best score while tuning: %0.3f\" % model.best_score_)\n",
        "\n",
        "    return param_grid, model\n",
        "\n",
        "\n",
        "#Logistic Regression\n",
        "def logistic_tune(x_train_tfv, y_train_a):\n",
        "    lr_model = LogisticRegression()\n",
        "\n",
        "    # pipeline \n",
        "    clf = pipeline.Pipeline([('lr', lr_model)])\n",
        "    param_grid = {\n",
        "                         'lr__C': [0.1, 1.0, 10], \n",
        "                        'lr__penalty': ['l1', 'l2']}\n",
        "\n",
        "    model = GridSearchCV(cv = 5, estimator=clf, param_grid=param_grid, scoring='accuracy',\n",
        "                                     verbose=10, n_jobs=-1, iid=True, refit=True)\n",
        "    model.fit(x_train_tfv, y_train_a) \n",
        "\n",
        "    print(\"Best score while tuning: %0.3f\" % model.best_score_)\n",
        "    \n",
        "    return param_grid, model\n",
        "\n",
        "# Naive Bayes\n",
        "def naive_bayes_tune(x_train_tfv, y_train_a):\n",
        "    nb_model = MultinomialNB()\n",
        "\n",
        "    clf = pipeline.Pipeline([('nb', nb_model)])\n",
        "\n",
        "    param_grid = {'nb__alpha': [0.001, 0.01, 0.1, 1, 10, 100]}\n",
        "\n",
        "    # （Grid Search Model）\n",
        "    model = GridSearchCV(cv = 5,estimator=clf, param_grid=param_grid, scoring='accuracy',\n",
        "                                     verbose=10, n_jobs=-1, iid=True, refit=True,return_train_score=True)\n",
        "\n",
        "    model.fit(x_train_tfv, y_train_a) \n",
        "    print(\"Best score while tuning: %0.3f\" % model.best_score_)\n",
        "    \n",
        "    return param_grid, model\n",
        "\n",
        "# Xgboost\n",
        "def xgboost_tune(x_train_tfv, y_train_a):\n",
        "    \n",
        "    xgb_model = XGBClassifier()\n",
        "    clf = pipeline.Pipeline([('xgb', xgb_model)])\n",
        "    param_grid = {'learning_rate' :[0.1,0.01,0.001],\n",
        "                        'n_estimators':[200,400,600,800,1000],\n",
        "                        'max_depth':[3,5,7],\n",
        "                        'min_child_weight': [1,3,5]}\n",
        "    \n",
        "    model = GridSearchCV(cv = 5, estimator=clf, param_grid=param_grid, scoring='accuracy',\n",
        "                                     verbose=10, n_jobs=-1, iid=True, refit=True,return_train_score=True)\n",
        "\n",
        "    model.fit(x_train_tfv.tocsc(), y_train_a) \n",
        "    print(\"Best score while tuning: %0.3f\" % model.best_score_)\n",
        "    \n",
        "    return param_grid, model\n"
      ],
      "execution_count": 0,
      "outputs": []
    },
    {
      "metadata": {
        "id": "Z-EItGY3sMsi",
        "colab_type": "text"
      },
      "cell_type": "markdown",
      "source": [
        "# Deep Neural Network "
      ]
    },
    {
      "metadata": {
        "id": "QvfGhn46rAR8",
        "colab_type": "code",
        "colab": {}
      },
      "cell_type": "code",
      "source": [
        "\n",
        "from keras.models import Sequential, Model\n",
        "from keras.layers.recurrent import LSTM, GRU\n",
        "from keras.layers.core import Dense, Activation, Dropout\n",
        "from keras.layers.embeddings import Embedding\n",
        "from keras.layers.normalization import BatchNormalization\n",
        "from keras.utils import np_utils\n",
        "from keras.preprocessing import sequence, text\n",
        "from keras.layers import GlobalMaxPooling1D, Conv1D, MaxPooling1D, Flatten, Bidirectional, SpatialDropout1D,Dropout,Convolution2D\n",
        "from keras.layers import Dense, Embedding, Activation, merge, Input, Lambda, Reshape\n",
        "from keras.callbacks import EarlyStopping\n",
        "from keras.layers.merge import concatenate\n",
        "from keras import optimizers\n",
        "from sklearn.model_selection import train_test_split, GridSearchCV\n",
        "from keras import optimizers\n",
        "from sklearn.utils import class_weight\n",
        "import os\n",
        "\n",
        "\n",
        "class Deep_Neural_Network(object):\n",
        "    def __init__(self, data, label, model_type, embedding_index,  metrics='accuracy'):\n",
        "        train_data, val_data, train_label, val_label = train_test_split(data, label, test_size=0.2,stratify=label,random_state=SEED,shuffle=True)\n",
        "        token = text.Tokenizer(num_words=None)\n",
        "        token.fit_on_texts(train_data)\n",
        "        self.token = token\n",
        "        x_train_seq = token.texts_to_sequences(train_data)\n",
        "        x_val_seq = token.texts_to_sequences(val_data)\n",
        "        self.max_len = len(max(data,key=lambda x:len(x)))\n",
        "        x_train_pad = sequence.pad_sequences(x_train_seq, maxlen=self.max_len)\n",
        "        x_val_pad = sequence.pad_sequences(x_val_seq, maxlen=self. max_len)\n",
        "        self.train_data = x_train_pad\n",
        "        self.val_data = x_val_pad\n",
        "        if  np.array_equal(train_label, train_label.astype(bool)):\n",
        "            self.num_classes = 1\n",
        "            self.activation = 'sigmoid'\n",
        "            self.loss  ='binary_crossentropy'\n",
        "            self.train_label = train_label\n",
        "            self.val_label = val_label\n",
        "        else:\n",
        "            self.num_classes = len(np.unique(train_label))\n",
        "            self.activation = 'softmax'\n",
        "            self.loss= 'categorical_crossentropy'\n",
        "            self.train_label = np_utils.to_categorical(train_label)\n",
        "            self.val_label = np_utils.to_categorical(val_label)\n",
        "        self.metrics = metrics\n",
        "        self.word_index =token.word_index\n",
        "        self.weight = self.embedding_matrix(embedding_index)\n",
        "        self.optim = 'adam'\n",
        "        if model_type == 'gru':\n",
        "            self.model = self.gru_model()\n",
        "        elif model_type == 'lstm':\n",
        "            self.model = self.lstm_model()\n",
        "        elif model_type == 'cnn':\n",
        "            self.model = self.cnn_model()\n",
        "        elif model_type == 'etextcnn':\n",
        "            self.model = self.etextcnn_model()\n",
        "        elif model_type =='cnn2d':\n",
        "            self.model = self.CNN_2D()\n",
        "            \n",
        "            \n",
        "    def set_optimizer(self, optimizer='adam', lr=0.01, decay=5e-3):\n",
        "        if optimizer =='sgd':\n",
        "            self.optim = optimizers.SGD(lr, decay=decay)\n",
        "        elif optimizer =='adam':\n",
        "            self.optim = optimizers.Adam(lr,decay=decay)\n",
        "        elif optimizer =='rmsprop':\n",
        "            self.optim = optimizers.RMSprop(lr=0.001, rho=0.9, epsilon=None, decay=0.0)\n",
        "\n",
        "    def embedding_matrix(self,embedding_index):\n",
        "        embedding_matrix = np.zeros((len(self.word_index) + 1, 300))\n",
        "        for word, i in tqdm(self.word_index.items()):\n",
        "            embedding_vector = embeddings_index.get(word)\n",
        "            if embedding_vector is not None:\n",
        "                embedding_matrix[i] = embedding_vector\n",
        "        return embedding_matrix\n",
        "        \n",
        "   \n",
        "    \n",
        "    def lstm_model(self):\n",
        "        lstm_model = Sequential()\n",
        "        lstm_model.add(Embedding(len(self.word_index) + 1, 300, weights=[self.weight],  input_length=self.max_len, trainable=False))\n",
        "        lstm_model.add(SpatialDropout1D(0.3))\n",
        "        lstm_model.add(Bidirectional(LSTM(100, dropout=0.3, recurrent_dropout=0.3)))\n",
        "        lstm_model.add(Dense(512, activation='relu'))\n",
        "        lstm_model.add(Dropout(0.3))\n",
        "        lstm_model.add(Dense(256, activation='relu'))\n",
        "        lstm_model.add(Dropout(0.3))\n",
        "        lstm_model.add(Dense(self.num_classes, activation=self.activation))\n",
        "        \n",
        "        lstm_model.compile(loss=self.loss, optimizer=self.optim, metrics=[self.metrics])\n",
        "        lstm_model.summary()\n",
        "        return lstm_model\n",
        "    \n",
        "    def gru_model(self):\n",
        "        gru_model = Sequential()\n",
        "        gru_model.add(Embedding(len(self.word_index) + 1, 300, weights=[self.weight],  input_length=self.max_len, trainable=False))\n",
        "        gru_model.add(SpatialDropout1D(0.3))\n",
        "        gru_model.add(GRU(128, dropout=0.3, recurrent_dropout=0.3, return_sequences=True))\n",
        "        gru_model.add(GRU(64, dropout=0.3, recurrent_dropout=0.3))\n",
        "        gru_model.add(Dense(256, activation='relu'))\n",
        "        gru_model.add(Dropout(0.3))\n",
        "        gru_model.add(Dense(128, activation='relu'))\n",
        "        gru_model.add(Dropout(0.3))\n",
        "        gru_model.add(Dense(self.num_classes, activation=self.activation))\n",
        "\n",
        "        gru_model.compile(loss=self.loss, optimizer=self.optim, metrics=[self.metrics])\n",
        "        gru_model.summary()\n",
        "        return gru_model\n",
        "    \n",
        "    \n",
        "    def cnn_model(self):\n",
        "        cnn_model = Sequential()\n",
        "        cnn_model.add(Embedding(len(self.word_index) + 1,300,weights=[self.weight],input_length=self.max_len, trainable=False))\n",
        "        cnn_model.add(Conv1D(64, 3, padding='same'))\n",
        "        cnn_model.add(MaxPooling1D(3,3,padding='same'))\n",
        "        cnn_model.add(Conv1D(32, 3, padding='same'))\n",
        "        cnn_model.add(MaxPooling1D(3,3,padding='same'))\n",
        "        cnn_model.add(Conv1D(16, 3, padding='same'))\n",
        "        cnn_model.add(Flatten())\n",
        "        cnn_model.add(Dropout(0.3))\n",
        "        cnn_model.add(BatchNormalization()) \n",
        "        cnn_model.add(Dense(256,activation='relu'))\n",
        "        cnn_model.add(Dropout(0.1))\n",
        "        cnn_model.add(Dense(self.num_classes, activation=self.activation))\n",
        "        \n",
        "        cnn_model.compile(loss=self.loss, optimizer=self.optim, metrics=[self.metrics])\n",
        "        cnn_model.summary()\n",
        "        return cnn_model\n",
        "    \n",
        "    def CNN_2D(self):\n",
        "        cnn2d_model = Sequential()\n",
        "        cnn2d_model.add(Embedding(len(self.word_index) + 1,50,input_length=self.max_len, trainable=False))\n",
        "        cnn2d_model.add(Reshape((50,self.max_len,1)))\n",
        "        cnn2d_model.add(Convolution2D(64,(1,5),activation=\"relu\"))\n",
        "        cnn2d_model.add(Dropout(0.9))\n",
        "        cnn2d_model.add(Convolution2D(32,(2,3),activation=\"relu\"))\n",
        "        cnn2d_model.add(Dropout(0.8))\n",
        "        cnn2d_model.add(Convolution2D(16,(2,2),activation=\"relu\"))\n",
        "        cnn2d_model.add(Dropout(0.7))\n",
        "        cnn2d_model.add(Flatten())\n",
        "        cnn2d_model.add(Dense(self.num_classes, activation=self.activation))\n",
        "        cnn2d_model.compile(loss=self.loss, optimizer=self.optim, metrics=[self.metrics])\n",
        "        cnn2d_model.summary()\n",
        "        return cnn2d_model    \n",
        "    \n",
        "    def etextcnn_model(self):\n",
        "        main_input = Input(shape=(self.max_len,), dtype='float64')\n",
        "        embedder = Embedding(len(self.word_index) + 1, 300, input_length = self.max_len, weights = [self.weight], trainable = False)\n",
        "        embed = embedder(main_input)\n",
        "        # cnn1，kernel_size = 3\n",
        "        conv1_1 = Conv1D(64, 3, padding='same')(embed)\n",
        "        bn1_1 = BatchNormalization()(conv1_1)\n",
        "        relu1_1 = Activation('relu')(bn1_1)\n",
        "        drop1_1 = Dropout(0.3)(relu1_1)\n",
        "        conv1_2 = Conv1D(32, 3, padding='same')(drop1_1)\n",
        "        bn1_2 = BatchNormalization()(conv1_2)\n",
        "        relu1_2 = Activation('relu')(bn1_2)\n",
        "        drop1_2 = Dropout(0.3)(relu1_2)\n",
        "        cnn1 = MaxPooling1D(pool_size=4)(drop1_1)\n",
        "        # cnn2，kernel_size = 4\n",
        "        conv2_1 = Conv1D(64, 4, padding='same')(embed)\n",
        "        bn2_1 = BatchNormalization()(conv2_1)\n",
        "        relu2_1 = Activation('relu')(bn2_1)\n",
        "        drop2_1 = Dropout(0.3)(relu2_1)\n",
        "        conv2_2 = Conv1D(32, 4, padding='same')(drop2_1)\n",
        "        bn2_2 = BatchNormalization()(conv2_2)\n",
        "        relu2_2 = Activation('relu')(bn2_2)\n",
        "        drop2_2 = Dropout(0.3)(relu2_2)\n",
        "        cnn2 = MaxPooling1D(pool_size=4)(drop2_2)\n",
        "        # cnn3，kernel_size = 5\n",
        "        conv3_1 = Conv1D(64, 5, padding='same')(embed)\n",
        "        bn3_1 = BatchNormalization()(conv3_1)\n",
        "        relu3_1 = Activation('relu')(bn3_1)\n",
        "        drop3_1 = Dropout(0.3)(relu3_1)\n",
        "        conv3_2 = Conv1D(32, 5, padding='same')(drop3_1)\n",
        "        bn3_2 = BatchNormalization()(conv3_2)\n",
        "        relu3_2 = Activation('relu')(bn3_2)\n",
        "        drop3_2 = Dropout(0.3)(relu3_2)\n",
        "        cnn3 = MaxPooling1D(pool_size=4)(drop3_2)\n",
        "        # Combine three block\n",
        "        cnn = concatenate([cnn1,cnn2,cnn3], axis=-1)\n",
        "        flat = Flatten()(cnn)\n",
        "        drop = Dropout(0.5)(flat)\n",
        "        fc = Dense(128)(drop)\n",
        "        bn = BatchNormalization()(fc)\n",
        "\n",
        "        main_output = Dense(self.num_classes, activation=self.activation)(bn)\n",
        "        etextcnn_model = Model(inputs = main_input, outputs = main_output)                \n",
        "        etextcnn_model.compile(loss=self.loss, optimizer=self.optim, metrics=[self.metrics])\n",
        "        etextcnn_model.summary()\n",
        "        return etextcnn_model\n",
        "    \n",
        "\n",
        "    def train(self,epochs=100,batch_size=256):\n",
        "        earlystop = EarlyStopping(monitor='val_loss', min_delta=0, patience=3, verbose=0, mode='auto')\n",
        "#         class_weights = class_weight.compute_class_weight('balanced', np.unique(self.train_label), self.train_label)\n",
        "#         class_weight_dict = dict(enumerate(class_weights))\n",
        "        self.model.fit(self.train_data, self.train_label, batch_size=batch_size, epochs=epochs, verbose=1, \n",
        "                       validation_data=(self.val_data, self.val_label),callbacks=[earlystop])  \n",
        "\n",
        "    def predict(self, test_data):\n",
        "        test_seq = self.token.texts_to_sequences(test_data)\n",
        "        test_pad =sequence.pad_sequences(test_seq, maxlen=self.max_len)\n",
        "        prediction =self.model.predict(test_pad,batch_size=64)\n",
        "        return prediction.argmax(axis=1)\n",
        "\n",
        "        \n",
        "    def visualize(self):\n",
        "        from keras.utils import plot_model\n",
        "        plot_model(self.model, to_file='drive/My Drive/data/lstm_model_plot.png', show_shapes=True, show_layer_names=True)\n",
        "        \n",
        "    def save(self,filename):\n",
        "        self.model.save(os.path.join('drive/My Drive/data/nlp_output/',filename))"
      ],
      "execution_count": 0,
      "outputs": []
    },
    {
      "metadata": {
        "id": "Xe0AYfpfqjFo",
        "colab_type": "code",
        "colab": {}
      },
      "cell_type": "code",
      "source": [
        ""
      ],
      "execution_count": 0,
      "outputs": []
    },
    {
      "metadata": {
        "id": "AEaSgKkiotaY",
        "colab_type": "text"
      },
      "cell_type": "markdown",
      "source": [
        "# Task A"
      ]
    },
    {
      "metadata": {
        "id": "z8CAHOGQS6ll",
        "colab_type": "code",
        "outputId": "6db59cae-0556-4720-b6f1-4266cce2d4e5",
        "colab": {
          "base_uri": "https://localhost:8080/",
          "height": 92
        }
      },
      "cell_type": "code",
      "source": [
        "from sklearn.preprocessing import LabelEncoder, StandardScaler\n",
        "\n",
        "# Load training data\n",
        "df = pd.read_csv(train_path,sep='\\t')\n",
        "df = preprocess(df)\n",
        "lbl = LabelEncoder()\n",
        "y_a = lbl.fit_transform(df.subtask_a.values)\n",
        "x_a = df.tweet.values\n",
        "\n",
        "# load test data\n",
        "df_a = pd.read_csv(testA_path,sep='\\t')\n",
        "df_a = preprocess(df_a)\n",
        "x_test_a = df_a.tweet.values"
      ],
      "execution_count": 0,
      "outputs": [
        {
          "output_type": "stream",
          "text": [
            "-------Remove Stop Word--------\n",
            "-------Remove Stop Word--------\n"
          ],
          "name": "stdout"
        }
      ]
    },
    {
      "metadata": {
        "id": "SSw47ozTpPge",
        "colab_type": "code",
        "outputId": "7d386da7-48c5-4796-f5d4-7282e625f75c",
        "colab": {
          "base_uri": "https://localhost:8080/",
          "height": 253
        }
      },
      "cell_type": "code",
      "source": [
        "# TF_IDF\n",
        "clf = Bag_of_word('logistic','tf_idf')\n",
        "cv = clf.validate_clf(x_a, y_a)\n",
        "print('mean cross validation for Logistic regression is', cv)\n",
        "\n",
        "clf = Bag_of_word('naive_bayes','tf_idf')\n",
        "cv = clf.validate_clf(x_a, y_a)\n",
        "print('mean cross validation for Naive_Bayes is', cv)\n",
        "\n",
        "clf = Bag_of_word('xgboost','tf_idf')\n",
        "cv = clf.validate_clf(x_a, y_a)\n",
        "print('mean cross validation for Xgboost is', cv)\n",
        "\n",
        "clf = Bag_of_word('random_forest','tf_idf')\n",
        "cv = clf.validate_clf(x_a, y_a)\n",
        "print('mean cross validation for Random Forest is', cv)\n",
        "\n",
        "clf = Bag_of_word('svm','tf_idf')\n",
        "cv = clf.validate_clf(x_a, y_a)\n",
        "print('mean cross validation for SVM is', cv)"
      ],
      "execution_count": 0,
      "outputs": [
        {
          "output_type": "stream",
          "text": [
            "start k-fold validate...\n",
            "mean cross validation for Logistic regression is 0.756797583081571\n",
            "start k-fold validate...\n",
            "mean cross validation for Naive_Bayes is 0.7241691842900302\n",
            "start k-fold validate...\n",
            "mean cross validation for Xgboost is 0.7580815709969788\n",
            "start k-fold validate...\n",
            "mean cross validation for Random Forest is 0.7671450151057403\n",
            "start k-fold validate...\n",
            "mean cross validation for SVM is 0.7512839879154078\n"
          ],
          "name": "stdout"
        }
      ]
    },
    {
      "metadata": {
        "id": "0OvXxepwWXjJ",
        "colab_type": "code",
        "outputId": "9db3ed37-5c4a-4a5f-dfab-e0253c2618cb",
        "colab": {
          "base_uri": "https://localhost:8080/",
          "height": 285
        }
      },
      "cell_type": "code",
      "source": [
        "clf = Bag_of_word('random_forest','tf_idf')\n",
        "clf.train_clf(x_a,y_a)\n",
        "prediction = clf.test_clf(x_test_a)\n",
        "prediction =lbl.inverse_transform(prediction)\n",
        "out = pd.DataFrame({'id':df_a.id.values,'label':prediction})\n",
        "out.to_csv('drive/My Drive/data/nlp_output/task_a_rf.csv',header=None, index=None)\n",
        "out.head()\n"
      ],
      "execution_count": 0,
      "outputs": [
        {
          "output_type": "stream",
          "text": [
            "training data shape (13240, 10000)\n"
          ],
          "name": "stdout"
        },
        {
          "output_type": "execute_result",
          "data": {
            "text/html": [
              "<div>\n",
              "<style scoped>\n",
              "    .dataframe tbody tr th:only-of-type {\n",
              "        vertical-align: middle;\n",
              "    }\n",
              "\n",
              "    .dataframe tbody tr th {\n",
              "        vertical-align: top;\n",
              "    }\n",
              "\n",
              "    .dataframe thead th {\n",
              "        text-align: right;\n",
              "    }\n",
              "</style>\n",
              "<table border=\"1\" class=\"dataframe\">\n",
              "  <thead>\n",
              "    <tr style=\"text-align: right;\">\n",
              "      <th></th>\n",
              "      <th>id</th>\n",
              "      <th>label</th>\n",
              "    </tr>\n",
              "  </thead>\n",
              "  <tbody>\n",
              "    <tr>\n",
              "      <th>0</th>\n",
              "      <td>15923</td>\n",
              "      <td>OFF</td>\n",
              "    </tr>\n",
              "    <tr>\n",
              "      <th>1</th>\n",
              "      <td>27014</td>\n",
              "      <td>NOT</td>\n",
              "    </tr>\n",
              "    <tr>\n",
              "      <th>2</th>\n",
              "      <td>30530</td>\n",
              "      <td>NOT</td>\n",
              "    </tr>\n",
              "    <tr>\n",
              "      <th>3</th>\n",
              "      <td>13876</td>\n",
              "      <td>NOT</td>\n",
              "    </tr>\n",
              "    <tr>\n",
              "      <th>4</th>\n",
              "      <td>60133</td>\n",
              "      <td>NOT</td>\n",
              "    </tr>\n",
              "  </tbody>\n",
              "</table>\n",
              "</div>"
            ],
            "text/plain": [
              "      id label\n",
              "0  15923   OFF\n",
              "1  27014   NOT\n",
              "2  30530   NOT\n",
              "3  13876   NOT\n",
              "4  60133   NOT"
            ]
          },
          "metadata": {
            "tags": []
          },
          "execution_count": 21
        }
      ]
    },
    {
      "metadata": {
        "id": "EcZKjgSwsiTo",
        "colab_type": "code",
        "outputId": "7aa1b208-223e-42cd-f294-a8299f3d0086",
        "colab": {
          "base_uri": "https://localhost:8080/",
          "height": 273
        }
      },
      "cell_type": "code",
      "source": [
        "# Word Count\n",
        "clf = Bag_of_word('logistic','word_count')\n",
        "cv = clf.validate_clf(x_a, y_a)\n",
        "print('mean cross validation for Logistic regression is', cv)\n",
        "\n",
        "clf = Bag_of_word('naive_bayes','word_count')\n",
        "cv = clf.validate_clf(x_a, y_a)\n",
        "print('mean cross validation for Naive_Bayes is', cv)\n",
        "\n",
        "clf = Bag_of_word('xgboost','word_count')\n",
        "cv = clf.validate_clf(x_a, y_a)\n",
        "print('mean cross validation for Xgboost is', cv)\n",
        "\n",
        "clf = Bag_of_word('random_forest','word_count')\n",
        "cv = clf.validate_clf(x_a, y_a)\n",
        "print('mean cross validation for Random Forest is', cv)\n",
        "\n",
        "clf = Bag_of_word('svm','word_count')\n",
        "cv = clf.validate_clf(x_a, y_a)\n",
        "print('mean cross validation for SVM is', cv)"
      ],
      "execution_count": 0,
      "outputs": [
        {
          "output_type": "stream",
          "text": [
            "start k-fold validate...\n",
            "mean cross validation for Logistic regression is 0.7614048338368581\n",
            "start k-fold validate...\n",
            "mean cross validation for Naive_Bayes is 0.7424471299093656\n",
            "start k-fold validate...\n",
            "mean cross validation for Xgboost is 0.7624622356495468\n",
            "start k-fold validate...\n",
            "mean cross validation for Random Forest is 0.7583836858006043\n",
            "start k-fold validate...\n",
            "mean cross validation for SVM is 0.7370090634441089\n"
          ],
          "name": "stdout"
        }
      ]
    },
    {
      "metadata": {
        "id": "CVOSm0oFZiCf",
        "colab_type": "code",
        "outputId": "aae66b71-4dc7-49ac-aa1a-161b94c7b08c",
        "colab": {
          "base_uri": "https://localhost:8080/",
          "height": 305
        }
      },
      "cell_type": "code",
      "source": [
        "clf = Bag_of_word('xgboost','word_count')\n",
        "clf.train_clf(x_a,y_a)\n",
        "prediction = clf.test_clf(x_test_a)\n",
        "prediction =lbl.inverse_transform(prediction)\n",
        "out = pd.DataFrame({'id':df_a.id.values,'label':prediction})\n",
        "out.to_csv('drive/My Drive/data/nlp_output/task_a_xgb.csv',header=None, index=None)\n",
        "out.head()"
      ],
      "execution_count": 0,
      "outputs": [
        {
          "output_type": "stream",
          "text": [
            "training data shape (13240, 10000)\n"
          ],
          "name": "stdout"
        },
        {
          "output_type": "execute_result",
          "data": {
            "text/html": [
              "<div>\n",
              "<style scoped>\n",
              "    .dataframe tbody tr th:only-of-type {\n",
              "        vertical-align: middle;\n",
              "    }\n",
              "\n",
              "    .dataframe tbody tr th {\n",
              "        vertical-align: top;\n",
              "    }\n",
              "\n",
              "    .dataframe thead th {\n",
              "        text-align: right;\n",
              "    }\n",
              "</style>\n",
              "<table border=\"1\" class=\"dataframe\">\n",
              "  <thead>\n",
              "    <tr style=\"text-align: right;\">\n",
              "      <th></th>\n",
              "      <th>id</th>\n",
              "      <th>label</th>\n",
              "    </tr>\n",
              "  </thead>\n",
              "  <tbody>\n",
              "    <tr>\n",
              "      <th>0</th>\n",
              "      <td>15923</td>\n",
              "      <td>OFF</td>\n",
              "    </tr>\n",
              "    <tr>\n",
              "      <th>1</th>\n",
              "      <td>27014</td>\n",
              "      <td>NOT</td>\n",
              "    </tr>\n",
              "    <tr>\n",
              "      <th>2</th>\n",
              "      <td>30530</td>\n",
              "      <td>NOT</td>\n",
              "    </tr>\n",
              "    <tr>\n",
              "      <th>3</th>\n",
              "      <td>13876</td>\n",
              "      <td>NOT</td>\n",
              "    </tr>\n",
              "    <tr>\n",
              "      <th>4</th>\n",
              "      <td>60133</td>\n",
              "      <td>NOT</td>\n",
              "    </tr>\n",
              "  </tbody>\n",
              "</table>\n",
              "</div>"
            ],
            "text/plain": [
              "      id label\n",
              "0  15923   OFF\n",
              "1  27014   NOT\n",
              "2  30530   NOT\n",
              "3  13876   NOT\n",
              "4  60133   NOT"
            ]
          },
          "metadata": {
            "tags": []
          },
          "execution_count": 23
        }
      ]
    },
    {
      "metadata": {
        "id": "UMo3jgzyqkmH",
        "colab_type": "code",
        "outputId": "d9c90f76-f007-4815-fea6-045db72efd3c",
        "colab": {
          "base_uri": "https://localhost:8080/",
          "height": 1633
        }
      },
      "cell_type": "code",
      "source": [
        "model= Deep_Neural_Network(x_a,y_a,'gru',embeddings_index)\n",
        "model.set_optimizer('rmsprop')\n",
        "model.train(epochs=20,batch_size=256)\n",
        "prediction = model.predict(x_test_a)\n",
        "print(prediction)\n",
        "model.save('task_a_gru.h5')\n",
        "\n",
        "prediction =lbl.inverse_transform(prediction)\n",
        "out = pd.DataFrame({'id':df_a.id.values,'label':prediction})\n",
        "out.to_csv('drive/My Drive/data/nlp_output/task_a_gru.csv',header=None, index=None)\n",
        "out.head()"
      ],
      "execution_count": 0,
      "outputs": [
        {
          "output_type": "stream",
          "text": [
            "100%|██████████| 17766/17766 [00:00<00:00, 425288.11it/s]\n"
          ],
          "name": "stderr"
        },
        {
          "output_type": "stream",
          "text": [
            "_________________________________________________________________\n",
            "Layer (type)                 Output Shape              Param #   \n",
            "=================================================================\n",
            "embedding_19 (Embedding)     (None, 280, 300)          5330100   \n",
            "_________________________________________________________________\n",
            "spatial_dropout1d_15 (Spatia (None, 280, 300)          0         \n",
            "_________________________________________________________________\n",
            "gru_9 (GRU)                  (None, 280, 128)          164736    \n",
            "_________________________________________________________________\n",
            "gru_10 (GRU)                 (None, 64)                37056     \n",
            "_________________________________________________________________\n",
            "dense_49 (Dense)             (None, 256)               16640     \n",
            "_________________________________________________________________\n",
            "dropout_40 (Dropout)         (None, 256)               0         \n",
            "_________________________________________________________________\n",
            "dense_50 (Dense)             (None, 128)               32896     \n",
            "_________________________________________________________________\n",
            "dropout_41 (Dropout)         (None, 128)               0         \n",
            "_________________________________________________________________\n",
            "dense_51 (Dense)             (None, 1)                 129       \n",
            "=================================================================\n",
            "Total params: 5,581,557\n",
            "Trainable params: 251,457\n",
            "Non-trainable params: 5,330,100\n",
            "_________________________________________________________________\n",
            "Train on 10592 samples, validate on 2648 samples\n",
            "Epoch 1/20\n",
            "10592/10592 [==============================] - 53s 5ms/step - loss: 0.6201 - acc: 0.6768 - val_loss: 0.5517 - val_acc: 0.7179\n",
            "Epoch 2/20\n",
            "10592/10592 [==============================] - 45s 4ms/step - loss: 0.5536 - acc: 0.7238 - val_loss: 0.5167 - val_acc: 0.7470\n",
            "Epoch 3/20\n",
            "10592/10592 [==============================] - 46s 4ms/step - loss: 0.5218 - acc: 0.7477 - val_loss: 0.4960 - val_acc: 0.7719\n",
            "Epoch 4/20\n",
            "10592/10592 [==============================] - 45s 4ms/step - loss: 0.5040 - acc: 0.7612 - val_loss: 0.4896 - val_acc: 0.7700\n",
            "Epoch 5/20\n",
            "10592/10592 [==============================] - 46s 4ms/step - loss: 0.4959 - acc: 0.7670 - val_loss: 0.4888 - val_acc: 0.7670\n",
            "Epoch 6/20\n",
            "10592/10592 [==============================] - 45s 4ms/step - loss: 0.4922 - acc: 0.7732 - val_loss: 0.4916 - val_acc: 0.7745\n",
            "Epoch 7/20\n",
            "10592/10592 [==============================] - 45s 4ms/step - loss: 0.4817 - acc: 0.7757 - val_loss: 0.4850 - val_acc: 0.7761\n",
            "Epoch 8/20\n",
            "10592/10592 [==============================] - 45s 4ms/step - loss: 0.4808 - acc: 0.7740 - val_loss: 0.4882 - val_acc: 0.7719\n",
            "Epoch 9/20\n",
            "10592/10592 [==============================] - 45s 4ms/step - loss: 0.4774 - acc: 0.7768 - val_loss: 0.4849 - val_acc: 0.7734\n",
            "Epoch 10/20\n",
            "10592/10592 [==============================] - 46s 4ms/step - loss: 0.4661 - acc: 0.7838 - val_loss: 0.4988 - val_acc: 0.7730\n",
            "Epoch 11/20\n",
            "10592/10592 [==============================] - 45s 4ms/step - loss: 0.4649 - acc: 0.7855 - val_loss: 0.4853 - val_acc: 0.7738\n",
            "Epoch 12/20\n",
            "10592/10592 [==============================] - 45s 4ms/step - loss: 0.4623 - acc: 0.7873 - val_loss: 0.4845 - val_acc: 0.7745\n",
            "Epoch 13/20\n",
            "10592/10592 [==============================] - 45s 4ms/step - loss: 0.4585 - acc: 0.7894 - val_loss: 0.4935 - val_acc: 0.7711\n",
            "Epoch 14/20\n",
            "10592/10592 [==============================] - 45s 4ms/step - loss: 0.4545 - acc: 0.7868 - val_loss: 0.4862 - val_acc: 0.7704\n",
            "Epoch 15/20\n",
            "10592/10592 [==============================] - 45s 4ms/step - loss: 0.4536 - acc: 0.7886 - val_loss: 0.4894 - val_acc: 0.7764\n",
            "[0 0 0 0 0 0 0 0 0 0 0 0 0 0 0 0 0 0 0 0 0 0 0 0 0 0 0 0 0 0 0 0 0 0 0 0 0\n",
            " 0 0 0 0 0 0 0 0 0 0 0 0 0 0 0 0 0 0 0 0 0 0 0 0 0 0 0 0 0 0 0 0 0 0 0 0 0\n",
            " 0 0 0 0 0 0 0 0 0 0 0 0 0 0 0 0 0 0 0 0 0 0 0 0 0 0 0 0 0 0 0 0 0 0 0 0 0\n",
            " 0 0 0 0 0 0 0 0 0 0 0 0 0 0 0 0 0 0 0 0 0 0 0 0 0 0 0 0 0 0 0 0 0 0 0 0 0\n",
            " 0 0 0 0 0 0 0 0 0 0 0 0 0 0 0 0 0 0 0 0 0 0 0 0 0 0 0 0 0 0 0 0 0 0 0 0 0\n",
            " 0 0 0 0 0 0 0 0 0 0 0 0 0 0 0 0 0 0 0 0 0 0 0 0 0 0 0 0 0 0 0 0 0 0 0 0 0\n",
            " 0 0 0 0 0 0 0 0 0 0 0 0 0 0 0 0 0 0 0 0 0 0 0 0 0 0 0 0 0 0 0 0 0 0 0 0 0\n",
            " 0 0 0 0 0 0 0 0 0 0 0 0 0 0 0 0 0 0 0 0 0 0 0 0 0 0 0 0 0 0 0 0 0 0 0 0 0\n",
            " 0 0 0 0 0 0 0 0 0 0 0 0 0 0 0 0 0 0 0 0 0 0 0 0 0 0 0 0 0 0 0 0 0 0 0 0 0\n",
            " 0 0 0 0 0 0 0 0 0 0 0 0 0 0 0 0 0 0 0 0 0 0 0 0 0 0 0 0 0 0 0 0 0 0 0 0 0\n",
            " 0 0 0 0 0 0 0 0 0 0 0 0 0 0 0 0 0 0 0 0 0 0 0 0 0 0 0 0 0 0 0 0 0 0 0 0 0\n",
            " 0 0 0 0 0 0 0 0 0 0 0 0 0 0 0 0 0 0 0 0 0 0 0 0 0 0 0 0 0 0 0 0 0 0 0 0 0\n",
            " 0 0 0 0 0 0 0 0 0 0 0 0 0 0 0 0 0 0 0 0 0 0 0 0 0 0 0 0 0 0 0 0 0 0 0 0 0\n",
            " 0 0 0 0 0 0 0 0 0 0 0 0 0 0 0 0 0 0 0 0 0 0 0 0 0 0 0 0 0 0 0 0 0 0 0 0 0\n",
            " 0 0 0 0 0 0 0 0 0 0 0 0 0 0 0 0 0 0 0 0 0 0 0 0 0 0 0 0 0 0 0 0 0 0 0 0 0\n",
            " 0 0 0 0 0 0 0 0 0 0 0 0 0 0 0 0 0 0 0 0 0 0 0 0 0 0 0 0 0 0 0 0 0 0 0 0 0\n",
            " 0 0 0 0 0 0 0 0 0 0 0 0 0 0 0 0 0 0 0 0 0 0 0 0 0 0 0 0 0 0 0 0 0 0 0 0 0\n",
            " 0 0 0 0 0 0 0 0 0 0 0 0 0 0 0 0 0 0 0 0 0 0 0 0 0 0 0 0 0 0 0 0 0 0 0 0 0\n",
            " 0 0 0 0 0 0 0 0 0 0 0 0 0 0 0 0 0 0 0 0 0 0 0 0 0 0 0 0 0 0 0 0 0 0 0 0 0\n",
            " 0 0 0 0 0 0 0 0 0 0 0 0 0 0 0 0 0 0 0 0 0 0 0 0 0 0 0 0 0 0 0 0 0 0 0 0 0\n",
            " 0 0 0 0 0 0 0 0 0 0 0 0 0 0 0 0 0 0 0 0 0 0 0 0 0 0 0 0 0 0 0 0 0 0 0 0 0\n",
            " 0 0 0 0 0 0 0 0 0 0 0 0 0 0 0 0 0 0 0 0 0 0 0 0 0 0 0 0 0 0 0 0 0 0 0 0 0\n",
            " 0 0 0 0 0 0 0 0 0 0 0 0 0 0 0 0 0 0 0 0 0 0 0 0 0 0 0 0 0 0 0 0 0 0 0 0 0\n",
            " 0 0 0 0 0 0 0 0 0]\n"
          ],
          "name": "stdout"
        },
        {
          "output_type": "execute_result",
          "data": {
            "text/html": [
              "<div>\n",
              "<style scoped>\n",
              "    .dataframe tbody tr th:only-of-type {\n",
              "        vertical-align: middle;\n",
              "    }\n",
              "\n",
              "    .dataframe tbody tr th {\n",
              "        vertical-align: top;\n",
              "    }\n",
              "\n",
              "    .dataframe thead th {\n",
              "        text-align: right;\n",
              "    }\n",
              "</style>\n",
              "<table border=\"1\" class=\"dataframe\">\n",
              "  <thead>\n",
              "    <tr style=\"text-align: right;\">\n",
              "      <th></th>\n",
              "      <th>id</th>\n",
              "      <th>label</th>\n",
              "    </tr>\n",
              "  </thead>\n",
              "  <tbody>\n",
              "    <tr>\n",
              "      <th>0</th>\n",
              "      <td>15923</td>\n",
              "      <td>NOT</td>\n",
              "    </tr>\n",
              "    <tr>\n",
              "      <th>1</th>\n",
              "      <td>27014</td>\n",
              "      <td>NOT</td>\n",
              "    </tr>\n",
              "    <tr>\n",
              "      <th>2</th>\n",
              "      <td>30530</td>\n",
              "      <td>NOT</td>\n",
              "    </tr>\n",
              "    <tr>\n",
              "      <th>3</th>\n",
              "      <td>13876</td>\n",
              "      <td>NOT</td>\n",
              "    </tr>\n",
              "    <tr>\n",
              "      <th>4</th>\n",
              "      <td>60133</td>\n",
              "      <td>NOT</td>\n",
              "    </tr>\n",
              "  </tbody>\n",
              "</table>\n",
              "</div>"
            ],
            "text/plain": [
              "      id label\n",
              "0  15923   NOT\n",
              "1  27014   NOT\n",
              "2  30530   NOT\n",
              "3  13876   NOT\n",
              "4  60133   NOT"
            ]
          },
          "metadata": {
            "tags": []
          },
          "execution_count": 61
        }
      ]
    },
    {
      "metadata": {
        "id": "i3EtiWV4uh_Q",
        "colab_type": "code",
        "outputId": "a5f408aa-7eed-47c5-a95d-3da25b1f0374",
        "colab": {
          "base_uri": "https://localhost:8080/",
          "height": 1672
        }
      },
      "cell_type": "code",
      "source": [
        "model= Deep_Neural_Network(x_a,y_a,'etextcnn',embeddings_index)\n",
        "model.set_optimizer('sgd',lr=0.0000001)\n",
        "model.train(epochs=20,batch_size=256)"
      ],
      "execution_count": 0,
      "outputs": [
        {
          "output_type": "stream",
          "text": [
            "100%|██████████| 17778/17778 [00:00<00:00, 356294.28it/s]\n"
          ],
          "name": "stderr"
        },
        {
          "output_type": "stream",
          "text": [
            "__________________________________________________________________________________________________\n",
            "Layer (type)                    Output Shape         Param #     Connected to                     \n",
            "==================================================================================================\n",
            "input_2 (InputLayer)            (None, 280)          0                                            \n",
            "__________________________________________________________________________________________________\n",
            "embedding_28 (Embedding)        (None, 280, 300)     5333700     input_2[0][0]                    \n",
            "__________________________________________________________________________________________________\n",
            "conv1d_30 (Conv1D)              (None, 280, 64)      76864       embedding_28[0][0]               \n",
            "__________________________________________________________________________________________________\n",
            "conv1d_32 (Conv1D)              (None, 280, 64)      96064       embedding_28[0][0]               \n",
            "__________________________________________________________________________________________________\n",
            "batch_normalization_17 (BatchNo (None, 280, 64)      256         conv1d_30[0][0]                  \n",
            "__________________________________________________________________________________________________\n",
            "batch_normalization_19 (BatchNo (None, 280, 64)      256         conv1d_32[0][0]                  \n",
            "__________________________________________________________________________________________________\n",
            "activation_9 (Activation)       (None, 280, 64)      0           batch_normalization_17[0][0]     \n",
            "__________________________________________________________________________________________________\n",
            "activation_11 (Activation)      (None, 280, 64)      0           batch_normalization_19[0][0]     \n",
            "__________________________________________________________________________________________________\n",
            "dropout_64 (Dropout)            (None, 280, 64)      0           activation_9[0][0]               \n",
            "__________________________________________________________________________________________________\n",
            "dropout_66 (Dropout)            (None, 280, 64)      0           activation_11[0][0]              \n",
            "__________________________________________________________________________________________________\n",
            "conv1d_28 (Conv1D)              (None, 280, 64)      57664       embedding_28[0][0]               \n",
            "__________________________________________________________________________________________________\n",
            "conv1d_31 (Conv1D)              (None, 280, 32)      8224        dropout_64[0][0]                 \n",
            "__________________________________________________________________________________________________\n",
            "conv1d_33 (Conv1D)              (None, 280, 32)      10272       dropout_66[0][0]                 \n",
            "__________________________________________________________________________________________________\n",
            "batch_normalization_15 (BatchNo (None, 280, 64)      256         conv1d_28[0][0]                  \n",
            "__________________________________________________________________________________________________\n",
            "batch_normalization_18 (BatchNo (None, 280, 32)      128         conv1d_31[0][0]                  \n",
            "__________________________________________________________________________________________________\n",
            "batch_normalization_20 (BatchNo (None, 280, 32)      128         conv1d_33[0][0]                  \n",
            "__________________________________________________________________________________________________\n",
            "activation_7 (Activation)       (None, 280, 64)      0           batch_normalization_15[0][0]     \n",
            "__________________________________________________________________________________________________\n",
            "activation_10 (Activation)      (None, 280, 32)      0           batch_normalization_18[0][0]     \n",
            "__________________________________________________________________________________________________\n",
            "activation_12 (Activation)      (None, 280, 32)      0           batch_normalization_20[0][0]     \n",
            "__________________________________________________________________________________________________\n",
            "dropout_62 (Dropout)            (None, 280, 64)      0           activation_7[0][0]               \n",
            "__________________________________________________________________________________________________\n",
            "dropout_65 (Dropout)            (None, 280, 32)      0           activation_10[0][0]              \n",
            "__________________________________________________________________________________________________\n",
            "dropout_67 (Dropout)            (None, 280, 32)      0           activation_12[0][0]              \n",
            "__________________________________________________________________________________________________\n",
            "max_pooling1d_18 (MaxPooling1D) (None, 70, 64)       0           dropout_62[0][0]                 \n",
            "__________________________________________________________________________________________________\n",
            "max_pooling1d_19 (MaxPooling1D) (None, 70, 32)       0           dropout_65[0][0]                 \n",
            "__________________________________________________________________________________________________\n",
            "max_pooling1d_20 (MaxPooling1D) (None, 70, 32)       0           dropout_67[0][0]                 \n",
            "__________________________________________________________________________________________________\n",
            "concatenate_2 (Concatenate)     (None, 70, 128)      0           max_pooling1d_18[0][0]           \n",
            "                                                                 max_pooling1d_19[0][0]           \n",
            "                                                                 max_pooling1d_20[0][0]           \n",
            "__________________________________________________________________________________________________\n",
            "flatten_15 (Flatten)            (None, 8960)         0           concatenate_2[0][0]              \n",
            "__________________________________________________________________________________________________\n",
            "dropout_68 (Dropout)            (None, 8960)         0           flatten_15[0][0]                 \n",
            "__________________________________________________________________________________________________\n",
            "dense_56 (Dense)                (None, 128)          1147008     dropout_68[0][0]                 \n",
            "__________________________________________________________________________________________________\n",
            "batch_normalization_21 (BatchNo (None, 128)          512         dense_56[0][0]                   \n",
            "__________________________________________________________________________________________________\n",
            "dense_57 (Dense)                (None, 1)            129         batch_normalization_21[0][0]     \n",
            "==================================================================================================\n",
            "Total params: 6,731,461\n",
            "Trainable params: 1,396,993\n",
            "Non-trainable params: 5,334,468\n",
            "__________________________________________________________________________________________________\n",
            "Train on 10592 samples, validate on 2648 samples\n",
            "Epoch 1/20\n",
            "10592/10592 [==============================] - 14s 1ms/step - loss: 0.7829 - acc: 0.6228 - val_loss: 0.5517 - val_acc: 0.7281\n",
            "Epoch 2/20\n",
            "10592/10592 [==============================] - 6s 536us/step - loss: 0.5562 - acc: 0.7268 - val_loss: 0.5088 - val_acc: 0.7610\n",
            "Epoch 3/20\n",
            "10592/10592 [==============================] - 6s 534us/step - loss: 0.5268 - acc: 0.7498 - val_loss: 0.5022 - val_acc: 0.7651\n",
            "Epoch 4/20\n",
            "10592/10592 [==============================] - 6s 537us/step - loss: 0.4945 - acc: 0.7703 - val_loss: 0.4962 - val_acc: 0.7644\n",
            "Epoch 5/20\n",
            "10592/10592 [==============================] - 6s 538us/step - loss: 0.4755 - acc: 0.7850 - val_loss: 0.5030 - val_acc: 0.7621\n",
            "Epoch 6/20\n",
            "10592/10592 [==============================] - 6s 537us/step - loss: 0.4597 - acc: 0.7870 - val_loss: 0.4903 - val_acc: 0.7745\n",
            "Epoch 7/20\n",
            "10592/10592 [==============================] - 6s 536us/step - loss: 0.4415 - acc: 0.8021 - val_loss: 0.5130 - val_acc: 0.7640\n",
            "Epoch 8/20\n",
            "10592/10592 [==============================] - 6s 538us/step - loss: 0.4169 - acc: 0.8141 - val_loss: 0.5280 - val_acc: 0.7560\n",
            "Epoch 9/20\n",
            "10592/10592 [==============================] - 6s 539us/step - loss: 0.3958 - acc: 0.8253 - val_loss: 0.5362 - val_acc: 0.7647\n"
          ],
          "name": "stdout"
        }
      ]
    },
    {
      "metadata": {
        "id": "-zv4CYA5x4u3",
        "colab_type": "code",
        "outputId": "aa72abf4-064f-49a5-93ba-5598ebcae79f",
        "colab": {
          "base_uri": "https://localhost:8080/",
          "height": 1140
        }
      },
      "cell_type": "code",
      "source": [
        "model= Deep_Neural_Network(x_a,y_a,'lstm',embeddings_index)\n",
        "model.set_optimizer('rmsprop')\n",
        "model.train(epochs=20,batch_size=512)\n",
        "prediction = model.predict(x_test_a)\n",
        "model.save('task_a_lstm.h5')\n",
        "\n",
        "prediction =lbl.inverse_transform(prediction)\n",
        "out = pd.DataFrame({'id':df_a.id.values,'label':prediction})\n",
        "out.to_csv('drive/My Drive/data/nlp_output/task_a_lstm.csv',header=None, index=None)\n",
        "out.head()"
      ],
      "execution_count": 0,
      "outputs": [
        {
          "output_type": "stream",
          "text": [
            "100%|██████████| 17766/17766 [00:00<00:00, 341782.04it/s]\n"
          ],
          "name": "stderr"
        },
        {
          "output_type": "stream",
          "text": [
            "_________________________________________________________________\n",
            "Layer (type)                 Output Shape              Param #   \n",
            "=================================================================\n",
            "embedding_5 (Embedding)      (None, 280, 300)          5330100   \n",
            "_________________________________________________________________\n",
            "spatial_dropout1d_5 (Spatial (None, 280, 300)          0         \n",
            "_________________________________________________________________\n",
            "bidirectional_2 (Bidirection (None, 200)               320800    \n",
            "_________________________________________________________________\n",
            "dense_13 (Dense)             (None, 512)               102912    \n",
            "_________________________________________________________________\n",
            "dropout_9 (Dropout)          (None, 512)               0         \n",
            "_________________________________________________________________\n",
            "dense_14 (Dense)             (None, 256)               131328    \n",
            "_________________________________________________________________\n",
            "dropout_10 (Dropout)         (None, 256)               0         \n",
            "_________________________________________________________________\n",
            "dense_15 (Dense)             (None, 1)                 257       \n",
            "=================================================================\n",
            "Total params: 5,885,397\n",
            "Trainable params: 555,297\n",
            "Non-trainable params: 5,330,100\n",
            "_________________________________________________________________\n",
            "Train on 10592 samples, validate on 2648 samples\n",
            "Epoch 1/20\n",
            "10592/10592 [==============================] - 31s 3ms/step - loss: 0.6224 - acc: 0.6690 - val_loss: 0.5673 - val_acc: 0.7236\n",
            "Epoch 2/20\n",
            "10592/10592 [==============================] - 28s 3ms/step - loss: 0.5604 - acc: 0.7153 - val_loss: 0.5333 - val_acc: 0.7394\n",
            "Epoch 3/20\n",
            "10592/10592 [==============================] - 28s 3ms/step - loss: 0.5274 - acc: 0.7376 - val_loss: 0.5189 - val_acc: 0.7492\n",
            "Epoch 4/20\n",
            "10592/10592 [==============================] - 28s 3ms/step - loss: 0.5167 - acc: 0.7440 - val_loss: 0.5002 - val_acc: 0.7572\n",
            "Epoch 5/20\n",
            "10592/10592 [==============================] - 28s 3ms/step - loss: 0.5011 - acc: 0.7577 - val_loss: 0.4988 - val_acc: 0.7621\n",
            "Epoch 6/20\n",
            "10592/10592 [==============================] - 28s 3ms/step - loss: 0.4984 - acc: 0.7580 - val_loss: 0.4986 - val_acc: 0.7583\n",
            "Epoch 7/20\n",
            "10592/10592 [==============================] - 28s 3ms/step - loss: 0.4914 - acc: 0.7666 - val_loss: 0.4951 - val_acc: 0.7662\n",
            "Epoch 8/20\n",
            "10592/10592 [==============================] - 28s 3ms/step - loss: 0.4821 - acc: 0.7701 - val_loss: 0.4910 - val_acc: 0.7689\n",
            "Epoch 9/20\n",
            "10592/10592 [==============================] - 28s 3ms/step - loss: 0.4756 - acc: 0.7765 - val_loss: 0.4907 - val_acc: 0.7640\n",
            "Epoch 10/20\n",
            "10592/10592 [==============================] - 28s 3ms/step - loss: 0.4726 - acc: 0.7754 - val_loss: 0.4957 - val_acc: 0.7628\n",
            "Epoch 11/20\n",
            "10592/10592 [==============================] - 28s 3ms/step - loss: 0.4672 - acc: 0.7815 - val_loss: 0.4891 - val_acc: 0.7640\n",
            "Epoch 12/20\n",
            "10592/10592 [==============================] - 28s 3ms/step - loss: 0.4554 - acc: 0.7878 - val_loss: 0.4948 - val_acc: 0.7655\n",
            "Epoch 13/20\n",
            "10592/10592 [==============================] - 28s 3ms/step - loss: 0.4541 - acc: 0.7872 - val_loss: 0.5016 - val_acc: 0.7632\n",
            "Epoch 14/20\n",
            "10592/10592 [==============================] - 28s 3ms/step - loss: 0.4450 - acc: 0.7905 - val_loss: 0.4959 - val_acc: 0.7681\n"
          ],
          "name": "stdout"
        },
        {
          "output_type": "execute_result",
          "data": {
            "text/html": [
              "<div>\n",
              "<style scoped>\n",
              "    .dataframe tbody tr th:only-of-type {\n",
              "        vertical-align: middle;\n",
              "    }\n",
              "\n",
              "    .dataframe tbody tr th {\n",
              "        vertical-align: top;\n",
              "    }\n",
              "\n",
              "    .dataframe thead th {\n",
              "        text-align: right;\n",
              "    }\n",
              "</style>\n",
              "<table border=\"1\" class=\"dataframe\">\n",
              "  <thead>\n",
              "    <tr style=\"text-align: right;\">\n",
              "      <th></th>\n",
              "      <th>id</th>\n",
              "      <th>label</th>\n",
              "    </tr>\n",
              "  </thead>\n",
              "  <tbody>\n",
              "    <tr>\n",
              "      <th>0</th>\n",
              "      <td>15923</td>\n",
              "      <td>NOT</td>\n",
              "    </tr>\n",
              "    <tr>\n",
              "      <th>1</th>\n",
              "      <td>27014</td>\n",
              "      <td>NOT</td>\n",
              "    </tr>\n",
              "    <tr>\n",
              "      <th>2</th>\n",
              "      <td>30530</td>\n",
              "      <td>NOT</td>\n",
              "    </tr>\n",
              "    <tr>\n",
              "      <th>3</th>\n",
              "      <td>13876</td>\n",
              "      <td>NOT</td>\n",
              "    </tr>\n",
              "    <tr>\n",
              "      <th>4</th>\n",
              "      <td>60133</td>\n",
              "      <td>NOT</td>\n",
              "    </tr>\n",
              "  </tbody>\n",
              "</table>\n",
              "</div>"
            ],
            "text/plain": [
              "      id label\n",
              "0  15923   NOT\n",
              "1  27014   NOT\n",
              "2  30530   NOT\n",
              "3  13876   NOT\n",
              "4  60133   NOT"
            ]
          },
          "metadata": {
            "tags": []
          },
          "execution_count": 31
        }
      ]
    },
    {
      "metadata": {
        "id": "XDF9yfkRgLnm",
        "colab_type": "code",
        "outputId": "97887845-d6cc-47ce-81bf-f66569c90b04",
        "colab": {
          "base_uri": "https://localhost:8080/",
          "height": 1707
        }
      },
      "cell_type": "code",
      "source": [
        "prediction"
      ],
      "execution_count": 0,
      "outputs": [
        {
          "output_type": "execute_result",
          "data": {
            "text/plain": [
              "array(['NOT', 'NOT', 'NOT', 'NOT', 'NOT', 'NOT', 'NOT', 'NOT', 'NOT',\n",
              "       'NOT', 'NOT', 'NOT', 'NOT', 'NOT', 'NOT', 'NOT', 'NOT', 'NOT',\n",
              "       'NOT', 'NOT', 'NOT', 'NOT', 'NOT', 'NOT', 'NOT', 'NOT', 'NOT',\n",
              "       'NOT', 'NOT', 'NOT', 'NOT', 'NOT', 'NOT', 'NOT', 'NOT', 'NOT',\n",
              "       'NOT', 'NOT', 'NOT', 'NOT', 'NOT', 'NOT', 'NOT', 'NOT', 'NOT',\n",
              "       'NOT', 'NOT', 'NOT', 'NOT', 'NOT', 'NOT', 'NOT', 'NOT', 'NOT',\n",
              "       'NOT', 'NOT', 'NOT', 'NOT', 'NOT', 'NOT', 'NOT', 'NOT', 'NOT',\n",
              "       'NOT', 'NOT', 'NOT', 'NOT', 'NOT', 'NOT', 'NOT', 'NOT', 'NOT',\n",
              "       'NOT', 'NOT', 'NOT', 'NOT', 'NOT', 'NOT', 'NOT', 'NOT', 'NOT',\n",
              "       'NOT', 'NOT', 'NOT', 'NOT', 'NOT', 'NOT', 'NOT', 'NOT', 'NOT',\n",
              "       'NOT', 'NOT', 'NOT', 'NOT', 'NOT', 'NOT', 'NOT', 'NOT', 'NOT',\n",
              "       'NOT', 'NOT', 'NOT', 'NOT', 'NOT', 'NOT', 'NOT', 'NOT', 'NOT',\n",
              "       'NOT', 'NOT', 'NOT', 'NOT', 'NOT', 'NOT', 'NOT', 'NOT', 'NOT',\n",
              "       'NOT', 'NOT', 'NOT', 'NOT', 'NOT', 'NOT', 'NOT', 'NOT', 'NOT',\n",
              "       'NOT', 'NOT', 'NOT', 'NOT', 'NOT', 'NOT', 'NOT', 'NOT', 'NOT',\n",
              "       'NOT', 'NOT', 'NOT', 'NOT', 'NOT', 'NOT', 'NOT', 'NOT', 'NOT',\n",
              "       'NOT', 'NOT', 'NOT', 'NOT', 'NOT', 'NOT', 'NOT', 'NOT', 'NOT',\n",
              "       'NOT', 'NOT', 'NOT', 'NOT', 'NOT', 'NOT', 'NOT', 'NOT', 'NOT',\n",
              "       'NOT', 'NOT', 'NOT', 'NOT', 'NOT', 'NOT', 'NOT', 'NOT', 'NOT',\n",
              "       'NOT', 'NOT', 'NOT', 'NOT', 'NOT', 'NOT', 'NOT', 'NOT', 'NOT',\n",
              "       'NOT', 'NOT', 'NOT', 'NOT', 'NOT', 'NOT', 'NOT', 'NOT', 'NOT',\n",
              "       'NOT', 'NOT', 'NOT', 'NOT', 'NOT', 'NOT', 'NOT', 'NOT', 'NOT',\n",
              "       'NOT', 'NOT', 'NOT', 'NOT', 'NOT', 'NOT', 'NOT', 'NOT', 'NOT',\n",
              "       'NOT', 'NOT', 'NOT', 'NOT', 'NOT', 'NOT', 'NOT', 'NOT', 'NOT',\n",
              "       'NOT', 'NOT', 'NOT', 'NOT', 'NOT', 'NOT', 'NOT', 'NOT', 'NOT',\n",
              "       'NOT', 'NOT', 'NOT', 'NOT', 'NOT', 'NOT', 'NOT', 'NOT', 'NOT',\n",
              "       'NOT', 'NOT', 'NOT', 'NOT', 'NOT', 'NOT', 'NOT', 'NOT', 'NOT',\n",
              "       'NOT', 'NOT', 'NOT', 'NOT', 'NOT', 'NOT', 'NOT', 'NOT', 'NOT',\n",
              "       'NOT', 'NOT', 'NOT', 'NOT', 'NOT', 'NOT', 'NOT', 'NOT', 'NOT',\n",
              "       'NOT', 'NOT', 'NOT', 'NOT', 'NOT', 'NOT', 'NOT', 'NOT', 'NOT',\n",
              "       'NOT', 'NOT', 'NOT', 'NOT', 'NOT', 'NOT', 'NOT', 'NOT', 'NOT',\n",
              "       'NOT', 'NOT', 'NOT', 'NOT', 'NOT', 'NOT', 'NOT', 'NOT', 'NOT',\n",
              "       'NOT', 'NOT', 'NOT', 'NOT', 'NOT', 'NOT', 'NOT', 'NOT', 'NOT',\n",
              "       'NOT', 'NOT', 'NOT', 'NOT', 'NOT', 'NOT', 'NOT', 'NOT', 'NOT',\n",
              "       'NOT', 'NOT', 'NOT', 'NOT', 'NOT', 'NOT', 'NOT', 'NOT', 'NOT',\n",
              "       'NOT', 'NOT', 'NOT', 'NOT', 'NOT', 'NOT', 'NOT', 'NOT', 'NOT',\n",
              "       'NOT', 'NOT', 'NOT', 'NOT', 'NOT', 'NOT', 'NOT', 'NOT', 'NOT',\n",
              "       'NOT', 'NOT', 'NOT', 'NOT', 'NOT', 'NOT', 'NOT', 'NOT', 'NOT',\n",
              "       'NOT', 'NOT', 'NOT', 'NOT', 'NOT', 'NOT', 'NOT', 'NOT', 'NOT',\n",
              "       'NOT', 'NOT', 'NOT', 'NOT', 'NOT', 'NOT', 'NOT', 'NOT', 'NOT',\n",
              "       'NOT', 'NOT', 'NOT', 'NOT', 'NOT', 'NOT', 'NOT', 'NOT', 'NOT',\n",
              "       'NOT', 'NOT', 'NOT', 'NOT', 'NOT', 'NOT', 'NOT', 'NOT', 'NOT',\n",
              "       'NOT', 'NOT', 'NOT', 'NOT', 'NOT', 'NOT', 'NOT', 'NOT', 'NOT',\n",
              "       'NOT', 'NOT', 'NOT', 'NOT', 'NOT', 'NOT', 'NOT', 'NOT', 'NOT',\n",
              "       'NOT', 'NOT', 'NOT', 'NOT', 'NOT', 'NOT', 'NOT', 'NOT', 'NOT',\n",
              "       'NOT', 'NOT', 'NOT', 'NOT', 'NOT', 'NOT', 'NOT', 'NOT', 'NOT',\n",
              "       'NOT', 'NOT', 'NOT', 'NOT', 'NOT', 'NOT', 'NOT', 'NOT', 'NOT',\n",
              "       'NOT', 'NOT', 'NOT', 'NOT', 'NOT', 'NOT', 'NOT', 'NOT', 'NOT',\n",
              "       'NOT', 'NOT', 'NOT', 'NOT', 'NOT', 'NOT', 'NOT', 'NOT', 'NOT',\n",
              "       'NOT', 'NOT', 'NOT', 'NOT', 'NOT', 'NOT', 'NOT', 'NOT', 'NOT',\n",
              "       'NOT', 'NOT', 'NOT', 'NOT', 'NOT', 'NOT', 'NOT', 'NOT', 'NOT',\n",
              "       'NOT', 'NOT', 'NOT', 'NOT', 'NOT', 'NOT', 'NOT', 'NOT', 'NOT',\n",
              "       'NOT', 'NOT', 'NOT', 'NOT', 'NOT', 'NOT', 'NOT', 'NOT', 'NOT',\n",
              "       'NOT', 'NOT', 'NOT', 'NOT', 'NOT', 'NOT', 'NOT', 'NOT', 'NOT',\n",
              "       'NOT', 'NOT', 'NOT', 'NOT', 'NOT', 'NOT', 'NOT', 'NOT', 'NOT',\n",
              "       'NOT', 'NOT', 'NOT', 'NOT', 'NOT', 'NOT', 'NOT', 'NOT', 'NOT',\n",
              "       'NOT', 'NOT', 'NOT', 'NOT', 'NOT', 'NOT', 'NOT', 'NOT', 'NOT',\n",
              "       'NOT', 'NOT', 'NOT', 'NOT', 'NOT', 'NOT', 'NOT', 'NOT', 'NOT',\n",
              "       'NOT', 'NOT', 'NOT', 'NOT', 'NOT', 'NOT', 'NOT', 'NOT', 'NOT',\n",
              "       'NOT', 'NOT', 'NOT', 'NOT', 'NOT', 'NOT', 'NOT', 'NOT', 'NOT',\n",
              "       'NOT', 'NOT', 'NOT', 'NOT', 'NOT', 'NOT', 'NOT', 'NOT', 'NOT',\n",
              "       'NOT', 'NOT', 'NOT', 'NOT', 'NOT', 'NOT', 'NOT', 'NOT', 'NOT',\n",
              "       'NOT', 'NOT', 'NOT', 'NOT', 'NOT', 'NOT', 'NOT', 'NOT', 'NOT',\n",
              "       'NOT', 'NOT', 'NOT', 'NOT', 'NOT', 'NOT', 'NOT', 'NOT', 'NOT',\n",
              "       'NOT', 'NOT', 'NOT', 'NOT', 'NOT', 'NOT', 'NOT', 'NOT', 'NOT',\n",
              "       'NOT', 'NOT', 'NOT', 'NOT', 'NOT', 'NOT', 'NOT', 'NOT', 'NOT',\n",
              "       'NOT', 'NOT', 'NOT', 'NOT', 'NOT', 'NOT', 'NOT', 'NOT', 'NOT',\n",
              "       'NOT', 'NOT', 'NOT', 'NOT', 'NOT', 'NOT', 'NOT', 'NOT', 'NOT',\n",
              "       'NOT', 'NOT', 'NOT', 'NOT', 'NOT', 'NOT', 'NOT', 'NOT', 'NOT',\n",
              "       'NOT', 'NOT', 'NOT', 'NOT', 'NOT', 'NOT', 'NOT', 'NOT', 'NOT',\n",
              "       'NOT', 'NOT', 'NOT', 'NOT', 'NOT', 'NOT', 'NOT', 'NOT', 'NOT',\n",
              "       'NOT', 'NOT', 'NOT', 'NOT', 'NOT', 'NOT', 'NOT', 'NOT', 'NOT',\n",
              "       'NOT', 'NOT', 'NOT', 'NOT', 'NOT', 'NOT', 'NOT', 'NOT', 'NOT',\n",
              "       'NOT', 'NOT', 'NOT', 'NOT', 'NOT', 'NOT', 'NOT', 'NOT', 'NOT',\n",
              "       'NOT', 'NOT', 'NOT', 'NOT', 'NOT', 'NOT', 'NOT', 'NOT', 'NOT',\n",
              "       'NOT', 'NOT', 'NOT', 'NOT', 'NOT', 'NOT', 'NOT', 'NOT', 'NOT',\n",
              "       'NOT', 'NOT', 'NOT', 'NOT', 'NOT', 'NOT', 'NOT', 'NOT', 'NOT',\n",
              "       'NOT', 'NOT', 'NOT', 'NOT', 'NOT', 'NOT', 'NOT', 'NOT', 'NOT',\n",
              "       'NOT', 'NOT', 'NOT', 'NOT', 'NOT', 'NOT', 'NOT', 'NOT', 'NOT',\n",
              "       'NOT', 'NOT', 'NOT', 'NOT', 'NOT', 'NOT', 'NOT', 'NOT', 'NOT',\n",
              "       'NOT', 'NOT', 'NOT', 'NOT', 'NOT', 'NOT', 'NOT', 'NOT', 'NOT',\n",
              "       'NOT', 'NOT', 'NOT', 'NOT', 'NOT', 'NOT', 'NOT', 'NOT', 'NOT',\n",
              "       'NOT', 'NOT', 'NOT', 'NOT', 'NOT', 'NOT', 'NOT', 'NOT', 'NOT',\n",
              "       'NOT', 'NOT', 'NOT', 'NOT', 'NOT', 'NOT', 'NOT', 'NOT', 'NOT',\n",
              "       'NOT', 'NOT', 'NOT', 'NOT', 'NOT', 'NOT', 'NOT', 'NOT', 'NOT',\n",
              "       'NOT', 'NOT', 'NOT', 'NOT', 'NOT', 'NOT', 'NOT', 'NOT', 'NOT',\n",
              "       'NOT', 'NOT', 'NOT', 'NOT', 'NOT', 'NOT', 'NOT', 'NOT', 'NOT',\n",
              "       'NOT', 'NOT', 'NOT', 'NOT', 'NOT', 'NOT', 'NOT', 'NOT', 'NOT',\n",
              "       'NOT', 'NOT', 'NOT', 'NOT', 'NOT', 'NOT', 'NOT', 'NOT', 'NOT',\n",
              "       'NOT', 'NOT', 'NOT', 'NOT', 'NOT', 'NOT', 'NOT', 'NOT', 'NOT',\n",
              "       'NOT', 'NOT', 'NOT', 'NOT', 'NOT', 'NOT', 'NOT', 'NOT', 'NOT',\n",
              "       'NOT', 'NOT', 'NOT', 'NOT', 'NOT', 'NOT', 'NOT', 'NOT', 'NOT',\n",
              "       'NOT', 'NOT', 'NOT', 'NOT', 'NOT', 'NOT', 'NOT', 'NOT', 'NOT',\n",
              "       'NOT', 'NOT', 'NOT', 'NOT', 'NOT', 'NOT', 'NOT', 'NOT', 'NOT',\n",
              "       'NOT', 'NOT', 'NOT', 'NOT', 'NOT', 'NOT', 'NOT', 'NOT', 'NOT',\n",
              "       'NOT', 'NOT', 'NOT', 'NOT', 'NOT'], dtype=object)"
            ]
          },
          "metadata": {
            "tags": []
          },
          "execution_count": 32
        }
      ]
    },
    {
      "metadata": {
        "id": "pJL-8NWrQwxb",
        "colab_type": "code",
        "colab": {}
      },
      "cell_type": "code",
      "source": [
        "model= Deep_Neural_Network(x_a,y_a,'lstm',embeddings_index)\n",
        "model.set_optimizer('sgd', lr = 0.001)\n",
        "model.train(epochs=20,batch_size=512)\n",
        "prediction = model.predict(x_test_a)\n",
        "prediction\n"
      ],
      "execution_count": 0,
      "outputs": []
    },
    {
      "metadata": {
        "id": "hmhuc25tiFMT",
        "colab_type": "code",
        "colab": {}
      },
      "cell_type": "code",
      "source": [
        ""
      ],
      "execution_count": 0,
      "outputs": []
    },
    {
      "metadata": {
        "id": "DgRyAaNKyIfA",
        "colab_type": "code",
        "outputId": "c2046796-59ae-465a-c3b1-8f72bf8cb079",
        "colab": {
          "base_uri": "https://localhost:8080/",
          "height": 714
        }
      },
      "cell_type": "code",
      "source": [
        "model= Deep_Neural_Network(x_a,y_a,'cnn2d',embeddings_index)\n",
        "# model.set_optimizer('sgd',lr=0.005)\n",
        "model.train(epochs=20,batch_size=128)"
      ],
      "execution_count": 0,
      "outputs": [
        {
          "output_type": "stream",
          "text": [
            "100%|██████████| 17766/17766 [00:00<00:00, 410030.13it/s]\n"
          ],
          "name": "stderr"
        },
        {
          "output_type": "stream",
          "text": [
            "_________________________________________________________________\n",
            "Layer (type)                 Output Shape              Param #   \n",
            "=================================================================\n",
            "embedding_2 (Embedding)      (None, 280, 50)           888350    \n",
            "_________________________________________________________________\n",
            "reshape_1 (Reshape)          (None, 50, 280, 1)        0         \n",
            "_________________________________________________________________\n",
            "conv2d_1 (Conv2D)            (None, 50, 276, 64)       384       \n",
            "_________________________________________________________________\n",
            "dropout_3 (Dropout)          (None, 50, 276, 64)       0         \n",
            "_________________________________________________________________\n",
            "conv2d_2 (Conv2D)            (None, 49, 274, 32)       12320     \n",
            "_________________________________________________________________\n",
            "dropout_4 (Dropout)          (None, 49, 274, 32)       0         \n",
            "_________________________________________________________________\n",
            "conv2d_3 (Conv2D)            (None, 48, 273, 16)       2064      \n",
            "_________________________________________________________________\n",
            "dropout_5 (Dropout)          (None, 48, 273, 16)       0         \n",
            "_________________________________________________________________\n",
            "flatten_1 (Flatten)          (None, 209664)            0         \n",
            "_________________________________________________________________\n",
            "dense_4 (Dense)              (None, 1)                 209665    \n",
            "=================================================================\n",
            "Total params: 1,112,783\n",
            "Trainable params: 224,433\n",
            "Non-trainable params: 888,350\n",
            "_________________________________________________________________\n",
            "Train on 10592 samples, validate on 2648 samples\n",
            "Epoch 1/20\n",
            "10592/10592 [==============================] - 38s 4ms/step - loss: 0.6414 - acc: 0.6655 - val_loss: 0.6907 - val_acc: 0.6677\n",
            "Epoch 2/20\n",
            "10592/10592 [==============================] - 35s 3ms/step - loss: 0.6379 - acc: 0.6677 - val_loss: 0.6895 - val_acc: 0.6677\n",
            "Epoch 3/20\n",
            "10592/10592 [==============================] - 35s 3ms/step - loss: 0.6405 - acc: 0.6677 - val_loss: 0.6885 - val_acc: 0.6677\n",
            "Epoch 4/20\n",
            "10592/10592 [==============================] - 35s 3ms/step - loss: 0.6384 - acc: 0.6677 - val_loss: 0.6794 - val_acc: 0.6677\n",
            "Epoch 5/20\n",
            "10592/10592 [==============================] - 35s 3ms/step - loss: 0.6394 - acc: 0.6677 - val_loss: 0.6842 - val_acc: 0.6677\n",
            "Epoch 6/20\n",
            " 4608/10592 [============>.................] - ETA: 18s - loss: 0.6347 - acc: 0.6734"
          ],
          "name": "stdout"
        }
      ]
    },
    {
      "metadata": {
        "id": "P8NFuYsiLqVc",
        "colab_type": "code",
        "outputId": "cbc37f3b-4283-457a-b144-d15645efb4cc",
        "colab": {
          "base_uri": "https://localhost:8080/",
          "height": 1387
        }
      },
      "cell_type": "code",
      "source": [
        "model= Deep_Neural_Network(x_a,y_a,'cnn',embeddings_index)\n",
        "model.set_optimizer('rmsprop',lr=0.005)\n",
        "model.train(epochs=20,batch_size=128)\n",
        "prediction=model.predict(x_test_a)\n",
        "model.save('task_a_cnn.h5')\n",
        "print(prediction)\n",
        "prediction =lbl.inverse_transform(prediction)\n",
        "out = pd.DataFrame({'id':df_a.id.values,'label':prediction})\n",
        "out.to_csv('drive/My Drive/data/nlp_output/task_a_cnn.csv',header=None, index=None)\n",
        "out.head()"
      ],
      "execution_count": 0,
      "outputs": [
        {
          "output_type": "stream",
          "text": [
            "100%|██████████| 17766/17766 [00:00<00:00, 435557.25it/s]\n"
          ],
          "name": "stderr"
        },
        {
          "output_type": "stream",
          "text": [
            "_________________________________________________________________\n",
            "Layer (type)                 Output Shape              Param #   \n",
            "=================================================================\n",
            "embedding_7 (Embedding)      (None, 280, 300)          5330100   \n",
            "_________________________________________________________________\n",
            "conv1d_1 (Conv1D)            (None, 280, 64)           57664     \n",
            "_________________________________________________________________\n",
            "max_pooling1d_1 (MaxPooling1 (None, 94, 64)            0         \n",
            "_________________________________________________________________\n",
            "conv1d_2 (Conv1D)            (None, 94, 32)            6176      \n",
            "_________________________________________________________________\n",
            "max_pooling1d_2 (MaxPooling1 (None, 32, 32)            0         \n",
            "_________________________________________________________________\n",
            "conv1d_3 (Conv1D)            (None, 32, 16)            1552      \n",
            "_________________________________________________________________\n",
            "flatten_1 (Flatten)          (None, 512)               0         \n",
            "_________________________________________________________________\n",
            "dropout_13 (Dropout)         (None, 512)               0         \n",
            "_________________________________________________________________\n",
            "batch_normalization_1 (Batch (None, 512)               2048      \n",
            "_________________________________________________________________\n",
            "dense_19 (Dense)             (None, 256)               131328    \n",
            "_________________________________________________________________\n",
            "dropout_14 (Dropout)         (None, 256)               0         \n",
            "_________________________________________________________________\n",
            "dense_20 (Dense)             (None, 1)                 257       \n",
            "=================================================================\n",
            "Total params: 5,529,125\n",
            "Trainable params: 198,001\n",
            "Non-trainable params: 5,331,124\n",
            "_________________________________________________________________\n",
            "Train on 10592 samples, validate on 2648 samples\n",
            "Epoch 1/20\n",
            "10592/10592 [==============================] - 5s 464us/step - loss: 0.5818 - acc: 0.6952 - val_loss: 0.5616 - val_acc: 0.7058\n",
            "Epoch 2/20\n",
            "10592/10592 [==============================] - 2s 159us/step - loss: 0.4727 - acc: 0.7795 - val_loss: 0.5111 - val_acc: 0.7617\n",
            "Epoch 3/20\n",
            "10592/10592 [==============================] - 2s 158us/step - loss: 0.3899 - acc: 0.8260 - val_loss: 0.5916 - val_acc: 0.7587\n",
            "Epoch 4/20\n",
            "10592/10592 [==============================] - 2s 159us/step - loss: 0.3001 - acc: 0.8751 - val_loss: 0.6582 - val_acc: 0.7485\n",
            "Epoch 5/20\n",
            "10592/10592 [==============================] - 2s 156us/step - loss: 0.2139 - acc: 0.9163 - val_loss: 0.8144 - val_acc: 0.7134\n",
            "[0 0 0 0 0 0 0 0 0 0 0 0 0 0 0 0 0 0 0 0 0 0 0 0 0 0 0 0 0 0 0 0 0 0 0 0 0\n",
            " 0 0 0 0 0 0 0 0 0 0 0 0 0 0 0 0 0 0 0 0 0 0 0 0 0 0 0 0 0 0 0 0 0 0 0 0 0\n",
            " 0 0 0 0 0 0 0 0 0 0 0 0 0 0 0 0 0 0 0 0 0 0 0 0 0 0 0 0 0 0 0 0 0 0 0 0 0\n",
            " 0 0 0 0 0 0 0 0 0 0 0 0 0 0 0 0 0 0 0 0 0 0 0 0 0 0 0 0 0 0 0 0 0 0 0 0 0\n",
            " 0 0 0 0 0 0 0 0 0 0 0 0 0 0 0 0 0 0 0 0 0 0 0 0 0 0 0 0 0 0 0 0 0 0 0 0 0\n",
            " 0 0 0 0 0 0 0 0 0 0 0 0 0 0 0 0 0 0 0 0 0 0 0 0 0 0 0 0 0 0 0 0 0 0 0 0 0\n",
            " 0 0 0 0 0 0 0 0 0 0 0 0 0 0 0 0 0 0 0 0 0 0 0 0 0 0 0 0 0 0 0 0 0 0 0 0 0\n",
            " 0 0 0 0 0 0 0 0 0 0 0 0 0 0 0 0 0 0 0 0 0 0 0 0 0 0 0 0 0 0 0 0 0 0 0 0 0\n",
            " 0 0 0 0 0 0 0 0 0 0 0 0 0 0 0 0 0 0 0 0 0 0 0 0 0 0 0 0 0 0 0 0 0 0 0 0 0\n",
            " 0 0 0 0 0 0 0 0 0 0 0 0 0 0 0 0 0 0 0 0 0 0 0 0 0 0 0 0 0 0 0 0 0 0 0 0 0\n",
            " 0 0 0 0 0 0 0 0 0 0 0 0 0 0 0 0 0 0 0 0 0 0 0 0 0 0 0 0 0 0 0 0 0 0 0 0 0\n",
            " 0 0 0 0 0 0 0 0 0 0 0 0 0 0 0 0 0 0 0 0 0 0 0 0 0 0 0 0 0 0 0 0 0 0 0 0 0\n",
            " 0 0 0 0 0 0 0 0 0 0 0 0 0 0 0 0 0 0 0 0 0 0 0 0 0 0 0 0 0 0 0 0 0 0 0 0 0\n",
            " 0 0 0 0 0 0 0 0 0 0 0 0 0 0 0 0 0 0 0 0 0 0 0 0 0 0 0 0 0 0 0 0 0 0 0 0 0\n",
            " 0 0 0 0 0 0 0 0 0 0 0 0 0 0 0 0 0 0 0 0 0 0 0 0 0 0 0 0 0 0 0 0 0 0 0 0 0\n",
            " 0 0 0 0 0 0 0 0 0 0 0 0 0 0 0 0 0 0 0 0 0 0 0 0 0 0 0 0 0 0 0 0 0 0 0 0 0\n",
            " 0 0 0 0 0 0 0 0 0 0 0 0 0 0 0 0 0 0 0 0 0 0 0 0 0 0 0 0 0 0 0 0 0 0 0 0 0\n",
            " 0 0 0 0 0 0 0 0 0 0 0 0 0 0 0 0 0 0 0 0 0 0 0 0 0 0 0 0 0 0 0 0 0 0 0 0 0\n",
            " 0 0 0 0 0 0 0 0 0 0 0 0 0 0 0 0 0 0 0 0 0 0 0 0 0 0 0 0 0 0 0 0 0 0 0 0 0\n",
            " 0 0 0 0 0 0 0 0 0 0 0 0 0 0 0 0 0 0 0 0 0 0 0 0 0 0 0 0 0 0 0 0 0 0 0 0 0\n",
            " 0 0 0 0 0 0 0 0 0 0 0 0 0 0 0 0 0 0 0 0 0 0 0 0 0 0 0 0 0 0 0 0 0 0 0 0 0\n",
            " 0 0 0 0 0 0 0 0 0 0 0 0 0 0 0 0 0 0 0 0 0 0 0 0 0 0 0 0 0 0 0 0 0 0 0 0 0\n",
            " 0 0 0 0 0 0 0 0 0 0 0 0 0 0 0 0 0 0 0 0 0 0 0 0 0 0 0 0 0 0 0 0 0 0 0 0 0\n",
            " 0 0 0 0 0 0 0 0 0]\n"
          ],
          "name": "stdout"
        },
        {
          "output_type": "execute_result",
          "data": {
            "text/html": [
              "<div>\n",
              "<style scoped>\n",
              "    .dataframe tbody tr th:only-of-type {\n",
              "        vertical-align: middle;\n",
              "    }\n",
              "\n",
              "    .dataframe tbody tr th {\n",
              "        vertical-align: top;\n",
              "    }\n",
              "\n",
              "    .dataframe thead th {\n",
              "        text-align: right;\n",
              "    }\n",
              "</style>\n",
              "<table border=\"1\" class=\"dataframe\">\n",
              "  <thead>\n",
              "    <tr style=\"text-align: right;\">\n",
              "      <th></th>\n",
              "      <th>id</th>\n",
              "      <th>label</th>\n",
              "    </tr>\n",
              "  </thead>\n",
              "  <tbody>\n",
              "    <tr>\n",
              "      <th>0</th>\n",
              "      <td>15923</td>\n",
              "      <td>NOT</td>\n",
              "    </tr>\n",
              "    <tr>\n",
              "      <th>1</th>\n",
              "      <td>27014</td>\n",
              "      <td>NOT</td>\n",
              "    </tr>\n",
              "    <tr>\n",
              "      <th>2</th>\n",
              "      <td>30530</td>\n",
              "      <td>NOT</td>\n",
              "    </tr>\n",
              "    <tr>\n",
              "      <th>3</th>\n",
              "      <td>13876</td>\n",
              "      <td>NOT</td>\n",
              "    </tr>\n",
              "    <tr>\n",
              "      <th>4</th>\n",
              "      <td>60133</td>\n",
              "      <td>NOT</td>\n",
              "    </tr>\n",
              "  </tbody>\n",
              "</table>\n",
              "</div>"
            ],
            "text/plain": [
              "      id label\n",
              "0  15923   NOT\n",
              "1  27014   NOT\n",
              "2  30530   NOT\n",
              "3  13876   NOT\n",
              "4  60133   NOT"
            ]
          },
          "metadata": {
            "tags": []
          },
          "execution_count": 35
        }
      ]
    },
    {
      "metadata": {
        "id": "RqbeyKF9y6ZN",
        "colab_type": "text"
      },
      "cell_type": "markdown",
      "source": [
        "# Task B"
      ]
    },
    {
      "metadata": {
        "id": "khawfBtwy7qB",
        "colab_type": "code",
        "outputId": "32a105d7-b2b5-4774-d23d-e2f9b385afa9",
        "colab": {
          "base_uri": "https://localhost:8080/",
          "height": 56
        }
      },
      "cell_type": "code",
      "source": [
        "lbl = LabelEncoder()\n",
        "y = lbl.fit_transform(df.subtask_a.values)\n",
        "x = df.tweet.values\n",
        "taskb_idx= y==1\n",
        "y_b =df.subtask_b.values[taskb_idx]\n",
        "y_b = np.where(y_b=='TIN',1,0)\n",
        "x_b = x[taskb_idx]\n",
        "\n",
        "# load test data\n",
        "df_b = pd.read_csv(testB_path,sep='\\t')\n",
        "df_b = preprocess(df_b)\n",
        "x_test_b = df_b.tweet.values\n",
        "\n"
      ],
      "execution_count": 0,
      "outputs": [
        {
          "output_type": "stream",
          "text": [
            "-------Remove Stop Word--------\n"
          ],
          "name": "stdout"
        }
      ]
    },
    {
      "metadata": {
        "id": "iAxnM3r1zOAH",
        "colab_type": "code",
        "outputId": "02ff67e6-edd7-4bd4-c5f2-d323210de72c",
        "colab": {
          "base_uri": "https://localhost:8080/",
          "height": 253
        }
      },
      "cell_type": "code",
      "source": [
        "# TF_IDF\n",
        "clf = Bag_of_word('logistic','tf_idf')\n",
        "cv = clf.validate_clf(x_b, y_b)\n",
        "print('mean cross validation for Logistic regression is', cv)\n",
        "\n",
        "clf = Bag_of_word('naive_bayes','tf_idf')\n",
        "cv = clf.validate_clf(x_b, y_b)\n",
        "print('mean cross validation for Naive_Bayes is', cv)\n",
        "\n",
        "clf = Bag_of_word('xgboost','tf_idf')\n",
        "cv = clf.validate_clf(x_b, y_b)\n",
        "print('mean cross validation for Xgboost is', cv)\n",
        "\n",
        "clf = Bag_of_word('random_forest','tf_idf')\n",
        "cv = clf.validate_clf(x_b, y_b)\n",
        "print('mean cross validation for Random Forest is', cv)\n",
        "\n",
        "clf = Bag_of_word('svm','tf_idf')\n",
        "cv = clf.validate_clf(x_b, y_b)\n",
        "print('mean cross validation for SVM is', cv)"
      ],
      "execution_count": 0,
      "outputs": [
        {
          "output_type": "stream",
          "text": [
            "start k-fold validate...\n",
            "mean cross validation for Logistic regression is 0.8811405181938863\n",
            "start k-fold validate...\n",
            "mean cross validation for Naive_Bayes is 0.8809106639825807\n",
            "start k-fold validate...\n",
            "mean cross validation for Xgboost is 0.873188005995523\n",
            "start k-fold validate...\n",
            "mean cross validation for Random Forest is 0.876824383719112\n",
            "start k-fold validate...\n",
            "mean cross validation for SVM is 0.8752293306360993\n"
          ],
          "name": "stdout"
        }
      ]
    },
    {
      "metadata": {
        "id": "TizYKIJXO-2z",
        "colab_type": "code",
        "outputId": "54f7735e-6b90-4fdd-d392-0aed2b3ea2c7",
        "colab": {
          "base_uri": "https://localhost:8080/",
          "height": 193
        }
      },
      "cell_type": "code",
      "source": [
        "# Word Count\n",
        "clf = Bag_of_word('logistic','word_count')\n",
        "cv = clf.validate_clf(x_b, y_b)\n",
        "print('mean cross validation for Logistic regression is', cv)\n",
        "\n",
        "clf = Bag_of_word('naive_bayes','word_count')\n",
        "cv = clf.validate_clf(x_b, y_b)\n",
        "print('mean cross validation for Naive_Bayes is', cv)\n",
        "\n",
        "clf = Bag_of_word('xgboost','word_count')\n",
        "cv = clf.validate_clf(x_b, y_b)\n",
        "print('mean cross validation for Xgboost is', cv)\n",
        "\n",
        "clf = Bag_of_word('random_forest','word_count')\n",
        "cv = clf.validate_clf(x_b, y_b)\n",
        "print('mean cross validation for Random Forest is', cv)\n",
        "\n",
        "clf = Bag_of_word('svm','word_count')\n",
        "cv = clf.validate_clf(x_b, y_b)\n",
        "print('mean cross validation for SVM is', cv)"
      ],
      "execution_count": 0,
      "outputs": [
        {
          "output_type": "stream",
          "text": [
            "start k-fold validate...\n",
            "mean cross validation for Logistic regression is 0.8688630940054629\n",
            "start k-fold validate...\n",
            "mean cross validation for Naive_Bayes is 0.8450060821595153\n",
            "start k-fold validate...\n",
            "mean cross validation for Xgboost is 0.8779550690297517\n",
            "start k-fold validate...\n",
            "mean cross validation for Random Forest is 0.8681900509910596\n",
            "start k-fold validate...\n",
            "mean cross validation for SVM is 0.8284089089490978\n"
          ],
          "name": "stdout"
        }
      ]
    },
    {
      "metadata": {
        "id": "OEbhnGTtSZel",
        "colab_type": "code",
        "outputId": "a5c9b20b-7df9-433e-928d-9d264eb6028f",
        "colab": {
          "base_uri": "https://localhost:8080/",
          "height": 352
        }
      },
      "cell_type": "code",
      "source": [
        "model= Deep_Neural_Network(x_b,y_b,'lstm',embeddings_index)\n",
        "model.set_optimizer('rmsprop')\n",
        "model.train(epochs=20,batch_size=128)\n",
        "model.save('task_b_lstm.h5')\n",
        "prediction = model.predict(x_test_b)\n",
        "prediction =np.where(prediction==0, 'UNT','TIN')\n",
        "out = pd.DataFrame({'id':df_b.id.values,'label':prediction})\n",
        "out.to_csv('drive/My Drive/data/nlp_output/task_b_lstm.csv',header=None, index=None)\n",
        "out.head()"
      ],
      "execution_count": 0,
      "outputs": [
        {
          "output_type": "stream",
          "text": [
            "[0 0 0 0 0 0 0 0 0 0 0 0 0 0 0 0 0 0 0 0 0 0 0 0 0 0 0 0 0 0 0 0 0 0 0 0 0\n",
            " 0 0 0 0 0 0 0 0 0 0 0 0 0 0 0 0 0 0 0 0 0 0 0 0 0 0 0 0 0 0 0 0 0 0 0 0 0\n",
            " 0 0 0 0 0 0 0 0 0 0 0 0 0 0 0 0 0 0 0 0 0 0 0 0 0 0 0 0 0 0 0 0 0 0 0 0 0\n",
            " 0 0 0 0 0 0 0 0 0 0 0 0 0 0 0 0 0 0 0 0 0 0 0 0 0 0 0 0 0 0 0 0 0 0 0 0 0\n",
            " 0 0 0 0 0 0 0 0 0 0 0 0 0 0 0 0 0 0 0 0 0 0 0 0 0 0 0 0 0 0 0 0 0 0 0 0 0\n",
            " 0 0 0 0 0 0 0 0 0 0 0 0 0 0 0 0 0 0 0 0 0 0 0 0 0 0 0 0 0 0 0 0 0 0 0 0 0\n",
            " 0 0 0 0 0 0 0 0 0 0 0 0 0 0 0 0 0 0]\n"
          ],
          "name": "stdout"
        },
        {
          "output_type": "execute_result",
          "data": {
            "text/html": [
              "<div>\n",
              "<style scoped>\n",
              "    .dataframe tbody tr th:only-of-type {\n",
              "        vertical-align: middle;\n",
              "    }\n",
              "\n",
              "    .dataframe tbody tr th {\n",
              "        vertical-align: top;\n",
              "    }\n",
              "\n",
              "    .dataframe thead th {\n",
              "        text-align: right;\n",
              "    }\n",
              "</style>\n",
              "<table border=\"1\" class=\"dataframe\">\n",
              "  <thead>\n",
              "    <tr style=\"text-align: right;\">\n",
              "      <th></th>\n",
              "      <th>id</th>\n",
              "      <th>label</th>\n",
              "    </tr>\n",
              "  </thead>\n",
              "  <tbody>\n",
              "    <tr>\n",
              "      <th>0</th>\n",
              "      <td>15923</td>\n",
              "      <td>UNT</td>\n",
              "    </tr>\n",
              "    <tr>\n",
              "      <th>1</th>\n",
              "      <td>60133</td>\n",
              "      <td>UNT</td>\n",
              "    </tr>\n",
              "    <tr>\n",
              "      <th>2</th>\n",
              "      <td>83681</td>\n",
              "      <td>UNT</td>\n",
              "    </tr>\n",
              "    <tr>\n",
              "      <th>3</th>\n",
              "      <td>65507</td>\n",
              "      <td>UNT</td>\n",
              "    </tr>\n",
              "    <tr>\n",
              "      <th>4</th>\n",
              "      <td>12588</td>\n",
              "      <td>UNT</td>\n",
              "    </tr>\n",
              "  </tbody>\n",
              "</table>\n",
              "</div>"
            ],
            "text/plain": [
              "      id label\n",
              "0  15923   UNT\n",
              "1  60133   UNT\n",
              "2  83681   UNT\n",
              "3  65507   UNT\n",
              "4  12588   UNT"
            ]
          },
          "metadata": {
            "tags": []
          },
          "execution_count": 41
        }
      ]
    },
    {
      "metadata": {
        "id": "yINxOW1ZksUp",
        "colab_type": "code",
        "outputId": "45cc9ef4-07bd-40ca-ac27-48dfe6d9c401",
        "colab": {
          "base_uri": "https://localhost:8080/",
          "height": 228
        }
      },
      "cell_type": "code",
      "source": [
        "df.head()"
      ],
      "execution_count": 0,
      "outputs": [
        {
          "output_type": "execute_result",
          "data": {
            "text/html": [
              "<div>\n",
              "<style scoped>\n",
              "    .dataframe tbody tr th:only-of-type {\n",
              "        vertical-align: middle;\n",
              "    }\n",
              "\n",
              "    .dataframe tbody tr th {\n",
              "        vertical-align: top;\n",
              "    }\n",
              "\n",
              "    .dataframe thead th {\n",
              "        text-align: right;\n",
              "    }\n",
              "</style>\n",
              "<table border=\"1\" class=\"dataframe\">\n",
              "  <thead>\n",
              "    <tr style=\"text-align: right;\">\n",
              "      <th></th>\n",
              "      <th>id</th>\n",
              "      <th>tweet</th>\n",
              "      <th>subtask_a</th>\n",
              "      <th>subtask_b</th>\n",
              "      <th>subtask_c</th>\n",
              "    </tr>\n",
              "  </thead>\n",
              "  <tbody>\n",
              "    <tr>\n",
              "      <th>0</th>\n",
              "      <td>86426</td>\n",
              "      <td>she ask native americans take is</td>\n",
              "      <td>OFF</td>\n",
              "      <td>UNT</td>\n",
              "      <td>NaN</td>\n",
              "    </tr>\n",
              "    <tr>\n",
              "      <th>1</th>\n",
              "      <td>90194</td>\n",
              "      <td>go home youre drunk  maga trump</td>\n",
              "      <td>OFF</td>\n",
              "      <td>TIN</td>\n",
              "      <td>IND</td>\n",
              "    </tr>\n",
              "    <tr>\n",
              "      <th>2</th>\n",
              "      <td>16820</td>\n",
              "      <td>amazon investigating chinese employees selling...</td>\n",
              "      <td>NOT</td>\n",
              "      <td>NaN</td>\n",
              "      <td>NaN</td>\n",
              "    </tr>\n",
              "    <tr>\n",
              "      <th>3</th>\n",
              "      <td>62688</td>\n",
              "      <td>someone shouldvetaken piece shit volcano</td>\n",
              "      <td>OFF</td>\n",
              "      <td>UNT</td>\n",
              "      <td>NaN</td>\n",
              "    </tr>\n",
              "    <tr>\n",
              "      <th>4</th>\n",
              "      <td>43605</td>\n",
              "      <td>obama wanted liberals amp illegals move red ...</td>\n",
              "      <td>NOT</td>\n",
              "      <td>NaN</td>\n",
              "      <td>NaN</td>\n",
              "    </tr>\n",
              "  </tbody>\n",
              "</table>\n",
              "</div>"
            ],
            "text/plain": [
              "      id                                              tweet subtask_a  \\\n",
              "0  86426                   she ask native americans take is       OFF   \n",
              "1  90194                  go home youre drunk  maga trump         OFF   \n",
              "2  16820  amazon investigating chinese employees selling...       NOT   \n",
              "3  62688          someone shouldvetaken piece shit volcano        OFF   \n",
              "4  43605    obama wanted liberals amp illegals move red ...       NOT   \n",
              "\n",
              "  subtask_b subtask_c  \n",
              "0       UNT       NaN  \n",
              "1       TIN       IND  \n",
              "2       NaN       NaN  \n",
              "3       UNT       NaN  \n",
              "4       NaN       NaN  "
            ]
          },
          "metadata": {
            "tags": []
          },
          "execution_count": 40
        }
      ]
    },
    {
      "metadata": {
        "id": "eLFPnAMXV_5Q",
        "colab_type": "code",
        "outputId": "9facab56-5716-4470-97ef-91001a5c044f",
        "colab": {
          "base_uri": "https://localhost:8080/",
          "height": 1008
        }
      },
      "cell_type": "code",
      "source": [
        "model= Deep_Neural_Network(x_b,y_b,'gru',embeddings_index)\n",
        "model.set_optimizer('adam', lr = 0.000001)\n",
        "model.train(epochs=20,batch_size=256)"
      ],
      "execution_count": 0,
      "outputs": [
        {
          "output_type": "stream",
          "text": [
            "100%|██████████| 9290/9290 [00:00<00:00, 380499.82it/s]\n"
          ],
          "name": "stderr"
        },
        {
          "output_type": "stream",
          "text": [
            "_________________________________________________________________\n",
            "Layer (type)                 Output Shape              Param #   \n",
            "=================================================================\n",
            "embedding_14 (Embedding)     (None, 280, 300)          2787300   \n",
            "_________________________________________________________________\n",
            "spatial_dropout1d_11 (Spatia (None, 280, 300)          0         \n",
            "_________________________________________________________________\n",
            "gru_7 (GRU)                  (None, 280, 128)          164736    \n",
            "_________________________________________________________________\n",
            "gru_8 (GRU)                  (None, 64)                37056     \n",
            "_________________________________________________________________\n",
            "dense_37 (Dense)             (None, 256)               16640     \n",
            "_________________________________________________________________\n",
            "dropout_32 (Dropout)         (None, 256)               0         \n",
            "_________________________________________________________________\n",
            "dense_38 (Dense)             (None, 128)               32896     \n",
            "_________________________________________________________________\n",
            "dropout_33 (Dropout)         (None, 128)               0         \n",
            "_________________________________________________________________\n",
            "dense_39 (Dense)             (None, 1)                 129       \n",
            "=================================================================\n",
            "Total params: 3,038,757\n",
            "Trainable params: 251,457\n",
            "Non-trainable params: 2,787,300\n",
            "_________________________________________________________________\n",
            "Train on 3520 samples, validate on 880 samples\n",
            "Epoch 1/20\n",
            "3520/3520 [==============================] - 23s 7ms/step - loss: 0.5072 - acc: 0.7957 - val_loss: 0.4002 - val_acc: 0.8807\n",
            "Epoch 2/20\n",
            "3520/3520 [==============================] - 15s 4ms/step - loss: 0.3708 - acc: 0.8810 - val_loss: 0.3569 - val_acc: 0.8807\n",
            "Epoch 3/20\n",
            "3520/3520 [==============================] - 16s 4ms/step - loss: 0.3571 - acc: 0.8810 - val_loss: 0.3531 - val_acc: 0.8807\n",
            "Epoch 4/20\n",
            "3520/3520 [==============================] - 15s 4ms/step - loss: 0.3465 - acc: 0.8810 - val_loss: 0.3553 - val_acc: 0.8807\n",
            "Epoch 5/20\n",
            "3520/3520 [==============================] - 15s 4ms/step - loss: 0.3469 - acc: 0.8810 - val_loss: 0.3517 - val_acc: 0.8807\n",
            "Epoch 6/20\n",
            "3520/3520 [==============================] - 15s 4ms/step - loss: 0.3428 - acc: 0.8810 - val_loss: 0.3506 - val_acc: 0.8807\n",
            "Epoch 7/20\n",
            "3520/3520 [==============================] - 15s 4ms/step - loss: 0.3403 - acc: 0.8810 - val_loss: 0.3485 - val_acc: 0.8807\n",
            "Epoch 8/20\n",
            "3520/3520 [==============================] - 15s 4ms/step - loss: 0.3350 - acc: 0.8810 - val_loss: 0.3492 - val_acc: 0.8807\n",
            "Epoch 9/20\n",
            "3520/3520 [==============================] - 15s 4ms/step - loss: 0.3337 - acc: 0.8810 - val_loss: 0.3488 - val_acc: 0.8807\n",
            "Epoch 10/20\n",
            "3520/3520 [==============================] - 15s 4ms/step - loss: 0.3254 - acc: 0.8807 - val_loss: 0.3527 - val_acc: 0.8807\n"
          ],
          "name": "stdout"
        }
      ]
    },
    {
      "metadata": {
        "id": "b-edVMlySg_B",
        "colab_type": "code",
        "outputId": "bbe1cb65-0831-4764-a74b-e7f2c1bacaff",
        "colab": {
          "base_uri": "https://localhost:8080/",
          "height": 1055
        }
      },
      "cell_type": "code",
      "source": [
        "model= Deep_Neural_Network(x_b,y_b,'cnn',embeddings_index)\n",
        "model.set_optimizer('adam',lr=0.000005)\n",
        "model.train(epochs=20,batch_size=256)\n",
        "model.save('task_b_cnn.h5')\n",
        "prediction = model.predict(x_test_b)\n",
        "prediction =np.where(prediction==0, 'UNT','TIN')\n",
        "out = pd.DataFrame({'id':df_b.id.values,'label':prediction})\n",
        "out.to_csv('drive/My Drive/data/nlp_output/task_b_cnn.csv',header=None, index=None)\n",
        "out.head()"
      ],
      "execution_count": 0,
      "outputs": [
        {
          "output_type": "stream",
          "text": [
            "100%|██████████| 9290/9290 [00:00<00:00, 340529.47it/s]\n"
          ],
          "name": "stderr"
        },
        {
          "output_type": "stream",
          "text": [
            "_________________________________________________________________\n",
            "Layer (type)                 Output Shape              Param #   \n",
            "=================================================================\n",
            "embedding_10 (Embedding)     (None, 280, 300)          2787300   \n",
            "_________________________________________________________________\n",
            "conv1d_4 (Conv1D)            (None, 280, 64)           57664     \n",
            "_________________________________________________________________\n",
            "max_pooling1d_3 (MaxPooling1 (None, 94, 64)            0         \n",
            "_________________________________________________________________\n",
            "conv1d_5 (Conv1D)            (None, 94, 32)            6176      \n",
            "_________________________________________________________________\n",
            "max_pooling1d_4 (MaxPooling1 (None, 32, 32)            0         \n",
            "_________________________________________________________________\n",
            "conv1d_6 (Conv1D)            (None, 32, 16)            1552      \n",
            "_________________________________________________________________\n",
            "flatten_2 (Flatten)          (None, 512)               0         \n",
            "_________________________________________________________________\n",
            "dropout_17 (Dropout)         (None, 512)               0         \n",
            "_________________________________________________________________\n",
            "batch_normalization_2 (Batch (None, 512)               2048      \n",
            "_________________________________________________________________\n",
            "dense_24 (Dense)             (None, 256)               131328    \n",
            "_________________________________________________________________\n",
            "dropout_18 (Dropout)         (None, 256)               0         \n",
            "_________________________________________________________________\n",
            "dense_25 (Dense)             (None, 1)                 257       \n",
            "=================================================================\n",
            "Total params: 2,986,325\n",
            "Trainable params: 198,001\n",
            "Non-trainable params: 2,788,324\n",
            "_________________________________________________________________\n",
            "Train on 3520 samples, validate on 880 samples\n",
            "Epoch 1/20\n",
            "3520/3520 [==============================] - 5s 1ms/step - loss: 0.4632 - acc: 0.8207 - val_loss: 0.3801 - val_acc: 0.8807\n",
            "Epoch 2/20\n",
            "3520/3520 [==============================] - 0s 128us/step - loss: 0.3502 - acc: 0.8810 - val_loss: 0.3675 - val_acc: 0.8807\n",
            "Epoch 3/20\n",
            "3520/3520 [==============================] - 0s 129us/step - loss: 0.3188 - acc: 0.8807 - val_loss: 0.3610 - val_acc: 0.8807\n",
            "Epoch 4/20\n",
            "3520/3520 [==============================] - 0s 128us/step - loss: 0.2640 - acc: 0.8872 - val_loss: 0.3599 - val_acc: 0.8807\n",
            "Epoch 5/20\n",
            "3520/3520 [==============================] - 0s 127us/step - loss: 0.1985 - acc: 0.9190 - val_loss: 0.3839 - val_acc: 0.8568\n",
            "Epoch 6/20\n",
            "3520/3520 [==============================] - 0s 129us/step - loss: 0.1268 - acc: 0.9591 - val_loss: 0.4717 - val_acc: 0.8761\n",
            "Epoch 7/20\n",
            "3520/3520 [==============================] - 0s 126us/step - loss: 0.0747 - acc: 0.9798 - val_loss: 0.4705 - val_acc: 0.8568\n"
          ],
          "name": "stdout"
        },
        {
          "output_type": "execute_result",
          "data": {
            "text/html": [
              "<div>\n",
              "<style scoped>\n",
              "    .dataframe tbody tr th:only-of-type {\n",
              "        vertical-align: middle;\n",
              "    }\n",
              "\n",
              "    .dataframe tbody tr th {\n",
              "        vertical-align: top;\n",
              "    }\n",
              "\n",
              "    .dataframe thead th {\n",
              "        text-align: right;\n",
              "    }\n",
              "</style>\n",
              "<table border=\"1\" class=\"dataframe\">\n",
              "  <thead>\n",
              "    <tr style=\"text-align: right;\">\n",
              "      <th></th>\n",
              "      <th>id</th>\n",
              "      <th>label</th>\n",
              "    </tr>\n",
              "  </thead>\n",
              "  <tbody>\n",
              "    <tr>\n",
              "      <th>0</th>\n",
              "      <td>15923</td>\n",
              "      <td>UNT</td>\n",
              "    </tr>\n",
              "    <tr>\n",
              "      <th>1</th>\n",
              "      <td>60133</td>\n",
              "      <td>UNT</td>\n",
              "    </tr>\n",
              "    <tr>\n",
              "      <th>2</th>\n",
              "      <td>83681</td>\n",
              "      <td>UNT</td>\n",
              "    </tr>\n",
              "    <tr>\n",
              "      <th>3</th>\n",
              "      <td>65507</td>\n",
              "      <td>UNT</td>\n",
              "    </tr>\n",
              "    <tr>\n",
              "      <th>4</th>\n",
              "      <td>12588</td>\n",
              "      <td>UNT</td>\n",
              "    </tr>\n",
              "  </tbody>\n",
              "</table>\n",
              "</div>"
            ],
            "text/plain": [
              "      id label\n",
              "0  15923   UNT\n",
              "1  60133   UNT\n",
              "2  83681   UNT\n",
              "3  65507   UNT\n",
              "4  12588   UNT"
            ]
          },
          "metadata": {
            "tags": []
          },
          "execution_count": 42
        }
      ]
    },
    {
      "metadata": {
        "id": "RMZKs3vDSaaB",
        "colab_type": "code",
        "outputId": "8d55b86c-5d4c-4ad5-e62f-92671b82d6a5",
        "colab": {
          "base_uri": "https://localhost:8080/",
          "height": 646
        }
      },
      "cell_type": "code",
      "source": [
        "model= Deep_Neural_Network(x_b,y_b,'lstm',embeddings_index)\n",
        "model.set_optimizer('rmsprop')\n",
        "model.train(epochs=20,batch_size=512)\n",
        "model.save('task_b_lstm.h5')\n",
        "prediction = model.predict(x_test_b)\n",
        "prediction =np.where(prediction==0, 'UNT','TIN')\n",
        "out = pd.DataFrame({'id':df_b.id.values,'label':prediction})\n",
        "out.to_csv('drive/My Drive/data/nlp_output/task_b_lstm.csv',header=None, index=None)\n",
        "out.head()"
      ],
      "execution_count": 0,
      "outputs": [
        {
          "output_type": "stream",
          "text": [
            "100%|██████████| 9290/9290 [00:00<00:00, 331020.49it/s]\n"
          ],
          "name": "stderr"
        },
        {
          "output_type": "stream",
          "text": [
            "_________________________________________________________________\n",
            "Layer (type)                 Output Shape              Param #   \n",
            "=================================================================\n",
            "embedding_10 (Embedding)     (None, 280, 300)          2787300   \n",
            "_________________________________________________________________\n",
            "spatial_dropout1d_5 (Spatial (None, 280, 300)          0         \n",
            "_________________________________________________________________\n",
            "bidirectional_3 (Bidirection (None, 200)               320800    \n",
            "_________________________________________________________________\n",
            "dense_21 (Dense)             (None, 512)               102912    \n",
            "_________________________________________________________________\n",
            "dropout_21 (Dropout)         (None, 512)               0         \n",
            "_________________________________________________________________\n",
            "dense_22 (Dense)             (None, 256)               131328    \n",
            "_________________________________________________________________\n",
            "dropout_22 (Dropout)         (None, 256)               0         \n",
            "_________________________________________________________________\n",
            "dense_23 (Dense)             (None, 1)                 257       \n",
            "=================================================================\n",
            "Total params: 3,342,597\n",
            "Trainable params: 555,297\n",
            "Non-trainable params: 2,787,300\n",
            "_________________________________________________________________\n",
            "Train on 3520 samples, validate on 880 samples\n",
            "Epoch 1/20\n",
            "3520/3520 [==============================] - 15s 4ms/step - loss: 0.4630 - acc: 0.8682 - val_loss: 0.4364 - val_acc: 0.8807\n",
            "Epoch 2/20\n",
            "3520/3520 [==============================] - 10s 3ms/step - loss: 0.3767 - acc: 0.8810 - val_loss: 0.3679 - val_acc: 0.8807\n",
            "Epoch 3/20\n",
            "3520/3520 [==============================] - 10s 3ms/step - loss: 0.3637 - acc: 0.8810 - val_loss: 0.3556 - val_acc: 0.8807\n",
            "Epoch 4/20\n",
            "3520/3520 [==============================] - 10s 3ms/step - loss: 0.3507 - acc: 0.8810 - val_loss: 0.3560 - val_acc: 0.8807\n",
            "Epoch 5/20\n",
            "3520/3520 [==============================] - 10s 3ms/step - loss: 0.3403 - acc: 0.8810 - val_loss: 0.3590 - val_acc: 0.8807\n",
            "Epoch 6/20\n",
            "3520/3520 [==============================] - 10s 3ms/step - loss: 0.3401 - acc: 0.8810 - val_loss: 0.3569 - val_acc: 0.8807\n"
          ],
          "name": "stdout"
        }
      ]
    },
    {
      "metadata": {
        "id": "q93X9imeSrNA",
        "colab_type": "code",
        "outputId": "00cecaf5-3e94-47bd-bb05-dc3170809799",
        "colab": {
          "base_uri": "https://localhost:8080/",
          "height": 1724
        }
      },
      "cell_type": "code",
      "source": [
        "model= Deep_Neural_Network(x_a,y_a,'etextcnn',embeddings_index)\n",
        "model.set_optimizer('sgd',lr=0.0000001)\n",
        "model.train(epochs=20,batch_size=256)\n",
        "model.save('task_b_etextcnn.h5')\n",
        "prediction = model.predict(x_test_b)\n",
        "prediction =np.where(prediction==0, 'UNT','TIN')\n",
        "out = pd.DataFrame({'id':df_b.id.values,'label':prediction})\n",
        "out.to_csv('drive/My Drive/data/nlp_output/task_b_etextcnn.csv',header=None, index=None)\n",
        "out.head()"
      ],
      "execution_count": 0,
      "outputs": [
        {
          "output_type": "stream",
          "text": [
            "100%|██████████| 17766/17766 [00:00<00:00, 356773.19it/s]\n"
          ],
          "name": "stderr"
        },
        {
          "output_type": "stream",
          "text": [
            "__________________________________________________________________________________________________\n",
            "Layer (type)                    Output Shape         Param #     Connected to                     \n",
            "==================================================================================================\n",
            "input_1 (InputLayer)            (None, 280)          0                                            \n",
            "__________________________________________________________________________________________________\n",
            "embedding_11 (Embedding)        (None, 280, 300)     5330100     input_1[0][0]                    \n",
            "__________________________________________________________________________________________________\n",
            "conv1d_9 (Conv1D)               (None, 280, 64)      76864       embedding_11[0][0]               \n",
            "__________________________________________________________________________________________________\n",
            "conv1d_11 (Conv1D)              (None, 280, 64)      96064       embedding_11[0][0]               \n",
            "__________________________________________________________________________________________________\n",
            "batch_normalization_5 (BatchNor (None, 280, 64)      256         conv1d_9[0][0]                   \n",
            "__________________________________________________________________________________________________\n",
            "batch_normalization_7 (BatchNor (None, 280, 64)      256         conv1d_11[0][0]                  \n",
            "__________________________________________________________________________________________________\n",
            "activation_3 (Activation)       (None, 280, 64)      0           batch_normalization_5[0][0]      \n",
            "__________________________________________________________________________________________________\n",
            "activation_5 (Activation)       (None, 280, 64)      0           batch_normalization_7[0][0]      \n",
            "__________________________________________________________________________________________________\n",
            "dropout_21 (Dropout)            (None, 280, 64)      0           activation_3[0][0]               \n",
            "__________________________________________________________________________________________________\n",
            "dropout_23 (Dropout)            (None, 280, 64)      0           activation_5[0][0]               \n",
            "__________________________________________________________________________________________________\n",
            "conv1d_7 (Conv1D)               (None, 280, 64)      57664       embedding_11[0][0]               \n",
            "__________________________________________________________________________________________________\n",
            "conv1d_10 (Conv1D)              (None, 280, 32)      8224        dropout_21[0][0]                 \n",
            "__________________________________________________________________________________________________\n",
            "conv1d_12 (Conv1D)              (None, 280, 32)      10272       dropout_23[0][0]                 \n",
            "__________________________________________________________________________________________________\n",
            "batch_normalization_3 (BatchNor (None, 280, 64)      256         conv1d_7[0][0]                   \n",
            "__________________________________________________________________________________________________\n",
            "batch_normalization_6 (BatchNor (None, 280, 32)      128         conv1d_10[0][0]                  \n",
            "__________________________________________________________________________________________________\n",
            "batch_normalization_8 (BatchNor (None, 280, 32)      128         conv1d_12[0][0]                  \n",
            "__________________________________________________________________________________________________\n",
            "activation_1 (Activation)       (None, 280, 64)      0           batch_normalization_3[0][0]      \n",
            "__________________________________________________________________________________________________\n",
            "activation_4 (Activation)       (None, 280, 32)      0           batch_normalization_6[0][0]      \n",
            "__________________________________________________________________________________________________\n",
            "activation_6 (Activation)       (None, 280, 32)      0           batch_normalization_8[0][0]      \n",
            "__________________________________________________________________________________________________\n",
            "dropout_19 (Dropout)            (None, 280, 64)      0           activation_1[0][0]               \n",
            "__________________________________________________________________________________________________\n",
            "dropout_22 (Dropout)            (None, 280, 32)      0           activation_4[0][0]               \n",
            "__________________________________________________________________________________________________\n",
            "dropout_24 (Dropout)            (None, 280, 32)      0           activation_6[0][0]               \n",
            "__________________________________________________________________________________________________\n",
            "max_pooling1d_5 (MaxPooling1D)  (None, 70, 64)       0           dropout_19[0][0]                 \n",
            "__________________________________________________________________________________________________\n",
            "max_pooling1d_6 (MaxPooling1D)  (None, 70, 32)       0           dropout_22[0][0]                 \n",
            "__________________________________________________________________________________________________\n",
            "max_pooling1d_7 (MaxPooling1D)  (None, 70, 32)       0           dropout_24[0][0]                 \n",
            "__________________________________________________________________________________________________\n",
            "concatenate_1 (Concatenate)     (None, 70, 128)      0           max_pooling1d_5[0][0]            \n",
            "                                                                 max_pooling1d_6[0][0]            \n",
            "                                                                 max_pooling1d_7[0][0]            \n",
            "__________________________________________________________________________________________________\n",
            "flatten_3 (Flatten)             (None, 8960)         0           concatenate_1[0][0]              \n",
            "__________________________________________________________________________________________________\n",
            "dropout_25 (Dropout)            (None, 8960)         0           flatten_3[0][0]                  \n",
            "__________________________________________________________________________________________________\n",
            "dense_26 (Dense)                (None, 128)          1147008     dropout_25[0][0]                 \n",
            "__________________________________________________________________________________________________\n",
            "batch_normalization_9 (BatchNor (None, 128)          512         dense_26[0][0]                   \n",
            "__________________________________________________________________________________________________\n",
            "dense_27 (Dense)                (None, 1)            129         batch_normalization_9[0][0]      \n",
            "==================================================================================================\n",
            "Total params: 6,727,861\n",
            "Trainable params: 1,396,993\n",
            "Non-trainable params: 5,330,868\n",
            "__________________________________________________________________________________________________\n",
            "Train on 10592 samples, validate on 2648 samples\n",
            "Epoch 1/20\n",
            "10592/10592 [==============================] - 11s 1ms/step - loss: 0.7752 - acc: 0.6238 - val_loss: 0.5646 - val_acc: 0.7319\n",
            "Epoch 2/20\n",
            "10592/10592 [==============================] - 6s 528us/step - loss: 0.5581 - acc: 0.7281 - val_loss: 0.5241 - val_acc: 0.7542\n",
            "Epoch 3/20\n",
            "10592/10592 [==============================] - 6s 527us/step - loss: 0.5168 - acc: 0.7542 - val_loss: 0.5125 - val_acc: 0.7700\n",
            "Epoch 4/20\n",
            "10592/10592 [==============================] - 6s 529us/step - loss: 0.4959 - acc: 0.7711 - val_loss: 0.5140 - val_acc: 0.7579\n",
            "Epoch 5/20\n",
            "10592/10592 [==============================] - 6s 527us/step - loss: 0.4720 - acc: 0.7797 - val_loss: 0.5271 - val_acc: 0.7610\n",
            "Epoch 6/20\n",
            "10592/10592 [==============================] - 6s 528us/step - loss: 0.4601 - acc: 0.7893 - val_loss: 0.5410 - val_acc: 0.7538\n"
          ],
          "name": "stdout"
        },
        {
          "output_type": "execute_result",
          "data": {
            "text/html": [
              "<div>\n",
              "<style scoped>\n",
              "    .dataframe tbody tr th:only-of-type {\n",
              "        vertical-align: middle;\n",
              "    }\n",
              "\n",
              "    .dataframe tbody tr th {\n",
              "        vertical-align: top;\n",
              "    }\n",
              "\n",
              "    .dataframe thead th {\n",
              "        text-align: right;\n",
              "    }\n",
              "</style>\n",
              "<table border=\"1\" class=\"dataframe\">\n",
              "  <thead>\n",
              "    <tr style=\"text-align: right;\">\n",
              "      <th></th>\n",
              "      <th>id</th>\n",
              "      <th>label</th>\n",
              "    </tr>\n",
              "  </thead>\n",
              "  <tbody>\n",
              "    <tr>\n",
              "      <th>0</th>\n",
              "      <td>15923</td>\n",
              "      <td>UNT</td>\n",
              "    </tr>\n",
              "    <tr>\n",
              "      <th>1</th>\n",
              "      <td>60133</td>\n",
              "      <td>UNT</td>\n",
              "    </tr>\n",
              "    <tr>\n",
              "      <th>2</th>\n",
              "      <td>83681</td>\n",
              "      <td>UNT</td>\n",
              "    </tr>\n",
              "    <tr>\n",
              "      <th>3</th>\n",
              "      <td>65507</td>\n",
              "      <td>UNT</td>\n",
              "    </tr>\n",
              "    <tr>\n",
              "      <th>4</th>\n",
              "      <td>12588</td>\n",
              "      <td>UNT</td>\n",
              "    </tr>\n",
              "  </tbody>\n",
              "</table>\n",
              "</div>"
            ],
            "text/plain": [
              "      id label\n",
              "0  15923   UNT\n",
              "1  60133   UNT\n",
              "2  83681   UNT\n",
              "3  65507   UNT\n",
              "4  12588   UNT"
            ]
          },
          "metadata": {
            "tags": []
          },
          "execution_count": 43
        }
      ]
    },
    {
      "metadata": {
        "id": "90EdzVoG1eck",
        "colab_type": "code",
        "outputId": "730cbc5a-ff62-41f9-9d53-504781de38a6",
        "colab": {
          "base_uri": "https://localhost:8080/",
          "height": 690
        }
      },
      "cell_type": "code",
      "source": [
        "model= Deep_Neural_Network(x_b,y_b,'cnn2d',embeddings_index)\n",
        "model.set_optimizer('sgd',lr=0.000001)\n",
        "model.train(epochs=20,batch_size=256)"
      ],
      "execution_count": 0,
      "outputs": [
        {
          "output_type": "stream",
          "text": [
            "100%|██████████| 9396/9396 [00:00<00:00, 326028.56it/s]\n"
          ],
          "name": "stderr"
        },
        {
          "output_type": "stream",
          "text": [
            "_________________________________________________________________\n",
            "Layer (type)                 Output Shape              Param #   \n",
            "=================================================================\n",
            "embedding_34 (Embedding)     (None, 280, 50)           469850    \n",
            "_________________________________________________________________\n",
            "reshape_9 (Reshape)          (None, 50, 280, 1)        0         \n",
            "_________________________________________________________________\n",
            "conv2d_19 (Conv2D)           (None, 50, 276, 64)       384       \n",
            "_________________________________________________________________\n",
            "dropout_79 (Dropout)         (None, 50, 276, 64)       0         \n",
            "_________________________________________________________________\n",
            "conv2d_20 (Conv2D)           (None, 49, 274, 32)       12320     \n",
            "_________________________________________________________________\n",
            "dropout_80 (Dropout)         (None, 49, 274, 32)       0         \n",
            "_________________________________________________________________\n",
            "conv2d_21 (Conv2D)           (None, 48, 273, 16)       2064      \n",
            "_________________________________________________________________\n",
            "dropout_81 (Dropout)         (None, 48, 273, 16)       0         \n",
            "_________________________________________________________________\n",
            "flatten_19 (Flatten)         (None, 209664)            0         \n",
            "_________________________________________________________________\n",
            "dense_70 (Dense)             (None, 1)                 209665    \n",
            "=================================================================\n",
            "Total params: 694,283\n",
            "Trainable params: 224,433\n",
            "Non-trainable params: 469,850\n",
            "_________________________________________________________________\n",
            "Train on 3520 samples, validate on 880 samples\n",
            "Epoch 1/20\n",
            "3520/3520 [==============================] - 23s 6ms/step - loss: 0.4105 - acc: 0.8480 - val_loss: 0.6302 - val_acc: 0.8807\n",
            "Epoch 2/20\n",
            "3520/3520 [==============================] - 11s 3ms/step - loss: 0.3728 - acc: 0.8810 - val_loss: 0.6721 - val_acc: 0.8807\n",
            "Epoch 3/20\n",
            "3520/3520 [==============================] - 11s 3ms/step - loss: 0.3693 - acc: 0.8810 - val_loss: 0.6665 - val_acc: 0.8807\n",
            "Epoch 4/20\n",
            "3520/3520 [==============================] - 11s 3ms/step - loss: 0.3654 - acc: 0.8810 - val_loss: 0.6646 - val_acc: 0.8807\n"
          ],
          "name": "stdout"
        }
      ]
    },
    {
      "metadata": {
        "id": "4Xn93dnDSkml",
        "colab_type": "code",
        "colab": {}
      },
      "cell_type": "code",
      "source": [
        ""
      ],
      "execution_count": 0,
      "outputs": []
    },
    {
      "metadata": {
        "id": "zJzuuqJozogc",
        "colab_type": "text"
      },
      "cell_type": "markdown",
      "source": [
        "# Task C"
      ]
    },
    {
      "metadata": {
        "id": "C5e9RUlozp3R",
        "colab_type": "code",
        "outputId": "2c5471bd-12a8-4e07-81b3-437810f2559e",
        "colab": {
          "base_uri": "https://localhost:8080/",
          "height": 152
        }
      },
      "cell_type": "code",
      "source": [
        "\n",
        "taskc_idx= y_b==1\n",
        "y_c =df.subtask_c.values[taskb_idx][taskc_idx]\n",
        "print(y_c)\n",
        "lbl_enc = LabelEncoder()\n",
        "y_c = lbl_enc.fit_transform(y_c)\n",
        "print(y_c)\n",
        "x_c = x_b[taskc_idx]\n",
        "x_train_c, x_val_c, y_train_c,y_val_c =train_test_split(x_c,y_c,stratify=y_c,random_state=SEED,test_size=0.1,shuffle=True)\n",
        "\n",
        "# load test data\n",
        "df_c = pd.read_csv(testC_path,sep='\\t')\n",
        "df_c = preprocess(df_c)\n",
        "x_test_c = df_c.tweet.values"
      ],
      "execution_count": 0,
      "outputs": [
        {
          "output_type": "stream",
          "text": [
            "['IND' 'OTH' 'GRP' ... 'GRP' 'IND' 'OTH']\n",
            "[1 2 0 ... 0 1 2]\n",
            "-------Remove Stop Word--------\n"
          ],
          "name": "stdout"
        }
      ]
    },
    {
      "metadata": {
        "id": "9KkMfRJm2ZAH",
        "colab_type": "code",
        "outputId": "711709b2-0877-4fcb-db45-39958193874a",
        "colab": {
          "base_uri": "https://localhost:8080/",
          "height": 273
        }
      },
      "cell_type": "code",
      "source": [
        "# TF_IDF\n",
        "clf = Bag_of_word('logistic','tf_idf')\n",
        "cv = clf.validate_clf(x_c, y_c)\n",
        "print('mean cross validation for Logistic regression is', cv)\n",
        "\n",
        "clf = Bag_of_word('naive_bayes','tf_idf')\n",
        "cv = clf.validate_clf(x_c, y_c)\n",
        "print('mean cross validation for Naive_Bayes is', cv)\n",
        "\n",
        "clf = Bag_of_word('xgboost','tf_idf')\n",
        "cv = clf.validate_clf(x_c, y_c)\n",
        "print('mean cross validation for Xgboost is', cv)\n",
        "\n",
        "clf = Bag_of_word('random_forest','tf_idf')\n",
        "cv = clf.validate_clf(x_c, y_c)\n",
        "print('mean cross validation for Random Forest is', cv)\n",
        "\n",
        "clf = Bag_of_word('svm','tf_idf')\n",
        "cv = clf.validate_clf(x_c, y_c)\n",
        "print('mean cross validation for SVM is', cv)"
      ],
      "execution_count": 0,
      "outputs": [
        {
          "output_type": "stream",
          "text": [
            "start k-fold validate...\n",
            "mean cross validation for Logistic regression is 0.6880688322016444\n",
            "start k-fold validate...\n",
            "mean cross validation for Naive_Bayes is 0.6320925215447748\n",
            "start k-fold validate...\n",
            "mean cross validation for Xgboost is 0.6955464918630865\n",
            "start k-fold validate...\n",
            "mean cross validation for Random Forest is 0.6978760485585704\n",
            "start k-fold validate...\n",
            "mean cross validation for SVM is 0.6854935587387286\n"
          ],
          "name": "stdout"
        }
      ]
    },
    {
      "metadata": {
        "id": "uLwXxuriPn9Q",
        "colab_type": "code",
        "outputId": "199f605c-4256-4633-c7b9-137d7f9f0554",
        "colab": {
          "base_uri": "https://localhost:8080/",
          "height": 273
        }
      },
      "cell_type": "code",
      "source": [
        "# Word Count\n",
        "clf = Bag_of_word('logistic','word_count')\n",
        "cv = clf.validate_clf(x_c, y_c)\n",
        "print('mean cross validation for Logistic regression is', cv)\n",
        "\n",
        "clf = Bag_of_word('naive_bayes','word_count')\n",
        "cv = clf.validate_clf(x_c, y_c)\n",
        "print('mean cross validation for Naive_Bayes is', cv)\n",
        "\n",
        "clf = Bag_of_word('xgboost','word_count')\n",
        "cv = clf.validate_clf(x_c, y_c)\n",
        "print('mean cross validation for Xgboost is', cv)\n",
        "\n",
        "clf = Bag_of_word('random_forest','word_count')\n",
        "cv = clf.validate_clf(x_c, y_c)\n",
        "print('mean cross validation for Random Forest is', cv)\n",
        "\n",
        "clf = Bag_of_word('svm','word_count')\n",
        "cv = clf.validate_clf(x_c, y_c)\n",
        "print('mean cross validation for SVM is', cv)"
      ],
      "execution_count": 0,
      "outputs": [
        {
          "output_type": "stream",
          "text": [
            "start k-fold validate...\n",
            "mean cross validation for Logistic regression is 0.6898750294565582\n",
            "start k-fold validate...\n",
            "mean cross validation for Naive_Bayes is 0.6656120496456708\n",
            "start k-fold validate...\n",
            "mean cross validation for Xgboost is 0.6940167256266907\n",
            "start k-fold validate...\n",
            "mean cross validation for Random Forest is 0.70175546099957\n",
            "start k-fold validate...\n",
            "mean cross validation for SVM is 0.6591727019020694\n"
          ],
          "name": "stdout"
        }
      ]
    },
    {
      "metadata": {
        "id": "iXSvDS-um74V",
        "colab_type": "code",
        "outputId": "6974b8c4-6521-486d-e7f6-032502429478",
        "colab": {
          "base_uri": "https://localhost:8080/",
          "height": 285
        }
      },
      "cell_type": "code",
      "source": [
        "clf = Bag_of_word('random_forest','word_count')\n",
        "clf.train_clf(x_c,y_c)\n",
        "prediction = clf.test_clf(x_test_c)\n",
        "prediction =lbl_enc.inverse_transform(prediction)\n",
        "out = pd.DataFrame({'id':df_c.id.values,'label':prediction})\n",
        "out.to_csv('drive/My Drive/data/nlp_output/task_c_rf.csv',header=None, index=None)\n",
        "out.head()"
      ],
      "execution_count": 0,
      "outputs": [
        {
          "output_type": "stream",
          "text": [
            "training data shape (3876, 9910)\n"
          ],
          "name": "stdout"
        },
        {
          "output_type": "execute_result",
          "data": {
            "text/html": [
              "<div>\n",
              "<style scoped>\n",
              "    .dataframe tbody tr th:only-of-type {\n",
              "        vertical-align: middle;\n",
              "    }\n",
              "\n",
              "    .dataframe tbody tr th {\n",
              "        vertical-align: top;\n",
              "    }\n",
              "\n",
              "    .dataframe thead th {\n",
              "        text-align: right;\n",
              "    }\n",
              "</style>\n",
              "<table border=\"1\" class=\"dataframe\">\n",
              "  <thead>\n",
              "    <tr style=\"text-align: right;\">\n",
              "      <th></th>\n",
              "      <th>id</th>\n",
              "      <th>label</th>\n",
              "    </tr>\n",
              "  </thead>\n",
              "  <tbody>\n",
              "    <tr>\n",
              "      <th>0</th>\n",
              "      <td>15923</td>\n",
              "      <td>IND</td>\n",
              "    </tr>\n",
              "    <tr>\n",
              "      <th>1</th>\n",
              "      <td>60133</td>\n",
              "      <td>IND</td>\n",
              "    </tr>\n",
              "    <tr>\n",
              "      <th>2</th>\n",
              "      <td>83681</td>\n",
              "      <td>IND</td>\n",
              "    </tr>\n",
              "    <tr>\n",
              "      <th>3</th>\n",
              "      <td>65507</td>\n",
              "      <td>IND</td>\n",
              "    </tr>\n",
              "    <tr>\n",
              "      <th>4</th>\n",
              "      <td>34263</td>\n",
              "      <td>IND</td>\n",
              "    </tr>\n",
              "  </tbody>\n",
              "</table>\n",
              "</div>"
            ],
            "text/plain": [
              "      id label\n",
              "0  15923   IND\n",
              "1  60133   IND\n",
              "2  83681   IND\n",
              "3  65507   IND\n",
              "4  34263   IND"
            ]
          },
          "metadata": {
            "tags": []
          },
          "execution_count": 47
        }
      ]
    },
    {
      "metadata": {
        "id": "XleUXgZp2t0M",
        "colab_type": "code",
        "outputId": "2371f78a-d5b1-4dee-e76f-0f0138c0bdf1",
        "colab": {
          "base_uri": "https://localhost:8080/",
          "height": 1020
        }
      },
      "cell_type": "code",
      "source": [
        "model= Deep_Neural_Network(x_c,y_c,'lstm',embeddings_index)\n",
        "model.set_optimizer('rmsprop')\n",
        "model.train(epochs=20,batch_size=128)\n",
        "prediction = model.predict(x_test_c)\n",
        "model.save('task_c_lstm.h5')\n",
        "\n",
        "prediction =lbl_enc.inverse_transform(prediction)\n",
        "out = pd.DataFrame({'id':df_c.id.values,'label':prediction})\n",
        "out.to_csv('drive/My Drive/data/nlp_output/task_c_lstm.csv',header=None, index=None)\n",
        "out.head()"
      ],
      "execution_count": 0,
      "outputs": [
        {
          "output_type": "stream",
          "text": [
            "100%|██████████| 8689/8689 [00:00<00:00, 378209.92it/s]\n"
          ],
          "name": "stderr"
        },
        {
          "output_type": "stream",
          "text": [
            "_________________________________________________________________\n",
            "Layer (type)                 Output Shape              Param #   \n",
            "=================================================================\n",
            "embedding_17 (Embedding)     (None, 280, 300)          2607000   \n",
            "_________________________________________________________________\n",
            "spatial_dropout1d_13 (Spatia (None, 280, 300)          0         \n",
            "_________________________________________________________________\n",
            "bidirectional_10 (Bidirectio (None, 200)               320800    \n",
            "_________________________________________________________________\n",
            "dense_43 (Dense)             (None, 512)               102912    \n",
            "_________________________________________________________________\n",
            "dropout_36 (Dropout)         (None, 512)               0         \n",
            "_________________________________________________________________\n",
            "dense_44 (Dense)             (None, 256)               131328    \n",
            "_________________________________________________________________\n",
            "dropout_37 (Dropout)         (None, 256)               0         \n",
            "_________________________________________________________________\n",
            "dense_45 (Dense)             (None, 3)                 771       \n",
            "=================================================================\n",
            "Total params: 3,162,811\n",
            "Trainable params: 555,811\n",
            "Non-trainable params: 2,607,000\n",
            "_________________________________________________________________\n",
            "Train on 3100 samples, validate on 776 samples\n",
            "Epoch 1/20\n",
            "3100/3100 [==============================] - 40s 13ms/step - loss: 0.9247 - acc: 0.5974 - val_loss: 0.8459 - val_acc: 0.6289\n",
            "Epoch 2/20\n",
            "3100/3100 [==============================] - 33s 11ms/step - loss: 0.8066 - acc: 0.6594 - val_loss: 0.7475 - val_acc: 0.6843\n",
            "Epoch 3/20\n",
            "3100/3100 [==============================] - 33s 11ms/step - loss: 0.7626 - acc: 0.6842 - val_loss: 0.7352 - val_acc: 0.6985\n",
            "Epoch 4/20\n",
            "3100/3100 [==============================] - 33s 11ms/step - loss: 0.7517 - acc: 0.6981 - val_loss: 0.7475 - val_acc: 0.6920\n",
            "Epoch 5/20\n",
            "3100/3100 [==============================] - 34s 11ms/step - loss: 0.7357 - acc: 0.6990 - val_loss: 0.7356 - val_acc: 0.7049\n",
            "Epoch 6/20\n",
            "3100/3100 [==============================] - 34s 11ms/step - loss: 0.7194 - acc: 0.7010 - val_loss: 0.7188 - val_acc: 0.7152\n",
            "Epoch 7/20\n",
            "3100/3100 [==============================] - 33s 11ms/step - loss: 0.7011 - acc: 0.7110 - val_loss: 0.7206 - val_acc: 0.7178\n",
            "Epoch 8/20\n",
            "3100/3100 [==============================] - 34s 11ms/step - loss: 0.6943 - acc: 0.7116 - val_loss: 0.7381 - val_acc: 0.7165\n",
            "Epoch 9/20\n",
            "3100/3100 [==============================] - 34s 11ms/step - loss: 0.6871 - acc: 0.7103 - val_loss: 0.7242 - val_acc: 0.7242\n"
          ],
          "name": "stdout"
        },
        {
          "output_type": "execute_result",
          "data": {
            "text/html": [
              "<div>\n",
              "<style scoped>\n",
              "    .dataframe tbody tr th:only-of-type {\n",
              "        vertical-align: middle;\n",
              "    }\n",
              "\n",
              "    .dataframe tbody tr th {\n",
              "        vertical-align: top;\n",
              "    }\n",
              "\n",
              "    .dataframe thead th {\n",
              "        text-align: right;\n",
              "    }\n",
              "</style>\n",
              "<table border=\"1\" class=\"dataframe\">\n",
              "  <thead>\n",
              "    <tr style=\"text-align: right;\">\n",
              "      <th></th>\n",
              "      <th>id</th>\n",
              "      <th>label</th>\n",
              "    </tr>\n",
              "  </thead>\n",
              "  <tbody>\n",
              "    <tr>\n",
              "      <th>0</th>\n",
              "      <td>15923</td>\n",
              "      <td>GRP</td>\n",
              "    </tr>\n",
              "    <tr>\n",
              "      <th>1</th>\n",
              "      <td>60133</td>\n",
              "      <td>GRP</td>\n",
              "    </tr>\n",
              "    <tr>\n",
              "      <th>2</th>\n",
              "      <td>83681</td>\n",
              "      <td>IND</td>\n",
              "    </tr>\n",
              "    <tr>\n",
              "      <th>3</th>\n",
              "      <td>65507</td>\n",
              "      <td>IND</td>\n",
              "    </tr>\n",
              "    <tr>\n",
              "      <th>4</th>\n",
              "      <td>34263</td>\n",
              "      <td>IND</td>\n",
              "    </tr>\n",
              "  </tbody>\n",
              "</table>\n",
              "</div>"
            ],
            "text/plain": [
              "      id label\n",
              "0  15923   GRP\n",
              "1  60133   GRP\n",
              "2  83681   IND\n",
              "3  65507   IND\n",
              "4  34263   IND"
            ]
          },
          "metadata": {
            "tags": []
          },
          "execution_count": 57
        }
      ]
    },
    {
      "metadata": {
        "id": "XWZ1IY65fqif",
        "colab_type": "code",
        "outputId": "dfa9f703-92f0-4d61-f0bd-0356d6d8dec4",
        "colab": {
          "base_uri": "https://localhost:8080/",
          "height": 116
        }
      },
      "cell_type": "code",
      "source": [
        "class_weight.compute_class_weight('balanced', np.unique(y_c), y_c)"
      ],
      "execution_count": 0,
      "outputs": [
        {
          "output_type": "execute_result",
          "data": {
            "text/plain": [
              "array([1.20297952, 0.53676776, 3.27088608])"
            ]
          },
          "metadata": {
            "tags": []
          },
          "execution_count": 52
        }
      ]
    },
    {
      "metadata": {
        "id": "YZG-4qCkX3rq",
        "colab_type": "code",
        "outputId": "16e77a32-7827-44e9-f90e-4981be31c2ab",
        "colab": {
          "base_uri": "https://localhost:8080/",
          "height": 308
        }
      },
      "cell_type": "code",
      "source": [
        "model= Deep_Neural_Network(x_c,y_c,'gru',embeddings_index)\n",
        "model.set_optimizer('rmsprop')\n",
        "model.train(epochs=20,batch_size=256)\n",
        "prediction = model.predict(x_test_c)\n",
        "model.save('task_c_gru.h5')\n",
        "\n",
        "prediction = lbl_enc.inverse_transform(prediction)\n",
        "out = pd.DataFrame({'id':df_c.id.values,'label':prediction})\n",
        "out.to_csv('drive/My Drive/data/nlp_output/task_c_gru.csv',header=None, index=None)\n",
        "out.head()"
      ],
      "execution_count": 0,
      "outputs": [
        {
          "output_type": "execute_result",
          "data": {
            "text/html": [
              "<div>\n",
              "<style scoped>\n",
              "    .dataframe tbody tr th:only-of-type {\n",
              "        vertical-align: middle;\n",
              "    }\n",
              "\n",
              "    .dataframe tbody tr th {\n",
              "        vertical-align: top;\n",
              "    }\n",
              "\n",
              "    .dataframe thead th {\n",
              "        text-align: right;\n",
              "    }\n",
              "</style>\n",
              "<table border=\"1\" class=\"dataframe\">\n",
              "  <thead>\n",
              "    <tr style=\"text-align: right;\">\n",
              "      <th></th>\n",
              "      <th>id</th>\n",
              "      <th>label</th>\n",
              "    </tr>\n",
              "  </thead>\n",
              "  <tbody>\n",
              "    <tr>\n",
              "      <th>0</th>\n",
              "      <td>15923</td>\n",
              "      <td>GRP</td>\n",
              "    </tr>\n",
              "    <tr>\n",
              "      <th>1</th>\n",
              "      <td>60133</td>\n",
              "      <td>GRP</td>\n",
              "    </tr>\n",
              "    <tr>\n",
              "      <th>2</th>\n",
              "      <td>83681</td>\n",
              "      <td>IND</td>\n",
              "    </tr>\n",
              "    <tr>\n",
              "      <th>3</th>\n",
              "      <td>65507</td>\n",
              "      <td>IND</td>\n",
              "    </tr>\n",
              "    <tr>\n",
              "      <th>4</th>\n",
              "      <td>34263</td>\n",
              "      <td>IND</td>\n",
              "    </tr>\n",
              "  </tbody>\n",
              "</table>\n",
              "</div>"
            ],
            "text/plain": [
              "      id label\n",
              "0  15923   GRP\n",
              "1  60133   GRP\n",
              "2  83681   IND\n",
              "3  65507   IND\n",
              "4  34263   IND"
            ]
          },
          "metadata": {
            "tags": []
          },
          "execution_count": 98
        }
      ]
    },
    {
      "metadata": {
        "id": "Qkv_CQXB6rsL",
        "colab_type": "code",
        "outputId": "0c1c5542-1600-46c1-9948-b05d8b3a3746",
        "colab": {
          "base_uri": "https://localhost:8080/",
          "height": 828
        }
      },
      "cell_type": "code",
      "source": [
        "model= Deep_Neural_Network(x_c,y_c,'cnn',embeddings_index)\n",
        "model.set_optimizer('adam',lr=0.00001)\n",
        "model.train(epochs=20,batch_size=128)"
      ],
      "execution_count": 0,
      "outputs": [
        {
          "output_type": "stream",
          "text": [
            "100%|██████████| 8689/8689 [00:00<00:00, 373600.01it/s]\n"
          ],
          "name": "stderr"
        },
        {
          "output_type": "stream",
          "text": [
            "_________________________________________________________________\n",
            "Layer (type)                 Output Shape              Param #   \n",
            "=================================================================\n",
            "embedding_11 (Embedding)     (None, 280, 300)          2607000   \n",
            "_________________________________________________________________\n",
            "conv1d_4 (Conv1D)            (None, 280, 64)           57664     \n",
            "_________________________________________________________________\n",
            "max_pooling1d_3 (MaxPooling1 (None, 94, 64)            0         \n",
            "_________________________________________________________________\n",
            "conv1d_5 (Conv1D)            (None, 94, 32)            6176      \n",
            "_________________________________________________________________\n",
            "max_pooling1d_4 (MaxPooling1 (None, 32, 32)            0         \n",
            "_________________________________________________________________\n",
            "conv1d_6 (Conv1D)            (None, 32, 16)            1552      \n",
            "_________________________________________________________________\n",
            "flatten_2 (Flatten)          (None, 512)               0         \n",
            "_________________________________________________________________\n",
            "dropout_21 (Dropout)         (None, 512)               0         \n",
            "_________________________________________________________________\n",
            "batch_normalization_2 (Batch (None, 512)               2048      \n",
            "_________________________________________________________________\n",
            "dense_30 (Dense)             (None, 256)               131328    \n",
            "_________________________________________________________________\n",
            "dropout_22 (Dropout)         (None, 256)               0         \n",
            "_________________________________________________________________\n",
            "dense_31 (Dense)             (None, 3)                 771       \n",
            "=================================================================\n",
            "Total params: 2,806,539\n",
            "Trainable params: 198,515\n",
            "Non-trainable params: 2,608,024\n",
            "_________________________________________________________________\n",
            "Train on 3100 samples, validate on 776 samples\n",
            "Epoch 1/20\n",
            "3100/3100 [==============================] - 6s 2ms/step - loss: 0.8994 - acc: 0.6055 - val_loss: 0.7810 - val_acc: 0.6714\n",
            "Epoch 2/20\n",
            "3100/3100 [==============================] - 1s 163us/step - loss: 0.7179 - acc: 0.7103 - val_loss: 0.8133 - val_acc: 0.6753\n",
            "Epoch 3/20\n",
            "3100/3100 [==============================] - 0s 160us/step - loss: 0.6115 - acc: 0.7529 - val_loss: 0.8410 - val_acc: 0.6907\n",
            "Epoch 4/20\n",
            "3100/3100 [==============================] - 0s 158us/step - loss: 0.4631 - acc: 0.8187 - val_loss: 0.8925 - val_acc: 0.6598\n"
          ],
          "name": "stdout"
        }
      ]
    },
    {
      "metadata": {
        "id": "EeTkrsz7X5ym",
        "colab_type": "code",
        "outputId": "eb10a977-faba-41e0-afbe-4b1602c35d0a",
        "colab": {
          "base_uri": "https://localhost:8080/",
          "height": 646
        }
      },
      "cell_type": "code",
      "source": [
        "1model= Deep_Neural_Network(x_c,y_c,'cnn2d',embeddings_index)\n",
        "model.set_optimizer('rmsprop')\n",
        "model.train(epochs=20,batch_size=256)"
      ],
      "execution_count": 0,
      "outputs": [
        {
          "output_type": "stream",
          "text": [
            "100%|██████████| 8689/8689 [00:00<00:00, 300988.65it/s]\n"
          ],
          "name": "stderr"
        },
        {
          "output_type": "stream",
          "text": [
            "_________________________________________________________________\n",
            "Layer (type)                 Output Shape              Param #   \n",
            "=================================================================\n",
            "embedding_16 (Embedding)     (None, 280, 50)           434500    \n",
            "_________________________________________________________________\n",
            "reshape_4 (Reshape)          (None, 50, 280, 1)        0         \n",
            "_________________________________________________________________\n",
            "conv2d_10 (Conv2D)           (None, 50, 276, 64)       384       \n",
            "_________________________________________________________________\n",
            "dropout_39 (Dropout)         (None, 50, 276, 64)       0         \n",
            "_________________________________________________________________\n",
            "conv2d_11 (Conv2D)           (None, 49, 274, 32)       12320     \n",
            "_________________________________________________________________\n",
            "dropout_40 (Dropout)         (None, 49, 274, 32)       0         \n",
            "_________________________________________________________________\n",
            "conv2d_12 (Conv2D)           (None, 48, 273, 16)       2064      \n",
            "_________________________________________________________________\n",
            "dropout_41 (Dropout)         (None, 48, 273, 16)       0         \n",
            "_________________________________________________________________\n",
            "flatten_8 (Flatten)          (None, 209664)            0         \n",
            "_________________________________________________________________\n",
            "dense_36 (Dense)             (None, 3)                 628995    \n",
            "=================================================================\n",
            "Total params: 1,078,263\n",
            "Trainable params: 643,763\n",
            "Non-trainable params: 434,500\n",
            "_________________________________________________________________\n",
            "Train on 3100 samples, validate on 776 samples\n",
            "Epoch 1/20\n",
            "3100/3100 [==============================] - 17s 6ms/step - loss: 0.9806 - acc: 0.5603 - val_loss: 1.0516 - val_acc: 0.6211\n",
            "Epoch 2/20\n",
            "3100/3100 [==============================] - 10s 3ms/step - loss: 0.9300 - acc: 0.6210 - val_loss: 1.0901 - val_acc: 0.6211\n",
            "Epoch 3/20\n",
            "3100/3100 [==============================] - 10s 3ms/step - loss: 0.8980 - acc: 0.6210 - val_loss: 1.0909 - val_acc: 0.6211\n",
            "Epoch 4/20\n",
            "3100/3100 [==============================] - 10s 3ms/step - loss: 0.8867 - acc: 0.6210 - val_loss: 1.0840 - val_acc: 0.6211\n"
          ],
          "name": "stdout"
        }
      ]
    },
    {
      "metadata": {
        "id": "mDBGs-rwYDPw",
        "colab_type": "code",
        "outputId": "2cbd43c6-1043-41f4-a2e3-f0d98afc3ee9",
        "colab": {
          "base_uri": "https://localhost:8080/",
          "height": 1724
        }
      },
      "cell_type": "code",
      "source": [
        "model= Deep_Neural_Network(x_c,y_c,'etextcnn',embeddings_index)\n",
        "model.set_optimizer('adam',lr=0.00001)\n",
        "model.train(epochs=20,batch_size=256)\n"
      ],
      "execution_count": 0,
      "outputs": [
        {
          "output_type": "stream",
          "text": [
            "100%|██████████| 8689/8689 [00:00<00:00, 290689.37it/s]\n"
          ],
          "name": "stderr"
        },
        {
          "output_type": "stream",
          "text": [
            "__________________________________________________________________________________________________\n",
            "Layer (type)                    Output Shape         Param #     Connected to                     \n",
            "==================================================================================================\n",
            "input_1 (InputLayer)            (None, 280)          0                                            \n",
            "__________________________________________________________________________________________________\n",
            "embedding_12 (Embedding)        (None, 280, 300)     2607000     input_1[0][0]                    \n",
            "__________________________________________________________________________________________________\n",
            "conv1d_9 (Conv1D)               (None, 280, 64)      76864       embedding_12[0][0]               \n",
            "__________________________________________________________________________________________________\n",
            "conv1d_11 (Conv1D)              (None, 280, 64)      96064       embedding_12[0][0]               \n",
            "__________________________________________________________________________________________________\n",
            "batch_normalization_5 (BatchNor (None, 280, 64)      256         conv1d_9[0][0]                   \n",
            "__________________________________________________________________________________________________\n",
            "batch_normalization_7 (BatchNor (None, 280, 64)      256         conv1d_11[0][0]                  \n",
            "__________________________________________________________________________________________________\n",
            "activation_3 (Activation)       (None, 280, 64)      0           batch_normalization_5[0][0]      \n",
            "__________________________________________________________________________________________________\n",
            "activation_5 (Activation)       (None, 280, 64)      0           batch_normalization_7[0][0]      \n",
            "__________________________________________________________________________________________________\n",
            "dropout_25 (Dropout)            (None, 280, 64)      0           activation_3[0][0]               \n",
            "__________________________________________________________________________________________________\n",
            "dropout_27 (Dropout)            (None, 280, 64)      0           activation_5[0][0]               \n",
            "__________________________________________________________________________________________________\n",
            "conv1d_7 (Conv1D)               (None, 280, 64)      57664       embedding_12[0][0]               \n",
            "__________________________________________________________________________________________________\n",
            "conv1d_10 (Conv1D)              (None, 280, 32)      8224        dropout_25[0][0]                 \n",
            "__________________________________________________________________________________________________\n",
            "conv1d_12 (Conv1D)              (None, 280, 32)      10272       dropout_27[0][0]                 \n",
            "__________________________________________________________________________________________________\n",
            "batch_normalization_3 (BatchNor (None, 280, 64)      256         conv1d_7[0][0]                   \n",
            "__________________________________________________________________________________________________\n",
            "batch_normalization_6 (BatchNor (None, 280, 32)      128         conv1d_10[0][0]                  \n",
            "__________________________________________________________________________________________________\n",
            "batch_normalization_8 (BatchNor (None, 280, 32)      128         conv1d_12[0][0]                  \n",
            "__________________________________________________________________________________________________\n",
            "activation_1 (Activation)       (None, 280, 64)      0           batch_normalization_3[0][0]      \n",
            "__________________________________________________________________________________________________\n",
            "activation_4 (Activation)       (None, 280, 32)      0           batch_normalization_6[0][0]      \n",
            "__________________________________________________________________________________________________\n",
            "activation_6 (Activation)       (None, 280, 32)      0           batch_normalization_8[0][0]      \n",
            "__________________________________________________________________________________________________\n",
            "dropout_23 (Dropout)            (None, 280, 64)      0           activation_1[0][0]               \n",
            "__________________________________________________________________________________________________\n",
            "dropout_26 (Dropout)            (None, 280, 32)      0           activation_4[0][0]               \n",
            "__________________________________________________________________________________________________\n",
            "dropout_28 (Dropout)            (None, 280, 32)      0           activation_6[0][0]               \n",
            "__________________________________________________________________________________________________\n",
            "max_pooling1d_5 (MaxPooling1D)  (None, 70, 64)       0           dropout_23[0][0]                 \n",
            "__________________________________________________________________________________________________\n",
            "max_pooling1d_6 (MaxPooling1D)  (None, 70, 32)       0           dropout_26[0][0]                 \n",
            "__________________________________________________________________________________________________\n",
            "max_pooling1d_7 (MaxPooling1D)  (None, 70, 32)       0           dropout_28[0][0]                 \n",
            "__________________________________________________________________________________________________\n",
            "concatenate_1 (Concatenate)     (None, 70, 128)      0           max_pooling1d_5[0][0]            \n",
            "                                                                 max_pooling1d_6[0][0]            \n",
            "                                                                 max_pooling1d_7[0][0]            \n",
            "__________________________________________________________________________________________________\n",
            "flatten_3 (Flatten)             (None, 8960)         0           concatenate_1[0][0]              \n",
            "__________________________________________________________________________________________________\n",
            "dropout_29 (Dropout)            (None, 8960)         0           flatten_3[0][0]                  \n",
            "__________________________________________________________________________________________________\n",
            "dense_32 (Dense)                (None, 128)          1147008     dropout_29[0][0]                 \n",
            "__________________________________________________________________________________________________\n",
            "batch_normalization_9 (BatchNor (None, 128)          512         dense_32[0][0]                   \n",
            "__________________________________________________________________________________________________\n",
            "dense_33 (Dense)                (None, 3)            387         batch_normalization_9[0][0]      \n",
            "==================================================================================================\n",
            "Total params: 4,005,019\n",
            "Trainable params: 1,397,251\n",
            "Non-trainable params: 2,607,768\n",
            "__________________________________________________________________________________________________\n",
            "Train on 3100 samples, validate on 776 samples\n",
            "Epoch 1/20\n",
            "3100/3100 [==============================] - 9s 3ms/step - loss: 1.4251 - acc: 0.4519 - val_loss: 1.0145 - val_acc: 0.5902\n",
            "Epoch 2/20\n",
            "3100/3100 [==============================] - 2s 524us/step - loss: 1.0701 - acc: 0.5713 - val_loss: 1.1587 - val_acc: 0.5941\n",
            "Epoch 3/20\n",
            "3100/3100 [==============================] - 2s 527us/step - loss: 0.8901 - acc: 0.6390 - val_loss: 0.7933 - val_acc: 0.6907\n",
            "Epoch 4/20\n",
            "3100/3100 [==============================] - 2s 527us/step - loss: 0.8376 - acc: 0.6726 - val_loss: 0.8271 - val_acc: 0.6765\n",
            "Epoch 5/20\n",
            "3100/3100 [==============================] - 2s 531us/step - loss: 0.7572 - acc: 0.6952 - val_loss: 0.7914 - val_acc: 0.6959\n",
            "Epoch 6/20\n",
            "3100/3100 [==============================] - 2s 527us/step - loss: 0.7139 - acc: 0.7271 - val_loss: 0.7728 - val_acc: 0.7062\n",
            "Epoch 7/20\n",
            "3100/3100 [==============================] - 2s 525us/step - loss: 0.6758 - acc: 0.7371 - val_loss: 0.7849 - val_acc: 0.6894\n",
            "Epoch 8/20\n",
            "3100/3100 [==============================] - 2s 528us/step - loss: 0.6590 - acc: 0.7419 - val_loss: 0.7567 - val_acc: 0.6972\n",
            "Epoch 9/20\n",
            "3100/3100 [==============================] - 2s 528us/step - loss: 0.6116 - acc: 0.7623 - val_loss: 0.7564 - val_acc: 0.6946\n",
            "Epoch 10/20\n",
            "3100/3100 [==============================] - 2s 528us/step - loss: 0.5858 - acc: 0.7713 - val_loss: 0.7573 - val_acc: 0.6959\n",
            "Epoch 11/20\n",
            "3100/3100 [==============================] - 2s 529us/step - loss: 0.5760 - acc: 0.7810 - val_loss: 0.7638 - val_acc: 0.6920\n",
            "Epoch 12/20\n",
            "3100/3100 [==============================] - 2s 529us/step - loss: 0.5478 - acc: 0.7868 - val_loss: 0.7610 - val_acc: 0.6959\n"
          ],
          "name": "stdout"
        }
      ]
    },
    {
      "metadata": {
        "id": "R3tyTDzaYFmr",
        "colab_type": "code",
        "outputId": "7377e005-77fb-4f91-bd36-33bc75e4bcb0",
        "colab": {
          "base_uri": "https://localhost:8080/",
          "height": 986
        }
      },
      "cell_type": "code",
      "source": [
        "model= Deep_Neural_Network(x_c,y_c,'gru',embeddings_index)\n",
        "model.set_optimizer('adam', lr= 0.001)\n",
        "model.train(epochs=20,batch_size=256)"
      ],
      "execution_count": 0,
      "outputs": [
        {
          "output_type": "stream",
          "text": [
            "100%|██████████| 8689/8689 [00:00<00:00, 315649.91it/s]\n"
          ],
          "name": "stderr"
        },
        {
          "output_type": "stream",
          "text": [
            "_________________________________________________________________\n",
            "Layer (type)                 Output Shape              Param #   \n",
            "=================================================================\n",
            "embedding_18 (Embedding)     (None, 280, 300)          2607000   \n",
            "_________________________________________________________________\n",
            "spatial_dropout1d_9 (Spatial (None, 280, 300)          0         \n",
            "_________________________________________________________________\n",
            "gru_11 (GRU)                 (None, 280, 128)          164736    \n",
            "_________________________________________________________________\n",
            "gru_12 (GRU)                 (None, 64)                37056     \n",
            "_________________________________________________________________\n",
            "dense_39 (Dense)             (None, 256)               16640     \n",
            "_________________________________________________________________\n",
            "dropout_49 (Dropout)         (None, 256)               0         \n",
            "_________________________________________________________________\n",
            "dense_40 (Dense)             (None, 128)               32896     \n",
            "_________________________________________________________________\n",
            "dropout_50 (Dropout)         (None, 128)               0         \n",
            "_________________________________________________________________\n",
            "dense_41 (Dense)             (None, 3)                 387       \n",
            "=================================================================\n",
            "Total params: 2,858,715\n",
            "Trainable params: 251,715\n",
            "Non-trainable params: 2,607,000\n",
            "_________________________________________________________________\n",
            "Train on 3100 samples, validate on 776 samples\n",
            "Epoch 1/20\n",
            "3100/3100 [==============================] - 24s 8ms/step - loss: 0.9524 - acc: 0.5777 - val_loss: 0.8573 - val_acc: 0.6211\n",
            "Epoch 2/20\n",
            "3100/3100 [==============================] - 15s 5ms/step - loss: 0.8504 - acc: 0.6242 - val_loss: 0.8081 - val_acc: 0.6405\n",
            "Epoch 3/20\n",
            "3100/3100 [==============================] - 15s 5ms/step - loss: 0.8210 - acc: 0.6426 - val_loss: 0.7909 - val_acc: 0.6637\n",
            "Epoch 4/20\n",
            "3100/3100 [==============================] - 15s 5ms/step - loss: 0.7932 - acc: 0.6642 - val_loss: 0.7562 - val_acc: 0.6778\n",
            "Epoch 5/20\n",
            "3100/3100 [==============================] - 15s 5ms/step - loss: 0.7793 - acc: 0.6684 - val_loss: 0.7440 - val_acc: 0.6881\n",
            "Epoch 6/20\n",
            "3100/3100 [==============================] - 15s 5ms/step - loss: 0.7722 - acc: 0.6752 - val_loss: 0.7476 - val_acc: 0.6817\n",
            "Epoch 7/20\n",
            "3100/3100 [==============================] - 15s 5ms/step - loss: 0.7420 - acc: 0.6939 - val_loss: 0.7246 - val_acc: 0.7062\n",
            "Epoch 8/20\n",
            "3100/3100 [==============================] - 15s 5ms/step - loss: 0.7542 - acc: 0.6900 - val_loss: 0.7229 - val_acc: 0.7113\n",
            "Epoch 9/20\n",
            "3100/3100 [==============================] - 15s 5ms/step - loss: 0.7377 - acc: 0.6948 - val_loss: 0.7309 - val_acc: 0.7049\n",
            "Epoch 10/20\n",
            "3100/3100 [==============================] - 15s 5ms/step - loss: 0.7146 - acc: 0.7013 - val_loss: 0.7206 - val_acc: 0.7126\n",
            "Epoch 11/20\n",
            "3100/3100 [==============================] - 15s 5ms/step - loss: 0.7254 - acc: 0.7010 - val_loss: 0.7141 - val_acc: 0.7152\n",
            "Epoch 12/20\n",
            "3100/3100 [==============================] - 15s 5ms/step - loss: 0.7192 - acc: 0.7023 - val_loss: 0.7113 - val_acc: 0.7229\n",
            "Epoch 13/20\n",
            "3100/3100 [==============================] - 15s 5ms/step - loss: 0.7248 - acc: 0.7087 - val_loss: 0.7291 - val_acc: 0.7101\n",
            "Epoch 14/20\n",
            "3100/3100 [==============================] - 15s 5ms/step - loss: 0.7034 - acc: 0.7126 - val_loss: 0.7209 - val_acc: 0.7178\n",
            "Epoch 15/20\n",
            "3100/3100 [==============================] - 15s 5ms/step - loss: 0.7029 - acc: 0.7161 - val_loss: 0.7204 - val_acc: 0.7113\n"
          ],
          "name": "stdout"
        }
      ]
    },
    {
      "metadata": {
        "id": "QO77UGzdZsTF",
        "colab_type": "code",
        "colab": {}
      },
      "cell_type": "code",
      "source": [
        ""
      ],
      "execution_count": 0,
      "outputs": []
    },
    {
      "metadata": {
        "id": "DfUFGDWWVd36",
        "colab_type": "code",
        "colab": {}
      },
      "cell_type": "code",
      "source": [
        ""
      ],
      "execution_count": 0,
      "outputs": []
    }
  ]
}