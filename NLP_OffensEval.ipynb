{
  "nbformat": 4,
  "nbformat_minor": 0,
  "metadata": {
    "colab": {
      "name": "NLP_OffensEval.ipynb",
      "version": "0.3.2",
      "provenance": [],
      "collapsed_sections": [
        "fZbnHPQHolOd",
        "V9F3CsFar1-H"
      ],
      "include_colab_link": true
    },
    "kernelspec": {
      "name": "python3",
      "display_name": "Python 3"
    },
    "accelerator": "GPU"
  },
  "cells": [
    {
      "cell_type": "markdown",
      "metadata": {
        "id": "view-in-github",
        "colab_type": "text"
      },
      "source": [
        "<a href=\"https://colab.research.google.com/github/chendingyan/NLP490H/blob/master/NLP_OffensEval.ipynb\" target=\"_parent\"><img src=\"https://colab.research.google.com/assets/colab-badge.svg\" alt=\"Open In Colab\"/></a>"
      ]
    },
    {
      "metadata": {
        "id": "fZbnHPQHolOd",
        "colab_type": "text"
      },
      "cell_type": "markdown",
      "source": [
        "# Initialize Notebook\n",
        "\n",
        "\n"
      ]
    },
    {
      "metadata": {
        "id": "QmOeSiqodfZe",
        "colab_type": "code",
        "colab": {
          "base_uri": "https://localhost:8080/",
          "height": 34
        },
        "outputId": "5a825269-b77d-4db0-b11c-e2cd6b6098ce"
      },
      "cell_type": "code",
      "source": [
        "from google.colab import drive\n",
        "drive.mount('/content/drive')"
      ],
      "execution_count": 15,
      "outputs": [
        {
          "output_type": "stream",
          "text": [
            "Drive already mounted at /content/drive; to attempt to forcibly remount, call drive.mount(\"/content/drive\", force_remount=True).\n"
          ],
          "name": "stdout"
        }
      ]
    },
    {
      "metadata": {
        "id": "hgGsPEiteiHS",
        "colab_type": "code",
        "outputId": "1f71ae85-a23f-48db-8629-080a5b954a11",
        "colab": {
          "base_uri": "https://localhost:8080/",
          "height": 51
        }
      },
      "cell_type": "code",
      "source": [
        "import torch\n",
        "from torch.autograd import Variable\n",
        "import numpy as np\n",
        "import torch.nn as nn\n",
        "import torch.optim as optim\n",
        "import torch.nn.functional as F\n",
        "from tqdm import tqdm \n",
        "import codecs\n",
        "import random\n",
        "import matplotlib.pyplot as plt\n",
        "import pandas as pd\n",
        "\n",
        "\n",
        "\n",
        "SEED = 234\n",
        "torch.manual_seed(SEED)\n",
        "np.random.seed(SEED)\n",
        "random.seed(SEED)\n",
        "\n",
        "import warnings\n",
        "warnings.filterwarnings('ignore')\n",
        "\n",
        "train_path = 'drive/My Drive/data/OffensEval_task_data/offenseval-training-v1.tsv'\n",
        "testA_path ='drive/My Drive/data/OffensEval_task_data/testset-taska.tsv'\n",
        "testB_path = 'drive/My Drive/data/OffensEval_task_data/testset-taskb.tsv'\n",
        "testC_path ='drive/My Drive/data/OffensEval_task_data/test_set_taskc.tsv'\n",
        "\n",
        "print('loading glove6B word vector')\n",
        "glove_path = 'drive/My Drive/data/glove.6B.300d.txt'\n",
        "embeddings_index = {}\n",
        "f = open(glove_path, encoding='utf-8')\n",
        "for line in f:\n",
        "    values = line.split()\n",
        "    word = values[0]\n",
        "    coefs = np.asarray(values[1:], dtype='float32')\n",
        "    embeddings_index[word] = coefs\n",
        "f.close()\n",
        "print('Found %s word vectors.' % len(embeddings_index))\n",
        "\n",
        "\n"
      ],
      "execution_count": 16,
      "outputs": [
        {
          "output_type": "stream",
          "text": [
            "loading glove6B word vector\n",
            "Found 400000 word vectors.\n"
          ],
          "name": "stdout"
        }
      ]
    },
    {
      "metadata": {
        "id": "ml2ta6xGezFv",
        "colab_type": "code",
        "outputId": "a10bdca3-d5bb-4e32-cdbf-01a9693c9d76",
        "colab": {
          "base_uri": "https://localhost:8080/",
          "height": 187
        }
      },
      "cell_type": "code",
      "source": [
        "import re\n",
        "import nltk\n",
        "from nltk import word_tokenize\n",
        "from nltk.corpus import stopwords\n",
        "\n",
        "nltk.download(\"stopwords\")\n",
        "nltk.download('wordnet')\n",
        "stop = stopwords.words(\"english\")\n",
        "nltk.download('punkt')\n",
        "nltk.download('averaged_perceptron_tagger')\n",
        "\n",
        "\n",
        "def preprocess(df):\n",
        "    print('-------Remove Stop Word--------')\n",
        "    stopword_set = set(stopwords.words(\"english\"))\n",
        "\n",
        "    # convert to lower case and split \n",
        "    df.tweet = df.tweet.apply(lambda x: ' '.join([word.lower() for word in x.split() if word not in stopword_set]))\n",
        "\n",
        "    # keep only words\n",
        "    pat1 = r'@[A-Za-z0-9]+'\n",
        "    pat2 =r'[^a-zA-Z\\s]'\n",
        "    pat3 =r\"\\bURL\\b\"\n",
        "    combined_pat = r'|'.join((pat1, pat2,pat3))\n",
        "    regex_pat = re.compile(combined_pat, flags=re.IGNORECASE)\n",
        "    df.tweet = df.tweet.str.replace(regex_pat, '')\n",
        "\n",
        "    # join the cleaned words in a list\n",
        "    df.tweet.str.join(\"\")\n",
        "    return df\n"
      ],
      "execution_count": 17,
      "outputs": [
        {
          "output_type": "stream",
          "text": [
            "[nltk_data] Downloading package stopwords to /root/nltk_data...\n",
            "[nltk_data]   Package stopwords is already up-to-date!\n",
            "[nltk_data] Downloading package wordnet to /root/nltk_data...\n",
            "[nltk_data]   Package wordnet is already up-to-date!\n",
            "[nltk_data] Downloading package punkt to /root/nltk_data...\n",
            "[nltk_data]   Package punkt is already up-to-date!\n",
            "[nltk_data] Downloading package averaged_perceptron_tagger to\n",
            "[nltk_data]     /root/nltk_data...\n",
            "[nltk_data]   Package averaged_perceptron_tagger is already up-to-\n",
            "[nltk_data]       date!\n"
          ],
          "name": "stdout"
        }
      ]
    },
    {
      "metadata": {
        "id": "V9F3CsFar1-H",
        "colab_type": "text"
      },
      "cell_type": "markdown",
      "source": [
        "# Classical Method"
      ]
    },
    {
      "metadata": {
        "id": "hdHmX79gexCg",
        "colab_type": "code",
        "colab": {}
      },
      "cell_type": "code",
      "source": [
        "from sklearn.feature_extraction.text import TfidfVectorizer\n",
        "from sklearn.feature_extraction.text import CountVectorizer\n",
        "from sklearn.model_selection import cross_val_score\n",
        "from sklearn.linear_model import LogisticRegression\n",
        "from sklearn.ensemble import RandomForestClassifier\n",
        "from scipy.sparse import bsr_matrix\n",
        "from sklearn import svm\n",
        "\n",
        "import numpy as np\n",
        "from xgboost import XGBClassifier\n",
        "from sklearn.naive_bayes import MultinomialNB\n",
        "\n",
        "\n",
        "class Bag_of_word(object):\n",
        "    \n",
        "    def __init__(self,classifier,vectorizer, max_feature = 10000):\n",
        "        if vectorizer =='tf_idf':\n",
        "            self.vectorizer = TfidfVectorizer(analyzer = \"word\", tokenizer = None, preprocessor = None,\n",
        "                                     stop_words = None, max_features = max_feature)\n",
        "        else:\n",
        "            self.vectorizer = CountVectorizer(analyzer = \"word\", tokenizer = None, preprocessor = None,\n",
        "                                 stop_words = None, max_features = max_feature)\n",
        "        self.model = classifier\n",
        "        self.clf = None\n",
        "        \n",
        "    def train_clf(self, train_data, lab_data, C = 1.0):\n",
        "        train_data_features = self.vectorizer.fit_transform(train_data)\n",
        "        train_data_features = bsr_matrix(train_data_features)\n",
        "        print('training data shape', train_data_features.shape)\n",
        "        \n",
        "        if self.model == 'logistic':\n",
        "            print(\"Training the logistic regression...\")\n",
        "            self.clf = LogisticRegression(solver='lbfgs', penalty='l2', dual=False, tol=0.0001, C=C, fit_intercept=True,\n",
        "                                         intercept_scaling=1.0, class_weight=None, random_state=None)\n",
        "            self.clf = self.clf.fit(train_data_features, lab_data)\n",
        "        \n",
        "        elif self.model == 'naive_bayes':\n",
        "            print(\"Training the Naive Bayes...\")\n",
        "            self.clf = MultinomialNB()\n",
        "            self.clf = self.clf.fit(train_data_features, lab_data)\n",
        "            \n",
        "        elif self.model == 'svm':\n",
        "            self.clf = svm.LinearSVC()\n",
        "            self.clf = self.clf.fit(train_data_features, lab_data)\n",
        "        \n",
        "        elif self.model == 'xgboost':\n",
        "            self.clf = XGBClassifier(max_depth=7, n_estimators=200, colsample_bytree=0.8, \n",
        "                            subsample=0.8, nthread=10, learning_rate=0.1)\n",
        "            self.clf = self.clf.fit(train_data_features, lab_data)\n",
        "\n",
        "        elif self.model =='random_forest':\n",
        "            self.clf == RandomForestClassifier(n_job=-1)\n",
        "            self.clf = self.clf.fit(train_data_features, lab_data)\n",
        "\n",
        "    def test_clf(self, test_data):\n",
        "        test_data_features = self.vectorizer.transform(test_data)\n",
        "        test_data_features = bsr_matrix(test_data_features)\n",
        "    \n",
        "        result = self.clr.predict(test_data_features)\n",
        "        return result\n",
        "    \n",
        "    def validate_clf(self, train_data, lab_data, C = 1.0):\n",
        "        train_data_features = self.vectorizer.fit_transform(train_data)\n",
        "        train_data_features = bsr_matrix(train_data_features)\n",
        "        lab_data = np.array(lab_data)\n",
        "        \n",
        "        print(\"start k-fold validate...\")\n",
        "        if self.model == 'logistic':\n",
        "            clf = LogisticRegression(solver='lbfgs', penalty='l2', dual=False, tol=0.0001, C=C, fit_intercept=True,\n",
        "                                         intercept_scaling=1.0, class_weight=None, random_state=None)\n",
        "            cv = cross_val_score(clf, train_data_features, lab_data, cv=10, scoring='accuracy')\n",
        "        \n",
        "        elif self.model == 'naive_bayes':\n",
        "            clf = MultinomialNB()\n",
        "            cv = cross_val_score(clf, train_data_features, lab_data, cv=10, scoring='accuracy')\n",
        "            \n",
        "        elif self.model == 'svm':\n",
        "            clf = svm.LinearSVC()\n",
        "            cv = cross_val_score(clf, train_data_features, lab_data, cv=10, scoring='accuracy')\n",
        "        \n",
        "        elif self.model == 'xgboost':\n",
        "            clf = XGBClassifier(max_depth=7, n_estimators=200, colsample_bytree=0.8, \n",
        "                            subsample=0.8, nthread=10, learning_rate=0.1)\n",
        "            cv = cross_val_score(clf, train_data_features, lab_data, cv=10, scoring='accuracy')\n",
        "\n",
        "        elif self.model =='random_forest':\n",
        "            clf = RandomForestClassifier(n_estimators=100, n_jobs=-1)\n",
        "            cv = cross_val_score(clf, train_data_features, lab_data, cv=10, scoring='accuracy')\n",
        "        return np.mean(cv)"
      ],
      "execution_count": 0,
      "outputs": []
    },
    {
      "metadata": {
        "colab_type": "code",
        "id": "HfVbuvs6okIP",
        "colab": {}
      },
      "cell_type": "code",
      "source": [
        "def svm_tune(x_train_tfv, y_train_a):\n",
        "    svd = TruncatedSVD()\n",
        "\n",
        "    # Standard Scaler\n",
        "    scl = preprocessing.StandardScaler()\n",
        "\n",
        "    svc = SVC()\n",
        "    # SVM\n",
        "    clf = pipeline.Pipeline([('svd',svd), ('scl',scl), ('svm',svc)])\n",
        "\n",
        "    param_grid = {'svd__n_components':[120,180],\n",
        "                 'svm__C':[1, 10],\n",
        "                  'svm__kernel':('linear', 'rbf'),\n",
        "                  'svm__gamma':['auto','scale']\n",
        "                 }\n",
        "    model = GridSearchCV(cv = 5, estimator=clf, param_grid=param_grid, scoring='accuracy',\n",
        "                                         verbose=10, n_jobs=-1, iid=True, refit=True)\n",
        "    model.fit(x_train_tfv, y_train_a) \n",
        "\n",
        "    print(\"Best score while tuning: %0.3f\" % model.best_score_)\n",
        "\n",
        "    return param_grid, model\n",
        "\n",
        "\n",
        "#Logistic Regression\n",
        "def logistic_tune(x_train_tfv, y_train_a):\n",
        "    lr_model = LogisticRegression()\n",
        "\n",
        "    # pipeline \n",
        "    clf = pipeline.Pipeline([('lr', lr_model)])\n",
        "    param_grid = {\n",
        "                         'lr__C': [0.1, 1.0, 10], \n",
        "                        'lr__penalty': ['l1', 'l2']}\n",
        "\n",
        "    model = GridSearchCV(cv = 5, estimator=clf, param_grid=param_grid, scoring='accuracy',\n",
        "                                     verbose=10, n_jobs=-1, iid=True, refit=True)\n",
        "    model.fit(x_train_tfv, y_train_a) \n",
        "\n",
        "    print(\"Best score while tuning: %0.3f\" % model.best_score_)\n",
        "    \n",
        "    return param_grid, model\n",
        "\n",
        "# Naive Bayes\n",
        "def naive_bayes_tune(x_train_tfv, y_train_a):\n",
        "    nb_model = MultinomialNB()\n",
        "\n",
        "    clf = pipeline.Pipeline([('nb', nb_model)])\n",
        "\n",
        "    param_grid = {'nb__alpha': [0.001, 0.01, 0.1, 1, 10, 100]}\n",
        "\n",
        "    # （Grid Search Model）\n",
        "    model = GridSearchCV(cv = 5,estimator=clf, param_grid=param_grid, scoring='accuracy',\n",
        "                                     verbose=10, n_jobs=-1, iid=True, refit=True,return_train_score=True)\n",
        "\n",
        "    model.fit(x_train_tfv, y_train_a) \n",
        "    print(\"Best score while tuning: %0.3f\" % model.best_score_)\n",
        "    \n",
        "    return param_grid, model\n",
        "\n",
        "# Xgboost\n",
        "def xgboost_tune(x_train_tfv, y_train_a):\n",
        "    \n",
        "    xgb_model = XGBClassifier()\n",
        "    clf = pipeline.Pipeline([('xgb', xgb_model)])\n",
        "    param_grid = {'learning_rate' :[0.1,0.01,0.001],\n",
        "                        'n_estimators':[200,400,600,800,1000],\n",
        "                        'max_depth':[3,5,7],\n",
        "                        'min_child_weight': [1,3,5]}\n",
        "    \n",
        "    model = GridSearchCV(cv = 5, estimator=clf, param_grid=param_grid, scoring='accuracy',\n",
        "                                     verbose=10, n_jobs=-1, iid=True, refit=True,return_train_score=True)\n",
        "\n",
        "    model.fit(x_train_tfv.tocsc(), y_train_a) \n",
        "    print(\"Best score while tuning: %0.3f\" % model.best_score_)\n",
        "    \n",
        "    return param_grid, model\n"
      ],
      "execution_count": 0,
      "outputs": []
    },
    {
      "metadata": {
        "id": "Z-EItGY3sMsi",
        "colab_type": "text"
      },
      "cell_type": "markdown",
      "source": [
        "# Deep Neural Network "
      ]
    },
    {
      "metadata": {
        "id": "QvfGhn46rAR8",
        "colab_type": "code",
        "colab": {}
      },
      "cell_type": "code",
      "source": [
        "\n",
        "from keras.models import Sequential, Model\n",
        "from keras.layers.recurrent import LSTM, GRU\n",
        "from keras.layers.core import Dense, Activation, Dropout\n",
        "from keras.layers.embeddings import Embedding\n",
        "from keras.layers.normalization import BatchNormalization\n",
        "from keras.utils import np_utils\n",
        "from keras.preprocessing import sequence, text\n",
        "from keras.layers import GlobalMaxPooling1D, Conv1D, MaxPooling1D, Flatten, Bidirectional, SpatialDropout1D,Dropout,Convolution2D\n",
        "from keras.layers import Dense, Embedding, Activation, merge, Input, Lambda, Reshape\n",
        "from keras.callbacks import EarlyStopping\n",
        "from keras.layers.merge import concatenate\n",
        "from keras import optimizers\n",
        "from sklearn.model_selection import train_test_split, GridSearchCV\n",
        "from keras import optimizers\n",
        "\n",
        "class Deep_Neural_Network(object):\n",
        "    def __init__(self, data, label, model_type, embedding_index,  metrics='accuracy'):\n",
        "        train_data, val_data, train_label, val_label = train_test_split(data, label, test_size=0.2,stratify=label,random_state=SEED,shuffle=True)\n",
        "        token = text.Tokenizer(num_words=None)\n",
        "        token.fit_on_texts(train_data)\n",
        "        x_train_seq = token.texts_to_sequences(train_data)\n",
        "        x_val_seq = token.texts_to_sequences(val_data)\n",
        "        self.max_len = len(max(data,key=lambda x:len(x)))\n",
        "        x_train_pad = sequence.pad_sequences(x_train_seq, maxlen=self.max_len)\n",
        "        x_val_pad = sequence.pad_sequences(x_val_seq, maxlen=self. max_len)\n",
        "        self.train_data = x_train_pad\n",
        "        self.val_data = x_val_pad\n",
        "        if  np.array_equal(train_label, train_label.astype(bool)):\n",
        "            self.num_classes = 1\n",
        "            self.activation = 'sigmoid'\n",
        "            self.loss  ='binary_crossentropy'\n",
        "            self.train_label = train_label\n",
        "            self.val_label = val_label\n",
        "        else:\n",
        "            self.num_classes = len(np.unique(train_label))\n",
        "            self.activation = 'softmax'\n",
        "            self.loss= 'categorical_crossentropy'\n",
        "            self.train_label = np_utils.to_categorical(train_label)\n",
        "            self.val_label = np_utils.to_categorical(val_label)\n",
        "        self.metrics = metrics\n",
        "        self.word_index =token.word_index\n",
        "        self.weight = self.embedding_matrix(embedding_index)\n",
        "        self.optim = 'adam'\n",
        "        if model_type == 'gru':\n",
        "            self.model = self.gru_model()\n",
        "        elif model_type == 'lstm':\n",
        "            self.model = self.lstm_model()\n",
        "        elif model_type == 'cnn':\n",
        "            self.model = self.cnn_model()\n",
        "        elif model_type == 'etextcnn':\n",
        "            self.model = self.etextcnn_model()\n",
        "        elif model_type =='cnn2d':\n",
        "            self.model = self.CNN_2D()\n",
        "            \n",
        "            \n",
        "    def set_optimizer(self, optimizer='adam', lr=0.01, decay=5e-3):\n",
        "        if optimizer =='sgd':\n",
        "            self.optim = optimizers.SGD(lr, decay=decay)\n",
        "        elif optimizer =='adam':\n",
        "            self.optim = optimizers.Adam(lr,decay=decay)\n",
        "        elif optimizer =='rmsprop':\n",
        "            self.optim = optimizers.RMSprop(lr=0.001, rho=0.9, epsilon=None, decay=0.0)\n",
        "\n",
        "    def embedding_matrix(self,embedding_index):\n",
        "        embedding_matrix = np.zeros((len(self.word_index) + 1, 300))\n",
        "        for word, i in tqdm(self.word_index.items()):\n",
        "            embedding_vector = embeddings_index.get(word)\n",
        "            if embedding_vector is not None:\n",
        "                embedding_matrix[i] = embedding_vector\n",
        "        return embedding_matrix\n",
        "        \n",
        "   \n",
        "    \n",
        "    def lstm_model(self):\n",
        "        lstm_model = Sequential()\n",
        "        lstm_model.add(Embedding(len(self.word_index) + 1, 300, weights=[self.weight],  input_length=self.max_len, trainable=False))\n",
        "        lstm_model.add(SpatialDropout1D(0.3))\n",
        "        lstm_model.add(Bidirectional(LSTM(100, dropout=0.3, recurrent_dropout=0.3)))\n",
        "        lstm_model.add(Dense(512, activation='relu'))\n",
        "        lstm_model.add(Dropout(0.3))\n",
        "        lstm_model.add(Dense(256, activation='relu'))\n",
        "        lstm_model.add(Dropout(0.3))\n",
        "        lstm_model.add(Dense(self.num_classes, activation=self.activation))\n",
        "        \n",
        "        lstm_model.compile(loss=self.loss, optimizer=self.optim, metrics=[self.metrics])\n",
        "        lstm_model.summary()\n",
        "        return lstm_model\n",
        "    \n",
        "    def gru_model(self):\n",
        "        gru_model = Sequential()\n",
        "        gru_model.add(Embedding(len(self.word_index) + 1, 300, weights=[self.weight],  input_length=self.max_len, trainable=False))\n",
        "        gru_model.add(SpatialDropout1D(0.3))\n",
        "        gru_model.add(GRU(128, dropout=0.3, recurrent_dropout=0.3, return_sequences=True))\n",
        "        gru_model.add(GRU(64, dropout=0.3, recurrent_dropout=0.3))\n",
        "        gru_model.add(Dense(256, activation='relu'))\n",
        "        gru_model.add(Dropout(0.3))\n",
        "        gru_model.add(Dense(128, activation='relu'))\n",
        "        gru_model.add(Dropout(0.3))\n",
        "        gru_model.add(Dense(self.num_classes, activation=self.activation))\n",
        "\n",
        "        gru_model.compile(loss=self.loss, optimizer=self.optim, metrics=[self.metrics])\n",
        "        gru_model.summary()\n",
        "        return gru_model\n",
        "    \n",
        "    \n",
        "    def cnn_model(self):\n",
        "        cnn_model = Sequential()\n",
        "        cnn_model.add(Embedding(len(self.word_index) + 1,300,weights=[self.weight],input_length=self.max_len, trainable=False))\n",
        "        cnn_model.add(Conv1D(64, 3, padding='same'))\n",
        "        cnn_model.add(MaxPooling1D(3,3,padding='same'))\n",
        "        cnn_model.add(Conv1D(32, 3, padding='same'))\n",
        "        cnn_model.add(MaxPooling1D(3,3,padding='same'))\n",
        "        cnn_model.add(Conv1D(16, 3, padding='same'))\n",
        "        cnn_model.add(Flatten())\n",
        "        cnn_model.add(Dropout(0.3))\n",
        "        cnn_model.add(BatchNormalization()) \n",
        "        cnn_model.add(Dense(256,activation='relu'))\n",
        "        cnn_model.add(Dropout(0.1))\n",
        "        cnn_model.add(Dense(self.num_classes, activation=self.activation))\n",
        "        \n",
        "        cnn_model.compile(loss=self.loss, optimizer=self.optim, metrics=[self.metrics])\n",
        "        cnn_model.summary()\n",
        "        return cnn_model\n",
        "    \n",
        "    def CNN_2D(self):\n",
        "        cnn2d_model = Sequential()\n",
        "        cnn2d_model.add(Embedding(len(self.word_index) + 1,50,input_length=self.max_len, trainable=False))\n",
        "        cnn2d_model.add(Reshape((50,self.max_len,1)))\n",
        "        cnn2d_model.add(Convolution2D(64,(1,5),activation=\"relu\"))\n",
        "        cnn2d_model.add(Dropout(0.9))\n",
        "        cnn2d_model.add(Convolution2D(32,(2,3),activation=\"relu\"))\n",
        "        cnn2d_model.add(Dropout(0.8))\n",
        "        cnn2d_model.add(Convolution2D(16,(2,2),activation=\"relu\"))\n",
        "        cnn2d_model.add(Dropout(0.7))\n",
        "        cnn2d_model.add(Flatten())\n",
        "        cnn2d_model.add(Dense(self.num_classes, activation=self.activation))\n",
        "        cnn2d_model.compile(loss=self.loss, optimizer=self.optim, metrics=[self.metrics])\n",
        "        cnn2d_model.summary()\n",
        "        return cnn2d_model    \n",
        "    \n",
        "    def etextcnn_model(self):\n",
        "        main_input = Input(shape=(self.max_len,), dtype='float64')\n",
        "        embedder = Embedding(len(self.word_index) + 1, 300, input_length = self.max_len, weights = [self.weight], trainable = False)\n",
        "        embed = embedder(main_input)\n",
        "        # cnn1，kernel_size = 3\n",
        "        conv1_1 = Conv1D(64, 3, padding='same')(embed)\n",
        "        bn1_1 = BatchNormalization()(conv1_1)\n",
        "        relu1_1 = Activation('relu')(bn1_1)\n",
        "        drop1_1 = Dropout(0.3)(relu1_1)\n",
        "        conv1_2 = Conv1D(32, 3, padding='same')(drop1_1)\n",
        "        bn1_2 = BatchNormalization()(conv1_2)\n",
        "        relu1_2 = Activation('relu')(bn1_2)\n",
        "        drop1_2 = Dropout(0.3)(relu1_2)\n",
        "        cnn1 = MaxPooling1D(pool_size=4)(drop1_1)\n",
        "        # cnn2，kernel_size = 4\n",
        "        conv2_1 = Conv1D(64, 4, padding='same')(embed)\n",
        "        bn2_1 = BatchNormalization()(conv2_1)\n",
        "        relu2_1 = Activation('relu')(bn2_1)\n",
        "        drop2_1 = Dropout(0.3)(relu2_1)\n",
        "        conv2_2 = Conv1D(32, 4, padding='same')(drop2_1)\n",
        "        bn2_2 = BatchNormalization()(conv2_2)\n",
        "        relu2_2 = Activation('relu')(bn2_2)\n",
        "        drop2_2 = Dropout(0.3)(relu2_2)\n",
        "        cnn2 = MaxPooling1D(pool_size=4)(drop2_2)\n",
        "        # cnn3，kernel_size = 5\n",
        "        conv3_1 = Conv1D(64, 5, padding='same')(embed)\n",
        "        bn3_1 = BatchNormalization()(conv3_1)\n",
        "        relu3_1 = Activation('relu')(bn3_1)\n",
        "        drop3_1 = Dropout(0.3)(relu3_1)\n",
        "        conv3_2 = Conv1D(32, 5, padding='same')(drop3_1)\n",
        "        bn3_2 = BatchNormalization()(conv3_2)\n",
        "        relu3_2 = Activation('relu')(bn3_2)\n",
        "        drop3_2 = Dropout(0.3)(relu3_2)\n",
        "        cnn3 = MaxPooling1D(pool_size=4)(drop3_2)\n",
        "        # Combine three block\n",
        "        cnn = concatenate([cnn1,cnn2,cnn3], axis=-1)\n",
        "        flat = Flatten()(cnn)\n",
        "        drop = Dropout(0.5)(flat)\n",
        "        fc = Dense(128)(drop)\n",
        "        bn = BatchNormalization()(fc)\n",
        "\n",
        "        main_output = Dense(self.num_classes, activation=self.activation)(bn)\n",
        "        etextcnn_model = Model(inputs = main_input, outputs = main_output)                \n",
        "        etextcnn_model.compile(loss=self.loss, optimizer=self.optim, metrics=[self.metrics])\n",
        "        etextcnn_model.summary()\n",
        "        return etextcnn_model\n",
        "    \n",
        "\n",
        "    def train(self,epochs=100,batch_size=256):\n",
        "        earlystop = EarlyStopping(monitor='val_loss', min_delta=0, patience=3, verbose=0, mode='auto')\n",
        "\n",
        "        self.model.fit(self.train_data, self.train_label, batch_size=batch_size, epochs=epochs, verbose=1, \n",
        "                       validation_data=(self.val_data, self.val_label), callbacks=[earlystop])  \n",
        "\n",
        "    def predict(self, test_data):\n",
        "        test_seq = token.texts_to_sequences(test_data)\n",
        "        test_pad =sequence.pad_sequences(test_seq, maxlen=self.max_len)\n",
        "        prediction =self.model.predict(tst_data,batch_size=64)\n",
        "        \n",
        "    def visualize(self):\n",
        "        from keras.utils import plot_model\n",
        "        plot_model(self.model, to_file='drive/My Drive/data/lstm_model_plot.png', show_shapes=True, show_layer_names=True)"
      ],
      "execution_count": 0,
      "outputs": []
    },
    {
      "metadata": {
        "id": "Xe0AYfpfqjFo",
        "colab_type": "code",
        "colab": {}
      },
      "cell_type": "code",
      "source": [
        ""
      ],
      "execution_count": 0,
      "outputs": []
    },
    {
      "metadata": {
        "id": "AEaSgKkiotaY",
        "colab_type": "text"
      },
      "cell_type": "markdown",
      "source": [
        "# Task A"
      ]
    },
    {
      "metadata": {
        "id": "z8CAHOGQS6ll",
        "colab_type": "code",
        "outputId": "81ca690e-ac16-4edd-cee3-a8f6ad2605ec",
        "colab": {
          "base_uri": "https://localhost:8080/",
          "height": 51
        }
      },
      "cell_type": "code",
      "source": [
        "from sklearn.preprocessing import LabelEncoder, StandardScaler\n",
        "\n",
        "# Load training data\n",
        "df = pd.read_csv(train_path,sep='\\t')\n",
        "df = preprocess(df)\n",
        "lbl = LabelEncoder()\n",
        "y_a = lbl.fit_transform(df.subtask_a.values)\n",
        "x_a = df.tweet.values\n",
        "\n",
        "# load test data\n",
        "df_a = pd.read_csv(testA_path,sep='\\t')\n",
        "df_a = preprocess(df_a)\n",
        "x_test_a = df_a.tweet.values"
      ],
      "execution_count": 21,
      "outputs": [
        {
          "output_type": "stream",
          "text": [
            "-------Remove Stop Word--------\n",
            "-------Remove Stop Word--------\n"
          ],
          "name": "stdout"
        }
      ]
    },
    {
      "metadata": {
        "id": "SSw47ozTpPge",
        "colab_type": "code",
        "outputId": "d730ea4e-70f6-47fd-c4bb-1f389ce27039",
        "colab": {
          "base_uri": "https://localhost:8080/",
          "height": 199
        }
      },
      "cell_type": "code",
      "source": [
        "# TF_IDF\n",
        "clf = Bag_of_word('logistic','tf_idf')\n",
        "cv = clf.validate_clf(x_a, y_a)\n",
        "print('mean cross validation for Logistic regression is', cv)\n",
        "\n",
        "clf = Bag_of_word('naive_bayes','tf_idf')\n",
        "cv = clf.validate_clf(x_a, y_a)\n",
        "print('mean cross validation for Naive_Bayes is', cv)\n",
        "\n",
        "clf = Bag_of_word('xgboost','tf_idf')\n",
        "cv = clf.validate_clf(x_a, y_a)\n",
        "print('mean cross validation for Xgboost is', cv)\n",
        "\n",
        "clf = Bag_of_word('random_forest','tf_idf')\n",
        "cv = clf.validate_clf(x_a, y_a)\n",
        "print('mean cross validation for Random Forest is', cv)\n",
        "\n",
        "clf = Bag_of_word('svm','tf_idf')\n",
        "cv = clf.validate_clf(x_a, y_a)\n",
        "print('mean cross validation for SVM is', cv)"
      ],
      "execution_count": 0,
      "outputs": [
        {
          "output_type": "stream",
          "text": [
            "start k-fold validate...\n",
            "mean cross validation for Logistic regression is 0.756797583081571\n",
            "start k-fold validate...\n",
            "mean cross validation for Naive_Bayes is 0.7241691842900302\n",
            "start k-fold validate...\n",
            "mean cross validation for Xgboost is 0.7580815709969788\n",
            "start k-fold validate...\n",
            "mean cross validation for Random Forest is 0.7657854984894261\n",
            "start k-fold validate...\n",
            "mean cross validation for SVM is 0.7512839879154078\n"
          ],
          "name": "stdout"
        }
      ]
    },
    {
      "metadata": {
        "id": "EcZKjgSwsiTo",
        "colab_type": "code",
        "outputId": "06a49701-b470-41b6-df01-9338eb3bda2f",
        "colab": {
          "base_uri": "https://localhost:8080/",
          "height": 563
        }
      },
      "cell_type": "code",
      "source": [
        "# Word Count\n",
        "clf = Bag_of_word('logistic','word_count')\n",
        "cv = clf.validate_clf(x_a, y_a)\n",
        "print('mean cross validation for Logistic regression is', cv)\n",
        "\n",
        "clf = Bag_of_word('naive_bayes','word_count')\n",
        "cv = clf.validate_clf(x_a, y_a)\n",
        "print('mean cross validation for Naive_Bayes is', cv)\n",
        "\n",
        "clf = Bag_of_word('xgboost','word_count')\n",
        "cv = clf.validate_clf(x_a, y_a)\n",
        "print('mean cross validation for Xgboost is', cv)\n",
        "\n",
        "clf = Bag_of_word('random_forest','word_count')\n",
        "cv = clf.validate_clf(x_a, y_a)\n",
        "print('mean cross validation for Random Forest is', cv)\n",
        "\n",
        "clf = Bag_of_word('svm','word_count')\n",
        "cv = clf.validate_clf(x_a, y_a)\n",
        "print('mean cross validation for SVM is', cv)"
      ],
      "execution_count": 0,
      "outputs": [
        {
          "output_type": "stream",
          "text": [
            "start k-fold validate...\n"
          ],
          "name": "stdout"
        },
        {
          "output_type": "stream",
          "text": [
            "/usr/local/lib/python3.6/dist-packages/sklearn/linear_model/logistic.py:758: ConvergenceWarning: lbfgs failed to converge. Increase the number of iterations.\n",
            "  \"of iterations.\", ConvergenceWarning)\n",
            "/usr/local/lib/python3.6/dist-packages/sklearn/linear_model/logistic.py:758: ConvergenceWarning: lbfgs failed to converge. Increase the number of iterations.\n",
            "  \"of iterations.\", ConvergenceWarning)\n",
            "/usr/local/lib/python3.6/dist-packages/sklearn/linear_model/logistic.py:758: ConvergenceWarning: lbfgs failed to converge. Increase the number of iterations.\n",
            "  \"of iterations.\", ConvergenceWarning)\n",
            "/usr/local/lib/python3.6/dist-packages/sklearn/linear_model/logistic.py:758: ConvergenceWarning: lbfgs failed to converge. Increase the number of iterations.\n",
            "  \"of iterations.\", ConvergenceWarning)\n",
            "/usr/local/lib/python3.6/dist-packages/sklearn/linear_model/logistic.py:758: ConvergenceWarning: lbfgs failed to converge. Increase the number of iterations.\n",
            "  \"of iterations.\", ConvergenceWarning)\n",
            "/usr/local/lib/python3.6/dist-packages/sklearn/linear_model/logistic.py:758: ConvergenceWarning: lbfgs failed to converge. Increase the number of iterations.\n",
            "  \"of iterations.\", ConvergenceWarning)\n",
            "/usr/local/lib/python3.6/dist-packages/sklearn/linear_model/logistic.py:758: ConvergenceWarning: lbfgs failed to converge. Increase the number of iterations.\n",
            "  \"of iterations.\", ConvergenceWarning)\n",
            "/usr/local/lib/python3.6/dist-packages/sklearn/linear_model/logistic.py:758: ConvergenceWarning: lbfgs failed to converge. Increase the number of iterations.\n",
            "  \"of iterations.\", ConvergenceWarning)\n",
            "/usr/local/lib/python3.6/dist-packages/sklearn/linear_model/logistic.py:758: ConvergenceWarning: lbfgs failed to converge. Increase the number of iterations.\n",
            "  \"of iterations.\", ConvergenceWarning)\n",
            "/usr/local/lib/python3.6/dist-packages/sklearn/linear_model/logistic.py:758: ConvergenceWarning: lbfgs failed to converge. Increase the number of iterations.\n",
            "  \"of iterations.\", ConvergenceWarning)\n"
          ],
          "name": "stderr"
        },
        {
          "output_type": "stream",
          "text": [
            "mean cross validation for Logistic regression is 0.7614048338368581\n",
            "start k-fold validate...\n",
            "mean cross validation for Naive_Bayes is 0.7424471299093656\n",
            "start k-fold validate...\n",
            "mean cross validation for Xgboost is 0.7624622356495468\n",
            "start k-fold validate...\n",
            "mean cross validation for Random Forest is 0.7582326283987916\n",
            "start k-fold validate...\n",
            "mean cross validation for SVM is 0.7370090634441089\n"
          ],
          "name": "stdout"
        }
      ]
    },
    {
      "metadata": {
        "id": "UMo3jgzyqkmH",
        "colab_type": "code",
        "outputId": "5adba483-ba48-4b26-e522-2de710737238",
        "colab": {
          "base_uri": "https://localhost:8080/",
          "height": 1023
        }
      },
      "cell_type": "code",
      "source": [
        "model= Deep_Neural_Network(x_a,y_a,'gru',embeddings_index)\n",
        "model.set_optimizer('rmsprop')\n",
        "model.train(epochs=20,batch_size=256)"
      ],
      "execution_count": 0,
      "outputs": [
        {
          "output_type": "stream",
          "text": [
            "100%|██████████| 17766/17766 [00:00<00:00, 398536.72it/s]"
          ],
          "name": "stderr"
        },
        {
          "output_type": "stream",
          "text": [
            "WARNING:tensorflow:From /usr/local/lib/python3.6/dist-packages/tensorflow/python/framework/op_def_library.py:263: colocate_with (from tensorflow.python.framework.ops) is deprecated and will be removed in a future version.\n",
            "Instructions for updating:\n",
            "Colocations handled automatically by placer.\n"
          ],
          "name": "stdout"
        },
        {
          "output_type": "stream",
          "text": [
            "\n"
          ],
          "name": "stderr"
        },
        {
          "output_type": "stream",
          "text": [
            "WARNING:tensorflow:From /usr/local/lib/python3.6/dist-packages/keras/backend/tensorflow_backend.py:3445: calling dropout (from tensorflow.python.ops.nn_ops) with keep_prob is deprecated and will be removed in a future version.\n",
            "Instructions for updating:\n",
            "Please use `rate` instead of `keep_prob`. Rate should be set to `rate = 1 - keep_prob`.\n",
            "_________________________________________________________________\n",
            "Layer (type)                 Output Shape              Param #   \n",
            "=================================================================\n",
            "embedding_1 (Embedding)      (None, 280, 300)          5330100   \n",
            "_________________________________________________________________\n",
            "spatial_dropout1d_1 (Spatial (None, 280, 300)          0         \n",
            "_________________________________________________________________\n",
            "gru_1 (GRU)                  (None, 280, 128)          164736    \n",
            "_________________________________________________________________\n",
            "gru_2 (GRU)                  (None, 64)                37056     \n",
            "_________________________________________________________________\n",
            "dense_1 (Dense)              (None, 256)               16640     \n",
            "_________________________________________________________________\n",
            "dropout_1 (Dropout)          (None, 256)               0         \n",
            "_________________________________________________________________\n",
            "dense_2 (Dense)              (None, 128)               32896     \n",
            "_________________________________________________________________\n",
            "dropout_2 (Dropout)          (None, 128)               0         \n",
            "_________________________________________________________________\n",
            "dense_3 (Dense)              (None, 1)                 129       \n",
            "=================================================================\n",
            "Total params: 5,581,557\n",
            "Trainable params: 251,457\n",
            "Non-trainable params: 5,330,100\n",
            "_________________________________________________________________\n",
            "WARNING:tensorflow:From /usr/local/lib/python3.6/dist-packages/tensorflow/python/ops/math_ops.py:3066: to_int32 (from tensorflow.python.ops.math_ops) is deprecated and will be removed in a future version.\n",
            "Instructions for updating:\n",
            "Use tf.cast instead.\n",
            "Train on 10592 samples, validate on 2648 samples\n",
            "Epoch 1/20\n",
            "10592/10592 [==============================] - 49s 5ms/step - loss: 0.6213 - acc: 0.6724 - val_loss: 0.5619 - val_acc: 0.7137\n",
            "Epoch 2/20\n",
            "10592/10592 [==============================] - 47s 4ms/step - loss: 0.5576 - acc: 0.7230 - val_loss: 0.5285 - val_acc: 0.7424\n",
            "Epoch 3/20\n",
            "10592/10592 [==============================] - 47s 4ms/step - loss: 0.5151 - acc: 0.7516 - val_loss: 0.4951 - val_acc: 0.7704\n",
            "Epoch 4/20\n",
            "10592/10592 [==============================] - 46s 4ms/step - loss: 0.5037 - acc: 0.7607 - val_loss: 0.4924 - val_acc: 0.7700\n",
            "Epoch 5/20\n",
            "10592/10592 [==============================] - 47s 4ms/step - loss: 0.4950 - acc: 0.7636 - val_loss: 0.4869 - val_acc: 0.7666\n",
            "Epoch 6/20\n",
            "10592/10592 [==============================] - 47s 4ms/step - loss: 0.4870 - acc: 0.7670 - val_loss: 0.4851 - val_acc: 0.7700\n",
            "Epoch 7/20\n",
            "10592/10592 [==============================] - 47s 4ms/step - loss: 0.4845 - acc: 0.7725 - val_loss: 0.4855 - val_acc: 0.7693\n",
            "Epoch 8/20\n",
            "10592/10592 [==============================] - 46s 4ms/step - loss: 0.4764 - acc: 0.7822 - val_loss: 0.4833 - val_acc: 0.7753\n",
            "Epoch 9/20\n",
            "10592/10592 [==============================] - 46s 4ms/step - loss: 0.4695 - acc: 0.7810 - val_loss: 0.4863 - val_acc: 0.7734\n",
            "Epoch 10/20\n",
            "10592/10592 [==============================] - 46s 4ms/step - loss: 0.4701 - acc: 0.7784 - val_loss: 0.4847 - val_acc: 0.7685\n",
            "Epoch 11/20\n",
            "10592/10592 [==============================] - 47s 4ms/step - loss: 0.4644 - acc: 0.7893 - val_loss: 0.4850 - val_acc: 0.7696\n"
          ],
          "name": "stdout"
        }
      ]
    },
    {
      "metadata": {
        "id": "i3EtiWV4uh_Q",
        "colab_type": "code",
        "outputId": "a5f408aa-7eed-47c5-a95d-3da25b1f0374",
        "colab": {
          "base_uri": "https://localhost:8080/",
          "height": 1672
        }
      },
      "cell_type": "code",
      "source": [
        "model= Deep_Neural_Network(x_a,y_a,'etextcnn',embeddings_index)\n",
        "model.set_optimizer('sgd',lr=0.0000001)\n",
        "model.train(epochs=20,batch_size=256)"
      ],
      "execution_count": 0,
      "outputs": [
        {
          "output_type": "stream",
          "text": [
            "100%|██████████| 17778/17778 [00:00<00:00, 356294.28it/s]\n"
          ],
          "name": "stderr"
        },
        {
          "output_type": "stream",
          "text": [
            "__________________________________________________________________________________________________\n",
            "Layer (type)                    Output Shape         Param #     Connected to                     \n",
            "==================================================================================================\n",
            "input_2 (InputLayer)            (None, 280)          0                                            \n",
            "__________________________________________________________________________________________________\n",
            "embedding_28 (Embedding)        (None, 280, 300)     5333700     input_2[0][0]                    \n",
            "__________________________________________________________________________________________________\n",
            "conv1d_30 (Conv1D)              (None, 280, 64)      76864       embedding_28[0][0]               \n",
            "__________________________________________________________________________________________________\n",
            "conv1d_32 (Conv1D)              (None, 280, 64)      96064       embedding_28[0][0]               \n",
            "__________________________________________________________________________________________________\n",
            "batch_normalization_17 (BatchNo (None, 280, 64)      256         conv1d_30[0][0]                  \n",
            "__________________________________________________________________________________________________\n",
            "batch_normalization_19 (BatchNo (None, 280, 64)      256         conv1d_32[0][0]                  \n",
            "__________________________________________________________________________________________________\n",
            "activation_9 (Activation)       (None, 280, 64)      0           batch_normalization_17[0][0]     \n",
            "__________________________________________________________________________________________________\n",
            "activation_11 (Activation)      (None, 280, 64)      0           batch_normalization_19[0][0]     \n",
            "__________________________________________________________________________________________________\n",
            "dropout_64 (Dropout)            (None, 280, 64)      0           activation_9[0][0]               \n",
            "__________________________________________________________________________________________________\n",
            "dropout_66 (Dropout)            (None, 280, 64)      0           activation_11[0][0]              \n",
            "__________________________________________________________________________________________________\n",
            "conv1d_28 (Conv1D)              (None, 280, 64)      57664       embedding_28[0][0]               \n",
            "__________________________________________________________________________________________________\n",
            "conv1d_31 (Conv1D)              (None, 280, 32)      8224        dropout_64[0][0]                 \n",
            "__________________________________________________________________________________________________\n",
            "conv1d_33 (Conv1D)              (None, 280, 32)      10272       dropout_66[0][0]                 \n",
            "__________________________________________________________________________________________________\n",
            "batch_normalization_15 (BatchNo (None, 280, 64)      256         conv1d_28[0][0]                  \n",
            "__________________________________________________________________________________________________\n",
            "batch_normalization_18 (BatchNo (None, 280, 32)      128         conv1d_31[0][0]                  \n",
            "__________________________________________________________________________________________________\n",
            "batch_normalization_20 (BatchNo (None, 280, 32)      128         conv1d_33[0][0]                  \n",
            "__________________________________________________________________________________________________\n",
            "activation_7 (Activation)       (None, 280, 64)      0           batch_normalization_15[0][0]     \n",
            "__________________________________________________________________________________________________\n",
            "activation_10 (Activation)      (None, 280, 32)      0           batch_normalization_18[0][0]     \n",
            "__________________________________________________________________________________________________\n",
            "activation_12 (Activation)      (None, 280, 32)      0           batch_normalization_20[0][0]     \n",
            "__________________________________________________________________________________________________\n",
            "dropout_62 (Dropout)            (None, 280, 64)      0           activation_7[0][0]               \n",
            "__________________________________________________________________________________________________\n",
            "dropout_65 (Dropout)            (None, 280, 32)      0           activation_10[0][0]              \n",
            "__________________________________________________________________________________________________\n",
            "dropout_67 (Dropout)            (None, 280, 32)      0           activation_12[0][0]              \n",
            "__________________________________________________________________________________________________\n",
            "max_pooling1d_18 (MaxPooling1D) (None, 70, 64)       0           dropout_62[0][0]                 \n",
            "__________________________________________________________________________________________________\n",
            "max_pooling1d_19 (MaxPooling1D) (None, 70, 32)       0           dropout_65[0][0]                 \n",
            "__________________________________________________________________________________________________\n",
            "max_pooling1d_20 (MaxPooling1D) (None, 70, 32)       0           dropout_67[0][0]                 \n",
            "__________________________________________________________________________________________________\n",
            "concatenate_2 (Concatenate)     (None, 70, 128)      0           max_pooling1d_18[0][0]           \n",
            "                                                                 max_pooling1d_19[0][0]           \n",
            "                                                                 max_pooling1d_20[0][0]           \n",
            "__________________________________________________________________________________________________\n",
            "flatten_15 (Flatten)            (None, 8960)         0           concatenate_2[0][0]              \n",
            "__________________________________________________________________________________________________\n",
            "dropout_68 (Dropout)            (None, 8960)         0           flatten_15[0][0]                 \n",
            "__________________________________________________________________________________________________\n",
            "dense_56 (Dense)                (None, 128)          1147008     dropout_68[0][0]                 \n",
            "__________________________________________________________________________________________________\n",
            "batch_normalization_21 (BatchNo (None, 128)          512         dense_56[0][0]                   \n",
            "__________________________________________________________________________________________________\n",
            "dense_57 (Dense)                (None, 1)            129         batch_normalization_21[0][0]     \n",
            "==================================================================================================\n",
            "Total params: 6,731,461\n",
            "Trainable params: 1,396,993\n",
            "Non-trainable params: 5,334,468\n",
            "__________________________________________________________________________________________________\n",
            "Train on 10592 samples, validate on 2648 samples\n",
            "Epoch 1/20\n",
            "10592/10592 [==============================] - 14s 1ms/step - loss: 0.7829 - acc: 0.6228 - val_loss: 0.5517 - val_acc: 0.7281\n",
            "Epoch 2/20\n",
            "10592/10592 [==============================] - 6s 536us/step - loss: 0.5562 - acc: 0.7268 - val_loss: 0.5088 - val_acc: 0.7610\n",
            "Epoch 3/20\n",
            "10592/10592 [==============================] - 6s 534us/step - loss: 0.5268 - acc: 0.7498 - val_loss: 0.5022 - val_acc: 0.7651\n",
            "Epoch 4/20\n",
            "10592/10592 [==============================] - 6s 537us/step - loss: 0.4945 - acc: 0.7703 - val_loss: 0.4962 - val_acc: 0.7644\n",
            "Epoch 5/20\n",
            "10592/10592 [==============================] - 6s 538us/step - loss: 0.4755 - acc: 0.7850 - val_loss: 0.5030 - val_acc: 0.7621\n",
            "Epoch 6/20\n",
            "10592/10592 [==============================] - 6s 537us/step - loss: 0.4597 - acc: 0.7870 - val_loss: 0.4903 - val_acc: 0.7745\n",
            "Epoch 7/20\n",
            "10592/10592 [==============================] - 6s 536us/step - loss: 0.4415 - acc: 0.8021 - val_loss: 0.5130 - val_acc: 0.7640\n",
            "Epoch 8/20\n",
            "10592/10592 [==============================] - 6s 538us/step - loss: 0.4169 - acc: 0.8141 - val_loss: 0.5280 - val_acc: 0.7560\n",
            "Epoch 9/20\n",
            "10592/10592 [==============================] - 6s 539us/step - loss: 0.3958 - acc: 0.8253 - val_loss: 0.5362 - val_acc: 0.7647\n"
          ],
          "name": "stdout"
        }
      ]
    },
    {
      "metadata": {
        "id": "-zv4CYA5x4u3",
        "colab_type": "code",
        "outputId": "467d2287-ddba-45ea-a039-c92d8975c2bd",
        "colab": {
          "base_uri": "https://localhost:8080/",
          "height": 417
        }
      },
      "cell_type": "code",
      "source": [
        "model= Deep_Neural_Network(x_a,y_a,'lstm',embeddings_index)\n",
        "model.set_optimizer('rmsprop')\n",
        "model.train(epochs=20,batch_size=512)"
      ],
      "execution_count": 0,
      "outputs": [
        {
          "output_type": "stream",
          "text": [
            "100%|██████████| 17791/17791 [00:00<00:00, 404806.75it/s]\n"
          ],
          "name": "stderr"
        },
        {
          "output_type": "stream",
          "text": [
            "Train on 10592 samples, validate on 2648 samples\n",
            "Epoch 1/20\n",
            "10592/10592 [==============================] - 72s 7ms/step - loss: 0.6125 - acc: 0.6807 - val_loss: 0.5192 - val_acc: 0.7526\n",
            "Epoch 2/20\n",
            "10592/10592 [==============================] - 63s 6ms/step - loss: 0.5478 - acc: 0.7275 - val_loss: 0.5050 - val_acc: 0.7610\n",
            "Epoch 3/20\n",
            "10592/10592 [==============================] - 63s 6ms/step - loss: 0.5222 - acc: 0.7426 - val_loss: 0.4774 - val_acc: 0.7689\n",
            "Epoch 4/20\n",
            "10592/10592 [==============================] - 63s 6ms/step - loss: 0.5110 - acc: 0.7528 - val_loss: 0.4717 - val_acc: 0.7768\n",
            "Epoch 5/20\n",
            "10592/10592 [==============================] - 63s 6ms/step - loss: 0.5026 - acc: 0.7596 - val_loss: 0.4770 - val_acc: 0.7753\n",
            "Epoch 6/20\n",
            "10592/10592 [==============================] - 63s 6ms/step - loss: 0.4857 - acc: 0.7669 - val_loss: 0.4795 - val_acc: 0.7791\n",
            "Epoch 7/20\n",
            "10592/10592 [==============================] - 63s 6ms/step - loss: 0.4817 - acc: 0.7742 - val_loss: 0.4653 - val_acc: 0.7798\n",
            "Epoch 8/20\n",
            "10592/10592 [==============================] - 63s 6ms/step - loss: 0.4752 - acc: 0.7802 - val_loss: 0.4688 - val_acc: 0.7832\n",
            "Epoch 9/20\n",
            "10592/10592 [==============================] - 63s 6ms/step - loss: 0.4646 - acc: 0.7820 - val_loss: 0.4687 - val_acc: 0.7851\n",
            "Epoch 10/20\n",
            "10592/10592 [==============================] - 63s 6ms/step - loss: 0.4593 - acc: 0.7824 - val_loss: 0.4666 - val_acc: 0.7885\n"
          ],
          "name": "stdout"
        }
      ]
    },
    {
      "metadata": {
        "id": "L_rtfo0vQmU1",
        "colab_type": "code",
        "colab": {
          "base_uri": "https://localhost:8080/",
          "height": 850
        },
        "outputId": "d17dce17-0c21-4956-b2cd-48a50c97e341"
      },
      "cell_type": "code",
      "source": [
        "model= Deep_Neural_Network(x_a,y_a,'lstm',embeddings_index)\n",
        "model.train(epochs=20,batch_size=512)"
      ],
      "execution_count": 29,
      "outputs": [
        {
          "output_type": "stream",
          "text": [
            "100%|██████████| 17766/17766 [00:00<00:00, 398756.39it/s]\n"
          ],
          "name": "stderr"
        },
        {
          "output_type": "stream",
          "text": [
            "_________________________________________________________________\n",
            "Layer (type)                 Output Shape              Param #   \n",
            "=================================================================\n",
            "embedding_6 (Embedding)      (None, 280, 300)          5330100   \n",
            "_________________________________________________________________\n",
            "spatial_dropout1d_2 (Spatial (None, 280, 300)          0         \n",
            "_________________________________________________________________\n",
            "bidirectional_1 (Bidirection (None, 200)               320800    \n",
            "_________________________________________________________________\n",
            "dense_10 (Dense)             (None, 512)               102912    \n",
            "_________________________________________________________________\n",
            "dropout_13 (Dropout)         (None, 512)               0         \n",
            "_________________________________________________________________\n",
            "dense_11 (Dense)             (None, 256)               131328    \n",
            "_________________________________________________________________\n",
            "dropout_14 (Dropout)         (None, 256)               0         \n",
            "_________________________________________________________________\n",
            "dense_12 (Dense)             (None, 1)                 257       \n",
            "=================================================================\n",
            "Total params: 5,885,397\n",
            "Trainable params: 555,297\n",
            "Non-trainable params: 5,330,100\n",
            "_________________________________________________________________\n",
            "Train on 10592 samples, validate on 2648 samples\n",
            "Epoch 1/20\n",
            "10592/10592 [==============================] - 35s 3ms/step - loss: 0.6279 - acc: 0.6664 - val_loss: 0.5780 - val_acc: 0.7107\n",
            "Epoch 2/20\n",
            "10592/10592 [==============================] - 31s 3ms/step - loss: 0.5672 - acc: 0.7096 - val_loss: 0.5299 - val_acc: 0.7421\n",
            "Epoch 3/20\n",
            "10592/10592 [==============================] - 31s 3ms/step - loss: 0.5317 - acc: 0.7360 - val_loss: 0.5094 - val_acc: 0.7526\n",
            "Epoch 4/20\n",
            "10592/10592 [==============================] - 30s 3ms/step - loss: 0.5148 - acc: 0.7440 - val_loss: 0.5043 - val_acc: 0.7610\n",
            "Epoch 5/20\n",
            "10592/10592 [==============================] - 31s 3ms/step - loss: 0.5072 - acc: 0.7501 - val_loss: 0.4945 - val_acc: 0.7651\n",
            "Epoch 6/20\n",
            "10592/10592 [==============================] - 30s 3ms/step - loss: 0.4958 - acc: 0.7613 - val_loss: 0.4921 - val_acc: 0.7727\n",
            "Epoch 7/20\n",
            "10592/10592 [==============================] - 31s 3ms/step - loss: 0.4864 - acc: 0.7681 - val_loss: 0.4973 - val_acc: 0.7677\n",
            "Epoch 8/20\n",
            "10592/10592 [==============================] - 30s 3ms/step - loss: 0.4784 - acc: 0.7714 - val_loss: 0.4899 - val_acc: 0.7711\n",
            "Epoch 9/20\n",
            "10592/10592 [==============================] - 30s 3ms/step - loss: 0.4739 - acc: 0.7755 - val_loss: 0.4875 - val_acc: 0.7745\n",
            "Epoch 10/20\n",
            "10592/10592 [==============================] - 30s 3ms/step - loss: 0.4735 - acc: 0.7769 - val_loss: 0.4917 - val_acc: 0.7674\n",
            "Epoch 11/20\n",
            "10592/10592 [==============================] - 31s 3ms/step - loss: 0.4642 - acc: 0.7843 - val_loss: 0.4935 - val_acc: 0.7670\n",
            "Epoch 12/20\n",
            "10592/10592 [==============================] - 31s 3ms/step - loss: 0.4559 - acc: 0.7873 - val_loss: 0.4940 - val_acc: 0.7700\n"
          ],
          "name": "stdout"
        }
      ]
    },
    {
      "metadata": {
        "id": "pJL-8NWrQwxb",
        "colab_type": "code",
        "colab": {
          "base_uri": "https://localhost:8080/",
          "height": 850
        },
        "outputId": "3904b84b-ff16-446d-abdd-186cd510d6fc"
      },
      "cell_type": "code",
      "source": [
        "model= Deep_Neural_Network(x_a,y_a,'lstm',embeddings_index)\n",
        "model.set_optimizer('sgd', lr = 0.001)\n",
        "model.train(epochs=20,batch_size=512)"
      ],
      "execution_count": 30,
      "outputs": [
        {
          "output_type": "stream",
          "text": [
            "100%|██████████| 17766/17766 [00:00<00:00, 346660.24it/s]\n"
          ],
          "name": "stderr"
        },
        {
          "output_type": "stream",
          "text": [
            "_________________________________________________________________\n",
            "Layer (type)                 Output Shape              Param #   \n",
            "=================================================================\n",
            "embedding_7 (Embedding)      (None, 280, 300)          5330100   \n",
            "_________________________________________________________________\n",
            "spatial_dropout1d_3 (Spatial (None, 280, 300)          0         \n",
            "_________________________________________________________________\n",
            "bidirectional_2 (Bidirection (None, 200)               320800    \n",
            "_________________________________________________________________\n",
            "dense_13 (Dense)             (None, 512)               102912    \n",
            "_________________________________________________________________\n",
            "dropout_15 (Dropout)         (None, 512)               0         \n",
            "_________________________________________________________________\n",
            "dense_14 (Dense)             (None, 256)               131328    \n",
            "_________________________________________________________________\n",
            "dropout_16 (Dropout)         (None, 256)               0         \n",
            "_________________________________________________________________\n",
            "dense_15 (Dense)             (None, 1)                 257       \n",
            "=================================================================\n",
            "Total params: 5,885,397\n",
            "Trainable params: 555,297\n",
            "Non-trainable params: 5,330,100\n",
            "_________________________________________________________________\n",
            "Train on 10592 samples, validate on 2648 samples\n",
            "Epoch 1/20\n",
            "10592/10592 [==============================] - 35s 3ms/step - loss: 0.6272 - acc: 0.6708 - val_loss: 0.5747 - val_acc: 0.7156\n",
            "Epoch 2/20\n",
            "10592/10592 [==============================] - 30s 3ms/step - loss: 0.5604 - acc: 0.7211 - val_loss: 0.5228 - val_acc: 0.7432\n",
            "Epoch 3/20\n",
            "10592/10592 [==============================] - 30s 3ms/step - loss: 0.5307 - acc: 0.7366 - val_loss: 0.5179 - val_acc: 0.7511\n",
            "Epoch 4/20\n",
            "10592/10592 [==============================] - 30s 3ms/step - loss: 0.5124 - acc: 0.7510 - val_loss: 0.4986 - val_acc: 0.7621\n",
            "Epoch 5/20\n",
            "10592/10592 [==============================] - 30s 3ms/step - loss: 0.5040 - acc: 0.7578 - val_loss: 0.4931 - val_acc: 0.7640\n",
            "Epoch 6/20\n",
            "10592/10592 [==============================] - 30s 3ms/step - loss: 0.4960 - acc: 0.7612 - val_loss: 0.4919 - val_acc: 0.7685\n",
            "Epoch 7/20\n",
            "10592/10592 [==============================] - 30s 3ms/step - loss: 0.4946 - acc: 0.7648 - val_loss: 0.4914 - val_acc: 0.7685\n",
            "Epoch 8/20\n",
            "10592/10592 [==============================] - 30s 3ms/step - loss: 0.4777 - acc: 0.7679 - val_loss: 0.4931 - val_acc: 0.7674\n",
            "Epoch 9/20\n",
            "10592/10592 [==============================] - 30s 3ms/step - loss: 0.4717 - acc: 0.7774 - val_loss: 0.4878 - val_acc: 0.7711\n",
            "Epoch 10/20\n",
            "10592/10592 [==============================] - 30s 3ms/step - loss: 0.4634 - acc: 0.7800 - val_loss: 0.4916 - val_acc: 0.7651\n",
            "Epoch 11/20\n",
            "10592/10592 [==============================] - 30s 3ms/step - loss: 0.4620 - acc: 0.7823 - val_loss: 0.4916 - val_acc: 0.7625\n",
            "Epoch 12/20\n",
            "10592/10592 [==============================] - 30s 3ms/step - loss: 0.4584 - acc: 0.7879 - val_loss: 0.4933 - val_acc: 0.7696\n"
          ],
          "name": "stdout"
        }
      ]
    },
    {
      "metadata": {
        "id": "DgRyAaNKyIfA",
        "colab_type": "code",
        "outputId": "c2046796-59ae-465a-c3b1-8f72bf8cb079",
        "colab": {
          "base_uri": "https://localhost:8080/",
          "height": 714
        }
      },
      "cell_type": "code",
      "source": [
        "model= Deep_Neural_Network(x_a,y_a,'cnn2d',embeddings_index)\n",
        "# model.set_optimizer('sgd',lr=0.005)\n",
        "model.train(epochs=20,batch_size=128)"
      ],
      "execution_count": 0,
      "outputs": [
        {
          "output_type": "stream",
          "text": [
            "100%|██████████| 17766/17766 [00:00<00:00, 410030.13it/s]\n"
          ],
          "name": "stderr"
        },
        {
          "output_type": "stream",
          "text": [
            "_________________________________________________________________\n",
            "Layer (type)                 Output Shape              Param #   \n",
            "=================================================================\n",
            "embedding_2 (Embedding)      (None, 280, 50)           888350    \n",
            "_________________________________________________________________\n",
            "reshape_1 (Reshape)          (None, 50, 280, 1)        0         \n",
            "_________________________________________________________________\n",
            "conv2d_1 (Conv2D)            (None, 50, 276, 64)       384       \n",
            "_________________________________________________________________\n",
            "dropout_3 (Dropout)          (None, 50, 276, 64)       0         \n",
            "_________________________________________________________________\n",
            "conv2d_2 (Conv2D)            (None, 49, 274, 32)       12320     \n",
            "_________________________________________________________________\n",
            "dropout_4 (Dropout)          (None, 49, 274, 32)       0         \n",
            "_________________________________________________________________\n",
            "conv2d_3 (Conv2D)            (None, 48, 273, 16)       2064      \n",
            "_________________________________________________________________\n",
            "dropout_5 (Dropout)          (None, 48, 273, 16)       0         \n",
            "_________________________________________________________________\n",
            "flatten_1 (Flatten)          (None, 209664)            0         \n",
            "_________________________________________________________________\n",
            "dense_4 (Dense)              (None, 1)                 209665    \n",
            "=================================================================\n",
            "Total params: 1,112,783\n",
            "Trainable params: 224,433\n",
            "Non-trainable params: 888,350\n",
            "_________________________________________________________________\n",
            "Train on 10592 samples, validate on 2648 samples\n",
            "Epoch 1/20\n",
            "10592/10592 [==============================] - 38s 4ms/step - loss: 0.6414 - acc: 0.6655 - val_loss: 0.6907 - val_acc: 0.6677\n",
            "Epoch 2/20\n",
            "10592/10592 [==============================] - 35s 3ms/step - loss: 0.6379 - acc: 0.6677 - val_loss: 0.6895 - val_acc: 0.6677\n",
            "Epoch 3/20\n",
            "10592/10592 [==============================] - 35s 3ms/step - loss: 0.6405 - acc: 0.6677 - val_loss: 0.6885 - val_acc: 0.6677\n",
            "Epoch 4/20\n",
            "10592/10592 [==============================] - 35s 3ms/step - loss: 0.6384 - acc: 0.6677 - val_loss: 0.6794 - val_acc: 0.6677\n",
            "Epoch 5/20\n",
            "10592/10592 [==============================] - 35s 3ms/step - loss: 0.6394 - acc: 0.6677 - val_loss: 0.6842 - val_acc: 0.6677\n",
            "Epoch 6/20\n",
            " 4608/10592 [============>.................] - ETA: 18s - loss: 0.6347 - acc: 0.6734"
          ],
          "name": "stdout"
        }
      ]
    },
    {
      "metadata": {
        "id": "P8NFuYsiLqVc",
        "colab_type": "code",
        "colab": {}
      },
      "cell_type": "code",
      "source": [
        "model= Deep_Neural_Network(x_a,y_a,'cnn',embeddings_index)\n",
        "model.set_optimizer('rmsprop',lr=0.005)\n",
        "model.train(epochs=20,batch_size=128)"
      ],
      "execution_count": 0,
      "outputs": []
    },
    {
      "metadata": {
        "id": "RqbeyKF9y6ZN",
        "colab_type": "text"
      },
      "cell_type": "markdown",
      "source": [
        "# Task B"
      ]
    },
    {
      "metadata": {
        "id": "khawfBtwy7qB",
        "colab_type": "code",
        "colab": {}
      },
      "cell_type": "code",
      "source": [
        "lbl = LabelEncoder()\n",
        "y = lbl.fit_transform(df.subtask_a.values)\n",
        "x = df.tweet.values\n",
        "taskb_idx= y==1\n",
        "y_b =df.subtask_b.values[taskb_idx]\n",
        "y_b = np.where(y_b=='TIN',1,0)\n",
        "x_b = x[taskb_idx]\n"
      ],
      "execution_count": 0,
      "outputs": []
    },
    {
      "metadata": {
        "id": "iAxnM3r1zOAH",
        "colab_type": "code",
        "outputId": "8cb03aef-6623-45fe-cbf8-f01643b5a33f",
        "colab": {
          "base_uri": "https://localhost:8080/",
          "height": 199
        }
      },
      "cell_type": "code",
      "source": [
        "# TF_IDF\n",
        "clf = Bag_of_word('logistic','tf_idf')\n",
        "cv = clf.validate_clf(x_b, y_b)\n",
        "print('mean cross validation for Logistic regression is', cv)\n",
        "\n",
        "clf = Bag_of_word('naive_bayes','tf_idf')\n",
        "cv = clf.validate_clf(x_b, y_b)\n",
        "print('mean cross validation for Naive_Bayes is', cv)\n",
        "\n",
        "clf = Bag_of_word('xgboost','tf_idf')\n",
        "cv = clf.validate_clf(x_b, y_b)\n",
        "print('mean cross validation for Xgboost is', cv)\n",
        "\n",
        "clf = Bag_of_word('random_forest','tf_idf')\n",
        "cv = clf.validate_clf(x_b, y_b)\n",
        "print('mean cross validation for Random Forest is', cv)\n",
        "\n",
        "clf = Bag_of_word('svm','tf_idf')\n",
        "cv = clf.validate_clf(x_b, y_b)\n",
        "print('mean cross validation for SVM is', cv)"
      ],
      "execution_count": 0,
      "outputs": [
        {
          "output_type": "stream",
          "text": [
            "start k-fold validate...\n",
            "mean cross validation for Logistic regression is 0.8811405181938863\n",
            "start k-fold validate...\n",
            "mean cross validation for Naive_Bayes is 0.8809106639825807\n",
            "start k-fold validate...\n",
            "mean cross validation for Xgboost is 0.873188005995523\n",
            "start k-fold validate...\n",
            "mean cross validation for Random Forest is 0.8775051735334845\n",
            "start k-fold validate...\n",
            "mean cross validation for SVM is 0.8752293306360993\n"
          ],
          "name": "stdout"
        }
      ]
    },
    {
      "metadata": {
        "id": "TizYKIJXO-2z",
        "colab_type": "code",
        "colab": {
          "base_uri": "https://localhost:8080/",
          "height": 187
        },
        "outputId": "795369c9-0056-4595-c25c-8777bd2833f2"
      },
      "cell_type": "code",
      "source": [
        "# Word Count\n",
        "clf = Bag_of_word('logistic','word_count')\n",
        "cv = clf.validate_clf(x_b, y_b)\n",
        "print('mean cross validation for Logistic regression is', cv)\n",
        "\n",
        "clf = Bag_of_word('naive_bayes','word_count')\n",
        "cv = clf.validate_clf(x_b, y_b)\n",
        "print('mean cross validation for Naive_Bayes is', cv)\n",
        "\n",
        "clf = Bag_of_word('xgboost','word_count')\n",
        "cv = clf.validate_clf(x_b, y_b)\n",
        "print('mean cross validation for Xgboost is', cv)\n",
        "\n",
        "clf = Bag_of_word('random_forest','word_count')\n",
        "cv = clf.validate_clf(x_b, y_b)\n",
        "print('mean cross validation for Random Forest is', cv)\n",
        "\n",
        "clf = Bag_of_word('svm','word_count')\n",
        "cv = clf.validate_clf(x_b, y_b)\n",
        "print('mean cross validation for SVM is', cv)"
      ],
      "execution_count": 26,
      "outputs": [
        {
          "output_type": "stream",
          "text": [
            "start k-fold validate...\n",
            "mean cross validation for Logistic regression is 0.8688630940054629\n",
            "start k-fold validate...\n",
            "mean cross validation for Naive_Bayes is 0.8450060821595153\n",
            "start k-fold validate...\n",
            "mean cross validation for Xgboost is 0.8779550690297517\n",
            "start k-fold validate...\n",
            "mean cross validation for Random Forest is 0.8675071973981833\n",
            "start k-fold validate...\n",
            "mean cross validation for SVM is 0.8284089089490978\n"
          ],
          "name": "stdout"
        }
      ]
    },
    {
      "metadata": {
        "id": "OEbhnGTtSZel",
        "colab_type": "code",
        "colab": {
          "base_uri": "https://localhost:8080/",
          "height": 952
        },
        "outputId": "f8fa13ba-d799-46b0-d707-52608aacee1d"
      },
      "cell_type": "code",
      "source": [
        "model= Deep_Neural_Network(x_b,y_b,'gru',embeddings_index)\n",
        "model.set_optimizer('rmsprop')\n",
        "model.train(epochs=20,batch_size=256)"
      ],
      "execution_count": 31,
      "outputs": [
        {
          "output_type": "stream",
          "text": [
            "100%|██████████| 9290/9290 [00:00<00:00, 247631.63it/s]\n"
          ],
          "name": "stderr"
        },
        {
          "output_type": "stream",
          "text": [
            "_________________________________________________________________\n",
            "Layer (type)                 Output Shape              Param #   \n",
            "=================================================================\n",
            "embedding_8 (Embedding)      (None, 280, 300)          2787300   \n",
            "_________________________________________________________________\n",
            "spatial_dropout1d_4 (Spatial (None, 280, 300)          0         \n",
            "_________________________________________________________________\n",
            "gru_3 (GRU)                  (None, 280, 128)          164736    \n",
            "_________________________________________________________________\n",
            "gru_4 (GRU)                  (None, 64)                37056     \n",
            "_________________________________________________________________\n",
            "dense_16 (Dense)             (None, 256)               16640     \n",
            "_________________________________________________________________\n",
            "dropout_17 (Dropout)         (None, 256)               0         \n",
            "_________________________________________________________________\n",
            "dense_17 (Dense)             (None, 128)               32896     \n",
            "_________________________________________________________________\n",
            "dropout_18 (Dropout)         (None, 128)               0         \n",
            "_________________________________________________________________\n",
            "dense_18 (Dense)             (None, 1)                 129       \n",
            "=================================================================\n",
            "Total params: 3,038,757\n",
            "Trainable params: 251,457\n",
            "Non-trainable params: 2,787,300\n",
            "_________________________________________________________________\n",
            "Train on 3520 samples, validate on 880 samples\n",
            "Epoch 1/20\n",
            "3520/3520 [==============================] - 20s 6ms/step - loss: 0.4627 - acc: 0.8563 - val_loss: 0.3681 - val_acc: 0.8807\n",
            "Epoch 2/20\n",
            "3520/3520 [==============================] - 16s 4ms/step - loss: 0.3632 - acc: 0.8810 - val_loss: 0.3541 - val_acc: 0.8807\n",
            "Epoch 3/20\n",
            "3520/3520 [==============================] - 16s 5ms/step - loss: 0.3569 - acc: 0.8810 - val_loss: 0.3521 - val_acc: 0.8807\n",
            "Epoch 4/20\n",
            "3520/3520 [==============================] - 16s 5ms/step - loss: 0.3527 - acc: 0.8810 - val_loss: 0.3519 - val_acc: 0.8807\n",
            "Epoch 5/20\n",
            "3520/3520 [==============================] - 16s 5ms/step - loss: 0.3440 - acc: 0.8810 - val_loss: 0.3534 - val_acc: 0.8807\n",
            "Epoch 6/20\n",
            "3520/3520 [==============================] - 16s 5ms/step - loss: 0.3374 - acc: 0.8810 - val_loss: 0.3521 - val_acc: 0.8807\n",
            "Epoch 7/20\n",
            "3520/3520 [==============================] - 16s 5ms/step - loss: 0.3366 - acc: 0.8810 - val_loss: 0.3490 - val_acc: 0.8807\n",
            "Epoch 8/20\n",
            "3520/3520 [==============================] - 16s 4ms/step - loss: 0.3326 - acc: 0.8810 - val_loss: 0.3489 - val_acc: 0.8807\n",
            "Epoch 9/20\n",
            "3520/3520 [==============================] - 16s 5ms/step - loss: 0.3334 - acc: 0.8810 - val_loss: 0.3535 - val_acc: 0.8807\n",
            "Epoch 10/20\n",
            "3520/3520 [==============================] - 16s 5ms/step - loss: 0.3299 - acc: 0.8810 - val_loss: 0.3497 - val_acc: 0.8807\n",
            "Epoch 11/20\n",
            "3520/3520 [==============================] - 16s 5ms/step - loss: 0.3275 - acc: 0.8807 - val_loss: 0.3482 - val_acc: 0.8807\n",
            "Epoch 12/20\n",
            "3520/3520 [==============================] - 16s 5ms/step - loss: 0.3259 - acc: 0.8804 - val_loss: 0.3501 - val_acc: 0.8818\n",
            "Epoch 13/20\n",
            "3520/3520 [==============================] - 16s 4ms/step - loss: 0.3160 - acc: 0.8824 - val_loss: 0.3551 - val_acc: 0.8773\n",
            "Epoch 14/20\n",
            "3520/3520 [==============================] - 16s 5ms/step - loss: 0.3173 - acc: 0.8804 - val_loss: 0.3685 - val_acc: 0.8761\n"
          ],
          "name": "stdout"
        }
      ]
    },
    {
      "metadata": {
        "id": "eLFPnAMXV_5Q",
        "colab_type": "code",
        "colab": {
          "base_uri": "https://localhost:8080/",
          "height": 782
        },
        "outputId": "d34c4693-feb6-4023-8067-c812a03d8e5b"
      },
      "cell_type": "code",
      "source": [
        "model= Deep_Neural_Network(x_b,y_b,'gru',embeddings_index)\n",
        "model.set_optimizer('adam', lr = 0.0001)\n",
        "model.train(epochs=20,batch_size=256)"
      ],
      "execution_count": 37,
      "outputs": [
        {
          "output_type": "stream",
          "text": [
            "100%|██████████| 9290/9290 [00:00<00:00, 294924.15it/s]\n"
          ],
          "name": "stderr"
        },
        {
          "output_type": "stream",
          "text": [
            "_________________________________________________________________\n",
            "Layer (type)                 Output Shape              Param #   \n",
            "=================================================================\n",
            "embedding_13 (Embedding)     (None, 280, 300)          2787300   \n",
            "_________________________________________________________________\n",
            "spatial_dropout1d_7 (Spatial (None, 280, 300)          0         \n",
            "_________________________________________________________________\n",
            "gru_7 (GRU)                  (None, 280, 128)          164736    \n",
            "_________________________________________________________________\n",
            "gru_8 (GRU)                  (None, 64)                37056     \n",
            "_________________________________________________________________\n",
            "dense_29 (Dense)             (None, 256)               16640     \n",
            "_________________________________________________________________\n",
            "dropout_32 (Dropout)         (None, 256)               0         \n",
            "_________________________________________________________________\n",
            "dense_30 (Dense)             (None, 128)               32896     \n",
            "_________________________________________________________________\n",
            "dropout_33 (Dropout)         (None, 128)               0         \n",
            "_________________________________________________________________\n",
            "dense_31 (Dense)             (None, 1)                 129       \n",
            "=================================================================\n",
            "Total params: 3,038,757\n",
            "Trainable params: 251,457\n",
            "Non-trainable params: 2,787,300\n",
            "_________________________________________________________________\n",
            "Train on 3520 samples, validate on 880 samples\n",
            "Epoch 1/20\n",
            "3520/3520 [==============================] - 24s 7ms/step - loss: 0.4708 - acc: 0.8145 - val_loss: 0.3872 - val_acc: 0.8807\n",
            "Epoch 2/20\n",
            "3520/3520 [==============================] - 17s 5ms/step - loss: 0.3638 - acc: 0.8810 - val_loss: 0.3564 - val_acc: 0.8807\n",
            "Epoch 3/20\n",
            "3520/3520 [==============================] - 17s 5ms/step - loss: 0.3561 - acc: 0.8810 - val_loss: 0.3538 - val_acc: 0.8807\n",
            "Epoch 4/20\n",
            "3520/3520 [==============================] - 17s 5ms/step - loss: 0.3452 - acc: 0.8810 - val_loss: 0.3598 - val_acc: 0.8807\n",
            "Epoch 5/20\n",
            "3520/3520 [==============================] - 17s 5ms/step - loss: 0.3381 - acc: 0.8810 - val_loss: 0.3517 - val_acc: 0.8807\n",
            "Epoch 6/20\n",
            "3520/3520 [==============================] - 17s 5ms/step - loss: 0.3386 - acc: 0.8810 - val_loss: 0.3512 - val_acc: 0.8807\n",
            "Epoch 7/20\n",
            "3520/3520 [==============================] - 17s 5ms/step - loss: 0.3359 - acc: 0.8810 - val_loss: 0.3532 - val_acc: 0.8807\n",
            "Epoch 8/20\n",
            "3520/3520 [==============================] - 17s 5ms/step - loss: 0.3311 - acc: 0.8810 - val_loss: 0.3514 - val_acc: 0.8807\n",
            "Epoch 9/20\n",
            "3520/3520 [==============================] - 16s 5ms/step - loss: 0.3287 - acc: 0.8810 - val_loss: 0.3548 - val_acc: 0.8807\n"
          ],
          "name": "stdout"
        }
      ]
    },
    {
      "metadata": {
        "id": "b-edVMlySg_B",
        "colab_type": "code",
        "colab": {
          "base_uri": "https://localhost:8080/",
          "height": 782
        },
        "outputId": "69a6dfe5-b0cc-44fe-aa42-2c44ee9d2389"
      },
      "cell_type": "code",
      "source": [
        "model= Deep_Neural_Network(x_b,y_b,'cnn',embeddings_index)\n",
        "model.set_optimizer('rmsprop')\n",
        "model.train(epochs=20,batch_size=256)"
      ],
      "execution_count": 32,
      "outputs": [
        {
          "output_type": "stream",
          "text": [
            "100%|██████████| 9290/9290 [00:00<00:00, 333842.41it/s]\n"
          ],
          "name": "stderr"
        },
        {
          "output_type": "stream",
          "text": [
            "_________________________________________________________________\n",
            "Layer (type)                 Output Shape              Param #   \n",
            "=================================================================\n",
            "embedding_9 (Embedding)      (None, 280, 300)          2787300   \n",
            "_________________________________________________________________\n",
            "conv1d_7 (Conv1D)            (None, 280, 64)           57664     \n",
            "_________________________________________________________________\n",
            "max_pooling1d_5 (MaxPooling1 (None, 94, 64)            0         \n",
            "_________________________________________________________________\n",
            "conv1d_8 (Conv1D)            (None, 94, 32)            6176      \n",
            "_________________________________________________________________\n",
            "max_pooling1d_6 (MaxPooling1 (None, 32, 32)            0         \n",
            "_________________________________________________________________\n",
            "conv1d_9 (Conv1D)            (None, 32, 16)            1552      \n",
            "_________________________________________________________________\n",
            "flatten_5 (Flatten)          (None, 512)               0         \n",
            "_________________________________________________________________\n",
            "dropout_19 (Dropout)         (None, 512)               0         \n",
            "_________________________________________________________________\n",
            "batch_normalization_3 (Batch (None, 512)               2048      \n",
            "_________________________________________________________________\n",
            "dense_19 (Dense)             (None, 256)               131328    \n",
            "_________________________________________________________________\n",
            "dropout_20 (Dropout)         (None, 256)               0         \n",
            "_________________________________________________________________\n",
            "dense_20 (Dense)             (None, 1)                 257       \n",
            "=================================================================\n",
            "Total params: 2,986,325\n",
            "Trainable params: 198,001\n",
            "Non-trainable params: 2,788,324\n",
            "_________________________________________________________________\n",
            "Train on 3520 samples, validate on 880 samples\n",
            "Epoch 1/20\n",
            "3520/3520 [==============================] - 5s 1ms/step - loss: 0.4420 - acc: 0.8634 - val_loss: 0.3739 - val_acc: 0.8807\n",
            "Epoch 2/20\n",
            "3520/3520 [==============================] - 0s 140us/step - loss: 0.3530 - acc: 0.8807 - val_loss: 0.3667 - val_acc: 0.8807\n",
            "Epoch 3/20\n",
            "3520/3520 [==============================] - 0s 138us/step - loss: 0.3227 - acc: 0.8835 - val_loss: 0.3598 - val_acc: 0.8807\n",
            "Epoch 4/20\n",
            "3520/3520 [==============================] - 0s 135us/step - loss: 0.2710 - acc: 0.8901 - val_loss: 0.4404 - val_acc: 0.8114\n",
            "Epoch 5/20\n",
            "3520/3520 [==============================] - 0s 133us/step - loss: 0.2089 - acc: 0.9148 - val_loss: 0.3905 - val_acc: 0.8523\n",
            "Epoch 6/20\n",
            "3520/3520 [==============================] - 0s 140us/step - loss: 0.1394 - acc: 0.9469 - val_loss: 0.4058 - val_acc: 0.8750\n"
          ],
          "name": "stdout"
        }
      ]
    },
    {
      "metadata": {
        "id": "RMZKs3vDSaaB",
        "colab_type": "code",
        "colab": {
          "base_uri": "https://localhost:8080/",
          "height": 646
        },
        "outputId": "8d55b86c-5d4c-4ad5-e62f-92671b82d6a5"
      },
      "cell_type": "code",
      "source": [
        "model= Deep_Neural_Network(x_b,y_b,'lstm',embeddings_index)\n",
        "model.set_optimizer('rmsprop')\n",
        "model.train(epochs=20,batch_size=512)"
      ],
      "execution_count": 33,
      "outputs": [
        {
          "output_type": "stream",
          "text": [
            "100%|██████████| 9290/9290 [00:00<00:00, 331020.49it/s]\n"
          ],
          "name": "stderr"
        },
        {
          "output_type": "stream",
          "text": [
            "_________________________________________________________________\n",
            "Layer (type)                 Output Shape              Param #   \n",
            "=================================================================\n",
            "embedding_10 (Embedding)     (None, 280, 300)          2787300   \n",
            "_________________________________________________________________\n",
            "spatial_dropout1d_5 (Spatial (None, 280, 300)          0         \n",
            "_________________________________________________________________\n",
            "bidirectional_3 (Bidirection (None, 200)               320800    \n",
            "_________________________________________________________________\n",
            "dense_21 (Dense)             (None, 512)               102912    \n",
            "_________________________________________________________________\n",
            "dropout_21 (Dropout)         (None, 512)               0         \n",
            "_________________________________________________________________\n",
            "dense_22 (Dense)             (None, 256)               131328    \n",
            "_________________________________________________________________\n",
            "dropout_22 (Dropout)         (None, 256)               0         \n",
            "_________________________________________________________________\n",
            "dense_23 (Dense)             (None, 1)                 257       \n",
            "=================================================================\n",
            "Total params: 3,342,597\n",
            "Trainable params: 555,297\n",
            "Non-trainable params: 2,787,300\n",
            "_________________________________________________________________\n",
            "Train on 3520 samples, validate on 880 samples\n",
            "Epoch 1/20\n",
            "3520/3520 [==============================] - 15s 4ms/step - loss: 0.4630 - acc: 0.8682 - val_loss: 0.4364 - val_acc: 0.8807\n",
            "Epoch 2/20\n",
            "3520/3520 [==============================] - 10s 3ms/step - loss: 0.3767 - acc: 0.8810 - val_loss: 0.3679 - val_acc: 0.8807\n",
            "Epoch 3/20\n",
            "3520/3520 [==============================] - 10s 3ms/step - loss: 0.3637 - acc: 0.8810 - val_loss: 0.3556 - val_acc: 0.8807\n",
            "Epoch 4/20\n",
            "3520/3520 [==============================] - 10s 3ms/step - loss: 0.3507 - acc: 0.8810 - val_loss: 0.3560 - val_acc: 0.8807\n",
            "Epoch 5/20\n",
            "3520/3520 [==============================] - 10s 3ms/step - loss: 0.3403 - acc: 0.8810 - val_loss: 0.3590 - val_acc: 0.8807\n",
            "Epoch 6/20\n",
            "3520/3520 [==============================] - 10s 3ms/step - loss: 0.3401 - acc: 0.8810 - val_loss: 0.3569 - val_acc: 0.8807\n"
          ],
          "name": "stdout"
        }
      ]
    },
    {
      "metadata": {
        "id": "q93X9imeSrNA",
        "colab_type": "code",
        "colab": {
          "base_uri": "https://localhost:8080/",
          "height": 1496
        },
        "outputId": "993a5eea-a85d-48bd-ce5f-2f67e32bdecb"
      },
      "cell_type": "code",
      "source": [
        "model= Deep_Neural_Network(x_a,y_a,'etextcnn',embeddings_index)\n",
        "model.set_optimizer('sgd',lr=0.0000001)\n",
        "model.train(epochs=20,batch_size=256)"
      ],
      "execution_count": 34,
      "outputs": [
        {
          "output_type": "stream",
          "text": [
            "100%|██████████| 17766/17766 [00:00<00:00, 368725.00it/s]\n"
          ],
          "name": "stderr"
        },
        {
          "output_type": "stream",
          "text": [
            "__________________________________________________________________________________________________\n",
            "Layer (type)                    Output Shape         Param #     Connected to                     \n",
            "==================================================================================================\n",
            "input_1 (InputLayer)            (None, 280)          0                                            \n",
            "__________________________________________________________________________________________________\n",
            "embedding_11 (Embedding)        (None, 280, 300)     5330100     input_1[0][0]                    \n",
            "__________________________________________________________________________________________________\n",
            "conv1d_12 (Conv1D)              (None, 280, 64)      76864       embedding_11[0][0]               \n",
            "__________________________________________________________________________________________________\n",
            "conv1d_14 (Conv1D)              (None, 280, 64)      96064       embedding_11[0][0]               \n",
            "__________________________________________________________________________________________________\n",
            "batch_normalization_6 (BatchNor (None, 280, 64)      256         conv1d_12[0][0]                  \n",
            "__________________________________________________________________________________________________\n",
            "batch_normalization_8 (BatchNor (None, 280, 64)      256         conv1d_14[0][0]                  \n",
            "__________________________________________________________________________________________________\n",
            "activation_3 (Activation)       (None, 280, 64)      0           batch_normalization_6[0][0]      \n",
            "__________________________________________________________________________________________________\n",
            "activation_5 (Activation)       (None, 280, 64)      0           batch_normalization_8[0][0]      \n",
            "__________________________________________________________________________________________________\n",
            "dropout_25 (Dropout)            (None, 280, 64)      0           activation_3[0][0]               \n",
            "__________________________________________________________________________________________________\n",
            "dropout_27 (Dropout)            (None, 280, 64)      0           activation_5[0][0]               \n",
            "__________________________________________________________________________________________________\n",
            "conv1d_10 (Conv1D)              (None, 280, 64)      57664       embedding_11[0][0]               \n",
            "__________________________________________________________________________________________________\n",
            "conv1d_13 (Conv1D)              (None, 280, 32)      8224        dropout_25[0][0]                 \n",
            "__________________________________________________________________________________________________\n",
            "conv1d_15 (Conv1D)              (None, 280, 32)      10272       dropout_27[0][0]                 \n",
            "__________________________________________________________________________________________________\n",
            "batch_normalization_4 (BatchNor (None, 280, 64)      256         conv1d_10[0][0]                  \n",
            "__________________________________________________________________________________________________\n",
            "batch_normalization_7 (BatchNor (None, 280, 32)      128         conv1d_13[0][0]                  \n",
            "__________________________________________________________________________________________________\n",
            "batch_normalization_9 (BatchNor (None, 280, 32)      128         conv1d_15[0][0]                  \n",
            "__________________________________________________________________________________________________\n",
            "activation_1 (Activation)       (None, 280, 64)      0           batch_normalization_4[0][0]      \n",
            "__________________________________________________________________________________________________\n",
            "activation_4 (Activation)       (None, 280, 32)      0           batch_normalization_7[0][0]      \n",
            "__________________________________________________________________________________________________\n",
            "activation_6 (Activation)       (None, 280, 32)      0           batch_normalization_9[0][0]      \n",
            "__________________________________________________________________________________________________\n",
            "dropout_23 (Dropout)            (None, 280, 64)      0           activation_1[0][0]               \n",
            "__________________________________________________________________________________________________\n",
            "dropout_26 (Dropout)            (None, 280, 32)      0           activation_4[0][0]               \n",
            "__________________________________________________________________________________________________\n",
            "dropout_28 (Dropout)            (None, 280, 32)      0           activation_6[0][0]               \n",
            "__________________________________________________________________________________________________\n",
            "max_pooling1d_7 (MaxPooling1D)  (None, 70, 64)       0           dropout_23[0][0]                 \n",
            "__________________________________________________________________________________________________\n",
            "max_pooling1d_8 (MaxPooling1D)  (None, 70, 32)       0           dropout_26[0][0]                 \n",
            "__________________________________________________________________________________________________\n",
            "max_pooling1d_9 (MaxPooling1D)  (None, 70, 32)       0           dropout_28[0][0]                 \n",
            "__________________________________________________________________________________________________\n",
            "concatenate_1 (Concatenate)     (None, 70, 128)      0           max_pooling1d_7[0][0]            \n",
            "                                                                 max_pooling1d_8[0][0]            \n",
            "                                                                 max_pooling1d_9[0][0]            \n",
            "__________________________________________________________________________________________________\n",
            "flatten_6 (Flatten)             (None, 8960)         0           concatenate_1[0][0]              \n",
            "__________________________________________________________________________________________________\n",
            "dropout_29 (Dropout)            (None, 8960)         0           flatten_6[0][0]                  \n",
            "__________________________________________________________________________________________________\n",
            "dense_24 (Dense)                (None, 128)          1147008     dropout_29[0][0]                 \n",
            "__________________________________________________________________________________________________\n",
            "batch_normalization_10 (BatchNo (None, 128)          512         dense_24[0][0]                   \n",
            "__________________________________________________________________________________________________\n",
            "dense_25 (Dense)                (None, 1)            129         batch_normalization_10[0][0]     \n",
            "==================================================================================================\n",
            "Total params: 6,727,861\n",
            "Trainable params: 1,396,993\n",
            "Non-trainable params: 5,330,868\n",
            "__________________________________________________________________________________________________\n",
            "Train on 10592 samples, validate on 2648 samples\n",
            "Epoch 1/20\n",
            "10592/10592 [==============================] - 13s 1ms/step - loss: 0.7808 - acc: 0.6199 - val_loss: 0.5390 - val_acc: 0.7492\n",
            "Epoch 2/20\n",
            "10592/10592 [==============================] - 6s 555us/step - loss: 0.5559 - acc: 0.7292 - val_loss: 0.5286 - val_acc: 0.7572\n",
            "Epoch 3/20\n",
            "10592/10592 [==============================] - 6s 557us/step - loss: 0.5195 - acc: 0.7514 - val_loss: 0.5053 - val_acc: 0.7666\n",
            "Epoch 4/20\n",
            "10592/10592 [==============================] - 6s 554us/step - loss: 0.4980 - acc: 0.7672 - val_loss: 0.4986 - val_acc: 0.7772\n",
            "Epoch 5/20\n",
            "10592/10592 [==============================] - 6s 555us/step - loss: 0.4814 - acc: 0.7723 - val_loss: 0.5002 - val_acc: 0.7749\n",
            "Epoch 6/20\n",
            "10592/10592 [==============================] - 6s 554us/step - loss: 0.4649 - acc: 0.7863 - val_loss: 0.5012 - val_acc: 0.7779\n",
            "Epoch 7/20\n",
            "10592/10592 [==============================] - 6s 558us/step - loss: 0.4445 - acc: 0.7959 - val_loss: 0.5005 - val_acc: 0.7730\n"
          ],
          "name": "stdout"
        }
      ]
    },
    {
      "metadata": {
        "id": "90EdzVoG1eck",
        "colab_type": "code",
        "outputId": "730cbc5a-ff62-41f9-9d53-504781de38a6",
        "colab": {
          "base_uri": "https://localhost:8080/",
          "height": 690
        }
      },
      "cell_type": "code",
      "source": [
        "model= Deep_Neural_Network(x_b,y_b,'cnn2d',embeddings_index)\n",
        "model.set_optimizer('sgd',lr=0.000001)\n",
        "model.train(epochs=20,batch_size=256)"
      ],
      "execution_count": 0,
      "outputs": [
        {
          "output_type": "stream",
          "text": [
            "100%|██████████| 9396/9396 [00:00<00:00, 326028.56it/s]\n"
          ],
          "name": "stderr"
        },
        {
          "output_type": "stream",
          "text": [
            "_________________________________________________________________\n",
            "Layer (type)                 Output Shape              Param #   \n",
            "=================================================================\n",
            "embedding_34 (Embedding)     (None, 280, 50)           469850    \n",
            "_________________________________________________________________\n",
            "reshape_9 (Reshape)          (None, 50, 280, 1)        0         \n",
            "_________________________________________________________________\n",
            "conv2d_19 (Conv2D)           (None, 50, 276, 64)       384       \n",
            "_________________________________________________________________\n",
            "dropout_79 (Dropout)         (None, 50, 276, 64)       0         \n",
            "_________________________________________________________________\n",
            "conv2d_20 (Conv2D)           (None, 49, 274, 32)       12320     \n",
            "_________________________________________________________________\n",
            "dropout_80 (Dropout)         (None, 49, 274, 32)       0         \n",
            "_________________________________________________________________\n",
            "conv2d_21 (Conv2D)           (None, 48, 273, 16)       2064      \n",
            "_________________________________________________________________\n",
            "dropout_81 (Dropout)         (None, 48, 273, 16)       0         \n",
            "_________________________________________________________________\n",
            "flatten_19 (Flatten)         (None, 209664)            0         \n",
            "_________________________________________________________________\n",
            "dense_70 (Dense)             (None, 1)                 209665    \n",
            "=================================================================\n",
            "Total params: 694,283\n",
            "Trainable params: 224,433\n",
            "Non-trainable params: 469,850\n",
            "_________________________________________________________________\n",
            "Train on 3520 samples, validate on 880 samples\n",
            "Epoch 1/20\n",
            "3520/3520 [==============================] - 23s 6ms/step - loss: 0.4105 - acc: 0.8480 - val_loss: 0.6302 - val_acc: 0.8807\n",
            "Epoch 2/20\n",
            "3520/3520 [==============================] - 11s 3ms/step - loss: 0.3728 - acc: 0.8810 - val_loss: 0.6721 - val_acc: 0.8807\n",
            "Epoch 3/20\n",
            "3520/3520 [==============================] - 11s 3ms/step - loss: 0.3693 - acc: 0.8810 - val_loss: 0.6665 - val_acc: 0.8807\n",
            "Epoch 4/20\n",
            "3520/3520 [==============================] - 11s 3ms/step - loss: 0.3654 - acc: 0.8810 - val_loss: 0.6646 - val_acc: 0.8807\n"
          ],
          "name": "stdout"
        }
      ]
    },
    {
      "metadata": {
        "id": "4Xn93dnDSkml",
        "colab_type": "code",
        "colab": {}
      },
      "cell_type": "code",
      "source": [
        ""
      ],
      "execution_count": 0,
      "outputs": []
    },
    {
      "metadata": {
        "id": "zJzuuqJozogc",
        "colab_type": "text"
      },
      "cell_type": "markdown",
      "source": [
        "# Task C"
      ]
    },
    {
      "metadata": {
        "id": "C5e9RUlozp3R",
        "colab_type": "code",
        "colab": {}
      },
      "cell_type": "code",
      "source": [
        "\n",
        "taskc_idx= y_b==1\n",
        "y_c =df.subtask_c.values[taskb_idx][taskc_idx]\n",
        "lbl_enc = LabelEncoder()\n",
        "y_c = lbl_enc.fit_transform(y_c)\n",
        "x_c = x_b[taskc_idx]\n",
        "x_train_c, x_val_c, y_train_c,y_val_c =train_test_split(x_c,y_c,stratify=y_c,random_state=SEED,test_size=0.1,shuffle=True)\n",
        "# # one-hot encode\n",
        "# y_train_c_enc = np_utils.to_categorical(y_train_c)\n",
        "# y_val_c_enc = np_utils.to_categorical(y_val_c)"
      ],
      "execution_count": 0,
      "outputs": []
    },
    {
      "metadata": {
        "id": "9KkMfRJm2ZAH",
        "colab_type": "code",
        "outputId": "0f1d6ed6-ba03-49be-b0bc-84b9af8bd8c5",
        "colab": {
          "base_uri": "https://localhost:8080/",
          "height": 583
        }
      },
      "cell_type": "code",
      "source": [
        "# TF_IDF\n",
        "clf = Bag_of_word('logistic','tf_idf')\n",
        "cv = clf.validate_clf(x_c, y_c)\n",
        "print('mean cross validation for Logistic regression is', cv)\n",
        "\n",
        "clf = Bag_of_word('naive_bayes','tf_idf')\n",
        "cv = clf.validate_clf(x_c, y_c)\n",
        "print('mean cross validation for Naive_Bayes is', cv)\n",
        "\n",
        "clf = Bag_of_word('xgboost','tf_idf')\n",
        "cv = clf.validate_clf(x_c, y_c)\n",
        "print('mean cross validation for Xgboost is', cv)\n",
        "\n",
        "clf = Bag_of_word('random_forest','tf_idf')\n",
        "cv = clf.validate_clf(x_c, y_c)\n",
        "print('mean cross validation for Random Forest is', cv)\n",
        "\n",
        "clf = Bag_of_word('svm','tf_idf')\n",
        "cv = clf.validate_clf(x_c, y_c)\n",
        "print('mean cross validation for SVM is', cv)"
      ],
      "execution_count": 0,
      "outputs": [
        {
          "output_type": "stream",
          "text": [
            "start k-fold validate...\n"
          ],
          "name": "stdout"
        },
        {
          "output_type": "stream",
          "text": [
            "/usr/local/lib/python3.6/dist-packages/sklearn/linear_model/logistic.py:460: FutureWarning: Default multi_class will be changed to 'auto' in 0.22. Specify the multi_class option to silence this warning.\n",
            "  \"this warning.\", FutureWarning)\n",
            "/usr/local/lib/python3.6/dist-packages/sklearn/linear_model/logistic.py:460: FutureWarning: Default multi_class will be changed to 'auto' in 0.22. Specify the multi_class option to silence this warning.\n",
            "  \"this warning.\", FutureWarning)\n",
            "/usr/local/lib/python3.6/dist-packages/sklearn/linear_model/logistic.py:460: FutureWarning: Default multi_class will be changed to 'auto' in 0.22. Specify the multi_class option to silence this warning.\n",
            "  \"this warning.\", FutureWarning)\n",
            "/usr/local/lib/python3.6/dist-packages/sklearn/linear_model/logistic.py:460: FutureWarning: Default multi_class will be changed to 'auto' in 0.22. Specify the multi_class option to silence this warning.\n",
            "  \"this warning.\", FutureWarning)\n",
            "/usr/local/lib/python3.6/dist-packages/sklearn/linear_model/logistic.py:460: FutureWarning: Default multi_class will be changed to 'auto' in 0.22. Specify the multi_class option to silence this warning.\n",
            "  \"this warning.\", FutureWarning)\n",
            "/usr/local/lib/python3.6/dist-packages/sklearn/linear_model/logistic.py:460: FutureWarning: Default multi_class will be changed to 'auto' in 0.22. Specify the multi_class option to silence this warning.\n",
            "  \"this warning.\", FutureWarning)\n",
            "/usr/local/lib/python3.6/dist-packages/sklearn/linear_model/logistic.py:460: FutureWarning: Default multi_class will be changed to 'auto' in 0.22. Specify the multi_class option to silence this warning.\n",
            "  \"this warning.\", FutureWarning)\n",
            "/usr/local/lib/python3.6/dist-packages/sklearn/linear_model/logistic.py:460: FutureWarning: Default multi_class will be changed to 'auto' in 0.22. Specify the multi_class option to silence this warning.\n",
            "  \"this warning.\", FutureWarning)\n",
            "/usr/local/lib/python3.6/dist-packages/sklearn/linear_model/logistic.py:460: FutureWarning: Default multi_class will be changed to 'auto' in 0.22. Specify the multi_class option to silence this warning.\n",
            "  \"this warning.\", FutureWarning)\n",
            "/usr/local/lib/python3.6/dist-packages/sklearn/linear_model/logistic.py:460: FutureWarning: Default multi_class will be changed to 'auto' in 0.22. Specify the multi_class option to silence this warning.\n",
            "  \"this warning.\", FutureWarning)\n"
          ],
          "name": "stderr"
        },
        {
          "output_type": "stream",
          "text": [
            "mean cross validation for Logistic regression is 0.6880688322016444\n",
            "start k-fold validate...\n",
            "mean cross validation for Naive_Bayes is 0.6320925215447748\n",
            "start k-fold validate...\n",
            "mean cross validation for Xgboost is 0.6955464918630865\n",
            "start k-fold validate...\n",
            "mean cross validation for Random Forest is 0.6950343509943784\n",
            "start k-fold validate...\n",
            "mean cross validation for SVM is 0.6854935587387286\n"
          ],
          "name": "stdout"
        }
      ]
    },
    {
      "metadata": {
        "id": "uLwXxuriPn9Q",
        "colab_type": "code",
        "colab": {
          "base_uri": "https://localhost:8080/",
          "height": 187
        },
        "outputId": "0a367456-b61f-4465-8b42-07ab0bfdc46d"
      },
      "cell_type": "code",
      "source": [
        "# Word Count\n",
        "clf = Bag_of_word('logistic','word_count')\n",
        "cv = clf.validate_clf(x_c, y_c)\n",
        "print('mean cross validation for Logistic regression is', cv)\n",
        "\n",
        "clf = Bag_of_word('naive_bayes','word_count')\n",
        "cv = clf.validate_clf(x_c, y_c)\n",
        "print('mean cross validation for Naive_Bayes is', cv)\n",
        "\n",
        "clf = Bag_of_word('xgboost','word_count')\n",
        "cv = clf.validate_clf(x_c, y_c)\n",
        "print('mean cross validation for Xgboost is', cv)\n",
        "\n",
        "clf = Bag_of_word('random_forest','word_count')\n",
        "cv = clf.validate_clf(x_c, y_c)\n",
        "print('mean cross validation for Random Forest is', cv)\n",
        "\n",
        "clf = Bag_of_word('svm','word_count')\n",
        "cv = clf.validate_clf(x_c, y_c)\n",
        "print('mean cross validation for SVM is', cv)"
      ],
      "execution_count": 28,
      "outputs": [
        {
          "output_type": "stream",
          "text": [
            "start k-fold validate...\n",
            "mean cross validation for Logistic regression is 0.6898750294565582\n",
            "start k-fold validate...\n",
            "mean cross validation for Naive_Bayes is 0.6656120496456708\n",
            "start k-fold validate...\n",
            "mean cross validation for Xgboost is 0.6940167256266907\n",
            "start k-fold validate...\n",
            "mean cross validation for Random Forest is 0.696611402000651\n",
            "start k-fold validate...\n",
            "mean cross validation for SVM is 0.6591727019020694\n"
          ],
          "name": "stdout"
        }
      ]
    },
    {
      "metadata": {
        "id": "XleUXgZp2t0M",
        "colab_type": "code",
        "outputId": "d8856257-3223-4f8b-85aa-eaa02d0300b6",
        "colab": {
          "base_uri": "https://localhost:8080/",
          "height": 417
        }
      },
      "cell_type": "code",
      "source": [
        "model= Deep_Neural_Network(x_c,y_c,'lstm',embeddings_index)\n",
        "model.set_optimizer('rmsprop')\n",
        "model.train(epochs=20,batch_size=128)"
      ],
      "execution_count": 0,
      "outputs": [
        {
          "output_type": "stream",
          "text": [
            "100%|██████████| 8717/8717 [00:00<00:00, 336667.45it/s]\n"
          ],
          "name": "stderr"
        },
        {
          "output_type": "stream",
          "text": [
            "Train on 3100 samples, validate on 776 samples\n",
            "Epoch 1/20\n",
            "3100/3100 [==============================] - 48s 15ms/step - loss: 0.8993 - acc: 0.6094 - val_loss: 0.8239 - val_acc: 0.6340\n",
            "Epoch 2/20\n",
            "3100/3100 [==============================] - 38s 12ms/step - loss: 0.7959 - acc: 0.6648 - val_loss: 0.7896 - val_acc: 0.6637\n",
            "Epoch 3/20\n",
            "3100/3100 [==============================] - 38s 12ms/step - loss: 0.7589 - acc: 0.6881 - val_loss: 0.7830 - val_acc: 0.6740\n",
            "Epoch 4/20\n",
            "3100/3100 [==============================] - 38s 12ms/step - loss: 0.7306 - acc: 0.6974 - val_loss: 0.7794 - val_acc: 0.6843\n",
            "Epoch 5/20\n",
            "3100/3100 [==============================] - 38s 12ms/step - loss: 0.7184 - acc: 0.7035 - val_loss: 0.7664 - val_acc: 0.6869\n",
            "Epoch 6/20\n",
            "3100/3100 [==============================] - 38s 12ms/step - loss: 0.7108 - acc: 0.7074 - val_loss: 0.7758 - val_acc: 0.6856\n",
            "Epoch 7/20\n",
            "3100/3100 [==============================] - 38s 12ms/step - loss: 0.6910 - acc: 0.7181 - val_loss: 0.7654 - val_acc: 0.6856\n",
            "Epoch 8/20\n",
            "3100/3100 [==============================] - 38s 12ms/step - loss: 0.6838 - acc: 0.7161 - val_loss: 0.7880 - val_acc: 0.6830\n",
            "Epoch 9/20\n",
            "3100/3100 [==============================] - 38s 12ms/step - loss: 0.6691 - acc: 0.7255 - val_loss: 0.7803 - val_acc: 0.6843\n",
            "Epoch 10/20\n",
            "3100/3100 [==============================] - 38s 12ms/step - loss: 0.6683 - acc: 0.7223 - val_loss: 0.7958 - val_acc: 0.6907\n"
          ],
          "name": "stdout"
        }
      ]
    },
    {
      "metadata": {
        "id": "YZG-4qCkX3rq",
        "colab_type": "code",
        "colab": {
          "base_uri": "https://localhost:8080/",
          "height": 986
        },
        "outputId": "76d0d980-1483-486b-e974-7da6649f5dea"
      },
      "cell_type": "code",
      "source": [
        "model= Deep_Neural_Network(x_c,y_c,'gru',embeddings_index)\n",
        "model.set_optimizer('rmsprop')\n",
        "model.train(epochs=20,batch_size=256)"
      ],
      "execution_count": 38,
      "outputs": [
        {
          "output_type": "stream",
          "text": [
            "100%|██████████| 8689/8689 [00:00<00:00, 287155.24it/s]\n"
          ],
          "name": "stderr"
        },
        {
          "output_type": "stream",
          "text": [
            "_________________________________________________________________\n",
            "Layer (type)                 Output Shape              Param #   \n",
            "=================================================================\n",
            "embedding_14 (Embedding)     (None, 280, 300)          2607000   \n",
            "_________________________________________________________________\n",
            "spatial_dropout1d_8 (Spatial (None, 280, 300)          0         \n",
            "_________________________________________________________________\n",
            "gru_9 (GRU)                  (None, 280, 128)          164736    \n",
            "_________________________________________________________________\n",
            "gru_10 (GRU)                 (None, 64)                37056     \n",
            "_________________________________________________________________\n",
            "dense_32 (Dense)             (None, 256)               16640     \n",
            "_________________________________________________________________\n",
            "dropout_34 (Dropout)         (None, 256)               0         \n",
            "_________________________________________________________________\n",
            "dense_33 (Dense)             (None, 128)               32896     \n",
            "_________________________________________________________________\n",
            "dropout_35 (Dropout)         (None, 128)               0         \n",
            "_________________________________________________________________\n",
            "dense_34 (Dense)             (None, 3)                 387       \n",
            "=================================================================\n",
            "Total params: 2,858,715\n",
            "Trainable params: 251,715\n",
            "Non-trainable params: 2,607,000\n",
            "_________________________________________________________________\n",
            "Train on 3100 samples, validate on 776 samples\n",
            "Epoch 1/20\n",
            "3100/3100 [==============================] - 23s 7ms/step - loss: 0.9349 - acc: 0.6000 - val_loss: 0.8715 - val_acc: 0.6224\n",
            "Epoch 2/20\n",
            "3100/3100 [==============================] - 15s 5ms/step - loss: 0.8583 - acc: 0.6203 - val_loss: 0.8256 - val_acc: 0.6302\n",
            "Epoch 3/20\n",
            "3100/3100 [==============================] - 15s 5ms/step - loss: 0.8239 - acc: 0.6419 - val_loss: 0.8003 - val_acc: 0.6546\n",
            "Epoch 4/20\n",
            "3100/3100 [==============================] - 15s 5ms/step - loss: 0.8035 - acc: 0.6623 - val_loss: 0.7611 - val_acc: 0.6894\n",
            "Epoch 5/20\n",
            "3100/3100 [==============================] - 15s 5ms/step - loss: 0.7800 - acc: 0.6868 - val_loss: 0.7527 - val_acc: 0.6843\n",
            "Epoch 6/20\n",
            "3100/3100 [==============================] - 15s 5ms/step - loss: 0.7530 - acc: 0.6877 - val_loss: 0.7277 - val_acc: 0.6946\n",
            "Epoch 7/20\n",
            "3100/3100 [==============================] - 16s 5ms/step - loss: 0.7521 - acc: 0.6829 - val_loss: 0.7305 - val_acc: 0.6959\n",
            "Epoch 8/20\n",
            "3100/3100 [==============================] - 15s 5ms/step - loss: 0.7408 - acc: 0.6935 - val_loss: 0.7197 - val_acc: 0.7023\n",
            "Epoch 9/20\n",
            "3100/3100 [==============================] - 15s 5ms/step - loss: 0.7419 - acc: 0.6997 - val_loss: 0.7188 - val_acc: 0.7062\n",
            "Epoch 10/20\n",
            "3100/3100 [==============================] - 15s 5ms/step - loss: 0.7281 - acc: 0.6981 - val_loss: 0.7157 - val_acc: 0.7088\n",
            "Epoch 11/20\n",
            "3100/3100 [==============================] - 15s 5ms/step - loss: 0.7312 - acc: 0.7074 - val_loss: 0.7266 - val_acc: 0.7152\n",
            "Epoch 12/20\n",
            "3100/3100 [==============================] - 15s 5ms/step - loss: 0.7194 - acc: 0.7077 - val_loss: 0.7143 - val_acc: 0.7152\n",
            "Epoch 13/20\n",
            "3100/3100 [==============================] - 15s 5ms/step - loss: 0.7220 - acc: 0.7052 - val_loss: 0.7147 - val_acc: 0.7165\n",
            "Epoch 14/20\n",
            "3100/3100 [==============================] - 15s 5ms/step - loss: 0.7074 - acc: 0.7155 - val_loss: 0.7170 - val_acc: 0.7165\n",
            "Epoch 15/20\n",
            "3100/3100 [==============================] - 15s 5ms/step - loss: 0.6913 - acc: 0.7135 - val_loss: 0.7333 - val_acc: 0.7126\n"
          ],
          "name": "stdout"
        }
      ]
    },
    {
      "metadata": {
        "id": "Qkv_CQXB6rsL",
        "colab_type": "code",
        "outputId": "02c4f710-a864-4fe6-c1a9-a60f44af1ea9",
        "colab": {
          "base_uri": "https://localhost:8080/",
          "height": 799
        }
      },
      "cell_type": "code",
      "source": [
        "model= Deep_Neural_Network(x_c,y_c,'cnn',embeddings_index)\n",
        "model.set_optimizer('rmsprop')\n",
        "model.train(epochs=20,batch_size=128)"
      ],
      "execution_count": 0,
      "outputs": [
        {
          "output_type": "stream",
          "text": [
            "100%|██████████| 8724/8724 [00:00<00:00, 402047.07it/s]\n"
          ],
          "name": "stderr"
        },
        {
          "output_type": "stream",
          "text": [
            "_________________________________________________________________\n",
            "Layer (type)                 Output Shape              Param #   \n",
            "=================================================================\n",
            "embedding_36 (Embedding)     (None, 280, 300)          2617500   \n",
            "_________________________________________________________________\n",
            "conv1d_43 (Conv1D)           (None, 280, 64)           57664     \n",
            "_________________________________________________________________\n",
            "max_pooling1d_27 (MaxPooling (None, 94, 64)            0         \n",
            "_________________________________________________________________\n",
            "conv1d_44 (Conv1D)           (None, 94, 32)            6176      \n",
            "_________________________________________________________________\n",
            "max_pooling1d_28 (MaxPooling (None, 32, 32)            0         \n",
            "_________________________________________________________________\n",
            "conv1d_45 (Conv1D)           (None, 32, 16)            1552      \n",
            "_________________________________________________________________\n",
            "flatten_20 (Flatten)         (None, 512)               0         \n",
            "_________________________________________________________________\n",
            "dropout_84 (Dropout)         (None, 512)               0         \n",
            "_________________________________________________________________\n",
            "batch_normalization_25 (Batc (None, 512)               2048      \n",
            "_________________________________________________________________\n",
            "dense_74 (Dense)             (None, 256)               131328    \n",
            "_________________________________________________________________\n",
            "dropout_85 (Dropout)         (None, 256)               0         \n",
            "_________________________________________________________________\n",
            "dense_75 (Dense)             (None, 3)                 771       \n",
            "=================================================================\n",
            "Total params: 2,817,039\n",
            "Trainable params: 198,515\n",
            "Non-trainable params: 2,618,524\n",
            "_________________________________________________________________\n",
            "Train on 3100 samples, validate on 776 samples\n",
            "Epoch 1/20\n",
            "3100/3100 [==============================] - 10s 3ms/step - loss: 0.9244 - acc: 0.5881 - val_loss: 0.7823 - val_acc: 0.6546\n",
            "Epoch 2/20\n",
            "3100/3100 [==============================] - 1s 178us/step - loss: 0.7439 - acc: 0.6868 - val_loss: 0.7416 - val_acc: 0.7062\n",
            "Epoch 3/20\n",
            "3100/3100 [==============================] - 1s 175us/step - loss: 0.6371 - acc: 0.7455 - val_loss: 0.8671 - val_acc: 0.6649\n",
            "Epoch 4/20\n",
            "3100/3100 [==============================] - 1s 174us/step - loss: 0.5197 - acc: 0.7939 - val_loss: 0.8412 - val_acc: 0.6778\n",
            "Epoch 5/20\n",
            "3100/3100 [==============================] - 1s 173us/step - loss: 0.3645 - acc: 0.8635 - val_loss: 1.0821 - val_acc: 0.6649\n"
          ],
          "name": "stdout"
        }
      ]
    },
    {
      "metadata": {
        "id": "EeTkrsz7X5ym",
        "colab_type": "code",
        "colab": {
          "base_uri": "https://localhost:8080/",
          "height": 646
        },
        "outputId": "eb10a977-faba-41e0-afbe-4b1602c35d0a"
      },
      "cell_type": "code",
      "source": [
        "model= Deep_Neural_Network(x_c,y_c,'cnn2d',embeddings_index)\n",
        "model.set_optimizer('rmsprop')\n",
        "model.train(epochs=20,batch_size=256)"
      ],
      "execution_count": 40,
      "outputs": [
        {
          "output_type": "stream",
          "text": [
            "100%|██████████| 8689/8689 [00:00<00:00, 300988.65it/s]\n"
          ],
          "name": "stderr"
        },
        {
          "output_type": "stream",
          "text": [
            "_________________________________________________________________\n",
            "Layer (type)                 Output Shape              Param #   \n",
            "=================================================================\n",
            "embedding_16 (Embedding)     (None, 280, 50)           434500    \n",
            "_________________________________________________________________\n",
            "reshape_4 (Reshape)          (None, 50, 280, 1)        0         \n",
            "_________________________________________________________________\n",
            "conv2d_10 (Conv2D)           (None, 50, 276, 64)       384       \n",
            "_________________________________________________________________\n",
            "dropout_39 (Dropout)         (None, 50, 276, 64)       0         \n",
            "_________________________________________________________________\n",
            "conv2d_11 (Conv2D)           (None, 49, 274, 32)       12320     \n",
            "_________________________________________________________________\n",
            "dropout_40 (Dropout)         (None, 49, 274, 32)       0         \n",
            "_________________________________________________________________\n",
            "conv2d_12 (Conv2D)           (None, 48, 273, 16)       2064      \n",
            "_________________________________________________________________\n",
            "dropout_41 (Dropout)         (None, 48, 273, 16)       0         \n",
            "_________________________________________________________________\n",
            "flatten_8 (Flatten)          (None, 209664)            0         \n",
            "_________________________________________________________________\n",
            "dense_36 (Dense)             (None, 3)                 628995    \n",
            "=================================================================\n",
            "Total params: 1,078,263\n",
            "Trainable params: 643,763\n",
            "Non-trainable params: 434,500\n",
            "_________________________________________________________________\n",
            "Train on 3100 samples, validate on 776 samples\n",
            "Epoch 1/20\n",
            "3100/3100 [==============================] - 17s 6ms/step - loss: 0.9806 - acc: 0.5603 - val_loss: 1.0516 - val_acc: 0.6211\n",
            "Epoch 2/20\n",
            "3100/3100 [==============================] - 10s 3ms/step - loss: 0.9300 - acc: 0.6210 - val_loss: 1.0901 - val_acc: 0.6211\n",
            "Epoch 3/20\n",
            "3100/3100 [==============================] - 10s 3ms/step - loss: 0.8980 - acc: 0.6210 - val_loss: 1.0909 - val_acc: 0.6211\n",
            "Epoch 4/20\n",
            "3100/3100 [==============================] - 10s 3ms/step - loss: 0.8867 - acc: 0.6210 - val_loss: 1.0840 - val_acc: 0.6211\n"
          ],
          "name": "stdout"
        }
      ]
    },
    {
      "metadata": {
        "id": "mDBGs-rwYDPw",
        "colab_type": "code",
        "colab": {
          "base_uri": "https://localhost:8080/",
          "height": 1598
        },
        "outputId": "5c9802fe-17b3-43bc-97b3-e0608309eccc"
      },
      "cell_type": "code",
      "source": [
        "model= Deep_Neural_Network(x_c,y_c,'etextcnn',embeddings_index)\n",
        "model.set_optimizer('rmsprop')\n",
        "model.train(epochs=20,batch_size=256)\n"
      ],
      "execution_count": 41,
      "outputs": [
        {
          "output_type": "stream",
          "text": [
            "100%|██████████| 8689/8689 [00:00<00:00, 296934.92it/s]\n"
          ],
          "name": "stderr"
        },
        {
          "output_type": "stream",
          "text": [
            "__________________________________________________________________________________________________\n",
            "Layer (type)                    Output Shape         Param #     Connected to                     \n",
            "==================================================================================================\n",
            "input_2 (InputLayer)            (None, 280)          0                                            \n",
            "__________________________________________________________________________________________________\n",
            "embedding_17 (Embedding)        (None, 280, 300)     2607000     input_2[0][0]                    \n",
            "__________________________________________________________________________________________________\n",
            "conv1d_18 (Conv1D)              (None, 280, 64)      76864       embedding_17[0][0]               \n",
            "__________________________________________________________________________________________________\n",
            "conv1d_20 (Conv1D)              (None, 280, 64)      96064       embedding_17[0][0]               \n",
            "__________________________________________________________________________________________________\n",
            "batch_normalization_13 (BatchNo (None, 280, 64)      256         conv1d_18[0][0]                  \n",
            "__________________________________________________________________________________________________\n",
            "batch_normalization_15 (BatchNo (None, 280, 64)      256         conv1d_20[0][0]                  \n",
            "__________________________________________________________________________________________________\n",
            "activation_9 (Activation)       (None, 280, 64)      0           batch_normalization_13[0][0]     \n",
            "__________________________________________________________________________________________________\n",
            "activation_11 (Activation)      (None, 280, 64)      0           batch_normalization_15[0][0]     \n",
            "__________________________________________________________________________________________________\n",
            "dropout_44 (Dropout)            (None, 280, 64)      0           activation_9[0][0]               \n",
            "__________________________________________________________________________________________________\n",
            "dropout_46 (Dropout)            (None, 280, 64)      0           activation_11[0][0]              \n",
            "__________________________________________________________________________________________________\n",
            "conv1d_16 (Conv1D)              (None, 280, 64)      57664       embedding_17[0][0]               \n",
            "__________________________________________________________________________________________________\n",
            "conv1d_19 (Conv1D)              (None, 280, 32)      8224        dropout_44[0][0]                 \n",
            "__________________________________________________________________________________________________\n",
            "conv1d_21 (Conv1D)              (None, 280, 32)      10272       dropout_46[0][0]                 \n",
            "__________________________________________________________________________________________________\n",
            "batch_normalization_11 (BatchNo (None, 280, 64)      256         conv1d_16[0][0]                  \n",
            "__________________________________________________________________________________________________\n",
            "batch_normalization_14 (BatchNo (None, 280, 32)      128         conv1d_19[0][0]                  \n",
            "__________________________________________________________________________________________________\n",
            "batch_normalization_16 (BatchNo (None, 280, 32)      128         conv1d_21[0][0]                  \n",
            "__________________________________________________________________________________________________\n",
            "activation_7 (Activation)       (None, 280, 64)      0           batch_normalization_11[0][0]     \n",
            "__________________________________________________________________________________________________\n",
            "activation_10 (Activation)      (None, 280, 32)      0           batch_normalization_14[0][0]     \n",
            "__________________________________________________________________________________________________\n",
            "activation_12 (Activation)      (None, 280, 32)      0           batch_normalization_16[0][0]     \n",
            "__________________________________________________________________________________________________\n",
            "dropout_42 (Dropout)            (None, 280, 64)      0           activation_7[0][0]               \n",
            "__________________________________________________________________________________________________\n",
            "dropout_45 (Dropout)            (None, 280, 32)      0           activation_10[0][0]              \n",
            "__________________________________________________________________________________________________\n",
            "dropout_47 (Dropout)            (None, 280, 32)      0           activation_12[0][0]              \n",
            "__________________________________________________________________________________________________\n",
            "max_pooling1d_10 (MaxPooling1D) (None, 70, 64)       0           dropout_42[0][0]                 \n",
            "__________________________________________________________________________________________________\n",
            "max_pooling1d_11 (MaxPooling1D) (None, 70, 32)       0           dropout_45[0][0]                 \n",
            "__________________________________________________________________________________________________\n",
            "max_pooling1d_12 (MaxPooling1D) (None, 70, 32)       0           dropout_47[0][0]                 \n",
            "__________________________________________________________________________________________________\n",
            "concatenate_2 (Concatenate)     (None, 70, 128)      0           max_pooling1d_10[0][0]           \n",
            "                                                                 max_pooling1d_11[0][0]           \n",
            "                                                                 max_pooling1d_12[0][0]           \n",
            "__________________________________________________________________________________________________\n",
            "flatten_9 (Flatten)             (None, 8960)         0           concatenate_2[0][0]              \n",
            "__________________________________________________________________________________________________\n",
            "dropout_48 (Dropout)            (None, 8960)         0           flatten_9[0][0]                  \n",
            "__________________________________________________________________________________________________\n",
            "dense_37 (Dense)                (None, 128)          1147008     dropout_48[0][0]                 \n",
            "__________________________________________________________________________________________________\n",
            "batch_normalization_17 (BatchNo (None, 128)          512         dense_37[0][0]                   \n",
            "__________________________________________________________________________________________________\n",
            "dense_38 (Dense)                (None, 3)            387         batch_normalization_17[0][0]     \n",
            "==================================================================================================\n",
            "Total params: 4,005,019\n",
            "Trainable params: 1,397,251\n",
            "Non-trainable params: 2,607,768\n",
            "__________________________________________________________________________________________________\n",
            "Train on 3100 samples, validate on 776 samples\n",
            "Epoch 1/20\n",
            "3100/3100 [==============================] - 11s 4ms/step - loss: 1.6099 - acc: 0.4213 - val_loss: 1.0467 - val_acc: 0.5580\n",
            "Epoch 2/20\n",
            "3100/3100 [==============================] - 2s 563us/step - loss: 1.0662 - acc: 0.5574 - val_loss: 1.1685 - val_acc: 0.4149\n",
            "Epoch 3/20\n",
            "3100/3100 [==============================] - 2s 562us/step - loss: 0.9117 - acc: 0.6416 - val_loss: 0.8521 - val_acc: 0.6572\n",
            "Epoch 4/20\n",
            "3100/3100 [==============================] - 2s 564us/step - loss: 0.8107 - acc: 0.6777 - val_loss: 0.8628 - val_acc: 0.6830\n",
            "Epoch 5/20\n",
            "3100/3100 [==============================] - 2s 563us/step - loss: 0.7642 - acc: 0.6990 - val_loss: 0.8061 - val_acc: 0.6907\n",
            "Epoch 6/20\n",
            "3100/3100 [==============================] - 2s 563us/step - loss: 0.7233 - acc: 0.7184 - val_loss: 0.7667 - val_acc: 0.7036\n",
            "Epoch 7/20\n",
            "3100/3100 [==============================] - 2s 565us/step - loss: 0.7040 - acc: 0.7168 - val_loss: 0.7625 - val_acc: 0.7023\n",
            "Epoch 8/20\n",
            "3100/3100 [==============================] - 2s 566us/step - loss: 0.6668 - acc: 0.7313 - val_loss: 0.7666 - val_acc: 0.6959\n",
            "Epoch 9/20\n",
            "3100/3100 [==============================] - 2s 562us/step - loss: 0.6394 - acc: 0.7471 - val_loss: 0.7711 - val_acc: 0.7036\n",
            "Epoch 10/20\n",
            "3100/3100 [==============================] - 2s 563us/step - loss: 0.6126 - acc: 0.7590 - val_loss: 0.7718 - val_acc: 0.6985\n"
          ],
          "name": "stdout"
        }
      ]
    },
    {
      "metadata": {
        "id": "R3tyTDzaYFmr",
        "colab_type": "code",
        "colab": {
          "base_uri": "https://localhost:8080/",
          "height": 986
        },
        "outputId": "7377e005-77fb-4f91-bd36-33bc75e4bcb0"
      },
      "cell_type": "code",
      "source": [
        "model= Deep_Neural_Network(x_c,y_c,'gru',embeddings_index)\n",
        "model.set_optimizer('adam', lr= 0.001)\n",
        "model.train(epochs=20,batch_size=256)"
      ],
      "execution_count": 42,
      "outputs": [
        {
          "output_type": "stream",
          "text": [
            "100%|██████████| 8689/8689 [00:00<00:00, 315649.91it/s]\n"
          ],
          "name": "stderr"
        },
        {
          "output_type": "stream",
          "text": [
            "_________________________________________________________________\n",
            "Layer (type)                 Output Shape              Param #   \n",
            "=================================================================\n",
            "embedding_18 (Embedding)     (None, 280, 300)          2607000   \n",
            "_________________________________________________________________\n",
            "spatial_dropout1d_9 (Spatial (None, 280, 300)          0         \n",
            "_________________________________________________________________\n",
            "gru_11 (GRU)                 (None, 280, 128)          164736    \n",
            "_________________________________________________________________\n",
            "gru_12 (GRU)                 (None, 64)                37056     \n",
            "_________________________________________________________________\n",
            "dense_39 (Dense)             (None, 256)               16640     \n",
            "_________________________________________________________________\n",
            "dropout_49 (Dropout)         (None, 256)               0         \n",
            "_________________________________________________________________\n",
            "dense_40 (Dense)             (None, 128)               32896     \n",
            "_________________________________________________________________\n",
            "dropout_50 (Dropout)         (None, 128)               0         \n",
            "_________________________________________________________________\n",
            "dense_41 (Dense)             (None, 3)                 387       \n",
            "=================================================================\n",
            "Total params: 2,858,715\n",
            "Trainable params: 251,715\n",
            "Non-trainable params: 2,607,000\n",
            "_________________________________________________________________\n",
            "Train on 3100 samples, validate on 776 samples\n",
            "Epoch 1/20\n",
            "3100/3100 [==============================] - 24s 8ms/step - loss: 0.9524 - acc: 0.5777 - val_loss: 0.8573 - val_acc: 0.6211\n",
            "Epoch 2/20\n",
            "3100/3100 [==============================] - 15s 5ms/step - loss: 0.8504 - acc: 0.6242 - val_loss: 0.8081 - val_acc: 0.6405\n",
            "Epoch 3/20\n",
            "3100/3100 [==============================] - 15s 5ms/step - loss: 0.8210 - acc: 0.6426 - val_loss: 0.7909 - val_acc: 0.6637\n",
            "Epoch 4/20\n",
            "3100/3100 [==============================] - 15s 5ms/step - loss: 0.7932 - acc: 0.6642 - val_loss: 0.7562 - val_acc: 0.6778\n",
            "Epoch 5/20\n",
            "3100/3100 [==============================] - 15s 5ms/step - loss: 0.7793 - acc: 0.6684 - val_loss: 0.7440 - val_acc: 0.6881\n",
            "Epoch 6/20\n",
            "3100/3100 [==============================] - 15s 5ms/step - loss: 0.7722 - acc: 0.6752 - val_loss: 0.7476 - val_acc: 0.6817\n",
            "Epoch 7/20\n",
            "3100/3100 [==============================] - 15s 5ms/step - loss: 0.7420 - acc: 0.6939 - val_loss: 0.7246 - val_acc: 0.7062\n",
            "Epoch 8/20\n",
            "3100/3100 [==============================] - 15s 5ms/step - loss: 0.7542 - acc: 0.6900 - val_loss: 0.7229 - val_acc: 0.7113\n",
            "Epoch 9/20\n",
            "3100/3100 [==============================] - 15s 5ms/step - loss: 0.7377 - acc: 0.6948 - val_loss: 0.7309 - val_acc: 0.7049\n",
            "Epoch 10/20\n",
            "3100/3100 [==============================] - 15s 5ms/step - loss: 0.7146 - acc: 0.7013 - val_loss: 0.7206 - val_acc: 0.7126\n",
            "Epoch 11/20\n",
            "3100/3100 [==============================] - 15s 5ms/step - loss: 0.7254 - acc: 0.7010 - val_loss: 0.7141 - val_acc: 0.7152\n",
            "Epoch 12/20\n",
            "3100/3100 [==============================] - 15s 5ms/step - loss: 0.7192 - acc: 0.7023 - val_loss: 0.7113 - val_acc: 0.7229\n",
            "Epoch 13/20\n",
            "3100/3100 [==============================] - 15s 5ms/step - loss: 0.7248 - acc: 0.7087 - val_loss: 0.7291 - val_acc: 0.7101\n",
            "Epoch 14/20\n",
            "3100/3100 [==============================] - 15s 5ms/step - loss: 0.7034 - acc: 0.7126 - val_loss: 0.7209 - val_acc: 0.7178\n",
            "Epoch 15/20\n",
            "3100/3100 [==============================] - 15s 5ms/step - loss: 0.7029 - acc: 0.7161 - val_loss: 0.7204 - val_acc: 0.7113\n"
          ],
          "name": "stdout"
        }
      ]
    },
    {
      "metadata": {
        "id": "QO77UGzdZsTF",
        "colab_type": "code",
        "colab": {}
      },
      "cell_type": "code",
      "source": [
        ""
      ],
      "execution_count": 0,
      "outputs": []
    }
  ]
}